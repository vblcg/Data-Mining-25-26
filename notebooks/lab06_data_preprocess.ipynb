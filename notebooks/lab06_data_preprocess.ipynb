{
 "cells": [
  {
   "cell_type": "markdown",
   "metadata": {},
   "source": [
    "# Lab 05 and 06 Data Preprocessing\n",
    "\n",
    "## Overview\n",
    "\n",
    "In this lab, we'll continue building on our data understanding by addressing issues that prevent meaningful analysis — namely, data quality and structure.\n",
    "\n",
    "We remain within the CRISP-DM framework, moving from \"Data Understanding\" to \"Data Preparation.\" Preprocessing is a key step in this phase, helping us to:\n",
    "\n",
    "- Handle missing values and inconsistent formats. \n",
    "- Identify and manage outliers. \n",
    "- Create features that better reflect business behavior. \n",
    "\n",
    "This class:\n",
    "- Scale our numerical data to prevent features with larger scales from dominating the algorithm. \n",
    "- Encode the necessary features. \n",
    "\n",
    "Essentially, ensure our data is suitable for clustering and other modeling tasks. Without preprocessing, any clustering results would be unreliable or misleading. Clean, consistent data is essential for drawing valid business insights."
   ]
  },
  {
   "cell_type": "code",
   "execution_count": 10,
   "metadata": {},
   "outputs": [],
   "source": [
    "# Remember: library imports are ALWAYS at the top of the script, no exceptions!\n",
    "import sqlite3\n",
    "import os\n",
    "import pandas as pd\n",
    "import numpy as np\n",
    "\n",
    "import matplotlib.pyplot as plt\n",
    "import seaborn as sns\n",
    "from math import ceil\n",
    "\n",
    "from itertools import product\n",
    "from scipy.stats import skewnorm\n",
    "\n",
    "from datetime import datetime\n",
    "from sklearn.impute import KNNImputer\n",
    "from sklearn.decomposition import PCA\n",
    "from sklearn.preprocessing import MinMaxScaler, StandardScaler, OneHotEncoder\n",
    "\n",
    "# for better resolution plots\n",
    "%config InlineBackend.figure_format = 'retina' # optionally, you can change 'svg' to 'retina'\n",
    "\n",
    "# Setting seaborn style\n",
    "sns.set()"
   ]
  },
  {
   "cell_type": "markdown",
   "metadata": {},
   "source": [
    "# Context\n",
    "The data we will be using through the pratical classes comes from a small relational database whose schema can be seen below:\n",
    "![alt text](../figures/schema.png \"Relation database schema\")"
   ]
  },
  {
   "cell_type": "markdown",
   "metadata": {},
   "source": [
    "# Reading the Data"
   ]
  },
  {
   "cell_type": "code",
   "execution_count": 11,
   "metadata": {},
   "outputs": [],
   "source": [
    "# path to database\n",
    "my_path = os.path.join(\"..\", \"data\", \"datamining.db\")\n",
    "\n",
    "# connect to the database\n",
    "conn = sqlite3.connect(my_path)\n",
    "\n",
    "# the query\n",
    "query = \"\"\"\n",
    "select\n",
    "    age, \n",
    "    income, \n",
    "    frq, \n",
    "    rcn, \n",
    "    mnt, \n",
    "    clothes, \n",
    "    kitchen, \n",
    "    small_appliances, \n",
    "    toys, \n",
    "    house_keeping,\n",
    "    dependents, \n",
    "    per_net_purchase,\n",
    "    g.gender, \n",
    "    e.education, \n",
    "    m.status, \n",
    "    r.description\n",
    "from customers as c\n",
    "    join genders as g on g.id = c.gender_id\n",
    "    join education_levels as e on e.id = c.education_id\n",
    "    join marital_status as m on m.id = c.marital_status_id\n",
    "    join recommendations as r on r.id = c.recommendation_id\n",
    "order by c.id;\n",
    "\"\"\"\n",
    "\n",
    "df = pd.read_sql_query(query, conn)"
   ]
  },
  {
   "cell_type": "markdown",
   "metadata": {},
   "source": [
    "## Make a copy of your original dataset\n",
    "\n",
    "why?"
   ]
  },
  {
   "cell_type": "code",
   "execution_count": 12,
   "metadata": {},
   "outputs": [],
   "source": [
    "df_original = df.copy()"
   ]
  },
  {
   "cell_type": "markdown",
   "metadata": {},
   "source": [
    "# Metadata\n",
    "- *id* - The unique identifier of the customer\n",
    "- *age* - The year of birht of the customer\n",
    "- *income* - The income of the customer\n",
    "- *frq* - Frequency: number of purchases made by the customer\n",
    "- *rcn* - Recency: number of days since last customer purchase\n",
    "- *mnt* - Monetary: amount of € spent by the customer in purchases\n",
    "- *clothes* - Number of clothes items purchased by the customer\n",
    "- *kitchen* - Number of kitchen items purchased by the customer\n",
    "- *small_appliances* - Number of small_appliances items purchased by the customer\n",
    "- *toys* - Number of toys items purchased by the customer\n",
    "- *house_keeping* - Number of house_keeping items purchased by the customer\n",
    "- *dependents* - Binary. Whether or not the customer has dependents\n",
    "- *per_net_purchase* - Percentage of purchases made online\n",
    "- *education* - Education level of the customer\n",
    "- *status* - Marital status of the customer\n",
    "- *gender* - Gender of the customer\n",
    "- *description* - Last customer's recommendation description"
   ]
  },
  {
   "cell_type": "markdown",
   "metadata": {},
   "source": [
    "## Problems:\n",
    "- Duplicates?\n",
    "- Data types?\n",
    "- Missing values?\n",
    "- Strange values?\n",
    "- Descriptive statistics?\n",
    "\n",
    "### Take a closer look and point out possible problems:\n",
    "\n",
    "(hint: a missing values in pandas is represented with a NaN value)"
   ]
  },
  {
   "cell_type": "markdown",
   "metadata": {},
   "source": [
    "### Replicating modifications from previous notebook"
   ]
  },
  {
   "cell_type": "code",
   "execution_count": 13,
   "metadata": {},
   "outputs": [
    {
     "name": "stderr",
     "output_type": "stream",
     "text": [
      "/var/folders/jb/jm3xb4f53hs9mcvbg93nks7h0000gn/T/ipykernel_43105/3385904135.py:2: FutureWarning: Downcasting behavior in `replace` is deprecated and will be removed in a future version. To retain the old behavior, explicitly call `result.infer_objects(copy=False)`. To opt-in to the future behavior, set `pd.set_option('future.no_silent_downcasting', True)`\n",
      "  df.replace(\"\", np.nan, inplace=True)\n"
     ]
    },
    {
     "data": {
      "application/vnd.microsoft.datawrangler.viewer.v0+json": {
       "columns": [
        {
         "name": "index",
         "rawType": "object",
         "type": "string"
        },
        {
         "name": "0",
         "rawType": "int64",
         "type": "integer"
        }
       ],
       "ref": "434d1759-145e-4471-8f92-3a146be6eb75",
       "rows": [
        [
         "age",
         "0"
        ],
        [
         "income",
         "46"
        ],
        [
         "frq",
         "0"
        ],
        [
         "rcn",
         "0"
        ],
        [
         "mnt",
         "0"
        ],
        [
         "clothes",
         "0"
        ],
        [
         "kitchen",
         "0"
        ],
        [
         "small_appliances",
         "0"
        ],
        [
         "toys",
         "0"
        ],
        [
         "house_keeping",
         "0"
        ],
        [
         "dependents",
         "282"
        ],
        [
         "per_net_purchase",
         "0"
        ],
        [
         "gender",
         "0"
        ],
        [
         "education",
         "47"
        ],
        [
         "status",
         "177"
        ],
        [
         "description",
         "0"
        ]
       ],
       "shape": {
        "columns": 1,
        "rows": 16
       }
      },
      "text/plain": [
       "age                   0\n",
       "income               46\n",
       "frq                   0\n",
       "rcn                   0\n",
       "mnt                   0\n",
       "clothes               0\n",
       "kitchen               0\n",
       "small_appliances      0\n",
       "toys                  0\n",
       "house_keeping         0\n",
       "dependents          282\n",
       "per_net_purchase      0\n",
       "gender                0\n",
       "education            47\n",
       "status              177\n",
       "description           0\n",
       "dtype: int64"
      ]
     },
     "execution_count": 13,
     "metadata": {},
     "output_type": "execute_result"
    }
   ],
   "source": [
    "# replace \"\" by nans\n",
    "df.replace(\"\", np.nan, inplace=True)\n",
    "\n",
    "# count of missing values\n",
    "df.isna().sum()"
   ]
  },
  {
   "cell_type": "code",
   "execution_count": 14,
   "metadata": {},
   "outputs": [],
   "source": [
    "# fix wrong dtypes\n",
    "df.dependents = df.dependents.astype(\"boolean\")  # converting to \"boolean\" over \"bool\" allows preservation of NaNs"
   ]
  },
  {
   "cell_type": "code",
   "execution_count": 15,
   "metadata": {},
   "outputs": [],
   "source": [
    "#Define metric and non-metric features. Why?\n",
    "non_metric_features = [\"education\", \"status\", \"gender\", \"dependents\", \"description\"]\n",
    "metric_features = df.columns.drop(non_metric_features).to_list()"
   ]
  },
  {
   "cell_type": "markdown",
   "metadata": {},
   "source": [
    "# Data Preprocessing"
   ]
  },
  {
   "cell_type": "markdown",
   "metadata": {},
   "source": [
    "## Fill missing values\n",
    "\n",
    "https://statisticsbyjim.com/basics/missing-data/\n",
    "\n",
    "---\n",
    "<br>\n",
    "\n",
    "Read: Section 2.4.2 \n",
    "\n",
    "Han, J., Pei, J., & Tong, H. (2022). *Data mining: Concepts and Techniques* (4th ed.). Morgan Kaufmann.\n",
    "\n",
    "<br>\n",
    "\n",
    "Read: Chapter 4\n",
    "\n",
    "García, S., Luengo, J., & Herrera, F. (2014). *Data preprocessing in data mining*. Springer."
   ]
  },
  {
   "cell_type": "code",
   "execution_count": 16,
   "metadata": {},
   "outputs": [],
   "source": [
    "# Creating a copy to apply central tendency measures imputation\n",
    "df_central = df.copy()"
   ]
  },
  {
   "cell_type": "code",
   "execution_count": 17,
   "metadata": {},
   "outputs": [
    {
     "data": {
      "application/vnd.microsoft.datawrangler.viewer.v0+json": {
       "columns": [
        {
         "name": "index",
         "rawType": "object",
         "type": "string"
        },
        {
         "name": "0",
         "rawType": "int64",
         "type": "integer"
        }
       ],
       "ref": "d7dcda4b-71bb-4ce6-a902-c136fb010057",
       "rows": [
        [
         "age",
         "0"
        ],
        [
         "income",
         "46"
        ],
        [
         "frq",
         "0"
        ],
        [
         "rcn",
         "0"
        ],
        [
         "mnt",
         "0"
        ],
        [
         "clothes",
         "0"
        ],
        [
         "kitchen",
         "0"
        ],
        [
         "small_appliances",
         "0"
        ],
        [
         "toys",
         "0"
        ],
        [
         "house_keeping",
         "0"
        ],
        [
         "dependents",
         "282"
        ],
        [
         "per_net_purchase",
         "0"
        ],
        [
         "gender",
         "0"
        ],
        [
         "education",
         "47"
        ],
        [
         "status",
         "177"
        ],
        [
         "description",
         "0"
        ]
       ],
       "shape": {
        "columns": 1,
        "rows": 16
       }
      },
      "text/plain": [
       "age                   0\n",
       "income               46\n",
       "frq                   0\n",
       "rcn                   0\n",
       "mnt                   0\n",
       "clothes               0\n",
       "kitchen               0\n",
       "small_appliances      0\n",
       "toys                  0\n",
       "house_keeping         0\n",
       "dependents          282\n",
       "per_net_purchase      0\n",
       "gender                0\n",
       "education            47\n",
       "status              177\n",
       "description           0\n",
       "dtype: int64"
      ]
     },
     "execution_count": 17,
     "metadata": {},
     "output_type": "execute_result"
    }
   ],
   "source": [
    "# count of missing values\n",
    "df_central.isna().sum()"
   ]
  },
  {
   "cell_type": "code",
   "execution_count": 18,
   "metadata": {},
   "outputs": [],
   "source": [
    "medians = df_central[metric_features].median()"
   ]
  },
  {
   "cell_type": "markdown",
   "metadata": {},
   "source": [
    "#### What about non-numeric features?"
   ]
  },
  {
   "cell_type": "code",
   "execution_count": 19,
   "metadata": {},
   "outputs": [],
   "source": [
    "# Check each step of these commands\n",
    "modes = df_central[non_metric_features].mode().loc[0]"
   ]
  },
  {
   "cell_type": "code",
   "execution_count": 20,
   "metadata": {},
   "outputs": [
    {
     "data": {
      "application/vnd.microsoft.datawrangler.viewer.v0+json": {
       "columns": [
        {
         "name": "index",
         "rawType": "object",
         "type": "string"
        },
        {
         "name": "0",
         "rawType": "int64",
         "type": "integer"
        }
       ],
       "ref": "0ce1352f-d8ec-490b-83bf-f438d44cc3b1",
       "rows": [
        [
         "age",
         "0"
        ],
        [
         "income",
         "0"
        ],
        [
         "frq",
         "0"
        ],
        [
         "rcn",
         "0"
        ],
        [
         "mnt",
         "0"
        ],
        [
         "clothes",
         "0"
        ],
        [
         "kitchen",
         "0"
        ],
        [
         "small_appliances",
         "0"
        ],
        [
         "toys",
         "0"
        ],
        [
         "house_keeping",
         "0"
        ],
        [
         "dependents",
         "0"
        ],
        [
         "per_net_purchase",
         "0"
        ],
        [
         "gender",
         "0"
        ],
        [
         "education",
         "0"
        ],
        [
         "status",
         "0"
        ],
        [
         "description",
         "0"
        ]
       ],
       "shape": {
        "columns": 1,
        "rows": 16
       }
      },
      "text/plain": [
       "age                 0\n",
       "income              0\n",
       "frq                 0\n",
       "rcn                 0\n",
       "mnt                 0\n",
       "clothes             0\n",
       "kitchen             0\n",
       "small_appliances    0\n",
       "toys                0\n",
       "house_keeping       0\n",
       "dependents          0\n",
       "per_net_purchase    0\n",
       "gender              0\n",
       "education           0\n",
       "status              0\n",
       "description         0\n",
       "dtype: int64"
      ]
     },
     "execution_count": 20,
     "metadata": {},
     "output_type": "execute_result"
    }
   ],
   "source": [
    "# Fill NaNs on df_central\n",
    "# CODE HERE\n",
    "\n",
    "df_central[metric_features] = df_central[metric_features].fillna(medians)\n",
    "df_central[non_metric_features] = df_central[non_metric_features].fillna(modes)\n",
    "\n",
    "df_central.isna().sum()  # checking how many NaNs we still have"
   ]
  },
  {
   "cell_type": "code",
   "execution_count": 21,
   "metadata": {},
   "outputs": [],
   "source": [
    "# let's keep the central imputation\n",
    "df = df_central.copy()"
   ]
  },
  {
   "cell_type": "markdown",
   "metadata": {},
   "source": [
    "## An overview of our previous data exploration\n",
    "\n",
    "You can also explore this dataset using the exported `pandas-profiling` report.\n",
    "\n"
   ]
  },
  {
   "cell_type": "markdown",
   "metadata": {},
   "source": [
    "\n",
    "![](https://raw.githubusercontent.com/fpontejos/Data-Mining-24-25/refs/heads/main/figures/eda/categorical_variables_counts.png)\n",
    "\n",
    "![](https://raw.githubusercontent.com/fpontejos/Data-Mining-24-25/refs/heads/main/figures/eda/numeric_variables_histograms.png)\n",
    "\n",
    "![](https://raw.githubusercontent.com/fpontejos/Data-Mining-24-25/refs/heads/main/figures/eda/numeric_variables_boxplots.png)\n",
    "\n",
    "![](https://raw.githubusercontent.com/fpontejos/Data-Mining-24-25/refs/heads/main/figures/eda/pairwise_numeric_scatterplots.png)\n",
    "\n",
    "![](https://raw.githubusercontent.com/fpontejos/Data-Mining-24-25/refs/heads/main/figures/eda/correlation_matrix.png)"
   ]
  },
  {
   "cell_type": "markdown",
   "metadata": {},
   "source": [
    "## Outlier removal\n",
    "\n",
    "Why do we need to remove outliers? Which methods can we use?\n",
    "\n",
    "\n"
   ]
  },
  {
   "cell_type": "markdown",
   "metadata": {},
   "source": [
    "### Outlier removal using only the IQR method\n",
    "\n",
    "Why should you use/not use this method?"
   ]
  },
  {
   "cell_type": "markdown",
   "metadata": {
    "id": "dTg3mjGfa487"
   },
   "source": [
    "Inter-Quartile Range formula:\n",
    "\n",
    "<br>\n",
    "\n",
    "$IQR = Q_3 – Q_1$\n",
    "\n",
    "<br>\n",
    "\n",
    "---\n",
    "\n",
    "<br>\n",
    "\n",
    "**Outliers** are the observations that fall\n",
    "- below $Q_1 − 1.5 \\times IQR$\n",
    "\n",
    "or\n",
    "\n",
    "- above $Q_3 + 1.5 \\times IQR$\n",
    "\n",
    "<br>\n",
    "<br>\n",
    "\n",
    "https://online.stat.psu.edu/stat200/lesson/3/3.2"
   ]
  },
  {
   "cell_type": "code",
   "execution_count": 22,
   "metadata": {},
   "outputs": [],
   "source": [
    "# Compute the IQR\n",
    "# HINT: Use .quantile()\n",
    "\n",
    "# Calculate Q1, Q3, IQR\n",
    "\n",
    "q1 = df[metric_features].quantile(.25)\n"
   ]
  },
  {
   "cell_type": "code",
   "execution_count": 23,
   "metadata": {},
   "outputs": [],
   "source": [
    "# Calculate Q1, Q3, IQR\n",
    "\n",
    "q3 = df[metric_features].quantile(.75)\n"
   ]
  },
  {
   "cell_type": "code",
   "execution_count": 24,
   "metadata": {},
   "outputs": [],
   "source": [
    "# Calculate Q1, Q3, IQR\n",
    "\n",
    "iqr = (q3 - q1)\n"
   ]
  },
  {
   "cell_type": "code",
   "execution_count": 25,
   "metadata": {},
   "outputs": [],
   "source": [
    "# Compute upper and lower limit \n",
    "\n",
    "# lower_limit = Q1 -1.5*IQR\n",
    "lower_lim = q1 - (1.5 * iqr)\n",
    "\n",
    "# upper_limit = Q3 + 1.5*IQR\n",
    "upper_lim = q3 + (1.5 * iqr)\n",
    "\n",
    "\n"
   ]
  },
  {
   "cell_type": "code",
   "execution_count": 26,
   "metadata": {},
   "outputs": [],
   "source": [
    "filters_iqr = []\n",
    "for metric in metric_features:\n",
    "    llim = lower_lim[metric]\n",
    "    ulim = upper_lim[metric]\n",
    "    filters_iqr.append(df[metric].between(llim, ulim, inclusive='neither'))\n",
    "\n",
    "filters_iqr_all = pd.Series(np.all(filters_iqr, 0))\n"
   ]
  },
  {
   "cell_type": "code",
   "execution_count": 27,
   "metadata": {},
   "outputs": [
    {
     "data": {
      "text/plain": [
       "np.int64(7339)"
      ]
     },
     "execution_count": 27,
     "metadata": {},
     "output_type": "execute_result"
    }
   ],
   "source": [
    "filters_iqr_all.sum()"
   ]
  },
  {
   "cell_type": "code",
   "execution_count": 28,
   "metadata": {},
   "outputs": [
    {
     "name": "stdout",
     "output_type": "stream",
     "text": [
      "Percentage of data kept after removing outliers: 81.56\n"
     ]
    }
   ],
   "source": [
    "df_iqr = df[filters_iqr_all]\n",
    "print('Percentage of data kept after removing outliers:', 100*(np.round(df_iqr.shape[0] / df_original.shape[0], 4)))\n"
   ]
  },
  {
   "cell_type": "markdown",
   "metadata": {
    "id": "3foxpUT9bvYv"
   },
   "source": [
    "What do you think of this number?\n",
    "\n",
    "In general we want to keep as much of our data as possible.\n",
    "\n",
    "As a rule of thumb, try not to remove more than 5% of your rows. \n",
    "\n",
    "***This is only a rule of thumb!*** \n",
    "\n",
    "In some cases it really is necessary to remove more.\n"
   ]
  },
  {
   "cell_type": "markdown",
   "metadata": {},
   "source": [
    "### Manual outlier removal\n",
    "\n",
    "Now let's try \"manually\" filtering the dataset's outliers\n",
    "\n",
    "---\n",
    "\n",
    "\n",
    "Let's look at the boxplots again:\n",
    "\n",
    "![](https://raw.githubusercontent.com/fpontejos/Data-Mining-24-25/refs/heads/main/figures/eda/numeric_variables_boxplots.png)"
   ]
  },
  {
   "cell_type": "code",
   "execution_count": 29,
   "metadata": {},
   "outputs": [],
   "source": [
    "# This may vary from session to session, and is prone to varying interpretations.\n",
    "# A simple example is provided below:\n",
    "\n",
    "# ( df['feature1']<= limit1 ) & ( df['feature2']<= limit2 ) ...\n",
    "\n",
    "\n",
    "filters_man = (\n",
    "    (df['house_keeping']<=50)\n",
    "    &\n",
    "    (df['kitchen']<=40)\n",
    "    &\n",
    "    (df['toys']<=35)\n",
    "    &\n",
    "    (df['education']!='OldSchool')\n",
    ")\n",
    "\n",
    "df_man = df[filters_man]"
   ]
  },
  {
   "cell_type": "code",
   "execution_count": 30,
   "metadata": {},
   "outputs": [
    {
     "name": "stdout",
     "output_type": "stream",
     "text": [
      "Percentage of data kept after removing outliers: 97.99\n"
     ]
    }
   ],
   "source": [
    "print('Percentage of data kept after removing outliers:', 100*np.round(df_man.shape[0] / df_original.shape[0], 4))"
   ]
  },
  {
   "cell_type": "markdown",
   "metadata": {},
   "source": [
    "## Combining different outlier methods\n",
    "\n",
    "More robust/ consistent outlier detection method:"
   ]
  },
  {
   "cell_type": "code",
   "execution_count": 31,
   "metadata": {},
   "outputs": [
    {
     "name": "stdout",
     "output_type": "stream",
     "text": [
      "Percentage of data kept after removing outliers: 0.9819\n"
     ]
    }
   ],
   "source": [
    "## What is this doing?\n",
    "df_out = df[(filters_iqr_all | filters_man)] \n",
    "\n",
    "\n",
    "print('Percentage of data kept after removing outliers:', np.round(df_out.shape[0] / df_original.shape[0], 4))"
   ]
  },
  {
   "cell_type": "code",
   "execution_count": 32,
   "metadata": {},
   "outputs": [],
   "source": [
    "# Get the manual filtering version\n",
    "\n",
    "df = df_man.copy()\n",
    "\n"
   ]
  },
  {
   "cell_type": "markdown",
   "metadata": {},
   "source": [
    "## Outlier threshold value\n",
    "\n",
    "You may change the values of observations for a given variable:\n"
   ]
  },
  {
   "cell_type": "code",
   "execution_count": 33,
   "metadata": {},
   "outputs": [
    {
     "name": "stdout",
     "output_type": "stream",
     "text": [
      "rcn\n",
      "False    8437\n",
      "True      380\n",
      "Name: count, dtype: int64\n"
     ]
    }
   ],
   "source": [
    "print((df['rcn']>100).value_counts())\n",
    "\n",
    "rcn_t = df['rcn'].copy()\n",
    "rcn_t.loc[rcn_t>100] = 100\n",
    "\n",
    "df['rcn'] = rcn_t"
   ]
  },
  {
   "cell_type": "markdown",
   "metadata": {},
   "source": [
    "\n",
    "Visualize your boxplots and histograms before and after outlier removal.\n",
    "\n",
    "\n",
    "![](https://raw.githubusercontent.com/fpontejos/Data-Mining-24-25/refs/heads/main/figures/eda/boxplots_before_after_outliers.png)"
   ]
  },
  {
   "cell_type": "markdown",
   "metadata": {},
   "source": [
    "## Feature Engineering\n",
    "\n",
    "A reminder of our metadata:\n",
    "- *id* - The unique identifier of the customer\n",
    "- *age* - The year of birht of the customer\n",
    "- *income* - The income of the customer\n",
    "- *frq* - Frequency: number of purchases made by the customer\n",
    "- *rcn* - Recency: number of days since last customer purchase\n",
    "- *mnt* - Monetary: amount of € spent by the customer in purchases\n",
    "- *clothes* - Number of clothes items purchased by the customer\n",
    "- *kitchen* - Number of kitchen items purchased by the customer\n",
    "- *small_appliances* - Number of small_appliances items purchased by the customer\n",
    "- *toys* - Number of toys items purchased by the customer\n",
    "- *house_keeping* - Number of house_keeping items purchased by the customer\n",
    "- *dependents* - Binary. Whether or not the customer has dependents\n",
    "- *per_net_purchase* - Percentage of purchases made online\n",
    "- *education* - Education level of the customer\n",
    "- *status* - Marital status of the customer\n",
    "- *gender* - Gender of the customer\n",
    "- *description* - Last customer's recommendation description"
   ]
  },
  {
   "cell_type": "code",
   "execution_count": 34,
   "metadata": {},
   "outputs": [],
   "source": [
    "# Try to pull as many features as you can; You can always drop them later on\n",
    "# You can start by converting the 'age' variable to the actual age\n",
    "# You can also store the birth year in another feature\n",
    "\n",
    "# CODE HERE"
   ]
  },
  {
   "cell_type": "code",
   "execution_count": 35,
   "metadata": {},
   "outputs": [],
   "source": [
    "new_features = []"
   ]
  },
  {
   "cell_type": "code",
   "execution_count": 36,
   "metadata": {},
   "outputs": [
    {
     "data": {
      "text/plain": [
       "['birth_year']"
      ]
     },
     "execution_count": 36,
     "metadata": {},
     "output_type": "execute_result"
    }
   ],
   "source": [
    "df['birth_year'] = df['age']\n",
    "df['age'] = 2024 - df['birth_year']\n",
    "new_features.append('birth_year')\n",
    "\n",
    "new_features"
   ]
  },
  {
   "cell_type": "code",
   "execution_count": 37,
   "metadata": {},
   "outputs": [
    {
     "data": {
      "application/vnd.microsoft.datawrangler.viewer.v0+json": {
       "columns": [
        {
         "name": "index",
         "rawType": "object",
         "type": "string"
        },
        {
         "name": "age",
         "rawType": "float64",
         "type": "float"
        },
        {
         "name": "income",
         "rawType": "float64",
         "type": "float"
        },
        {
         "name": "frq",
         "rawType": "float64",
         "type": "float"
        },
        {
         "name": "rcn",
         "rawType": "float64",
         "type": "float"
        },
        {
         "name": "mnt",
         "rawType": "float64",
         "type": "float"
        },
        {
         "name": "clothes",
         "rawType": "float64",
         "type": "float"
        },
        {
         "name": "kitchen",
         "rawType": "float64",
         "type": "float"
        },
        {
         "name": "small_appliances",
         "rawType": "float64",
         "type": "float"
        },
        {
         "name": "toys",
         "rawType": "float64",
         "type": "float"
        },
        {
         "name": "house_keeping",
         "rawType": "float64",
         "type": "float"
        },
        {
         "name": "per_net_purchase",
         "rawType": "float64",
         "type": "float"
        },
        {
         "name": "birth_year",
         "rawType": "float64",
         "type": "float"
        }
       ],
       "ref": "1d1ad9c4-cf9f-4eaa-8703-1327a86fa891",
       "rows": [
        [
         "count",
         "8817.0",
         "8817.0",
         "8817.0",
         "8817.0",
         "8817.0",
         "8817.0",
         "8817.0",
         "8817.0",
         "8817.0",
         "8817.0",
         "8817.0",
         "8817.0"
        ],
        [
         "mean",
         "58.33526142678916",
         "70534.38788703641",
         "19.99035953272088",
         "52.220936826585",
         "630.1626403538619",
         "51.18112736758535",
         "6.776908245434956",
         "28.673925371441534",
         "6.581263468299875",
         "6.764318929341045",
         "42.241238516502214",
         "1965.6647385732108"
        ],
        [
         "std",
         "17.075958489964755",
         "27246.77659961653",
         "10.918368635332808",
         "30.098894799197293",
         "647.8346477340054",
         "22.984454176714607",
         "7.310849675087696",
         "12.595621265857575",
         "6.895266077143807",
         "7.540019174294338",
         "18.482271529707727",
         "17.075958489964755"
        ],
        [
         "min",
         "28.0",
         "10000.0",
         "3.0",
         "0.0",
         "6.0",
         "1.0",
         "0.0",
         "1.0",
         "0.0",
         "0.0",
         "4.0",
         "1936.0"
        ],
        [
         "25%",
         "44.0",
         "48842.0",
         "10.0",
         "26.0",
         "64.0",
         "34.0",
         "2.0",
         "19.0",
         "2.0",
         "2.0",
         "27.0",
         "1951.0"
        ],
        [
         "50%",
         "58.0",
         "70388.0",
         "18.0",
         "53.0",
         "387.0",
         "52.0",
         "4.0",
         "28.0",
         "4.0",
         "4.0",
         "45.0",
         "1966.0"
        ],
        [
         "75%",
         "73.0",
         "92413.0",
         "28.0",
         "78.0",
         "1079.0",
         "70.0",
         "9.0",
         "37.0",
         "9.0",
         "9.0",
         "57.0",
         "1980.0"
        ],
        [
         "max",
         "88.0",
         "140628.0",
         "59.0",
         "100.0",
         "3052.0",
         "99.0",
         "40.0",
         "74.0",
         "35.0",
         "50.0",
         "88.0",
         "1996.0"
        ]
       ],
       "shape": {
        "columns": 12,
        "rows": 8
       }
      },
      "text/html": [
       "<div>\n",
       "<style scoped>\n",
       "    .dataframe tbody tr th:only-of-type {\n",
       "        vertical-align: middle;\n",
       "    }\n",
       "\n",
       "    .dataframe tbody tr th {\n",
       "        vertical-align: top;\n",
       "    }\n",
       "\n",
       "    .dataframe thead th {\n",
       "        text-align: right;\n",
       "    }\n",
       "</style>\n",
       "<table border=\"1\" class=\"dataframe\">\n",
       "  <thead>\n",
       "    <tr style=\"text-align: right;\">\n",
       "      <th></th>\n",
       "      <th>age</th>\n",
       "      <th>income</th>\n",
       "      <th>frq</th>\n",
       "      <th>rcn</th>\n",
       "      <th>mnt</th>\n",
       "      <th>clothes</th>\n",
       "      <th>kitchen</th>\n",
       "      <th>small_appliances</th>\n",
       "      <th>toys</th>\n",
       "      <th>house_keeping</th>\n",
       "      <th>per_net_purchase</th>\n",
       "      <th>birth_year</th>\n",
       "    </tr>\n",
       "  </thead>\n",
       "  <tbody>\n",
       "    <tr>\n",
       "      <th>count</th>\n",
       "      <td>8817.000000</td>\n",
       "      <td>8817.000000</td>\n",
       "      <td>8817.000000</td>\n",
       "      <td>8817.000000</td>\n",
       "      <td>8817.000000</td>\n",
       "      <td>8817.000000</td>\n",
       "      <td>8817.000000</td>\n",
       "      <td>8817.000000</td>\n",
       "      <td>8817.000000</td>\n",
       "      <td>8817.000000</td>\n",
       "      <td>8817.000000</td>\n",
       "      <td>8817.000000</td>\n",
       "    </tr>\n",
       "    <tr>\n",
       "      <th>mean</th>\n",
       "      <td>58.335261</td>\n",
       "      <td>70534.387887</td>\n",
       "      <td>19.990360</td>\n",
       "      <td>52.220937</td>\n",
       "      <td>630.162640</td>\n",
       "      <td>51.181127</td>\n",
       "      <td>6.776908</td>\n",
       "      <td>28.673925</td>\n",
       "      <td>6.581263</td>\n",
       "      <td>6.764319</td>\n",
       "      <td>42.241239</td>\n",
       "      <td>1965.664739</td>\n",
       "    </tr>\n",
       "    <tr>\n",
       "      <th>std</th>\n",
       "      <td>17.075958</td>\n",
       "      <td>27246.776600</td>\n",
       "      <td>10.918369</td>\n",
       "      <td>30.098895</td>\n",
       "      <td>647.834648</td>\n",
       "      <td>22.984454</td>\n",
       "      <td>7.310850</td>\n",
       "      <td>12.595621</td>\n",
       "      <td>6.895266</td>\n",
       "      <td>7.540019</td>\n",
       "      <td>18.482272</td>\n",
       "      <td>17.075958</td>\n",
       "    </tr>\n",
       "    <tr>\n",
       "      <th>min</th>\n",
       "      <td>28.000000</td>\n",
       "      <td>10000.000000</td>\n",
       "      <td>3.000000</td>\n",
       "      <td>0.000000</td>\n",
       "      <td>6.000000</td>\n",
       "      <td>1.000000</td>\n",
       "      <td>0.000000</td>\n",
       "      <td>1.000000</td>\n",
       "      <td>0.000000</td>\n",
       "      <td>0.000000</td>\n",
       "      <td>4.000000</td>\n",
       "      <td>1936.000000</td>\n",
       "    </tr>\n",
       "    <tr>\n",
       "      <th>25%</th>\n",
       "      <td>44.000000</td>\n",
       "      <td>48842.000000</td>\n",
       "      <td>10.000000</td>\n",
       "      <td>26.000000</td>\n",
       "      <td>64.000000</td>\n",
       "      <td>34.000000</td>\n",
       "      <td>2.000000</td>\n",
       "      <td>19.000000</td>\n",
       "      <td>2.000000</td>\n",
       "      <td>2.000000</td>\n",
       "      <td>27.000000</td>\n",
       "      <td>1951.000000</td>\n",
       "    </tr>\n",
       "    <tr>\n",
       "      <th>50%</th>\n",
       "      <td>58.000000</td>\n",
       "      <td>70388.000000</td>\n",
       "      <td>18.000000</td>\n",
       "      <td>53.000000</td>\n",
       "      <td>387.000000</td>\n",
       "      <td>52.000000</td>\n",
       "      <td>4.000000</td>\n",
       "      <td>28.000000</td>\n",
       "      <td>4.000000</td>\n",
       "      <td>4.000000</td>\n",
       "      <td>45.000000</td>\n",
       "      <td>1966.000000</td>\n",
       "    </tr>\n",
       "    <tr>\n",
       "      <th>75%</th>\n",
       "      <td>73.000000</td>\n",
       "      <td>92413.000000</td>\n",
       "      <td>28.000000</td>\n",
       "      <td>78.000000</td>\n",
       "      <td>1079.000000</td>\n",
       "      <td>70.000000</td>\n",
       "      <td>9.000000</td>\n",
       "      <td>37.000000</td>\n",
       "      <td>9.000000</td>\n",
       "      <td>9.000000</td>\n",
       "      <td>57.000000</td>\n",
       "      <td>1980.000000</td>\n",
       "    </tr>\n",
       "    <tr>\n",
       "      <th>max</th>\n",
       "      <td>88.000000</td>\n",
       "      <td>140628.000000</td>\n",
       "      <td>59.000000</td>\n",
       "      <td>100.000000</td>\n",
       "      <td>3052.000000</td>\n",
       "      <td>99.000000</td>\n",
       "      <td>40.000000</td>\n",
       "      <td>74.000000</td>\n",
       "      <td>35.000000</td>\n",
       "      <td>50.000000</td>\n",
       "      <td>88.000000</td>\n",
       "      <td>1996.000000</td>\n",
       "    </tr>\n",
       "  </tbody>\n",
       "</table>\n",
       "</div>"
      ],
      "text/plain": [
       "               age         income          frq          rcn          mnt  \\\n",
       "count  8817.000000    8817.000000  8817.000000  8817.000000  8817.000000   \n",
       "mean     58.335261   70534.387887    19.990360    52.220937   630.162640   \n",
       "std      17.075958   27246.776600    10.918369    30.098895   647.834648   \n",
       "min      28.000000   10000.000000     3.000000     0.000000     6.000000   \n",
       "25%      44.000000   48842.000000    10.000000    26.000000    64.000000   \n",
       "50%      58.000000   70388.000000    18.000000    53.000000   387.000000   \n",
       "75%      73.000000   92413.000000    28.000000    78.000000  1079.000000   \n",
       "max      88.000000  140628.000000    59.000000   100.000000  3052.000000   \n",
       "\n",
       "           clothes      kitchen  small_appliances         toys  house_keeping  \\\n",
       "count  8817.000000  8817.000000       8817.000000  8817.000000    8817.000000   \n",
       "mean     51.181127     6.776908         28.673925     6.581263       6.764319   \n",
       "std      22.984454     7.310850         12.595621     6.895266       7.540019   \n",
       "min       1.000000     0.000000          1.000000     0.000000       0.000000   \n",
       "25%      34.000000     2.000000         19.000000     2.000000       2.000000   \n",
       "50%      52.000000     4.000000         28.000000     4.000000       4.000000   \n",
       "75%      70.000000     9.000000         37.000000     9.000000       9.000000   \n",
       "max      99.000000    40.000000         74.000000    35.000000      50.000000   \n",
       "\n",
       "       per_net_purchase   birth_year  \n",
       "count       8817.000000  8817.000000  \n",
       "mean          42.241239  1965.664739  \n",
       "std           18.482272    17.075958  \n",
       "min            4.000000  1936.000000  \n",
       "25%           27.000000  1951.000000  \n",
       "50%           45.000000  1966.000000  \n",
       "75%           57.000000  1980.000000  \n",
       "max           88.000000  1996.000000  "
      ]
     },
     "execution_count": 37,
     "metadata": {},
     "output_type": "execute_result"
    }
   ],
   "source": [
    "df.describe()"
   ]
  },
  {
   "cell_type": "code",
   "execution_count": 38,
   "metadata": {},
   "outputs": [
    {
     "data": {
      "text/plain": [
       "['birth_year', 'spent_online']"
      ]
     },
     "execution_count": 38,
     "metadata": {},
     "output_type": "execute_result"
    }
   ],
   "source": [
    "df['spent_online'] = df['per_net_purchase']*df['mnt']/100\n",
    "\n",
    "new_features.append('spent_online')\n",
    "\n",
    "new_features"
   ]
  },
  {
   "cell_type": "code",
   "execution_count": 39,
   "metadata": {},
   "outputs": [
    {
     "data": {
      "text/plain": [
       "['age',\n",
       " 'income',\n",
       " 'frq',\n",
       " 'rcn',\n",
       " 'mnt',\n",
       " 'clothes',\n",
       " 'kitchen',\n",
       " 'small_appliances',\n",
       " 'toys',\n",
       " 'house_keeping',\n",
       " 'per_net_purchase',\n",
       " 'spent_online',\n",
       " 'birth_year']"
      ]
     },
     "execution_count": 39,
     "metadata": {},
     "output_type": "execute_result"
    }
   ],
   "source": [
    "metric_features.append('spent_online')\n",
    "metric_features.append('birth_year')\n",
    "metric_features"
   ]
  },
  {
   "cell_type": "markdown",
   "metadata": {},
   "source": [
    "## Variable selection: Redundancy VS Relevancy"
   ]
  },
  {
   "cell_type": "markdown",
   "metadata": {},
   "source": [
    "### Redundancy: Handling highly correlated variables\n",
    "\n",
    "We already saw our original correlation matrix:\n",
    "\n",
    "![](https://raw.githubusercontent.com/fpontejos/Data-Mining-24-25/refs/heads/main/figures/eda/correlation_matrix.png)\n"
   ]
  },
  {
   "cell_type": "code",
   "execution_count": 40,
   "metadata": {},
   "outputs": [
    {
     "data": {
      "image/png": "[encoded data removed]",
      "text/plain": [
       "<Figure size 1200x800 with 2 Axes>"
      ]
     },
     "metadata": {
      "image/png": {
       "height": 778,
       "width": 901
      }
     },
     "output_type": "display_data"
    }
   ],
   "source": [
    "plt.figure(figsize=(12,8))\n",
    "corr = df[metric_features].corr()\n",
    "corr = corr.round(2)\n",
    "\n",
    "sns.heatmap(\n",
    "    corr,\n",
    "    center = 0,\n",
    "    cmap='PiYG',\n",
    "    annot=np.where(np.absolute(corr) >= 0.9, corr.values, np.full(corr.values.shape, \"\")),\n",
    "    fmt='s',\n",
    "    square=True,\n",
    "    linewidths=.5,\n",
    ")\n",
    "plt.show()"
   ]
  },
  {
   "cell_type": "code",
   "execution_count": 41,
   "metadata": {},
   "outputs": [
    {
     "data": {
      "text/plain": [
       "['income',\n",
       " 'frq',\n",
       " 'rcn',\n",
       " 'clothes',\n",
       " 'kitchen',\n",
       " 'small_appliances',\n",
       " 'toys',\n",
       " 'house_keeping',\n",
       " 'per_net_purchase',\n",
       " 'spent_online']"
      ]
     },
     "execution_count": 41,
     "metadata": {},
     "output_type": "execute_result"
    }
   ],
   "source": [
    "# Select variables according to their correlations\n",
    "# Updating metric_features\n",
    "\n",
    "## RUN THIS CELL ONLY ONCE!!!!\n",
    "\n",
    "# CODE HERE\n",
    "metric_features.remove(\"mnt\")\n",
    "metric_features.remove(\"age\")\n",
    "metric_features.remove(\"birth_year\")\n",
    "\n",
    "metric_features\n"
   ]
  },
  {
   "cell_type": "code",
   "execution_count": null,
   "metadata": {},
   "outputs": [],
   "source": []
  },
  {
   "cell_type": "code",
   "execution_count": 42,
   "metadata": {},
   "outputs": [],
   "source": [
    "# You can also drop the features from the df\n",
    "# But sometimes they may be useful for cluster profiling later\n",
    "\n",
    "# df.drop(..., inplace=True)\n"
   ]
  },
  {
   "cell_type": "markdown",
   "metadata": {},
   "source": [
    "### Relevancy\n",
    "Selecting variables based on the relevancy of each one to the task. \n",
    "\n",
    "Example: \n",
    "- remove uncorrelated variables with the target,\n",
    "- stepwise regression,\n",
    "- use variables for product clustering,\n",
    "- use variables for socio-demographic clustering,\n",
    "- ...\n",
    "\n",
    "Variables that aren't correlated with any other variable are often also not relevant. In this case we will not focus on this a lot since we don't have a defined task yet."
   ]
  },
  {
   "cell_type": "code",
   "execution_count": null,
   "metadata": {},
   "outputs": [],
   "source": []
  },
  {
   "cell_type": "markdown",
   "metadata": {},
   "source": [
    "## Redo data exploration\n",
    "\n",
    "Check if the data looks the way you expect it to. \n",
    "\n",
    "- Have you missed some outliers? \n",
    "- Are there still missing values?\n",
    "- Is the data normalized?\n",
    "\n",
    "This is an iterative process. It is likely you will change your preprocessing steps frequently throughout your group work."
   ]
  },
  {
   "cell_type": "code",
   "execution_count": null,
   "metadata": {},
   "outputs": [],
   "source": []
  },
  {
   "cell_type": "markdown",
   "metadata": {},
   "source": [
    "# Begginning of lab 06"
   ]
  },
  {
   "cell_type": "markdown",
   "metadata": {},
   "source": [
    "## Data Normalization / Scaling"
   ]
  },
  {
   "cell_type": "code",
   "execution_count": 43,
   "metadata": {},
   "outputs": [
    {
     "data": {
      "application/vnd.microsoft.datawrangler.viewer.v0+json": {
       "columns": [
        {
         "name": "index",
         "rawType": "object",
         "type": "string"
        },
        {
         "name": "age",
         "rawType": "float64",
         "type": "float"
        },
        {
         "name": "income",
         "rawType": "float64",
         "type": "float"
        },
        {
         "name": "frq",
         "rawType": "float64",
         "type": "float"
        },
        {
         "name": "rcn",
         "rawType": "float64",
         "type": "float"
        },
        {
         "name": "mnt",
         "rawType": "float64",
         "type": "float"
        },
        {
         "name": "clothes",
         "rawType": "float64",
         "type": "float"
        },
        {
         "name": "kitchen",
         "rawType": "float64",
         "type": "float"
        },
        {
         "name": "small_appliances",
         "rawType": "float64",
         "type": "float"
        },
        {
         "name": "toys",
         "rawType": "float64",
         "type": "float"
        },
        {
         "name": "house_keeping",
         "rawType": "float64",
         "type": "float"
        },
        {
         "name": "per_net_purchase",
         "rawType": "float64",
         "type": "float"
        },
        {
         "name": "birth_year",
         "rawType": "float64",
         "type": "float"
        },
        {
         "name": "spent_online",
         "rawType": "float64",
         "type": "float"
        }
       ],
       "ref": "24acce2a-d886-4aba-aebb-95eac556169b",
       "rows": [
        [
         "count",
         "8817.0",
         "8817.0",
         "8817.0",
         "8817.0",
         "8817.0",
         "8817.0",
         "8817.0",
         "8817.0",
         "8817.0",
         "8817.0",
         "8817.0",
         "8817.0",
         "8817.0"
        ],
        [
         "mean",
         "58.34",
         "70534.39",
         "19.99",
         "52.22",
         "630.16",
         "51.18",
         "6.78",
         "28.67",
         "6.58",
         "6.76",
         "42.24",
         "1965.66",
         "178.38"
        ],
        [
         "std",
         "17.08",
         "27246.78",
         "10.92",
         "30.1",
         "647.83",
         "22.98",
         "7.31",
         "12.6",
         "6.9",
         "7.54",
         "18.48",
         "17.08",
         "168.58"
        ],
        [
         "min",
         "28.0",
         "10000.0",
         "3.0",
         "0.0",
         "6.0",
         "1.0",
         "0.0",
         "1.0",
         "0.0",
         "0.0",
         "4.0",
         "1936.0",
         "2.73"
        ],
        [
         "25%",
         "44.0",
         "48842.0",
         "10.0",
         "26.0",
         "64.0",
         "34.0",
         "2.0",
         "19.0",
         "2.0",
         "2.0",
         "27.0",
         "1951.0",
         "34.65"
        ],
        [
         "50%",
         "58.0",
         "70388.0",
         "18.0",
         "53.0",
         "387.0",
         "52.0",
         "4.0",
         "28.0",
         "4.0",
         "4.0",
         "45.0",
         "1966.0",
         "140.0"
        ],
        [
         "75%",
         "73.0",
         "92413.0",
         "28.0",
         "78.0",
         "1079.0",
         "70.0",
         "9.0",
         "37.0",
         "9.0",
         "9.0",
         "57.0",
         "1980.0",
         "265.1"
        ],
        [
         "max",
         "88.0",
         "140628.0",
         "59.0",
         "100.0",
         "3052.0",
         "99.0",
         "40.0",
         "74.0",
         "35.0",
         "50.0",
         "88.0",
         "1996.0",
         "1416.24"
        ]
       ],
       "shape": {
        "columns": 13,
        "rows": 8
       }
      },
      "text/html": [
       "<div>\n",
       "<style scoped>\n",
       "    .dataframe tbody tr th:only-of-type {\n",
       "        vertical-align: middle;\n",
       "    }\n",
       "\n",
       "    .dataframe tbody tr th {\n",
       "        vertical-align: top;\n",
       "    }\n",
       "\n",
       "    .dataframe thead th {\n",
       "        text-align: right;\n",
       "    }\n",
       "</style>\n",
       "<table border=\"1\" class=\"dataframe\">\n",
       "  <thead>\n",
       "    <tr style=\"text-align: right;\">\n",
       "      <th></th>\n",
       "      <th>age</th>\n",
       "      <th>income</th>\n",
       "      <th>frq</th>\n",
       "      <th>rcn</th>\n",
       "      <th>mnt</th>\n",
       "      <th>clothes</th>\n",
       "      <th>kitchen</th>\n",
       "      <th>small_appliances</th>\n",
       "      <th>toys</th>\n",
       "      <th>house_keeping</th>\n",
       "      <th>per_net_purchase</th>\n",
       "      <th>birth_year</th>\n",
       "      <th>spent_online</th>\n",
       "    </tr>\n",
       "  </thead>\n",
       "  <tbody>\n",
       "    <tr>\n",
       "      <th>count</th>\n",
       "      <td>8817.00</td>\n",
       "      <td>8817.00</td>\n",
       "      <td>8817.00</td>\n",
       "      <td>8817.00</td>\n",
       "      <td>8817.00</td>\n",
       "      <td>8817.00</td>\n",
       "      <td>8817.00</td>\n",
       "      <td>8817.00</td>\n",
       "      <td>8817.00</td>\n",
       "      <td>8817.00</td>\n",
       "      <td>8817.00</td>\n",
       "      <td>8817.00</td>\n",
       "      <td>8817.00</td>\n",
       "    </tr>\n",
       "    <tr>\n",
       "      <th>mean</th>\n",
       "      <td>58.34</td>\n",
       "      <td>70534.39</td>\n",
       "      <td>19.99</td>\n",
       "      <td>52.22</td>\n",
       "      <td>630.16</td>\n",
       "      <td>51.18</td>\n",
       "      <td>6.78</td>\n",
       "      <td>28.67</td>\n",
       "      <td>6.58</td>\n",
       "      <td>6.76</td>\n",
       "      <td>42.24</td>\n",
       "      <td>1965.66</td>\n",
       "      <td>178.38</td>\n",
       "    </tr>\n",
       "    <tr>\n",
       "      <th>std</th>\n",
       "      <td>17.08</td>\n",
       "      <td>27246.78</td>\n",
       "      <td>10.92</td>\n",
       "      <td>30.10</td>\n",
       "      <td>647.83</td>\n",
       "      <td>22.98</td>\n",
       "      <td>7.31</td>\n",
       "      <td>12.60</td>\n",
       "      <td>6.90</td>\n",
       "      <td>7.54</td>\n",
       "      <td>18.48</td>\n",
       "      <td>17.08</td>\n",
       "      <td>168.58</td>\n",
       "    </tr>\n",
       "    <tr>\n",
       "      <th>min</th>\n",
       "      <td>28.00</td>\n",
       "      <td>10000.00</td>\n",
       "      <td>3.00</td>\n",
       "      <td>0.00</td>\n",
       "      <td>6.00</td>\n",
       "      <td>1.00</td>\n",
       "      <td>0.00</td>\n",
       "      <td>1.00</td>\n",
       "      <td>0.00</td>\n",
       "      <td>0.00</td>\n",
       "      <td>4.00</td>\n",
       "      <td>1936.00</td>\n",
       "      <td>2.73</td>\n",
       "    </tr>\n",
       "    <tr>\n",
       "      <th>25%</th>\n",
       "      <td>44.00</td>\n",
       "      <td>48842.00</td>\n",
       "      <td>10.00</td>\n",
       "      <td>26.00</td>\n",
       "      <td>64.00</td>\n",
       "      <td>34.00</td>\n",
       "      <td>2.00</td>\n",
       "      <td>19.00</td>\n",
       "      <td>2.00</td>\n",
       "      <td>2.00</td>\n",
       "      <td>27.00</td>\n",
       "      <td>1951.00</td>\n",
       "      <td>34.65</td>\n",
       "    </tr>\n",
       "    <tr>\n",
       "      <th>50%</th>\n",
       "      <td>58.00</td>\n",
       "      <td>70388.00</td>\n",
       "      <td>18.00</td>\n",
       "      <td>53.00</td>\n",
       "      <td>387.00</td>\n",
       "      <td>52.00</td>\n",
       "      <td>4.00</td>\n",
       "      <td>28.00</td>\n",
       "      <td>4.00</td>\n",
       "      <td>4.00</td>\n",
       "      <td>45.00</td>\n",
       "      <td>1966.00</td>\n",
       "      <td>140.00</td>\n",
       "    </tr>\n",
       "    <tr>\n",
       "      <th>75%</th>\n",
       "      <td>73.00</td>\n",
       "      <td>92413.00</td>\n",
       "      <td>28.00</td>\n",
       "      <td>78.00</td>\n",
       "      <td>1079.00</td>\n",
       "      <td>70.00</td>\n",
       "      <td>9.00</td>\n",
       "      <td>37.00</td>\n",
       "      <td>9.00</td>\n",
       "      <td>9.00</td>\n",
       "      <td>57.00</td>\n",
       "      <td>1980.00</td>\n",
       "      <td>265.10</td>\n",
       "    </tr>\n",
       "    <tr>\n",
       "      <th>max</th>\n",
       "      <td>88.00</td>\n",
       "      <td>140628.00</td>\n",
       "      <td>59.00</td>\n",
       "      <td>100.00</td>\n",
       "      <td>3052.00</td>\n",
       "      <td>99.00</td>\n",
       "      <td>40.00</td>\n",
       "      <td>74.00</td>\n",
       "      <td>35.00</td>\n",
       "      <td>50.00</td>\n",
       "      <td>88.00</td>\n",
       "      <td>1996.00</td>\n",
       "      <td>1416.24</td>\n",
       "    </tr>\n",
       "  </tbody>\n",
       "</table>\n",
       "</div>"
      ],
      "text/plain": [
       "           age     income      frq      rcn      mnt  clothes  kitchen  \\\n",
       "count  8817.00    8817.00  8817.00  8817.00  8817.00  8817.00  8817.00   \n",
       "mean     58.34   70534.39    19.99    52.22   630.16    51.18     6.78   \n",
       "std      17.08   27246.78    10.92    30.10   647.83    22.98     7.31   \n",
       "min      28.00   10000.00     3.00     0.00     6.00     1.00     0.00   \n",
       "25%      44.00   48842.00    10.00    26.00    64.00    34.00     2.00   \n",
       "50%      58.00   70388.00    18.00    53.00   387.00    52.00     4.00   \n",
       "75%      73.00   92413.00    28.00    78.00  1079.00    70.00     9.00   \n",
       "max      88.00  140628.00    59.00   100.00  3052.00    99.00    40.00   \n",
       "\n",
       "       small_appliances     toys  house_keeping  per_net_purchase  birth_year  \\\n",
       "count           8817.00  8817.00        8817.00           8817.00     8817.00   \n",
       "mean              28.67     6.58           6.76             42.24     1965.66   \n",
       "std               12.60     6.90           7.54             18.48       17.08   \n",
       "min                1.00     0.00           0.00              4.00     1936.00   \n",
       "25%               19.00     2.00           2.00             27.00     1951.00   \n",
       "50%               28.00     4.00           4.00             45.00     1966.00   \n",
       "75%               37.00     9.00           9.00             57.00     1980.00   \n",
       "max               74.00    35.00          50.00             88.00     1996.00   \n",
       "\n",
       "       spent_online  \n",
       "count       8817.00  \n",
       "mean         178.38  \n",
       "std          168.58  \n",
       "min            2.73  \n",
       "25%           34.65  \n",
       "50%          140.00  \n",
       "75%          265.10  \n",
       "max         1416.24  "
      ]
     },
     "execution_count": 43,
     "metadata": {},
     "output_type": "execute_result"
    }
   ],
   "source": [
    "# Remember our original data\n",
    "\n",
    "df.describe().round(2)"
   ]
  },
  {
   "cell_type": "markdown",
   "metadata": {
    "id": "ljRWLlWXOUOg"
   },
   "source": [
    "### **MinMax Scaling**\n",
    "\n",
    "Transforms values to be between [0,1]\n",
    "\n",
    "$$\n",
    "x' = \\frac{x - min(X)}{max(X) - min(X)}\n",
    "$$\n",
    "\n",
    "<br>\n",
    "<br>\n",
    "\n",
    "where:\n",
    "- x$ is an original value\n",
    "- $x'$ is the normalized value\n",
    "\n",
    "https://scikit-learn.org/stable/modules/generated/sklearn.preprocessing.MinMaxScaler.html"
   ]
  },
  {
   "cell_type": "code",
   "execution_count": 44,
   "metadata": {
    "id": "ZGv_DMYuM57c"
   },
   "outputs": [
    {
     "data": {
      "application/vnd.microsoft.datawrangler.viewer.v0+json": {
       "columns": [
        {
         "name": "index",
         "rawType": "int64",
         "type": "integer"
        },
        {
         "name": "Age",
         "rawType": "int64",
         "type": "integer"
        }
       ],
       "ref": "68aef1e1-fb9b-4110-a317-50939bfc35b7",
       "rows": [
        [
         "0",
         "14"
        ],
        [
         "1",
         "24"
        ],
        [
         "2",
         "22"
        ],
        [
         "3",
         "18"
        ],
        [
         "4",
         "18"
        ],
        [
         "5",
         "26"
        ],
        [
         "6",
         "11"
        ],
        [
         "7",
         "23"
        ],
        [
         "8",
         "13"
        ],
        [
         "9",
         "12"
        ]
       ],
       "shape": {
        "columns": 1,
        "rows": 10
       }
      },
      "text/html": [
       "<div>\n",
       "<style scoped>\n",
       "    .dataframe tbody tr th:only-of-type {\n",
       "        vertical-align: middle;\n",
       "    }\n",
       "\n",
       "    .dataframe tbody tr th {\n",
       "        vertical-align: top;\n",
       "    }\n",
       "\n",
       "    .dataframe thead th {\n",
       "        text-align: right;\n",
       "    }\n",
       "</style>\n",
       "<table border=\"1\" class=\"dataframe\">\n",
       "  <thead>\n",
       "    <tr style=\"text-align: right;\">\n",
       "      <th></th>\n",
       "      <th>Age</th>\n",
       "    </tr>\n",
       "  </thead>\n",
       "  <tbody>\n",
       "    <tr>\n",
       "      <th>0</th>\n",
       "      <td>14</td>\n",
       "    </tr>\n",
       "    <tr>\n",
       "      <th>1</th>\n",
       "      <td>24</td>\n",
       "    </tr>\n",
       "    <tr>\n",
       "      <th>2</th>\n",
       "      <td>22</td>\n",
       "    </tr>\n",
       "    <tr>\n",
       "      <th>3</th>\n",
       "      <td>18</td>\n",
       "    </tr>\n",
       "    <tr>\n",
       "      <th>4</th>\n",
       "      <td>18</td>\n",
       "    </tr>\n",
       "    <tr>\n",
       "      <th>5</th>\n",
       "      <td>26</td>\n",
       "    </tr>\n",
       "    <tr>\n",
       "      <th>6</th>\n",
       "      <td>11</td>\n",
       "    </tr>\n",
       "    <tr>\n",
       "      <th>7</th>\n",
       "      <td>23</td>\n",
       "    </tr>\n",
       "    <tr>\n",
       "      <th>8</th>\n",
       "      <td>13</td>\n",
       "    </tr>\n",
       "    <tr>\n",
       "      <th>9</th>\n",
       "      <td>12</td>\n",
       "    </tr>\n",
       "  </tbody>\n",
       "</table>\n",
       "</div>"
      ],
      "text/plain": [
       "   Age\n",
       "0   14\n",
       "1   24\n",
       "2   22\n",
       "3   18\n",
       "4   18\n",
       "5   26\n",
       "6   11\n",
       "7   23\n",
       "8   13\n",
       "9   12"
      ]
     },
     "execution_count": 44,
     "metadata": {},
     "output_type": "execute_result"
    }
   ],
   "source": [
    "## Let's look at an example:\n",
    "\n",
    "demo_ages = pd.DataFrame({\"Age\": [14, 24, 22, 18, 18, 26, 11, 23, 13, 12]})\n",
    "demo_ages"
   ]
  },
  {
   "cell_type": "code",
   "execution_count": 45,
   "metadata": {
    "id": "BqaegyH4OH6U"
   },
   "outputs": [
    {
     "data": {
      "application/vnd.microsoft.datawrangler.viewer.v0+json": {
       "columns": [
        {
         "name": "index",
         "rawType": "int64",
         "type": "integer"
        },
        {
         "name": "Age",
         "rawType": "int64",
         "type": "integer"
        }
       ],
       "ref": "4bf56ef6-d916-4864-9873-802103cff639",
       "rows": [
        [
         "0",
         "14"
        ],
        [
         "1",
         "24"
        ],
        [
         "2",
         "22"
        ],
        [
         "3",
         "18"
        ],
        [
         "4",
         "18"
        ],
        [
         "5",
         "26"
        ],
        [
         "6",
         "11"
        ],
        [
         "7",
         "23"
        ],
        [
         "8",
         "13"
        ],
        [
         "9",
         "12"
        ]
       ],
       "shape": {
        "columns": 1,
        "rows": 10
       }
      },
      "text/html": [
       "<div>\n",
       "<style scoped>\n",
       "    .dataframe tbody tr th:only-of-type {\n",
       "        vertical-align: middle;\n",
       "    }\n",
       "\n",
       "    .dataframe tbody tr th {\n",
       "        vertical-align: top;\n",
       "    }\n",
       "\n",
       "    .dataframe thead th {\n",
       "        text-align: right;\n",
       "    }\n",
       "</style>\n",
       "<table border=\"1\" class=\"dataframe\">\n",
       "  <thead>\n",
       "    <tr style=\"text-align: right;\">\n",
       "      <th></th>\n",
       "      <th>Age</th>\n",
       "    </tr>\n",
       "  </thead>\n",
       "  <tbody>\n",
       "    <tr>\n",
       "      <th>0</th>\n",
       "      <td>14</td>\n",
       "    </tr>\n",
       "    <tr>\n",
       "      <th>1</th>\n",
       "      <td>24</td>\n",
       "    </tr>\n",
       "    <tr>\n",
       "      <th>2</th>\n",
       "      <td>22</td>\n",
       "    </tr>\n",
       "    <tr>\n",
       "      <th>3</th>\n",
       "      <td>18</td>\n",
       "    </tr>\n",
       "    <tr>\n",
       "      <th>4</th>\n",
       "      <td>18</td>\n",
       "    </tr>\n",
       "    <tr>\n",
       "      <th>5</th>\n",
       "      <td>26</td>\n",
       "    </tr>\n",
       "    <tr>\n",
       "      <th>6</th>\n",
       "      <td>11</td>\n",
       "    </tr>\n",
       "    <tr>\n",
       "      <th>7</th>\n",
       "      <td>23</td>\n",
       "    </tr>\n",
       "    <tr>\n",
       "      <th>8</th>\n",
       "      <td>13</td>\n",
       "    </tr>\n",
       "    <tr>\n",
       "      <th>9</th>\n",
       "      <td>12</td>\n",
       "    </tr>\n",
       "  </tbody>\n",
       "</table>\n",
       "</div>"
      ],
      "text/plain": [
       "   Age\n",
       "0   14\n",
       "1   24\n",
       "2   22\n",
       "3   18\n",
       "4   18\n",
       "5   26\n",
       "6   11\n",
       "7   23\n",
       "8   13\n",
       "9   12"
      ]
     },
     "execution_count": 45,
     "metadata": {},
     "output_type": "execute_result"
    }
   ],
   "source": [
    "\n",
    "# How to do this with Python/Pandas?\n",
    "#  ( demo_ages - min(demo_ages) ) \n",
    "# --------------------------------- \n",
    "#  max(demo_ages) - min(demo_ages)\n",
    "\n",
    "demo_ages\n"
   ]
  },
  {
   "cell_type": "markdown",
   "metadata": {},
   "source": [
    "#### Exercise `1`: Scale the `age` column with MinMax "
   ]
  },
  {
   "cell_type": "code",
   "execution_count": 46,
   "metadata": {},
   "outputs": [],
   "source": [
    "min_age = demo_ages[\"Age\"] # finish this line\n",
    "max_age = demo_ages[\"Age\"] # finish this line\n",
    "\n",
    "mm_age = None # finish this line\n"
   ]
  },
  {
   "cell_type": "markdown",
   "metadata": {
    "id": "A7HQkHP-PtjW"
   },
   "source": [
    "(This is not showing all rows)\n",
    "\n",
    "\n",
    "Age (Orig) | Formula        | Result\n",
    "-----------|----------------|-------\n",
    "14         | (14 - 11) / 15 | 0.2\n",
    "24         | (24 - 11) / 15 | 0.86666667\n",
    "26         | (26 - 11) / 15 | 1\n",
    "11         | (11 - 11) / 15 | 0\n",
    "\n",
    "\n",
    "\n",
    "\n"
   ]
  },
  {
   "cell_type": "markdown",
   "metadata": {},
   "source": [
    "#### Exercise `2`: Use MinMaxScaler from sklearn.preprocessing"
   ]
  },
  {
   "cell_type": "code",
   "execution_count": 83,
   "metadata": {
    "id": "1qpW1aEnQ2BU"
   },
   "outputs": [
    {
     "data": {
      "application/vnd.microsoft.datawrangler.viewer.v0+json": {
       "columns": [
        {
         "name": "index",
         "rawType": "int64",
         "type": "integer"
        },
        {
         "name": "Age",
         "rawType": "int64",
         "type": "integer"
        },
        {
         "name": "Age_minmax",
         "rawType": "object",
         "type": "unknown"
        },
        {
         "name": "Age_standard",
         "rawType": "float64",
         "type": "float"
        }
       ],
       "ref": "65a6795a-e88f-4655-b744-a3a0829bd5d2",
       "rows": [
        [
         "0",
         "14",
         "MinMaxScaler()",
         "-0.7936144555663834"
        ],
        [
         "1",
         "24",
         "MinMaxScaler()",
         "1.1420305580101608"
        ],
        [
         "2",
         "22",
         "MinMaxScaler()",
         "0.7549015552948519"
        ],
        [
         "3",
         "18",
         "MinMaxScaler()",
         "-0.01935645013576572"
        ],
        [
         "4",
         "18",
         "MinMaxScaler()",
         "-0.01935645013576572"
        ],
        [
         "5",
         "26",
         "MinMaxScaler()",
         "1.5291595607254698"
        ],
        [
         "6",
         "11",
         "MinMaxScaler()",
         "-1.3743079596393466"
        ],
        [
         "7",
         "23",
         "MinMaxScaler()",
         "0.9484660566525064"
        ],
        [
         "8",
         "13",
         "MinMaxScaler()",
         "-0.9871789569240378"
        ],
        [
         "9",
         "12",
         "MinMaxScaler()",
         "-1.1807434582816922"
        ]
       ],
       "shape": {
        "columns": 3,
        "rows": 10
       }
      },
      "text/html": [
       "<div>\n",
       "<style scoped>\n",
       "    .dataframe tbody tr th:only-of-type {\n",
       "        vertical-align: middle;\n",
       "    }\n",
       "\n",
       "    .dataframe tbody tr th {\n",
       "        vertical-align: top;\n",
       "    }\n",
       "\n",
       "    .dataframe thead th {\n",
       "        text-align: right;\n",
       "    }\n",
       "</style>\n",
       "<table border=\"1\" class=\"dataframe\">\n",
       "  <thead>\n",
       "    <tr style=\"text-align: right;\">\n",
       "      <th></th>\n",
       "      <th>Age</th>\n",
       "      <th>Age_minmax</th>\n",
       "      <th>Age_standard</th>\n",
       "    </tr>\n",
       "  </thead>\n",
       "  <tbody>\n",
       "    <tr>\n",
       "      <th>0</th>\n",
       "      <td>14</td>\n",
       "      <td>MinMaxScaler()</td>\n",
       "      <td>-0.793614</td>\n",
       "    </tr>\n",
       "    <tr>\n",
       "      <th>1</th>\n",
       "      <td>24</td>\n",
       "      <td>MinMaxScaler()</td>\n",
       "      <td>1.142031</td>\n",
       "    </tr>\n",
       "    <tr>\n",
       "      <th>2</th>\n",
       "      <td>22</td>\n",
       "      <td>MinMaxScaler()</td>\n",
       "      <td>0.754902</td>\n",
       "    </tr>\n",
       "    <tr>\n",
       "      <th>3</th>\n",
       "      <td>18</td>\n",
       "      <td>MinMaxScaler()</td>\n",
       "      <td>-0.019356</td>\n",
       "    </tr>\n",
       "    <tr>\n",
       "      <th>4</th>\n",
       "      <td>18</td>\n",
       "      <td>MinMaxScaler()</td>\n",
       "      <td>-0.019356</td>\n",
       "    </tr>\n",
       "    <tr>\n",
       "      <th>5</th>\n",
       "      <td>26</td>\n",
       "      <td>MinMaxScaler()</td>\n",
       "      <td>1.529160</td>\n",
       "    </tr>\n",
       "    <tr>\n",
       "      <th>6</th>\n",
       "      <td>11</td>\n",
       "      <td>MinMaxScaler()</td>\n",
       "      <td>-1.374308</td>\n",
       "    </tr>\n",
       "    <tr>\n",
       "      <th>7</th>\n",
       "      <td>23</td>\n",
       "      <td>MinMaxScaler()</td>\n",
       "      <td>0.948466</td>\n",
       "    </tr>\n",
       "    <tr>\n",
       "      <th>8</th>\n",
       "      <td>13</td>\n",
       "      <td>MinMaxScaler()</td>\n",
       "      <td>-0.987179</td>\n",
       "    </tr>\n",
       "    <tr>\n",
       "      <th>9</th>\n",
       "      <td>12</td>\n",
       "      <td>MinMaxScaler()</td>\n",
       "      <td>-1.180743</td>\n",
       "    </tr>\n",
       "  </tbody>\n",
       "</table>\n",
       "</div>"
      ],
      "text/plain": [
       "   Age      Age_minmax  Age_standard\n",
       "0   14  MinMaxScaler()     -0.793614\n",
       "1   24  MinMaxScaler()      1.142031\n",
       "2   22  MinMaxScaler()      0.754902\n",
       "3   18  MinMaxScaler()     -0.019356\n",
       "4   18  MinMaxScaler()     -0.019356\n",
       "5   26  MinMaxScaler()      1.529160\n",
       "6   11  MinMaxScaler()     -1.374308\n",
       "7   23  MinMaxScaler()      0.948466\n",
       "8   13  MinMaxScaler()     -0.987179\n",
       "9   12  MinMaxScaler()     -1.180743"
      ]
     },
     "execution_count": 83,
     "metadata": {},
     "output_type": "execute_result"
    }
   ],
   "source": [
    "# sklearn makes it even easier:\n",
    "\n",
    "demo_ages[\"Age_minmax\"] = MinMaxScaler()# finish this line\n",
    "\n",
    "demo_ages"
   ]
  },
  {
   "cell_type": "markdown",
   "metadata": {},
   "source": [
    "#### Exercise `3`: Apply MinMaxScaler to the dataset"
   ]
  },
  {
   "cell_type": "code",
   "execution_count": 84,
   "metadata": {},
   "outputs": [],
   "source": [
    "df_minmax = df.copy()"
   ]
  },
  {
   "cell_type": "code",
   "execution_count": 85,
   "metadata": {},
   "outputs": [],
   "source": [
    "# Use MinMaxScaler to scale the data\n",
    "mm_scaler = MinMaxScaler()\n",
    "mm_scaled_feat = None # finish this line\n",
    "mm_scaled_feat"
   ]
  },
  {
   "cell_type": "code",
   "execution_count": 86,
   "metadata": {},
   "outputs": [],
   "source": [
    "# See what the fit method is doing (notice the trailing underscore):\n",
    "# print(\"Parameters fitted:\\n\")\n",
    "# pd.DataFrame([mm_scaler.data_min_, mm_scaler.data_max_], columns=metric_features, index=['min','max'])"
   ]
  },
  {
   "cell_type": "code",
   "execution_count": 87,
   "metadata": {},
   "outputs": [],
   "source": [
    "## Replace original metric_features values with mm_scaled_feat values\n",
    "df_minmax[metric_features] = mm_scaled_feat"
   ]
  },
  {
   "cell_type": "code",
   "execution_count": 88,
   "metadata": {},
   "outputs": [
    {
     "data": {
      "application/vnd.microsoft.datawrangler.viewer.v0+json": {
       "columns": [
        {
         "name": "index",
         "rawType": "object",
         "type": "string"
        },
        {
         "name": "count",
         "rawType": "object",
         "type": "unknown"
        },
        {
         "name": "unique",
         "rawType": "object",
         "type": "unknown"
        },
        {
         "name": "top",
         "rawType": "object",
         "type": "unknown"
        },
        {
         "name": "freq",
         "rawType": "object",
         "type": "unknown"
        }
       ],
       "ref": "dbb74575-8a7a-4234-822f-7928149f5aa0",
       "rows": [
        [
         "income",
         "0",
         "0",
         null,
         null
        ],
        [
         "frq",
         "0",
         "0",
         null,
         null
        ],
        [
         "rcn",
         "0",
         "0",
         null,
         null
        ],
        [
         "clothes",
         "0",
         "0",
         null,
         null
        ],
        [
         "kitchen",
         "0",
         "0",
         null,
         null
        ],
        [
         "small_appliances",
         "0",
         "0",
         null,
         null
        ],
        [
         "toys",
         "0",
         "0",
         null,
         null
        ],
        [
         "house_keeping",
         "0",
         "0",
         null,
         null
        ],
        [
         "per_net_purchase",
         "0",
         "0",
         null,
         null
        ],
        [
         "spent_online",
         "0",
         "0",
         null,
         null
        ]
       ],
       "shape": {
        "columns": 4,
        "rows": 10
       }
      },
      "text/html": [
       "<div>\n",
       "<style scoped>\n",
       "    .dataframe tbody tr th:only-of-type {\n",
       "        vertical-align: middle;\n",
       "    }\n",
       "\n",
       "    .dataframe tbody tr th {\n",
       "        vertical-align: top;\n",
       "    }\n",
       "\n",
       "    .dataframe thead th {\n",
       "        text-align: right;\n",
       "    }\n",
       "</style>\n",
       "<table border=\"1\" class=\"dataframe\">\n",
       "  <thead>\n",
       "    <tr style=\"text-align: right;\">\n",
       "      <th></th>\n",
       "      <th>count</th>\n",
       "      <th>unique</th>\n",
       "      <th>top</th>\n",
       "      <th>freq</th>\n",
       "    </tr>\n",
       "  </thead>\n",
       "  <tbody>\n",
       "    <tr>\n",
       "      <th>income</th>\n",
       "      <td>0</td>\n",
       "      <td>0</td>\n",
       "      <td>NaN</td>\n",
       "      <td>NaN</td>\n",
       "    </tr>\n",
       "    <tr>\n",
       "      <th>frq</th>\n",
       "      <td>0</td>\n",
       "      <td>0</td>\n",
       "      <td>NaN</td>\n",
       "      <td>NaN</td>\n",
       "    </tr>\n",
       "    <tr>\n",
       "      <th>rcn</th>\n",
       "      <td>0</td>\n",
       "      <td>0</td>\n",
       "      <td>NaN</td>\n",
       "      <td>NaN</td>\n",
       "    </tr>\n",
       "    <tr>\n",
       "      <th>clothes</th>\n",
       "      <td>0</td>\n",
       "      <td>0</td>\n",
       "      <td>NaN</td>\n",
       "      <td>NaN</td>\n",
       "    </tr>\n",
       "    <tr>\n",
       "      <th>kitchen</th>\n",
       "      <td>0</td>\n",
       "      <td>0</td>\n",
       "      <td>NaN</td>\n",
       "      <td>NaN</td>\n",
       "    </tr>\n",
       "    <tr>\n",
       "      <th>small_appliances</th>\n",
       "      <td>0</td>\n",
       "      <td>0</td>\n",
       "      <td>NaN</td>\n",
       "      <td>NaN</td>\n",
       "    </tr>\n",
       "    <tr>\n",
       "      <th>toys</th>\n",
       "      <td>0</td>\n",
       "      <td>0</td>\n",
       "      <td>NaN</td>\n",
       "      <td>NaN</td>\n",
       "    </tr>\n",
       "    <tr>\n",
       "      <th>house_keeping</th>\n",
       "      <td>0</td>\n",
       "      <td>0</td>\n",
       "      <td>NaN</td>\n",
       "      <td>NaN</td>\n",
       "    </tr>\n",
       "    <tr>\n",
       "      <th>per_net_purchase</th>\n",
       "      <td>0</td>\n",
       "      <td>0</td>\n",
       "      <td>NaN</td>\n",
       "      <td>NaN</td>\n",
       "    </tr>\n",
       "    <tr>\n",
       "      <th>spent_online</th>\n",
       "      <td>0</td>\n",
       "      <td>0</td>\n",
       "      <td>NaN</td>\n",
       "      <td>NaN</td>\n",
       "    </tr>\n",
       "  </tbody>\n",
       "</table>\n",
       "</div>"
      ],
      "text/plain": [
       "                 count unique  top freq\n",
       "income               0      0  NaN  NaN\n",
       "frq                  0      0  NaN  NaN\n",
       "rcn                  0      0  NaN  NaN\n",
       "clothes              0      0  NaN  NaN\n",
       "kitchen              0      0  NaN  NaN\n",
       "small_appliances     0      0  NaN  NaN\n",
       "toys                 0      0  NaN  NaN\n",
       "house_keeping        0      0  NaN  NaN\n",
       "per_net_purchase     0      0  NaN  NaN\n",
       "spent_online         0      0  NaN  NaN"
      ]
     },
     "execution_count": 88,
     "metadata": {},
     "output_type": "execute_result"
    }
   ],
   "source": [
    "# Checking max and min of minmaxed variables\n",
    "df_minmax[metric_features].describe().T.round(2)"
   ]
  },
  {
   "cell_type": "code",
   "execution_count": 89,
   "metadata": {},
   "outputs": [
    {
     "data": {
      "application/vnd.microsoft.datawrangler.viewer.v0+json": {
       "columns": [
        {
         "name": "index",
         "rawType": "int64",
         "type": "integer"
        },
        {
         "name": "income",
         "rawType": "object",
         "type": "unknown"
        },
        {
         "name": "frq",
         "rawType": "object",
         "type": "unknown"
        },
        {
         "name": "rcn",
         "rawType": "object",
         "type": "unknown"
        },
        {
         "name": "clothes",
         "rawType": "object",
         "type": "unknown"
        },
        {
         "name": "kitchen",
         "rawType": "object",
         "type": "unknown"
        },
        {
         "name": "small_appliances",
         "rawType": "object",
         "type": "unknown"
        },
        {
         "name": "toys",
         "rawType": "object",
         "type": "unknown"
        },
        {
         "name": "house_keeping",
         "rawType": "object",
         "type": "unknown"
        },
        {
         "name": "per_net_purchase",
         "rawType": "object",
         "type": "unknown"
        },
        {
         "name": "spent_online",
         "rawType": "object",
         "type": "unknown"
        }
       ],
       "ref": "88ae0fe4-c342-4082-9c82-24cc07e29a4d",
       "rows": [
        [
         "0",
         null,
         null,
         null,
         null,
         null,
         null,
         null,
         null,
         null,
         null
        ],
        [
         "1",
         null,
         null,
         null,
         null,
         null,
         null,
         null,
         null,
         null,
         null
        ],
        [
         "2",
         null,
         null,
         null,
         null,
         null,
         null,
         null,
         null,
         null,
         null
        ],
        [
         "3",
         null,
         null,
         null,
         null,
         null,
         null,
         null,
         null,
         null,
         null
        ],
        [
         "4",
         null,
         null,
         null,
         null,
         null,
         null,
         null,
         null,
         null,
         null
        ]
       ],
       "shape": {
        "columns": 10,
        "rows": 5
       }
      },
      "text/html": [
       "<div>\n",
       "<style scoped>\n",
       "    .dataframe tbody tr th:only-of-type {\n",
       "        vertical-align: middle;\n",
       "    }\n",
       "\n",
       "    .dataframe tbody tr th {\n",
       "        vertical-align: top;\n",
       "    }\n",
       "\n",
       "    .dataframe thead th {\n",
       "        text-align: right;\n",
       "    }\n",
       "</style>\n",
       "<table border=\"1\" class=\"dataframe\">\n",
       "  <thead>\n",
       "    <tr style=\"text-align: right;\">\n",
       "      <th></th>\n",
       "      <th>income</th>\n",
       "      <th>frq</th>\n",
       "      <th>rcn</th>\n",
       "      <th>clothes</th>\n",
       "      <th>kitchen</th>\n",
       "      <th>small_appliances</th>\n",
       "      <th>toys</th>\n",
       "      <th>house_keeping</th>\n",
       "      <th>per_net_purchase</th>\n",
       "      <th>spent_online</th>\n",
       "    </tr>\n",
       "  </thead>\n",
       "  <tbody>\n",
       "    <tr>\n",
       "      <th>0</th>\n",
       "      <td>None</td>\n",
       "      <td>None</td>\n",
       "      <td>None</td>\n",
       "      <td>None</td>\n",
       "      <td>None</td>\n",
       "      <td>None</td>\n",
       "      <td>None</td>\n",
       "      <td>None</td>\n",
       "      <td>None</td>\n",
       "      <td>None</td>\n",
       "    </tr>\n",
       "    <tr>\n",
       "      <th>1</th>\n",
       "      <td>None</td>\n",
       "      <td>None</td>\n",
       "      <td>None</td>\n",
       "      <td>None</td>\n",
       "      <td>None</td>\n",
       "      <td>None</td>\n",
       "      <td>None</td>\n",
       "      <td>None</td>\n",
       "      <td>None</td>\n",
       "      <td>None</td>\n",
       "    </tr>\n",
       "    <tr>\n",
       "      <th>2</th>\n",
       "      <td>None</td>\n",
       "      <td>None</td>\n",
       "      <td>None</td>\n",
       "      <td>None</td>\n",
       "      <td>None</td>\n",
       "      <td>None</td>\n",
       "      <td>None</td>\n",
       "      <td>None</td>\n",
       "      <td>None</td>\n",
       "      <td>None</td>\n",
       "    </tr>\n",
       "    <tr>\n",
       "      <th>3</th>\n",
       "      <td>None</td>\n",
       "      <td>None</td>\n",
       "      <td>None</td>\n",
       "      <td>None</td>\n",
       "      <td>None</td>\n",
       "      <td>None</td>\n",
       "      <td>None</td>\n",
       "      <td>None</td>\n",
       "      <td>None</td>\n",
       "      <td>None</td>\n",
       "    </tr>\n",
       "    <tr>\n",
       "      <th>4</th>\n",
       "      <td>None</td>\n",
       "      <td>None</td>\n",
       "      <td>None</td>\n",
       "      <td>None</td>\n",
       "      <td>None</td>\n",
       "      <td>None</td>\n",
       "      <td>None</td>\n",
       "      <td>None</td>\n",
       "      <td>None</td>\n",
       "      <td>None</td>\n",
       "    </tr>\n",
       "  </tbody>\n",
       "</table>\n",
       "</div>"
      ],
      "text/plain": [
       "  income   frq   rcn clothes kitchen small_appliances  toys house_keeping  \\\n",
       "0   None  None  None    None    None             None  None          None   \n",
       "1   None  None  None    None    None             None  None          None   \n",
       "2   None  None  None    None    None             None  None          None   \n",
       "3   None  None  None    None    None             None  None          None   \n",
       "4   None  None  None    None    None             None  None          None   \n",
       "\n",
       "  per_net_purchase spent_online  \n",
       "0             None         None  \n",
       "1             None         None  \n",
       "2             None         None  \n",
       "3             None         None  \n",
       "4             None         None  "
      ]
     },
     "execution_count": 89,
     "metadata": {},
     "output_type": "execute_result"
    }
   ],
   "source": [
    "df_minmax[metric_features].head()"
   ]
  },
  {
   "cell_type": "code",
   "execution_count": 90,
   "metadata": {},
   "outputs": [
    {
     "data": {
      "application/vnd.microsoft.datawrangler.viewer.v0+json": {
       "columns": [
        {
         "name": "index",
         "rawType": "int64",
         "type": "integer"
        },
        {
         "name": "income",
         "rawType": "float64",
         "type": "float"
        },
        {
         "name": "frq",
         "rawType": "int64",
         "type": "integer"
        },
        {
         "name": "rcn",
         "rawType": "int64",
         "type": "integer"
        },
        {
         "name": "clothes",
         "rawType": "int64",
         "type": "integer"
        },
        {
         "name": "kitchen",
         "rawType": "int64",
         "type": "integer"
        },
        {
         "name": "small_appliances",
         "rawType": "int64",
         "type": "integer"
        },
        {
         "name": "toys",
         "rawType": "int64",
         "type": "integer"
        },
        {
         "name": "house_keeping",
         "rawType": "int64",
         "type": "integer"
        },
        {
         "name": "per_net_purchase",
         "rawType": "int64",
         "type": "integer"
        },
        {
         "name": "spent_online",
         "rawType": "float64",
         "type": "float"
        }
       ],
       "ref": "8fc28f81-954b-4093-a7d6-884b25693a59",
       "rows": [
        [
         "0",
         "90782.0",
         "33",
         "66",
         "37",
         "5",
         "44",
         "10",
         "3",
         "19",
         "266.38"
        ],
        [
         "1",
         "113023.0",
         "32",
         "6",
         "55",
         "1",
         "38",
         "4",
         "2",
         "9",
         "138.33"
        ],
        [
         "2",
         "28344.0",
         "11",
         "69",
         "32",
         "19",
         "24",
         "1",
         "24",
         "59",
         "25.96"
        ],
        [
         "3",
         "93571.0",
         "26",
         "10",
         "60",
         "10",
         "19",
         "6",
         "5",
         "35",
         "310.8"
        ],
        [
         "4",
         "91852.0",
         "31",
         "26",
         "59",
         "5",
         "28",
         "4",
         "4",
         "34",
         "386.92"
        ]
       ],
       "shape": {
        "columns": 10,
        "rows": 5
       }
      },
      "text/html": [
       "<div>\n",
       "<style scoped>\n",
       "    .dataframe tbody tr th:only-of-type {\n",
       "        vertical-align: middle;\n",
       "    }\n",
       "\n",
       "    .dataframe tbody tr th {\n",
       "        vertical-align: top;\n",
       "    }\n",
       "\n",
       "    .dataframe thead th {\n",
       "        text-align: right;\n",
       "    }\n",
       "</style>\n",
       "<table border=\"1\" class=\"dataframe\">\n",
       "  <thead>\n",
       "    <tr style=\"text-align: right;\">\n",
       "      <th></th>\n",
       "      <th>income</th>\n",
       "      <th>frq</th>\n",
       "      <th>rcn</th>\n",
       "      <th>clothes</th>\n",
       "      <th>kitchen</th>\n",
       "      <th>small_appliances</th>\n",
       "      <th>toys</th>\n",
       "      <th>house_keeping</th>\n",
       "      <th>per_net_purchase</th>\n",
       "      <th>spent_online</th>\n",
       "    </tr>\n",
       "  </thead>\n",
       "  <tbody>\n",
       "    <tr>\n",
       "      <th>0</th>\n",
       "      <td>90782.0</td>\n",
       "      <td>33</td>\n",
       "      <td>66</td>\n",
       "      <td>37</td>\n",
       "      <td>5</td>\n",
       "      <td>44</td>\n",
       "      <td>10</td>\n",
       "      <td>3</td>\n",
       "      <td>19</td>\n",
       "      <td>266.38</td>\n",
       "    </tr>\n",
       "    <tr>\n",
       "      <th>1</th>\n",
       "      <td>113023.0</td>\n",
       "      <td>32</td>\n",
       "      <td>6</td>\n",
       "      <td>55</td>\n",
       "      <td>1</td>\n",
       "      <td>38</td>\n",
       "      <td>4</td>\n",
       "      <td>2</td>\n",
       "      <td>9</td>\n",
       "      <td>138.33</td>\n",
       "    </tr>\n",
       "    <tr>\n",
       "      <th>2</th>\n",
       "      <td>28344.0</td>\n",
       "      <td>11</td>\n",
       "      <td>69</td>\n",
       "      <td>32</td>\n",
       "      <td>19</td>\n",
       "      <td>24</td>\n",
       "      <td>1</td>\n",
       "      <td>24</td>\n",
       "      <td>59</td>\n",
       "      <td>25.96</td>\n",
       "    </tr>\n",
       "    <tr>\n",
       "      <th>3</th>\n",
       "      <td>93571.0</td>\n",
       "      <td>26</td>\n",
       "      <td>10</td>\n",
       "      <td>60</td>\n",
       "      <td>10</td>\n",
       "      <td>19</td>\n",
       "      <td>6</td>\n",
       "      <td>5</td>\n",
       "      <td>35</td>\n",
       "      <td>310.80</td>\n",
       "    </tr>\n",
       "    <tr>\n",
       "      <th>4</th>\n",
       "      <td>91852.0</td>\n",
       "      <td>31</td>\n",
       "      <td>26</td>\n",
       "      <td>59</td>\n",
       "      <td>5</td>\n",
       "      <td>28</td>\n",
       "      <td>4</td>\n",
       "      <td>4</td>\n",
       "      <td>34</td>\n",
       "      <td>386.92</td>\n",
       "    </tr>\n",
       "  </tbody>\n",
       "</table>\n",
       "</div>"
      ],
      "text/plain": [
       "     income  frq  rcn  clothes  kitchen  small_appliances  toys  \\\n",
       "0   90782.0   33   66       37        5                44    10   \n",
       "1  113023.0   32    6       55        1                38     4   \n",
       "2   28344.0   11   69       32       19                24     1   \n",
       "3   93571.0   26   10       60       10                19     6   \n",
       "4   91852.0   31   26       59        5                28     4   \n",
       "\n",
       "   house_keeping  per_net_purchase  spent_online  \n",
       "0              3                19        266.38  \n",
       "1              2                 9        138.33  \n",
       "2             24                59         25.96  \n",
       "3              5                35        310.80  \n",
       "4              4                34        386.92  "
      ]
     },
     "execution_count": 90,
     "metadata": {},
     "output_type": "execute_result"
    }
   ],
   "source": [
    "df[metric_features].head()"
   ]
  },
  {
   "cell_type": "markdown",
   "metadata": {
    "id": "46jI-WiEOW1s"
   },
   "source": [
    "### **Standard Scaling**\n",
    "\n",
    "AKA Z-Score Scaling\n",
    "\n",
    "Standardize features by removing the mean and scaling to unit variance.\n",
    "\n",
    "The standard score of a sample x is calculated as:\n",
    "\n",
    "$$\n",
    "z = \\frac{x - \\mu}{\\sigma}\n",
    "$$\n",
    "\n",
    "where:\n",
    "\n",
    "- $u$ is the mean of the training samples,\n",
    "- $\\sigma$ is the standard deviation of the training samples\n",
    "\n",
    "The standard deviation $\\sigma$ is given by:\n",
    "\n",
    "$$\n",
    "\\sigma = \\sqrt{\\frac{\\sum_{i=1}^{N} (x_i - \\bar{x})^2}{N - \\text{ddof}}}\n",
    "$$\n",
    "\n",
    "where:\n",
    "\n",
    "- $x_i$ = each data point  \n",
    "- $\\bar{x}$ = mean of the data  \n",
    "- $N$ = number of observations  \n",
    "- $\\text{ddof}$ = delta degrees of freedom  \n",
    "    - ddof = 0 in population \n",
    "    - ddof = 1 in sample\n",
    "\n",
    "https://scikit-learn.org/stable/modules/generated/sklearn.preprocessing.StandardScaler.html"
   ]
  },
  {
   "cell_type": "markdown",
   "metadata": {},
   "source": [
    "#### `Intuition exercise`\n",
    "\n",
    "If a original feature had:\n",
    "\n",
    "- Mean (𝜇) = 40\n",
    "- Standard deviation (𝜎) = 10\n",
    "\n",
    "Your data was [30, 40, 50]\n",
    "\n",
    "What will be the values scaled with z-score ? "
   ]
  },
  {
   "cell_type": "code",
   "execution_count": 56,
   "metadata": {
    "id": "weILbQL5SGIF"
   },
   "outputs": [
    {
     "data": {
      "application/vnd.microsoft.datawrangler.viewer.v0+json": {
       "columns": [
        {
         "name": "index",
         "rawType": "int64",
         "type": "integer"
        },
        {
         "name": "Age",
         "rawType": "int64",
         "type": "integer"
        },
        {
         "name": "Age_minmax",
         "rawType": "object",
         "type": "unknown"
        }
       ],
       "ref": "701bbd53-636e-4553-be2e-87f05ff15274",
       "rows": [
        [
         "0",
         "14",
         "MinMaxScaler()"
        ],
        [
         "1",
         "24",
         "MinMaxScaler()"
        ],
        [
         "2",
         "22",
         "MinMaxScaler()"
        ],
        [
         "3",
         "18",
         "MinMaxScaler()"
        ],
        [
         "4",
         "18",
         "MinMaxScaler()"
        ],
        [
         "5",
         "26",
         "MinMaxScaler()"
        ],
        [
         "6",
         "11",
         "MinMaxScaler()"
        ],
        [
         "7",
         "23",
         "MinMaxScaler()"
        ],
        [
         "8",
         "13",
         "MinMaxScaler()"
        ],
        [
         "9",
         "12",
         "MinMaxScaler()"
        ]
       ],
       "shape": {
        "columns": 2,
        "rows": 10
       }
      },
      "text/html": [
       "<div>\n",
       "<style scoped>\n",
       "    .dataframe tbody tr th:only-of-type {\n",
       "        vertical-align: middle;\n",
       "    }\n",
       "\n",
       "    .dataframe tbody tr th {\n",
       "        vertical-align: top;\n",
       "    }\n",
       "\n",
       "    .dataframe thead th {\n",
       "        text-align: right;\n",
       "    }\n",
       "</style>\n",
       "<table border=\"1\" class=\"dataframe\">\n",
       "  <thead>\n",
       "    <tr style=\"text-align: right;\">\n",
       "      <th></th>\n",
       "      <th>Age</th>\n",
       "      <th>Age_minmax</th>\n",
       "    </tr>\n",
       "  </thead>\n",
       "  <tbody>\n",
       "    <tr>\n",
       "      <th>0</th>\n",
       "      <td>14</td>\n",
       "      <td>MinMaxScaler()</td>\n",
       "    </tr>\n",
       "    <tr>\n",
       "      <th>1</th>\n",
       "      <td>24</td>\n",
       "      <td>MinMaxScaler()</td>\n",
       "    </tr>\n",
       "    <tr>\n",
       "      <th>2</th>\n",
       "      <td>22</td>\n",
       "      <td>MinMaxScaler()</td>\n",
       "    </tr>\n",
       "    <tr>\n",
       "      <th>3</th>\n",
       "      <td>18</td>\n",
       "      <td>MinMaxScaler()</td>\n",
       "    </tr>\n",
       "    <tr>\n",
       "      <th>4</th>\n",
       "      <td>18</td>\n",
       "      <td>MinMaxScaler()</td>\n",
       "    </tr>\n",
       "    <tr>\n",
       "      <th>5</th>\n",
       "      <td>26</td>\n",
       "      <td>MinMaxScaler()</td>\n",
       "    </tr>\n",
       "    <tr>\n",
       "      <th>6</th>\n",
       "      <td>11</td>\n",
       "      <td>MinMaxScaler()</td>\n",
       "    </tr>\n",
       "    <tr>\n",
       "      <th>7</th>\n",
       "      <td>23</td>\n",
       "      <td>MinMaxScaler()</td>\n",
       "    </tr>\n",
       "    <tr>\n",
       "      <th>8</th>\n",
       "      <td>13</td>\n",
       "      <td>MinMaxScaler()</td>\n",
       "    </tr>\n",
       "    <tr>\n",
       "      <th>9</th>\n",
       "      <td>12</td>\n",
       "      <td>MinMaxScaler()</td>\n",
       "    </tr>\n",
       "  </tbody>\n",
       "</table>\n",
       "</div>"
      ],
      "text/plain": [
       "   Age      Age_minmax\n",
       "0   14  MinMaxScaler()\n",
       "1   24  MinMaxScaler()\n",
       "2   22  MinMaxScaler()\n",
       "3   18  MinMaxScaler()\n",
       "4   18  MinMaxScaler()\n",
       "5   26  MinMaxScaler()\n",
       "6   11  MinMaxScaler()\n",
       "7   23  MinMaxScaler()\n",
       "8   13  MinMaxScaler()\n",
       "9   12  MinMaxScaler()"
      ]
     },
     "execution_count": 56,
     "metadata": {},
     "output_type": "execute_result"
    }
   ],
   "source": [
    "## Let's see the age demo again\n",
    "\n",
    "demo_ages\n"
   ]
  },
  {
   "cell_type": "code",
   "execution_count": null,
   "metadata": {},
   "outputs": [],
   "source": [
    "## u = mean of age\n",
    "## s = std of age\n",
    "\n",
    "# How to do this in Python/Pandas?\n",
    "# ( demo_ages - mean(demo_ages) )\n",
    "# -------------------------------\n",
    "#        std(demo_ages)"
   ]
  },
  {
   "cell_type": "code",
   "execution_count": 57,
   "metadata": {
    "id": "fr7B4yY8STxp"
   },
   "outputs": [],
   "source": [
    "## u = mean of age\n",
    "## s = std of age\n",
    "\n",
    "mean_age = demo_ages[\"Age\"].mean()\n",
    "std_age  = demo_ages[\"Age\"].std(ddof = 0) # to match sklearn implementation of std\n"
   ]
  },
  {
   "cell_type": "code",
   "execution_count": 58,
   "metadata": {},
   "outputs": [
    {
     "data": {
      "application/vnd.microsoft.datawrangler.viewer.v0+json": {
       "columns": [
        {
         "name": "index",
         "rawType": "int64",
         "type": "integer"
        },
        {
         "name": "Age",
         "rawType": "float64",
         "type": "float"
        }
       ],
       "ref": "bddc4ffa-86ea-4c7a-a7a7-b936e44565ca",
       "rows": [
        [
         "0",
         "-0.7936144555663834"
        ],
        [
         "1",
         "1.1420305580101608"
        ],
        [
         "2",
         "0.7549015552948519"
        ],
        [
         "3",
         "-0.01935645013576572"
        ],
        [
         "4",
         "-0.01935645013576572"
        ],
        [
         "5",
         "1.5291595607254698"
        ],
        [
         "6",
         "-1.3743079596393466"
        ],
        [
         "7",
         "0.9484660566525064"
        ],
        [
         "8",
         "-0.9871789569240378"
        ],
        [
         "9",
         "-1.1807434582816922"
        ]
       ],
       "shape": {
        "columns": 1,
        "rows": 10
       }
      },
      "text/plain": [
       "0   -0.793614\n",
       "1    1.142031\n",
       "2    0.754902\n",
       "3   -0.019356\n",
       "4   -0.019356\n",
       "5    1.529160\n",
       "6   -1.374308\n",
       "7    0.948466\n",
       "8   -0.987179\n",
       "9   -1.180743\n",
       "Name: Age, dtype: float64"
      ]
     },
     "execution_count": 58,
     "metadata": {},
     "output_type": "execute_result"
    }
   ],
   "source": [
    "(demo_ages[\"Age\"] - mean_age) / std_age"
   ]
  },
  {
   "cell_type": "code",
   "execution_count": 59,
   "metadata": {
    "id": "L5kPgsg_Sp5L"
   },
   "outputs": [
    {
     "data": {
      "application/vnd.microsoft.datawrangler.viewer.v0+json": {
       "columns": [
        {
         "name": "index",
         "rawType": "int64",
         "type": "integer"
        },
        {
         "name": "Age",
         "rawType": "int64",
         "type": "integer"
        },
        {
         "name": "Age_minmax",
         "rawType": "object",
         "type": "unknown"
        },
        {
         "name": "Age_standard",
         "rawType": "float64",
         "type": "float"
        }
       ],
       "ref": "17fa15e9-e98b-4ef2-bfae-000687ef69e3",
       "rows": [
        [
         "0",
         "14",
         "MinMaxScaler()",
         "-0.7936144555663834"
        ],
        [
         "1",
         "24",
         "MinMaxScaler()",
         "1.1420305580101608"
        ],
        [
         "2",
         "22",
         "MinMaxScaler()",
         "0.7549015552948519"
        ],
        [
         "3",
         "18",
         "MinMaxScaler()",
         "-0.01935645013576572"
        ],
        [
         "4",
         "18",
         "MinMaxScaler()",
         "-0.01935645013576572"
        ],
        [
         "5",
         "26",
         "MinMaxScaler()",
         "1.5291595607254698"
        ],
        [
         "6",
         "11",
         "MinMaxScaler()",
         "-1.3743079596393466"
        ],
        [
         "7",
         "23",
         "MinMaxScaler()",
         "0.9484660566525064"
        ],
        [
         "8",
         "13",
         "MinMaxScaler()",
         "-0.9871789569240378"
        ],
        [
         "9",
         "12",
         "MinMaxScaler()",
         "-1.1807434582816922"
        ]
       ],
       "shape": {
        "columns": 3,
        "rows": 10
       }
      },
      "text/html": [
       "<div>\n",
       "<style scoped>\n",
       "    .dataframe tbody tr th:only-of-type {\n",
       "        vertical-align: middle;\n",
       "    }\n",
       "\n",
       "    .dataframe tbody tr th {\n",
       "        vertical-align: top;\n",
       "    }\n",
       "\n",
       "    .dataframe thead th {\n",
       "        text-align: right;\n",
       "    }\n",
       "</style>\n",
       "<table border=\"1\" class=\"dataframe\">\n",
       "  <thead>\n",
       "    <tr style=\"text-align: right;\">\n",
       "      <th></th>\n",
       "      <th>Age</th>\n",
       "      <th>Age_minmax</th>\n",
       "      <th>Age_standard</th>\n",
       "    </tr>\n",
       "  </thead>\n",
       "  <tbody>\n",
       "    <tr>\n",
       "      <th>0</th>\n",
       "      <td>14</td>\n",
       "      <td>MinMaxScaler()</td>\n",
       "      <td>-0.793614</td>\n",
       "    </tr>\n",
       "    <tr>\n",
       "      <th>1</th>\n",
       "      <td>24</td>\n",
       "      <td>MinMaxScaler()</td>\n",
       "      <td>1.142031</td>\n",
       "    </tr>\n",
       "    <tr>\n",
       "      <th>2</th>\n",
       "      <td>22</td>\n",
       "      <td>MinMaxScaler()</td>\n",
       "      <td>0.754902</td>\n",
       "    </tr>\n",
       "    <tr>\n",
       "      <th>3</th>\n",
       "      <td>18</td>\n",
       "      <td>MinMaxScaler()</td>\n",
       "      <td>-0.019356</td>\n",
       "    </tr>\n",
       "    <tr>\n",
       "      <th>4</th>\n",
       "      <td>18</td>\n",
       "      <td>MinMaxScaler()</td>\n",
       "      <td>-0.019356</td>\n",
       "    </tr>\n",
       "    <tr>\n",
       "      <th>5</th>\n",
       "      <td>26</td>\n",
       "      <td>MinMaxScaler()</td>\n",
       "      <td>1.529160</td>\n",
       "    </tr>\n",
       "    <tr>\n",
       "      <th>6</th>\n",
       "      <td>11</td>\n",
       "      <td>MinMaxScaler()</td>\n",
       "      <td>-1.374308</td>\n",
       "    </tr>\n",
       "    <tr>\n",
       "      <th>7</th>\n",
       "      <td>23</td>\n",
       "      <td>MinMaxScaler()</td>\n",
       "      <td>0.948466</td>\n",
       "    </tr>\n",
       "    <tr>\n",
       "      <th>8</th>\n",
       "      <td>13</td>\n",
       "      <td>MinMaxScaler()</td>\n",
       "      <td>-0.987179</td>\n",
       "    </tr>\n",
       "    <tr>\n",
       "      <th>9</th>\n",
       "      <td>12</td>\n",
       "      <td>MinMaxScaler()</td>\n",
       "      <td>-1.180743</td>\n",
       "    </tr>\n",
       "  </tbody>\n",
       "</table>\n",
       "</div>"
      ],
      "text/plain": [
       "   Age      Age_minmax  Age_standard\n",
       "0   14  MinMaxScaler()     -0.793614\n",
       "1   24  MinMaxScaler()      1.142031\n",
       "2   22  MinMaxScaler()      0.754902\n",
       "3   18  MinMaxScaler()     -0.019356\n",
       "4   18  MinMaxScaler()     -0.019356\n",
       "5   26  MinMaxScaler()      1.529160\n",
       "6   11  MinMaxScaler()     -1.374308\n",
       "7   23  MinMaxScaler()      0.948466\n",
       "8   13  MinMaxScaler()     -0.987179\n",
       "9   12  MinMaxScaler()     -1.180743"
      ]
     },
     "execution_count": 59,
     "metadata": {},
     "output_type": "execute_result"
    }
   ],
   "source": [
    "# Or use sklearn:\n",
    "\n",
    "demo_ages[\"Age_standard\"] = StandardScaler().fit_transform(demo_ages[[\"Age\"]])\n",
    "\n",
    "demo_ages"
   ]
  },
  {
   "cell_type": "code",
   "execution_count": 60,
   "metadata": {
    "id": "-vjktwnqTrp3"
   },
   "outputs": [
    {
     "data": {
      "application/vnd.microsoft.datawrangler.viewer.v0+json": {
       "columns": [
        {
         "name": "index",
         "rawType": "object",
         "type": "string"
        },
        {
         "name": "Age",
         "rawType": "float64",
         "type": "float"
        },
        {
         "name": "Age_standard",
         "rawType": "float64",
         "type": "float"
        }
       ],
       "ref": "1b469f5d-2d17-48a5-8619-574c41143de8",
       "rows": [
        [
         "count",
         "10.0",
         "10.0"
        ],
        [
         "mean",
         "18.1",
         "-0.0"
        ],
        [
         "std",
         "5.45",
         "1.05"
        ],
        [
         "min",
         "11.0",
         "-1.37"
        ],
        [
         "25%",
         "13.25",
         "-0.94"
        ],
        [
         "50%",
         "18.0",
         "-0.02"
        ],
        [
         "75%",
         "22.75",
         "0.9"
        ],
        [
         "max",
         "26.0",
         "1.53"
        ]
       ],
       "shape": {
        "columns": 2,
        "rows": 8
       }
      },
      "text/html": [
       "<div>\n",
       "<style scoped>\n",
       "    .dataframe tbody tr th:only-of-type {\n",
       "        vertical-align: middle;\n",
       "    }\n",
       "\n",
       "    .dataframe tbody tr th {\n",
       "        vertical-align: top;\n",
       "    }\n",
       "\n",
       "    .dataframe thead th {\n",
       "        text-align: right;\n",
       "    }\n",
       "</style>\n",
       "<table border=\"1\" class=\"dataframe\">\n",
       "  <thead>\n",
       "    <tr style=\"text-align: right;\">\n",
       "      <th></th>\n",
       "      <th>Age</th>\n",
       "      <th>Age_standard</th>\n",
       "    </tr>\n",
       "  </thead>\n",
       "  <tbody>\n",
       "    <tr>\n",
       "      <th>count</th>\n",
       "      <td>10.00</td>\n",
       "      <td>10.00</td>\n",
       "    </tr>\n",
       "    <tr>\n",
       "      <th>mean</th>\n",
       "      <td>18.10</td>\n",
       "      <td>-0.00</td>\n",
       "    </tr>\n",
       "    <tr>\n",
       "      <th>std</th>\n",
       "      <td>5.45</td>\n",
       "      <td>1.05</td>\n",
       "    </tr>\n",
       "    <tr>\n",
       "      <th>min</th>\n",
       "      <td>11.00</td>\n",
       "      <td>-1.37</td>\n",
       "    </tr>\n",
       "    <tr>\n",
       "      <th>25%</th>\n",
       "      <td>13.25</td>\n",
       "      <td>-0.94</td>\n",
       "    </tr>\n",
       "    <tr>\n",
       "      <th>50%</th>\n",
       "      <td>18.00</td>\n",
       "      <td>-0.02</td>\n",
       "    </tr>\n",
       "    <tr>\n",
       "      <th>75%</th>\n",
       "      <td>22.75</td>\n",
       "      <td>0.90</td>\n",
       "    </tr>\n",
       "    <tr>\n",
       "      <th>max</th>\n",
       "      <td>26.00</td>\n",
       "      <td>1.53</td>\n",
       "    </tr>\n",
       "  </tbody>\n",
       "</table>\n",
       "</div>"
      ],
      "text/plain": [
       "         Age  Age_standard\n",
       "count  10.00         10.00\n",
       "mean   18.10         -0.00\n",
       "std     5.45          1.05\n",
       "min    11.00         -1.37\n",
       "25%    13.25         -0.94\n",
       "50%    18.00         -0.02\n",
       "75%    22.75          0.90\n",
       "max    26.00          1.53"
      ]
     },
     "execution_count": 60,
     "metadata": {},
     "output_type": "execute_result"
    }
   ],
   "source": [
    "demo_ages.describe().round(2)"
   ]
  },
  {
   "cell_type": "code",
   "execution_count": null,
   "metadata": {},
   "outputs": [],
   "source": []
  },
  {
   "cell_type": "markdown",
   "metadata": {},
   "source": [
    "#### Exercise `4`: Apply StandardScaler to the dataset"
   ]
  },
  {
   "cell_type": "code",
   "execution_count": 61,
   "metadata": {},
   "outputs": [],
   "source": [
    "df_standard = df.copy()"
   ]
  },
  {
   "cell_type": "code",
   "execution_count": 62,
   "metadata": {},
   "outputs": [],
   "source": [
    "ss_scaler = None # finish this line\n",
    "ss_scaled_feat = None # finish this line\n",
    "ss_scaled_feat"
   ]
  },
  {
   "cell_type": "code",
   "execution_count": 64,
   "metadata": {},
   "outputs": [
    {
     "name": "stdout",
     "output_type": "stream",
     "text": [
      "Parameters fitted:\n",
      "\n"
     ]
    }
   ],
   "source": [
    "# See what the fit method is doing (notice the trailing underscore):\n",
    "print(\"Parameters fitted:\\n\")\n",
    "# pd.DataFrame([ss_scaler.mean_, np.sqrt(ss_scaler.var_)], columns=metric_features, index=['mean','std'])"
   ]
  },
  {
   "cell_type": "code",
   "execution_count": 65,
   "metadata": {},
   "outputs": [
    {
     "data": {
      "application/vnd.microsoft.datawrangler.viewer.v0+json": {
       "columns": [
        {
         "name": "index",
         "rawType": "int64",
         "type": "integer"
        },
        {
         "name": "age",
         "rawType": "int64",
         "type": "integer"
        },
        {
         "name": "income",
         "rawType": "object",
         "type": "unknown"
        },
        {
         "name": "frq",
         "rawType": "object",
         "type": "unknown"
        },
        {
         "name": "rcn",
         "rawType": "object",
         "type": "unknown"
        },
        {
         "name": "mnt",
         "rawType": "int64",
         "type": "integer"
        },
        {
         "name": "clothes",
         "rawType": "object",
         "type": "unknown"
        },
        {
         "name": "kitchen",
         "rawType": "object",
         "type": "unknown"
        },
        {
         "name": "small_appliances",
         "rawType": "object",
         "type": "unknown"
        },
        {
         "name": "toys",
         "rawType": "object",
         "type": "unknown"
        },
        {
         "name": "house_keeping",
         "rawType": "object",
         "type": "unknown"
        },
        {
         "name": "dependents",
         "rawType": "boolean",
         "type": "boolean"
        },
        {
         "name": "per_net_purchase",
         "rawType": "object",
         "type": "unknown"
        },
        {
         "name": "gender",
         "rawType": "object",
         "type": "string"
        },
        {
         "name": "education",
         "rawType": "object",
         "type": "string"
        },
        {
         "name": "status",
         "rawType": "object",
         "type": "string"
        },
        {
         "name": "description",
         "rawType": "object",
         "type": "string"
        },
        {
         "name": "birth_year",
         "rawType": "int64",
         "type": "integer"
        },
        {
         "name": "spent_online",
         "rawType": "object",
         "type": "unknown"
        }
       ],
       "ref": "71749199-7168-4926-8836-1f0f056ae4ab",
       "rows": [
        [
         "0",
         "78",
         null,
         null,
         null,
         "1402",
         null,
         null,
         null,
         null,
         null,
         "False",
         null,
         "M",
         "Graduation",
         "Together",
         "Take my money!!",
         "1946",
         null
        ],
        [
         "1",
         "88",
         null,
         null,
         null,
         "1537",
         null,
         null,
         null,
         null,
         null,
         "False",
         null,
         "F",
         "PhD",
         "Divorced",
         "Take my money!!",
         "1936",
         null
        ],
        [
         "2",
         "34",
         null,
         null,
         null,
         "44",
         null,
         null,
         null,
         null,
         null,
         "True",
         null,
         "M",
         "Graduation",
         "Married",
         "Kind of OK",
         "1990",
         null
        ],
        [
         "3",
         "69",
         null,
         null,
         null,
         "888",
         null,
         null,
         null,
         null,
         null,
         "True",
         null,
         "F",
         "Master",
         "Married",
         "OK nice!",
         "1955",
         null
        ],
        [
         "4",
         "69",
         null,
         null,
         null,
         "1138",
         null,
         null,
         null,
         null,
         null,
         "True",
         null,
         "F",
         "Graduation",
         "Together",
         "Take my money!!",
         "1955",
         null
        ]
       ],
       "shape": {
        "columns": 18,
        "rows": 5
       }
      },
      "text/html": [
       "<div>\n",
       "<style scoped>\n",
       "    .dataframe tbody tr th:only-of-type {\n",
       "        vertical-align: middle;\n",
       "    }\n",
       "\n",
       "    .dataframe tbody tr th {\n",
       "        vertical-align: top;\n",
       "    }\n",
       "\n",
       "    .dataframe thead th {\n",
       "        text-align: right;\n",
       "    }\n",
       "</style>\n",
       "<table border=\"1\" class=\"dataframe\">\n",
       "  <thead>\n",
       "    <tr style=\"text-align: right;\">\n",
       "      <th></th>\n",
       "      <th>age</th>\n",
       "      <th>income</th>\n",
       "      <th>frq</th>\n",
       "      <th>rcn</th>\n",
       "      <th>mnt</th>\n",
       "      <th>clothes</th>\n",
       "      <th>kitchen</th>\n",
       "      <th>small_appliances</th>\n",
       "      <th>toys</th>\n",
       "      <th>house_keeping</th>\n",
       "      <th>dependents</th>\n",
       "      <th>per_net_purchase</th>\n",
       "      <th>gender</th>\n",
       "      <th>education</th>\n",
       "      <th>status</th>\n",
       "      <th>description</th>\n",
       "      <th>birth_year</th>\n",
       "      <th>spent_online</th>\n",
       "    </tr>\n",
       "  </thead>\n",
       "  <tbody>\n",
       "    <tr>\n",
       "      <th>0</th>\n",
       "      <td>78</td>\n",
       "      <td>None</td>\n",
       "      <td>None</td>\n",
       "      <td>None</td>\n",
       "      <td>1402</td>\n",
       "      <td>None</td>\n",
       "      <td>None</td>\n",
       "      <td>None</td>\n",
       "      <td>None</td>\n",
       "      <td>None</td>\n",
       "      <td>False</td>\n",
       "      <td>None</td>\n",
       "      <td>M</td>\n",
       "      <td>Graduation</td>\n",
       "      <td>Together</td>\n",
       "      <td>Take my money!!</td>\n",
       "      <td>1946</td>\n",
       "      <td>None</td>\n",
       "    </tr>\n",
       "    <tr>\n",
       "      <th>1</th>\n",
       "      <td>88</td>\n",
       "      <td>None</td>\n",
       "      <td>None</td>\n",
       "      <td>None</td>\n",
       "      <td>1537</td>\n",
       "      <td>None</td>\n",
       "      <td>None</td>\n",
       "      <td>None</td>\n",
       "      <td>None</td>\n",
       "      <td>None</td>\n",
       "      <td>False</td>\n",
       "      <td>None</td>\n",
       "      <td>F</td>\n",
       "      <td>PhD</td>\n",
       "      <td>Divorced</td>\n",
       "      <td>Take my money!!</td>\n",
       "      <td>1936</td>\n",
       "      <td>None</td>\n",
       "    </tr>\n",
       "    <tr>\n",
       "      <th>2</th>\n",
       "      <td>34</td>\n",
       "      <td>None</td>\n",
       "      <td>None</td>\n",
       "      <td>None</td>\n",
       "      <td>44</td>\n",
       "      <td>None</td>\n",
       "      <td>None</td>\n",
       "      <td>None</td>\n",
       "      <td>None</td>\n",
       "      <td>None</td>\n",
       "      <td>True</td>\n",
       "      <td>None</td>\n",
       "      <td>M</td>\n",
       "      <td>Graduation</td>\n",
       "      <td>Married</td>\n",
       "      <td>Kind of OK</td>\n",
       "      <td>1990</td>\n",
       "      <td>None</td>\n",
       "    </tr>\n",
       "    <tr>\n",
       "      <th>3</th>\n",
       "      <td>69</td>\n",
       "      <td>None</td>\n",
       "      <td>None</td>\n",
       "      <td>None</td>\n",
       "      <td>888</td>\n",
       "      <td>None</td>\n",
       "      <td>None</td>\n",
       "      <td>None</td>\n",
       "      <td>None</td>\n",
       "      <td>None</td>\n",
       "      <td>True</td>\n",
       "      <td>None</td>\n",
       "      <td>F</td>\n",
       "      <td>Master</td>\n",
       "      <td>Married</td>\n",
       "      <td>OK nice!</td>\n",
       "      <td>1955</td>\n",
       "      <td>None</td>\n",
       "    </tr>\n",
       "    <tr>\n",
       "      <th>4</th>\n",
       "      <td>69</td>\n",
       "      <td>None</td>\n",
       "      <td>None</td>\n",
       "      <td>None</td>\n",
       "      <td>1138</td>\n",
       "      <td>None</td>\n",
       "      <td>None</td>\n",
       "      <td>None</td>\n",
       "      <td>None</td>\n",
       "      <td>None</td>\n",
       "      <td>True</td>\n",
       "      <td>None</td>\n",
       "      <td>F</td>\n",
       "      <td>Graduation</td>\n",
       "      <td>Together</td>\n",
       "      <td>Take my money!!</td>\n",
       "      <td>1955</td>\n",
       "      <td>None</td>\n",
       "    </tr>\n",
       "  </tbody>\n",
       "</table>\n",
       "</div>"
      ],
      "text/plain": [
       "   age income   frq   rcn   mnt clothes kitchen small_appliances  toys  \\\n",
       "0   78   None  None  None  1402    None    None             None  None   \n",
       "1   88   None  None  None  1537    None    None             None  None   \n",
       "2   34   None  None  None    44    None    None             None  None   \n",
       "3   69   None  None  None   888    None    None             None  None   \n",
       "4   69   None  None  None  1138    None    None             None  None   \n",
       "\n",
       "  house_keeping  dependents per_net_purchase gender   education    status  \\\n",
       "0          None       False             None      M  Graduation  Together   \n",
       "1          None       False             None      F         PhD  Divorced   \n",
       "2          None        True             None      M  Graduation   Married   \n",
       "3          None        True             None      F      Master   Married   \n",
       "4          None        True             None      F  Graduation  Together   \n",
       "\n",
       "       description  birth_year spent_online  \n",
       "0  Take my money!!        1946         None  \n",
       "1  Take my money!!        1936         None  \n",
       "2       Kind of OK        1990         None  \n",
       "3         OK nice!        1955         None  \n",
       "4  Take my money!!        1955         None  "
      ]
     },
     "execution_count": 65,
     "metadata": {},
     "output_type": "execute_result"
    }
   ],
   "source": [
    "df_standard[metric_features] = ss_scaled_feat\n",
    "df_standard.head()"
   ]
  },
  {
   "cell_type": "code",
   "execution_count": 66,
   "metadata": {},
   "outputs": [
    {
     "data": {
      "application/vnd.microsoft.datawrangler.viewer.v0+json": {
       "columns": [
        {
         "name": "index",
         "rawType": "object",
         "type": "string"
        },
        {
         "name": "income",
         "rawType": "object",
         "type": "unknown"
        },
        {
         "name": "frq",
         "rawType": "object",
         "type": "unknown"
        },
        {
         "name": "rcn",
         "rawType": "object",
         "type": "unknown"
        },
        {
         "name": "clothes",
         "rawType": "object",
         "type": "unknown"
        },
        {
         "name": "kitchen",
         "rawType": "object",
         "type": "unknown"
        },
        {
         "name": "small_appliances",
         "rawType": "object",
         "type": "unknown"
        },
        {
         "name": "toys",
         "rawType": "object",
         "type": "unknown"
        },
        {
         "name": "house_keeping",
         "rawType": "object",
         "type": "unknown"
        },
        {
         "name": "per_net_purchase",
         "rawType": "object",
         "type": "unknown"
        },
        {
         "name": "spent_online",
         "rawType": "object",
         "type": "unknown"
        }
       ],
       "ref": "904e88b4-2ab3-4263-97dd-002e6080a076",
       "rows": [
        [
         "count",
         "0",
         "0",
         "0",
         "0",
         "0",
         "0",
         "0",
         "0",
         "0",
         "0"
        ],
        [
         "unique",
         "0",
         "0",
         "0",
         "0",
         "0",
         "0",
         "0",
         "0",
         "0",
         "0"
        ],
        [
         "top",
         null,
         null,
         null,
         null,
         null,
         null,
         null,
         null,
         null,
         null
        ],
        [
         "freq",
         null,
         null,
         null,
         null,
         null,
         null,
         null,
         null,
         null,
         null
        ]
       ],
       "shape": {
        "columns": 10,
        "rows": 4
       }
      },
      "text/html": [
       "<div>\n",
       "<style scoped>\n",
       "    .dataframe tbody tr th:only-of-type {\n",
       "        vertical-align: middle;\n",
       "    }\n",
       "\n",
       "    .dataframe tbody tr th {\n",
       "        vertical-align: top;\n",
       "    }\n",
       "\n",
       "    .dataframe thead th {\n",
       "        text-align: right;\n",
       "    }\n",
       "</style>\n",
       "<table border=\"1\" class=\"dataframe\">\n",
       "  <thead>\n",
       "    <tr style=\"text-align: right;\">\n",
       "      <th></th>\n",
       "      <th>income</th>\n",
       "      <th>frq</th>\n",
       "      <th>rcn</th>\n",
       "      <th>clothes</th>\n",
       "      <th>kitchen</th>\n",
       "      <th>small_appliances</th>\n",
       "      <th>toys</th>\n",
       "      <th>house_keeping</th>\n",
       "      <th>per_net_purchase</th>\n",
       "      <th>spent_online</th>\n",
       "    </tr>\n",
       "  </thead>\n",
       "  <tbody>\n",
       "    <tr>\n",
       "      <th>count</th>\n",
       "      <td>0</td>\n",
       "      <td>0</td>\n",
       "      <td>0</td>\n",
       "      <td>0</td>\n",
       "      <td>0</td>\n",
       "      <td>0</td>\n",
       "      <td>0</td>\n",
       "      <td>0</td>\n",
       "      <td>0</td>\n",
       "      <td>0</td>\n",
       "    </tr>\n",
       "    <tr>\n",
       "      <th>unique</th>\n",
       "      <td>0</td>\n",
       "      <td>0</td>\n",
       "      <td>0</td>\n",
       "      <td>0</td>\n",
       "      <td>0</td>\n",
       "      <td>0</td>\n",
       "      <td>0</td>\n",
       "      <td>0</td>\n",
       "      <td>0</td>\n",
       "      <td>0</td>\n",
       "    </tr>\n",
       "    <tr>\n",
       "      <th>top</th>\n",
       "      <td>NaN</td>\n",
       "      <td>NaN</td>\n",
       "      <td>NaN</td>\n",
       "      <td>NaN</td>\n",
       "      <td>NaN</td>\n",
       "      <td>NaN</td>\n",
       "      <td>NaN</td>\n",
       "      <td>NaN</td>\n",
       "      <td>NaN</td>\n",
       "      <td>NaN</td>\n",
       "    </tr>\n",
       "    <tr>\n",
       "      <th>freq</th>\n",
       "      <td>NaN</td>\n",
       "      <td>NaN</td>\n",
       "      <td>NaN</td>\n",
       "      <td>NaN</td>\n",
       "      <td>NaN</td>\n",
       "      <td>NaN</td>\n",
       "      <td>NaN</td>\n",
       "      <td>NaN</td>\n",
       "      <td>NaN</td>\n",
       "      <td>NaN</td>\n",
       "    </tr>\n",
       "  </tbody>\n",
       "</table>\n",
       "</div>"
      ],
      "text/plain": [
       "       income  frq  rcn clothes kitchen small_appliances toys house_keeping  \\\n",
       "count       0    0    0       0       0                0    0             0   \n",
       "unique      0    0    0       0       0                0    0             0   \n",
       "top       NaN  NaN  NaN     NaN     NaN              NaN  NaN           NaN   \n",
       "freq      NaN  NaN  NaN     NaN     NaN              NaN  NaN           NaN   \n",
       "\n",
       "       per_net_purchase spent_online  \n",
       "count                 0            0  \n",
       "unique                0            0  \n",
       "top                 NaN          NaN  \n",
       "freq                NaN          NaN  "
      ]
     },
     "execution_count": 66,
     "metadata": {},
     "output_type": "execute_result"
    }
   ],
   "source": [
    "# Checking mean and variance of standardized variables\n",
    "df_standard[metric_features].describe().round(2)"
   ]
  },
  {
   "cell_type": "markdown",
   "metadata": {},
   "source": [
    "#### `Intuition exercise` \n",
    "- What if we had a training and test set? \n",
    "- Should we fit a Scaler in both? \n",
    "- What about other Sklearn objects?"
   ]
  },
  {
   "cell_type": "markdown",
   "metadata": {},
   "source": [
    "## Compare MinMaxScaler vs StandardScaler vs Original data"
   ]
  },
  {
   "cell_type": "markdown",
   "metadata": {},
   "source": [
    "### Boxplots"
   ]
  },
  {
   "cell_type": "code",
   "execution_count": null,
   "metadata": {},
   "outputs": [
    {
     "ename": "ValueError",
     "evalue": "List of boxplot statistics and `positions` values must have same the length",
     "output_type": "error",
     "traceback": [
      "\u001b[0;31m---------------------------------------------------------------------------\u001b[0m",
      "\u001b[0;31mValueError\u001b[0m                                Traceback (most recent call last)",
      "Cell \u001b[0;32mIn[69], line 11\u001b[0m\n\u001b[1;32m      8\u001b[0m axes[\u001b[38;5;241m0\u001b[39m][\u001b[38;5;241m0\u001b[39m]\u001b[38;5;241m.\u001b[39mset_title(\u001b[38;5;124m'\u001b[39m\u001b[38;5;124mOriginal\u001b[39m\u001b[38;5;124m'\u001b[39m)\n\u001b[1;32m      9\u001b[0m axes[\u001b[38;5;241m0\u001b[39m][\u001b[38;5;241m0\u001b[39m]\u001b[38;5;241m.\u001b[39mset_ylabel(bp_feat_l)\n\u001b[0;32m---> 11\u001b[0m \u001b[43msns\u001b[49m\u001b[38;5;241;43m.\u001b[39;49m\u001b[43mboxplot\u001b[49m\u001b[43m(\u001b[49m\u001b[43mdf_minmax\u001b[49m\u001b[43m,\u001b[49m\u001b[43m \u001b[49m\u001b[43mx\u001b[49m\u001b[38;5;241;43m=\u001b[39;49m\u001b[43mbp_feat_l\u001b[49m\u001b[43m,\u001b[49m\u001b[43m \u001b[49m\u001b[43max\u001b[49m\u001b[38;5;241;43m=\u001b[39;49m\u001b[43maxes\u001b[49m\u001b[43m[\u001b[49m\u001b[38;5;241;43m0\u001b[39;49m\u001b[43m]\u001b[49m\u001b[43m[\u001b[49m\u001b[38;5;241;43m1\u001b[39;49m\u001b[43m]\u001b[49m\u001b[43m,\u001b[49m\u001b[43m \u001b[49m\u001b[43mwidth\u001b[49m\u001b[38;5;241;43m=\u001b[39;49m\u001b[38;5;241;43m.4\u001b[39;49m\u001b[43m)\u001b[49m\n\u001b[1;32m     12\u001b[0m axes[\u001b[38;5;241m0\u001b[39m][\u001b[38;5;241m1\u001b[39m]\u001b[38;5;241m.\u001b[39mset_title(\u001b[38;5;124m'\u001b[39m\u001b[38;5;124mMinMaxScaler()\u001b[39m\u001b[38;5;124m'\u001b[39m)\n\u001b[1;32m     14\u001b[0m sns\u001b[38;5;241m.\u001b[39mboxplot(df_standard, x\u001b[38;5;241m=\u001b[39mbp_feat_l, ax\u001b[38;5;241m=\u001b[39maxes[\u001b[38;5;241m0\u001b[39m][\u001b[38;5;241m2\u001b[39m], width\u001b[38;5;241m=\u001b[39m\u001b[38;5;241m.4\u001b[39m)\n",
      "File \u001b[0;32m/opt/anaconda3/envs/Fall2526/lib/python3.12/site-packages/seaborn/categorical.py:1634\u001b[0m, in \u001b[0;36mboxplot\u001b[0;34m(data, x, y, hue, order, hue_order, orient, color, palette, saturation, fill, dodge, width, gap, whis, linecolor, linewidth, fliersize, hue_norm, native_scale, log_scale, formatter, legend, ax, **kwargs)\u001b[0m\n\u001b[1;32m   1627\u001b[0m color \u001b[38;5;241m=\u001b[39m _default_color(\n\u001b[1;32m   1628\u001b[0m     ax\u001b[38;5;241m.\u001b[39mfill_between, hue, color,\n\u001b[1;32m   1629\u001b[0m     {k: v \u001b[38;5;28;01mfor\u001b[39;00m k, v \u001b[38;5;129;01min\u001b[39;00m kwargs\u001b[38;5;241m.\u001b[39mitems() \u001b[38;5;28;01mif\u001b[39;00m k \u001b[38;5;129;01min\u001b[39;00m [\u001b[38;5;124m\"\u001b[39m\u001b[38;5;124mc\u001b[39m\u001b[38;5;124m\"\u001b[39m, \u001b[38;5;124m\"\u001b[39m\u001b[38;5;124mcolor\u001b[39m\u001b[38;5;124m\"\u001b[39m, \u001b[38;5;124m\"\u001b[39m\u001b[38;5;124mfc\u001b[39m\u001b[38;5;124m\"\u001b[39m, \u001b[38;5;124m\"\u001b[39m\u001b[38;5;124mfacecolor\u001b[39m\u001b[38;5;124m\"\u001b[39m]},\n\u001b[1;32m   1630\u001b[0m     saturation\u001b[38;5;241m=\u001b[39msaturation,\n\u001b[1;32m   1631\u001b[0m )\n\u001b[1;32m   1632\u001b[0m linecolor \u001b[38;5;241m=\u001b[39m p\u001b[38;5;241m.\u001b[39m_complement_color(linecolor, color, p\u001b[38;5;241m.\u001b[39m_hue_map)\n\u001b[0;32m-> 1634\u001b[0m \u001b[43mp\u001b[49m\u001b[38;5;241;43m.\u001b[39;49m\u001b[43mplot_boxes\u001b[49m\u001b[43m(\u001b[49m\n\u001b[1;32m   1635\u001b[0m \u001b[43m    \u001b[49m\u001b[43mwidth\u001b[49m\u001b[38;5;241;43m=\u001b[39;49m\u001b[43mwidth\u001b[49m\u001b[43m,\u001b[49m\n\u001b[1;32m   1636\u001b[0m \u001b[43m    \u001b[49m\u001b[43mdodge\u001b[49m\u001b[38;5;241;43m=\u001b[39;49m\u001b[43mdodge\u001b[49m\u001b[43m,\u001b[49m\n\u001b[1;32m   1637\u001b[0m \u001b[43m    \u001b[49m\u001b[43mgap\u001b[49m\u001b[38;5;241;43m=\u001b[39;49m\u001b[43mgap\u001b[49m\u001b[43m,\u001b[49m\n\u001b[1;32m   1638\u001b[0m \u001b[43m    \u001b[49m\u001b[43mfill\u001b[49m\u001b[38;5;241;43m=\u001b[39;49m\u001b[43mfill\u001b[49m\u001b[43m,\u001b[49m\n\u001b[1;32m   1639\u001b[0m \u001b[43m    \u001b[49m\u001b[43mwhis\u001b[49m\u001b[38;5;241;43m=\u001b[39;49m\u001b[43mwhis\u001b[49m\u001b[43m,\u001b[49m\n\u001b[1;32m   1640\u001b[0m \u001b[43m    \u001b[49m\u001b[43mcolor\u001b[49m\u001b[38;5;241;43m=\u001b[39;49m\u001b[43mcolor\u001b[49m\u001b[43m,\u001b[49m\n\u001b[1;32m   1641\u001b[0m \u001b[43m    \u001b[49m\u001b[43mlinecolor\u001b[49m\u001b[38;5;241;43m=\u001b[39;49m\u001b[43mlinecolor\u001b[49m\u001b[43m,\u001b[49m\n\u001b[1;32m   1642\u001b[0m \u001b[43m    \u001b[49m\u001b[43mlinewidth\u001b[49m\u001b[38;5;241;43m=\u001b[39;49m\u001b[43mlinewidth\u001b[49m\u001b[43m,\u001b[49m\n\u001b[1;32m   1643\u001b[0m \u001b[43m    \u001b[49m\u001b[43mfliersize\u001b[49m\u001b[38;5;241;43m=\u001b[39;49m\u001b[43mfliersize\u001b[49m\u001b[43m,\u001b[49m\n\u001b[1;32m   1644\u001b[0m \u001b[43m    \u001b[49m\u001b[43mplot_kws\u001b[49m\u001b[38;5;241;43m=\u001b[39;49m\u001b[43mkwargs\u001b[49m\u001b[43m,\u001b[49m\n\u001b[1;32m   1645\u001b[0m \u001b[43m\u001b[49m\u001b[43m)\u001b[49m\n\u001b[1;32m   1647\u001b[0m p\u001b[38;5;241m.\u001b[39m_add_axis_labels(ax)\n\u001b[1;32m   1648\u001b[0m p\u001b[38;5;241m.\u001b[39m_adjust_cat_axis(ax, axis\u001b[38;5;241m=\u001b[39mp\u001b[38;5;241m.\u001b[39morient)\n",
      "File \u001b[0;32m/opt/anaconda3/envs/Fall2526/lib/python3.12/site-packages/seaborn/categorical.py:700\u001b[0m, in \u001b[0;36m_CategoricalPlotter.plot_boxes\u001b[0;34m(self, width, dodge, gap, fill, whis, color, linecolor, linewidth, fliersize, plot_kws)\u001b[0m\n\u001b[1;32m    679\u001b[0m default_kws \u001b[38;5;241m=\u001b[39m \u001b[38;5;28mdict\u001b[39m(\n\u001b[1;32m    680\u001b[0m     bxpstats\u001b[38;5;241m=\u001b[39mstats\u001b[38;5;241m.\u001b[39mto_dict(\u001b[38;5;124m\"\u001b[39m\u001b[38;5;124mrecords\u001b[39m\u001b[38;5;124m\"\u001b[39m),\n\u001b[1;32m    681\u001b[0m     positions\u001b[38;5;241m=\u001b[39mdata[\u001b[38;5;28mself\u001b[39m\u001b[38;5;241m.\u001b[39morient],\n\u001b[0;32m   (...)\u001b[0m\n\u001b[1;32m    697\u001b[0m     )\n\u001b[1;32m    698\u001b[0m )\n\u001b[1;32m    699\u001b[0m boxplot_kws \u001b[38;5;241m=\u001b[39m {\u001b[38;5;241m*\u001b[39m\u001b[38;5;241m*\u001b[39mdefault_kws, \u001b[38;5;241m*\u001b[39m\u001b[38;5;241m*\u001b[39mplot_kws}\n\u001b[0;32m--> 700\u001b[0m artists \u001b[38;5;241m=\u001b[39m \u001b[43max\u001b[49m\u001b[38;5;241;43m.\u001b[39;49m\u001b[43mbxp\u001b[49m\u001b[43m(\u001b[49m\u001b[38;5;241;43m*\u001b[39;49m\u001b[38;5;241;43m*\u001b[39;49m\u001b[43mboxplot_kws\u001b[49m\u001b[43m)\u001b[49m\n\u001b[1;32m    702\u001b[0m \u001b[38;5;66;03m# Reset artist widths after adding so everything stays positive\u001b[39;00m\n\u001b[1;32m    703\u001b[0m ori_idx \u001b[38;5;241m=\u001b[39m [\u001b[38;5;124m\"\u001b[39m\u001b[38;5;124mx\u001b[39m\u001b[38;5;124m\"\u001b[39m, \u001b[38;5;124m\"\u001b[39m\u001b[38;5;124my\u001b[39m\u001b[38;5;124m\"\u001b[39m]\u001b[38;5;241m.\u001b[39mindex(\u001b[38;5;28mself\u001b[39m\u001b[38;5;241m.\u001b[39morient)\n",
      "File \u001b[0;32m/opt/anaconda3/envs/Fall2526/lib/python3.12/site-packages/matplotlib/axes/_axes.py:4350\u001b[0m, in \u001b[0;36mAxes.bxp\u001b[0;34m(self, bxpstats, positions, widths, vert, patch_artist, shownotches, showmeans, showcaps, showbox, showfliers, boxprops, whiskerprops, flierprops, medianprops, capprops, meanprops, meanline, manage_ticks, zorder, capwidths, label)\u001b[0m\n\u001b[1;32m   4348\u001b[0m     positions \u001b[38;5;241m=\u001b[39m \u001b[38;5;28mlist\u001b[39m(\u001b[38;5;28mrange\u001b[39m(\u001b[38;5;241m1\u001b[39m, N \u001b[38;5;241m+\u001b[39m \u001b[38;5;241m1\u001b[39m))\n\u001b[1;32m   4349\u001b[0m \u001b[38;5;28;01melif\u001b[39;00m \u001b[38;5;28mlen\u001b[39m(positions) \u001b[38;5;241m!=\u001b[39m N:\n\u001b[0;32m-> 4350\u001b[0m     \u001b[38;5;28;01mraise\u001b[39;00m \u001b[38;5;167;01mValueError\u001b[39;00m(datashape_message\u001b[38;5;241m.\u001b[39mformat(\u001b[38;5;124m\"\u001b[39m\u001b[38;5;124mpositions\u001b[39m\u001b[38;5;124m\"\u001b[39m))\n\u001b[1;32m   4352\u001b[0m positions \u001b[38;5;241m=\u001b[39m np\u001b[38;5;241m.\u001b[39marray(positions)\n\u001b[1;32m   4353\u001b[0m \u001b[38;5;28;01mif\u001b[39;00m \u001b[38;5;28mlen\u001b[39m(positions) \u001b[38;5;241m>\u001b[39m \u001b[38;5;241m0\u001b[39m \u001b[38;5;129;01mand\u001b[39;00m \u001b[38;5;129;01mnot\u001b[39;00m \u001b[38;5;28mall\u001b[39m(\u001b[38;5;28misinstance\u001b[39m(p, Real) \u001b[38;5;28;01mfor\u001b[39;00m p \u001b[38;5;129;01min\u001b[39;00m positions):\n",
      "\u001b[0;31mValueError\u001b[0m: List of boxplot statistics and `positions` values must have same the length"
     ]
    },
    {
     "data": {
      "image/png": "[encoded data removed]",
      "text/plain": [
       "<Figure size 800x500 with 6 Axes>"
      ]
     },
     "metadata": {
      "image/png": {
       "height": 484,
       "width": 784
      }
     },
     "output_type": "display_data"
    }
   ],
   "source": [
    "\n",
    "sns.set_style('whitegrid')\n",
    "fig, axes = plt.subplots(2,3, figsize=(8,5), tight_layout=True, sharex='col', sharey='row')\n",
    "\n",
    "bp_feat_l = 'house_keeping'\n",
    "\n",
    "sns.boxplot(df_original, x=bp_feat_l, ax=axes[0][0], width=.4)\n",
    "axes[0][0].set_title('Original')\n",
    "axes[0][0].set_ylabel(bp_feat_l)\n",
    "\n",
    "sns.boxplot(df_minmax, x=bp_feat_l, ax=axes[0][1], width=.4)\n",
    "axes[0][1].set_title('MinMaxScaler()')\n",
    "\n",
    "sns.boxplot(df_standard, x=bp_feat_l, ax=axes[0][2], width=.4)\n",
    "axes[0][2].set_title('StandardScaler()')\n",
    "\n",
    "\n",
    "\n",
    "bp_feat_r = 'income'\n",
    "\n",
    "sns.boxplot(df_original, x=bp_feat_r, ax=axes[1][0], width=.4)\n",
    "axes[1][0].set_ylabel(bp_feat_r)\n",
    "\n",
    "sns.boxplot(df_minmax, x=bp_feat_r, ax=axes[1][1], width=.4)\n",
    "\n",
    "sns.boxplot(df_standard, x=bp_feat_r, ax=axes[1][2], width=.4)\n",
    "\n",
    "\n",
    "axes[1][0].set_xlabel(None)\n",
    "axes[1][1].set_xlabel(None)\n",
    "axes[1][2].set_xlabel(None)\n",
    "\n",
    "fig.suptitle('Boxplots: \"{}\" and \"{}\"'.format(bp_feat_l, bp_feat_r))\n",
    "plt.show()"
   ]
  },
  {
   "cell_type": "code",
   "execution_count": null,
   "metadata": {},
   "outputs": [],
   "source": [
    "sns.set_style('white')\n",
    "\n",
    "fig, axes = plt.subplots(3,1, figsize=(8,5), tight_layout=True,)\n",
    "\n",
    "sns.boxplot(df, x=bp_feat_l, ax=axes[2], width=.4)\n",
    "sns.boxplot(df_minmax, x=bp_feat_l, ax=axes[1], width=.4)\n",
    "sns.boxplot(df_standard, x=bp_feat_l, ax=axes[0], width=.4)\n",
    "\n",
    "axes[0].set_title(\"standard\")\n",
    "axes[0].set_xlabel(None)\n",
    "axes[1].set_title(\"mm\")\n",
    "axes[1].set_xlabel(None)\n",
    "axes[2].set_title(\"origi\")\n",
    "axes[2].set_xlabel(None)\n",
    "\n",
    "plt.suptitle('Boxplots: \"{}\"'.format(bp_feat_l))\n",
    "\n"
   ]
  },
  {
   "cell_type": "markdown",
   "metadata": {},
   "source": [
    "### Histograms\n",
    "\n",
    "What about histograms?\n",
    "\n",
    "#### `Intuition exercise`\n",
    "\n",
    "- Visualize histograms here, compare the shapes of the original distribution with the MinMaxScaler and StandardScaler results."
   ]
  },
  {
   "cell_type": "code",
   "execution_count": null,
   "metadata": {},
   "outputs": [],
   "source": [
    "sns.set_style('whitegrid')\n",
    "\n",
    "# Create subplots with 3 rows, 1 column:\n",
    "fig, axes = plt.subplots(3,1, \n",
    "                         figsize=(5,5), tight_layout=True)\n",
    "\n",
    "# Which feature do you want to visualize?\n",
    "hp_feat = 'house_keeping'\n",
    "\n",
    "# common function args for histplot\n",
    "hp_args = dict(x=hp_feat, bins=15)\n",
    "\n",
    "\n",
    "sns.histplot(df_original, ax=axes[0], **hp_args)\n",
    "axes[0].set_title('{}: Original'.format(hp_feat))\n",
    "axes[0].set_xlabel(None)\n",
    "\n",
    "sns.histplot(df_minmax, ax=axes[1], **hp_args)\n",
    "axes[1].set_title('{}: MinMaxScaler()'.format(hp_feat))\n",
    "axes[1].set_xlabel(None)\n",
    "\n",
    "sns.histplot(df_standard, ax=axes[2], **hp_args)\n",
    "axes[2].set_title('{}: StandardScaler()'.format(hp_feat))\n",
    "axes[2].set_xlabel(None)\n",
    "\n",
    "\n",
    "plt.show()\n",
    "\n",
    "sns.set()"
   ]
  },
  {
   "cell_type": "code",
   "execution_count": null,
   "metadata": {},
   "outputs": [],
   "source": [
    "sns.set()"
   ]
  },
  {
   "cell_type": "markdown",
   "metadata": {},
   "source": [
    "#### Keep StandardScaler"
   ]
  },
  {
   "cell_type": "code",
   "execution_count": null,
   "metadata": {},
   "outputs": [],
   "source": [
    "df = df_standard.copy()"
   ]
  },
  {
   "cell_type": "markdown",
   "metadata": {},
   "source": [
    "## **One-hot encoding**"
   ]
  },
  {
   "cell_type": "code",
   "execution_count": null,
   "metadata": {},
   "outputs": [],
   "source": [
    "df_ohc = df.copy()"
   ]
  },
  {
   "cell_type": "code",
   "execution_count": null,
   "metadata": {},
   "outputs": [],
   "source": [
    "df['dependents'] = df['dependents'].fillna(False)\n",
    "\n",
    "fig, axes = plt.subplots(\n",
    "    2,\n",
    "    ceil(len(non_metric_features) / 2),\n",
    "    figsize=(10,7))\n",
    "\n",
    "for ax, feat in zip(axes.flatten(), non_metric_features):\n",
    "    df[feat].value_counts().plot.bar(ax=ax, width=.7)\n",
    "    ax.set_title(feat)\n",
    "    ax.set_xlabel(None)\n",
    "    ax.set_ylabel(None) \n",
    "    ax.tick_params(axis='x', rotation=45)\n",
    "\n",
    "plt.subplots_adjust(hspace=0.6)\n",
    "plt.show()"
   ]
  },
  {
   "cell_type": "markdown",
   "metadata": {},
   "source": [
    "First let's remove status=Whatever"
   ]
  },
  {
   "cell_type": "code",
   "execution_count": null,
   "metadata": {},
   "outputs": [],
   "source": [
    "df_ohc.loc[df_ohc['status'] == 'Whatever', 'status'] = df['status'].mode()[0]"
   ]
  },
  {
   "cell_type": "code",
   "execution_count": null,
   "metadata": {},
   "outputs": [],
   "source": [
    "# Use OneHotEncoder to encode the categorical features. Get feature names and create a DataFrame \n",
    "# with the one-hot encoded categorical features (pass feature names)\n",
    "ohc = OneHotEncoder(sparse_output=False, drop=\"first\") #sparse_output=False outputs a numpy array, not a sparse matrix\n",
    "ohc_feat = ohc.fit_transform(df_ohc[non_metric_features])\n",
    "ohc_feat_names = ohc.get_feature_names_out()\n"
   ]
  },
  {
   "cell_type": "code",
   "execution_count": null,
   "metadata": {},
   "outputs": [],
   "source": [
    "# Get feature names and create a DataFrame \n",
    "# with the one-hot encoded categorical features (pass feature names)\n",
    "ohc_feat = ohc.fit_transform(df_ohc[non_metric_features])\n",
    "ohc_feat_names = ohc.get_feature_names_out()\n"
   ]
  },
  {
   "cell_type": "code",
   "execution_count": null,
   "metadata": {},
   "outputs": [],
   "source": [
    "ohc_df = pd.DataFrame(ohc_feat, index=df_ohc.index, columns=ohc_feat_names)  # Why the index=df_ohc.index?\n",
    "ohc_df"
   ]
  },
  {
   "cell_type": "code",
   "execution_count": null,
   "metadata": {},
   "outputs": [],
   "source": [
    "# Reassigning df to contain ohc variables\n",
    "df_ohc = pd.concat([df_ohc, ohc_df], axis=1)\n",
    "df_ohc.head()"
   ]
  },
  {
   "cell_type": "code",
   "execution_count": null,
   "metadata": {},
   "outputs": [],
   "source": [
    "df = df_ohc.copy()"
   ]
  },
  {
   "cell_type": "code",
   "execution_count": null,
   "metadata": {},
   "outputs": [],
   "source": [
    "list(df.columns)"
   ]
  },
  {
   "cell_type": "code",
   "execution_count": null,
   "metadata": {},
   "outputs": [],
   "source": [
    "# You can also choose to drop the original non_metric_features from your df\n",
    "# df.drop(columns=non_metric_features)"
   ]
  },
  {
   "cell_type": "markdown",
   "metadata": {},
   "source": [
    "### Rename OHE columns"
   ]
  },
  {
   "cell_type": "code",
   "execution_count": null,
   "metadata": {},
   "outputs": [],
   "source": [
    "## Rename OHE columns from \"feature_val_a\" to \"oh_feature_val_a\"\n",
    "## e.g. status_Widow to oh_status_Widow\n",
    "## We do this to be able to distinguish the OHE columns more easily later\n",
    "\n",
    "## Assemble OHE columns and their new column names\n",
    "rename_ohe_cols = {}\n",
    "\n",
    "for i in non_metric_features:\n",
    "    for j in df.columns[df.columns.str.startswith(i)].to_list() :\n",
    "        if j not in non_metric_features:\n",
    "            rename_ohe_cols[j] = 'oh_' + j\n",
    "\n",
    "df.rename(columns=rename_ohe_cols, inplace=True)\n"
   ]
  },
  {
   "cell_type": "code",
   "execution_count": null,
   "metadata": {},
   "outputs": [],
   "source": [
    "df"
   ]
  },
  {
   "cell_type": "code",
   "execution_count": null,
   "metadata": {},
   "outputs": [],
   "source": [
    "list(df.columns)"
   ]
  },
  {
   "cell_type": "markdown",
   "metadata": {},
   "source": [
    "## Redo data exploration\n",
    "\n",
    "Check if the data looks the way you expect it to. \n",
    "\n",
    "- Have you missed some outliers? \n",
    "- Are there still missing values?\n",
    "- Is the data normalized?\n",
    "\n",
    "This is an iterative process. It is likely you will change your preprocessing steps frequently throughout your group work."
   ]
  },
  {
   "cell_type": "markdown",
   "metadata": {},
   "source": [
    "#### A tool to assist you through your exploratory data analysis\n",
    "\n",
    "Optionally, you may use `pandas-profiling` in your data analysis. \n",
    "\n",
    "Remember, although this tool provides excelent insights about the data you're working with, it is not enough to perform a proper analysis."
   ]
  },
  {
   "cell_type": "code",
   "execution_count": null,
   "metadata": {},
   "outputs": [],
   "source": [
    "\n",
    "# ProfileReport(\n",
    "#     df,\n",
    "#     title='Tugas Customer Data Preprocessed',\n",
    "#     correlations={\n",
    "#         \"pearson\": {\"calculate\": True},\n",
    "#         \"spearman\": {\"calculate\": False},\n",
    "#         \"kendall\": {\"calculate\": False},\n",
    "#         \"phi_k\": {\"calculate\": False},\n",
    "#         \"cramers\": {\"calculate\": False},\n",
    "#     },\n",
    "# )"
   ]
  },
  {
   "cell_type": "code",
   "execution_count": null,
   "metadata": {},
   "outputs": [],
   "source": []
  }
 ],
 "metadata": {
  "kernelspec": {
   "display_name": "Fall2526",
   "language": "python",
   "name": "python3"
  },
  "language_info": {
   "codemirror_mode": {
    "name": "ipython",
    "version": 3
   },
   "file_extension": ".py",
   "mimetype": "text/x-python",
   "name": "python",
   "nbconvert_exporter": "python",
   "pygments_lexer": "ipython3",
   "version": "3.12.9"
  },
  "widgets": {
   "application/vnd.jupyter.widget-state+json": {
    "state": {},
    "version_major": 2,
    "version_minor": 0
   }
  }
 },
 "nbformat": 4,
 "nbformat_minor": 4
}
