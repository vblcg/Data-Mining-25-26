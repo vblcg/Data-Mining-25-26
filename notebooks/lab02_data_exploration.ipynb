{
 "cells": [
  {
   "cell_type": "markdown",
   "metadata": {},
   "source": [
    "# Lab 02: Data Exploration"
   ]
  },
  {
   "cell_type": "markdown",
   "metadata": {
    "vscode": {
     "languageId": "yaml"
    }
   },
   "source": [
    "Summary:\n",
    "\n",
    "1. Data Exploration and initial analysis:\n",
    "    - Loading the data.\n",
    "    - Inspecting data shape, column names, and data types, variable types.\n",
    "    - Viewing basic descriptive statistics and unique values.\n",
    "    - Subsetting data by rows and columns, and conditional selection.\n",
    "\n",
    "2. Data Quality Checks:\n",
    "    - Identifying **missing values**.\n",
    "    - Checking and correcting **data types**.\n",
    "    - Detecting and handling **duplicate records**.\n",
    "\n",
    "4. Data Aggregation and Operations:\n",
    "    - Summing and aggregating data by columns and rows.\n",
    "    - Discussing the appropriateness of different operations.\n",
    "\n",
    "5. Visual Exploration:\n",
    "    - Plotting univariate distributions (histograms and box plots) for numeric variables.\n",
    "    - Using matplotlib and seaborn for data visualization.\n",
    "\n",
    "7. Optional Exercise:\n",
    "    - Applying the same analysis steps to the project dataset."
   ]
  },
  {
   "cell_type": "code",
   "execution_count": 1,
   "metadata": {},
   "outputs": [],
   "source": [
    "# Remember: library imports are ALWAYS at the top of the script, no exceptions!\n",
    "import sqlite3\n",
    "import os\n",
    "import pandas as pd\n",
    "import numpy as np\n",
    "import matplotlib.pyplot as plt\n",
    "import seaborn as sns\n",
    "from math import ceil\n",
    "\n",
    "# for better resolution plots\n",
    "%config InlineBackend.figure_format = 'retina' # optionally, you can change 'svg' to 'retina'\n",
    "\n",
    "# Seeting seaborn style\n",
    "sns.set()"
   ]
  },
  {
   "cell_type": "markdown",
   "metadata": {},
   "source": [
    "# Context\n",
    "The data we will be using through the pratical classes comes from a small relational database whose schema can be seen below:\n",
    "![alt text](../figures/schema.png \"Relation database schema\")"
   ]
  },
  {
   "cell_type": "markdown",
   "metadata": {},
   "source": [
    "# Reading the Data"
   ]
  },
  {
   "cell_type": "code",
   "execution_count": 2,
   "metadata": {},
   "outputs": [],
   "source": [
    "# path to database\n",
    "my_path = os.path.join(\"..\", \"data\", \"datamining.db\")\n",
    "\n",
    "# connect to the database\n",
    "conn = sqlite3.connect(my_path)\n",
    "\n",
    "# the query\n",
    "query = \"\"\"\n",
    "select\n",
    "    age, \n",
    "    income, \n",
    "    frq, \n",
    "    rcn, \n",
    "    mnt, \n",
    "    clothes, \n",
    "    kitchen, \n",
    "    small_appliances, \n",
    "    toys, \n",
    "    house_keeping,\n",
    "    dependents, \n",
    "    per_net_purchase,\n",
    "    g.gender, \n",
    "    e.education, \n",
    "    m.status, \n",
    "    r.description\n",
    "from customers as c\n",
    "    join genders as g on g.id = c.gender_id\n",
    "    join education_levels as e on e.id = c.education_id\n",
    "    join marital_status as m on m.id = c.marital_status_id\n",
    "    join recommendations as r on r.id = c.recommendation_id\n",
    "order by c.id;\n",
    "\"\"\"\n",
    "\n",
    "df = pd.read_sql_query(query, conn)"
   ]
  },
  {
   "cell_type": "markdown",
   "metadata": {},
   "source": [
    "# Metadata\n",
    "- *id* - The unique identifier of the customer\n",
    "- *age* - The year of birht of the customer\n",
    "- *income* - The income of the customer\n",
    "- *frq* - Frequency: number of purchases made by the customer\n",
    "- *rcn* - Recency: number of days since last customer purchase\n",
    "- *mnt* - Monetary: amount of € spent by the customer in purchases\n",
    "- *clothes* - Number of clothes items purchased by the customer\n",
    "- *kitchen* - Number of kitchen items purchased by the customer\n",
    "- *small_appliances* - Number of small_appliances items purchased by the customer\n",
    "- *toys* - Number of toys items purchased by the customer\n",
    "- *house_keeping* - Number of house_keeping items purchased by the customer\n",
    "- *dependents* - Binary. Whether or not the customer has dependents\n",
    "- *per_net_purchase* - Percentage of purchases made online\n",
    "- *education* - Education level of the customer\n",
    "- *status* - Marital status of the customer\n",
    "- *gender* - Gender of the customer\n",
    "- *description* - Last customer's recommendation description"
   ]
  },
  {
   "cell_type": "code",
   "execution_count": null,
   "metadata": {},
   "outputs": [],
   "source": []
  },
  {
   "cell_type": "markdown",
   "metadata": {},
   "source": [
    "# Initial Analysis\n",
    "\n",
    "Pandas user guide: https://pandas.pydata.org/pandas-docs/stable/user_guide/index.html\n",
    "\n",
    "Pandas 10 min tutorial: https://pandas.pydata.org/pandas-docs/stable/user_guide/10min.html"
   ]
  },
  {
   "cell_type": "code",
   "execution_count": null,
   "metadata": {},
   "outputs": [],
   "source": []
  },
  {
   "cell_type": "markdown",
   "metadata": {
    "id": "OSW8OXjJoFPr"
   },
   "source": [
    "## What are some characteristics of our data?"
   ]
  },
  {
   "cell_type": "markdown",
   "metadata": {
    "id": "jj2vrVrhU5bA"
   },
   "source": [
    "We can use the `.shape` method to see how much data we have.\n",
    "\n",
    "It returns a tuple with (nrows, ncols)."
   ]
  },
  {
   "cell_type": "code",
   "execution_count": 3,
   "metadata": {
    "id": "Jw0QWzNgVAOw"
   },
   "outputs": [
    {
     "data": {
      "text/plain": [
       "(8998, 16)"
      ]
     },
     "execution_count": 3,
     "metadata": {},
     "output_type": "execute_result"
    }
   ],
   "source": [
    "# Check the shape\n",
    "df.shape"
   ]
  },
  {
   "cell_type": "code",
   "execution_count": 4,
   "metadata": {},
   "outputs": [
    {
     "data": {
      "text/plain": [
       "Index(['age', 'income', 'frq', 'rcn', 'mnt', 'clothes', 'kitchen',\n",
       "       'small_appliances', 'toys', 'house_keeping', 'dependents',\n",
       "       'per_net_purchase', 'gender', 'education', 'status', 'description'],\n",
       "      dtype='object')"
      ]
     },
     "execution_count": 4,
     "metadata": {},
     "output_type": "execute_result"
    }
   ],
   "source": [
    "# How to get the names of the columns of the data?\n",
    "df.columns"
   ]
  },
  {
   "cell_type": "markdown",
   "metadata": {
    "id": "rqiPuB2DkOou"
   },
   "source": [
    "We can use the `.info()` method to get some information about the dataset we have."
   ]
  },
  {
   "cell_type": "code",
   "execution_count": 5,
   "metadata": {
    "id": "PjoFnHEhi0Mx"
   },
   "outputs": [
    {
     "name": "stdout",
     "output_type": "stream",
     "text": [
      "<class 'pandas.core.frame.DataFrame'>\n",
      "RangeIndex: 8998 entries, 0 to 8997\n",
      "Data columns (total 16 columns):\n",
      " #   Column            Non-Null Count  Dtype \n",
      "---  ------            --------------  ----- \n",
      " 0   age               8998 non-null   int64 \n",
      " 1   income            8998 non-null   object\n",
      " 2   frq               8998 non-null   int64 \n",
      " 3   rcn               8998 non-null   int64 \n",
      " 4   mnt               8998 non-null   int64 \n",
      " 5   clothes           8998 non-null   int64 \n",
      " 6   kitchen           8998 non-null   int64 \n",
      " 7   small_appliances  8998 non-null   int64 \n",
      " 8   toys              8998 non-null   int64 \n",
      " 9   house_keeping     8998 non-null   int64 \n",
      " 10  dependents        8998 non-null   object\n",
      " 11  per_net_purchase  8998 non-null   int64 \n",
      " 12  gender            8998 non-null   object\n",
      " 13  education         8998 non-null   object\n",
      " 14  status            8998 non-null   object\n",
      " 15  description       8998 non-null   object\n",
      "dtypes: int64(10), object(6)\n",
      "memory usage: 1.1+ MB\n"
     ]
    }
   ],
   "source": [
    "# Check the info\n",
    "df.info()"
   ]
  },
  {
   "cell_type": "markdown",
   "metadata": {
    "id": "DvPIclHK_oPr"
   },
   "source": [
    "What do these mean?\n",
    "\n",
    "- Non-Null Count\n",
    "- Dtype\n",
    "    - object\n",
    "    - float64\n",
    "    - bool\n"
   ]
  },
  {
   "cell_type": "markdown",
   "metadata": {
    "id": "XlAyr0tdWhst"
   },
   "source": [
    "Let's look at datatypes more closely.\n",
    "\n",
    "Do their values look correct?\n",
    "\n",
    "*Hint* compare the dtypes with the provided metadata."
   ]
  },
  {
   "cell_type": "code",
   "execution_count": 8,
   "metadata": {
    "id": "P0gYXIX6WkY9"
   },
   "outputs": [],
   "source": [
    "# Check data types\n"
   ]
  },
  {
   "cell_type": "markdown",
   "metadata": {
    "id": "Mz19cAVn_897"
   },
   "source": [
    "We can use the `.describe()` method to calculate the basic descriptive statistics of our data."
   ]
  },
  {
   "cell_type": "code",
   "execution_count": null,
   "metadata": {
    "id": "OC-8gX8Pd05a"
   },
   "outputs": [
    {
     "data": {
      "text/html": [
       "<div>\n",
       "<style scoped>\n",
       "    .dataframe tbody tr th:only-of-type {\n",
       "        vertical-align: middle;\n",
       "    }\n",
       "\n",
       "    .dataframe tbody tr th {\n",
       "        vertical-align: top;\n",
       "    }\n",
       "\n",
       "    .dataframe thead th {\n",
       "        text-align: right;\n",
       "    }\n",
       "</style>\n",
       "<table border=\"1\" class=\"dataframe\">\n",
       "  <thead>\n",
       "    <tr style=\"text-align: right;\">\n",
       "      <th></th>\n",
       "      <th>age</th>\n",
       "      <th>frq</th>\n",
       "      <th>rcn</th>\n",
       "      <th>mnt</th>\n",
       "      <th>clothes</th>\n",
       "      <th>kitchen</th>\n",
       "      <th>small_appliances</th>\n",
       "      <th>toys</th>\n",
       "      <th>house_keeping</th>\n",
       "      <th>per_net_purchase</th>\n",
       "    </tr>\n",
       "  </thead>\n",
       "  <tbody>\n",
       "    <tr>\n",
       "      <th>count</th>\n",
       "      <td>8998.000000</td>\n",
       "      <td>8998.000000</td>\n",
       "      <td>8998.000000</td>\n",
       "      <td>8998.000000</td>\n",
       "      <td>8998.000000</td>\n",
       "      <td>8998.000000</td>\n",
       "      <td>8998.000000</td>\n",
       "      <td>8998.000000</td>\n",
       "      <td>8998.000000</td>\n",
       "      <td>8998.000000</td>\n",
       "    </tr>\n",
       "    <tr>\n",
       "      <th>mean</th>\n",
       "      <td>1966.059680</td>\n",
       "      <td>19.848077</td>\n",
       "      <td>62.469771</td>\n",
       "      <td>622.162814</td>\n",
       "      <td>50.446655</td>\n",
       "      <td>7.039675</td>\n",
       "      <td>28.524116</td>\n",
       "      <td>7.036897</td>\n",
       "      <td>6.929984</td>\n",
       "      <td>42.428984</td>\n",
       "    </tr>\n",
       "    <tr>\n",
       "      <th>std</th>\n",
       "      <td>17.296552</td>\n",
       "      <td>10.903435</td>\n",
       "      <td>69.761802</td>\n",
       "      <td>646.768205</td>\n",
       "      <td>23.422249</td>\n",
       "      <td>7.848139</td>\n",
       "      <td>12.586437</td>\n",
       "      <td>7.924422</td>\n",
       "      <td>7.882655</td>\n",
       "      <td>18.495742</td>\n",
       "    </tr>\n",
       "    <tr>\n",
       "      <th>min</th>\n",
       "      <td>1936.000000</td>\n",
       "      <td>3.000000</td>\n",
       "      <td>0.000000</td>\n",
       "      <td>6.000000</td>\n",
       "      <td>1.000000</td>\n",
       "      <td>0.000000</td>\n",
       "      <td>1.000000</td>\n",
       "      <td>0.000000</td>\n",
       "      <td>0.000000</td>\n",
       "      <td>4.000000</td>\n",
       "    </tr>\n",
       "    <tr>\n",
       "      <th>25%</th>\n",
       "      <td>1951.000000</td>\n",
       "      <td>10.000000</td>\n",
       "      <td>26.000000</td>\n",
       "      <td>63.000000</td>\n",
       "      <td>33.000000</td>\n",
       "      <td>2.000000</td>\n",
       "      <td>19.000000</td>\n",
       "      <td>2.000000</td>\n",
       "      <td>2.000000</td>\n",
       "      <td>28.000000</td>\n",
       "    </tr>\n",
       "    <tr>\n",
       "      <th>50%</th>\n",
       "      <td>1966.000000</td>\n",
       "      <td>17.000000</td>\n",
       "      <td>53.000000</td>\n",
       "      <td>383.000000</td>\n",
       "      <td>51.000000</td>\n",
       "      <td>4.000000</td>\n",
       "      <td>28.000000</td>\n",
       "      <td>4.000000</td>\n",
       "      <td>4.000000</td>\n",
       "      <td>45.000000</td>\n",
       "    </tr>\n",
       "    <tr>\n",
       "      <th>75%</th>\n",
       "      <td>1981.000000</td>\n",
       "      <td>28.000000</td>\n",
       "      <td>79.000000</td>\n",
       "      <td>1076.000000</td>\n",
       "      <td>69.000000</td>\n",
       "      <td>10.000000</td>\n",
       "      <td>37.000000</td>\n",
       "      <td>10.000000</td>\n",
       "      <td>9.000000</td>\n",
       "      <td>57.000000</td>\n",
       "    </tr>\n",
       "    <tr>\n",
       "      <th>max</th>\n",
       "      <td>1996.000000</td>\n",
       "      <td>59.000000</td>\n",
       "      <td>549.000000</td>\n",
       "      <td>3052.000000</td>\n",
       "      <td>99.000000</td>\n",
       "      <td>75.000000</td>\n",
       "      <td>74.000000</td>\n",
       "      <td>62.000000</td>\n",
       "      <td>77.000000</td>\n",
       "      <td>88.000000</td>\n",
       "    </tr>\n",
       "  </tbody>\n",
       "</table>\n",
       "</div>"
      ],
      "text/plain": [
       "               age          frq          rcn          mnt      clothes  \\\n",
       "count  8998.000000  8998.000000  8998.000000  8998.000000  8998.000000   \n",
       "mean   1966.059680    19.848077    62.469771   622.162814    50.446655   \n",
       "std      17.296552    10.903435    69.761802   646.768205    23.422249   \n",
       "min    1936.000000     3.000000     0.000000     6.000000     1.000000   \n",
       "25%    1951.000000    10.000000    26.000000    63.000000    33.000000   \n",
       "50%    1966.000000    17.000000    53.000000   383.000000    51.000000   \n",
       "75%    1981.000000    28.000000    79.000000  1076.000000    69.000000   \n",
       "max    1996.000000    59.000000   549.000000  3052.000000    99.000000   \n",
       "\n",
       "           kitchen  small_appliances         toys  house_keeping  \\\n",
       "count  8998.000000       8998.000000  8998.000000    8998.000000   \n",
       "mean      7.039675         28.524116     7.036897       6.929984   \n",
       "std       7.848139         12.586437     7.924422       7.882655   \n",
       "min       0.000000          1.000000     0.000000       0.000000   \n",
       "25%       2.000000         19.000000     2.000000       2.000000   \n",
       "50%       4.000000         28.000000     4.000000       4.000000   \n",
       "75%      10.000000         37.000000    10.000000       9.000000   \n",
       "max      75.000000         74.000000    62.000000      77.000000   \n",
       "\n",
       "       per_net_purchase  \n",
       "count       8998.000000  \n",
       "mean          42.428984  \n",
       "std           18.495742  \n",
       "min            4.000000  \n",
       "25%           28.000000  \n",
       "50%           45.000000  \n",
       "75%           57.000000  \n",
       "max           88.000000  "
      ]
     },
     "execution_count": 9,
     "metadata": {},
     "output_type": "execute_result"
    }
   ],
   "source": [
    "# Check the descriptive statics\n",
    "df.describe()\n",
    "# tentar tirar valores que possam ser interessantes (average)\n",
    "# tentar encontrar valores inconsistentes "
   ]
  },
  {
   "cell_type": "markdown",
   "metadata": {
    "id": "-W5jMNCXBPSp"
   },
   "source": [
    "By default `.describe()` only considers numeric features."
   ]
  },
  {
   "cell_type": "code",
   "execution_count": null,
   "metadata": {
    "id": "Fl2TTESJkF07"
   },
   "outputs": [],
   "source": [
    "## Modify the .describe() method to check object types\n",
    "\n"
   ]
  },
  {
   "cell_type": "code",
   "execution_count": null,
   "metadata": {
    "id": "Fl2TTESJkF07"
   },
   "outputs": [],
   "source": [
    "## Modify the .describe() method to check all data types\n",
    "\n"
   ]
  },
  {
   "cell_type": "code",
   "execution_count": null,
   "metadata": {},
   "outputs": [],
   "source": []
  },
  {
   "cell_type": "code",
   "execution_count": null,
   "metadata": {},
   "outputs": [],
   "source": [
    "# Use these cells to further explore the dataset\n",
    "# CODE HERE"
   ]
  },
  {
   "cell_type": "markdown",
   "metadata": {},
   "source": [
    "## Let's do some operations on our data"
   ]
  },
  {
   "cell_type": "markdown",
   "metadata": {
    "id": "AhPoIQDNBcgs"
   },
   "source": [
    "### Taking a subset of data\n",
    "\n",
    "You can take a subset with fewer columns by giving a **list** of features:"
   ]
  },
  {
   "cell_type": "code",
   "execution_count": null,
   "metadata": {
    "id": "__BXNdwxBgDo"
   },
   "outputs": [],
   "source": [
    "## Notice that we use two sets of square brackets\n",
    "\n",
    "df[['age', 'education']]"
   ]
  },
  {
   "cell_type": "markdown",
   "metadata": {
    "id": "Z_o-dIDlFxVK"
   },
   "source": [
    "You can select a single column of data by providing the name of a single column. This returns a \"Series\", instead of a DataFrame."
   ]
  },
  {
   "cell_type": "code",
   "execution_count": null,
   "metadata": {},
   "outputs": [],
   "source": [
    "# How to get the values of one column of data?\n",
    "# Different ways to access the values of a column\n"
   ]
  },
  {
   "cell_type": "code",
   "execution_count": null,
   "metadata": {
    "id": "FtLBSpKOBgL_"
   },
   "outputs": [],
   "source": [
    "\n",
    "df['age']"
   ]
  },
  {
   "cell_type": "code",
   "execution_count": null,
   "metadata": {
    "id": "NH94_CkIGLjY"
   },
   "outputs": [],
   "source": [
    "## Notice the difference\n",
    "\n",
    "df[['age']]"
   ]
  },
  {
   "cell_type": "code",
   "execution_count": null,
   "metadata": {},
   "outputs": [],
   "source": [
    "# How to get the unique values of one column of data?\n",
    "\n",
    "df['education'].unique()\n"
   ]
  },
  {
   "cell_type": "markdown",
   "metadata": {
    "id": "VdcvPUwCGrvU"
   },
   "source": [
    "#### What about a subset of rows?"
   ]
  },
  {
   "cell_type": "code",
   "execution_count": null,
   "metadata": {
    "id": "7CreEhBkGuhC"
   },
   "outputs": [],
   "source": [
    "df.loc[[0,1,2,3,4]]"
   ]
  },
  {
   "cell_type": "code",
   "execution_count": null,
   "metadata": {
    "id": "uWItyeZQGudM"
   },
   "outputs": [],
   "source": [
    "df.loc[[10,11,12,13,14]]\n"
   ]
  },
  {
   "cell_type": "code",
   "execution_count": null,
   "metadata": {
    "id": "R6FjM3gMGuWe"
   },
   "outputs": [],
   "source": [
    "## .loc also works for column subsets\n",
    "\n",
    "df.loc[[0,1,2,3,4], ['age', 'education']]"
   ]
  },
  {
   "cell_type": "code",
   "execution_count": null,
   "metadata": {
    "id": "_UTZU3w_HzQq"
   },
   "outputs": [],
   "source": [
    "## Can you guess what this means?\n",
    "\n",
    "df.loc[:,:]\n"
   ]
  },
  {
   "cell_type": "markdown",
   "metadata": {
    "id": "rObWRZg4IRn5"
   },
   "source": [
    "#### What about a subset based on a condition?\n",
    "\n",
    "I want the customers with Age < 40"
   ]
  },
  {
   "cell_type": "code",
   "execution_count": null,
   "metadata": {
    "id": "kBmWIh7LIV57"
   },
   "outputs": [],
   "source": [
    "df.loc[df['age'] > (2025-40) ]"
   ]
  },
  {
   "cell_type": "code",
   "execution_count": null,
   "metadata": {},
   "outputs": [],
   "source": [
    "## Let's break this down\n",
    "\n",
    "age = 40\n",
    "birthyear = (2025-age)\n",
    "birthyear"
   ]
  },
  {
   "cell_type": "code",
   "execution_count": null,
   "metadata": {
    "id": "ZIyL4ZSoI36V"
   },
   "outputs": [],
   "source": [
    "## Let's break this down\n",
    "\n"
   ]
  },
  {
   "cell_type": "code",
   "execution_count": null,
   "metadata": {
    "id": "6k0IEMR2IV2C"
   },
   "outputs": [],
   "source": [
    "## Let's break this down\n",
    "\n"
   ]
  },
  {
   "cell_type": "code",
   "execution_count": null,
   "metadata": {
    "id": "E9U9qUGyIVy5"
   },
   "outputs": [],
   "source": [
    "## Let's break this down\n",
    "\n"
   ]
  },
  {
   "cell_type": "markdown",
   "metadata": {
    "id": "ItDDuS_1SNZr"
   },
   "source": [
    "### Aggregating data\n",
    "\n",
    "We can perform mathematical operations on our data"
   ]
  },
  {
   "cell_type": "code",
   "execution_count": null,
   "metadata": {
    "id": "NJcqr3_USVPS"
   },
   "outputs": [],
   "source": [
    "df['age'].sum()"
   ]
  },
  {
   "cell_type": "code",
   "execution_count": null,
   "metadata": {
    "id": "5lZoaGeFSVVb"
   },
   "outputs": [],
   "source": [
    "## Does it make sense to do this?\n",
    "\n",
    "df.sum(numeric_only=True)"
   ]
  },
  {
   "cell_type": "code",
   "execution_count": null,
   "metadata": {
    "id": "IVZ6c04sStHi"
   },
   "outputs": [],
   "source": [
    "## Think of other operations to try: \n",
    "## Add two columns together: frq and mnt\n",
    "\n",
    "## Does this make sense?\n"
   ]
  },
  {
   "cell_type": "markdown",
   "metadata": {
    "id": "L6ctglJ2S2Je"
   },
   "source": [
    "You can also do this by row"
   ]
  },
  {
   "cell_type": "code",
   "execution_count": null,
   "metadata": {
    "id": "yp_tSVY4SypO"
   },
   "outputs": [],
   "source": [
    "## Sum by column\n",
    "\n",
    "df.sum(numeric_only=True)"
   ]
  },
  {
   "cell_type": "code",
   "execution_count": null,
   "metadata": {
    "id": "Toq_lcNMS_Wu"
   },
   "outputs": [],
   "source": [
    "## Sum by row\n",
    "## Notice the difference\n",
    "\n",
    "df.sum(numeric_only=True, axis=1)"
   ]
  },
  {
   "cell_type": "markdown",
   "metadata": {
    "id": "tigCvTEUTYWG"
   },
   "source": [
    "Discussion:\n",
    "\n",
    "Does it make sense to add all the numeric features in one row?"
   ]
  },
  {
   "cell_type": "markdown",
   "metadata": {},
   "source": [
    "## Take a closer look and point out possible problems\n"
   ]
  },
  {
   "cell_type": "code",
   "execution_count": null,
   "metadata": {},
   "outputs": [],
   "source": [
    "df.describe()\n"
   ]
  },
  {
   "cell_type": "code",
   "execution_count": null,
   "metadata": {},
   "outputs": [],
   "source": [
    "df.describe(include='object')"
   ]
  },
  {
   "cell_type": "code",
   "execution_count": null,
   "metadata": {},
   "outputs": [],
   "source": [
    "df.head()"
   ]
  },
  {
   "cell_type": "markdown",
   "metadata": {},
   "source": [
    "### Missing Values\n",
    "\n",
    "(hint: a missing values in pandas is represented with a NaN value)"
   ]
  },
  {
   "cell_type": "markdown",
   "metadata": {
    "id": "zbXzS8_aVeFm"
   },
   "source": [
    "We can use the `.isna()` method to see if we have missing values."
   ]
  },
  {
   "cell_type": "code",
   "execution_count": null,
   "metadata": {
    "id": "YUZbirUEVjKF"
   },
   "outputs": [],
   "source": [
    "## .isna() returns True if the value in that cell is missing, and False otherwise.\n",
    "\n",
    "df.isna()\n",
    "\n",
    "## Is this helpful?"
   ]
  },
  {
   "cell_type": "code",
   "execution_count": null,
   "metadata": {
    "id": "0EOFMwBTVxrD"
   },
   "outputs": [],
   "source": [
    "## .isna() returns True if the value in that cell is missing, and False otherwise.\n",
    "\n",
    "df.isna().sum()\n",
    "\n",
    "## What does this mean?\n",
    "## Is this helpful?"
   ]
  },
  {
   "cell_type": "code",
   "execution_count": null,
   "metadata": {},
   "outputs": [],
   "source": [
    "# count of missing values\n",
    "df.isna().sum()"
   ]
  },
  {
   "cell_type": "code",
   "execution_count": null,
   "metadata": {},
   "outputs": [],
   "source": [
    "# replace \"\" by nans\n",
    "df.replace(\"\", np.nan, inplace=True)\n",
    "\n",
    "# count of missing values\n",
    "df.isna().sum()"
   ]
  },
  {
   "cell_type": "markdown",
   "metadata": {},
   "source": [
    "### Data Types"
   ]
  },
  {
   "cell_type": "code",
   "execution_count": null,
   "metadata": {},
   "outputs": [],
   "source": [
    "# check dataset data types again\n",
    "df.dtypes"
   ]
  },
  {
   "cell_type": "code",
   "execution_count": null,
   "metadata": {},
   "outputs": [],
   "source": [
    "# fix wrong dtypes\n",
    "df.dependents = df.dependents.astype(\"boolean\")  # converting to \"boolean\" over \"bool\" allows preservation of NaNs"
   ]
  },
  {
   "cell_type": "code",
   "execution_count": null,
   "metadata": {},
   "outputs": [],
   "source": [
    "# check descriptive statistics again\n",
    "df.describe(include=\"all\").T"
   ]
  },
  {
   "cell_type": "markdown",
   "metadata": {},
   "source": [
    "### Duplicates"
   ]
  },
  {
   "cell_type": "code",
   "execution_count": null,
   "metadata": {},
   "outputs": [],
   "source": [
    "# duplicated observations\n",
    "df.duplicated().sum()"
   ]
  },
  {
   "cell_type": "markdown",
   "metadata": {},
   "source": [
    "*What would it look like if we had duplicates?*\n",
    "\n",
    "https://pandas.pydata.org/docs/reference/api/pandas.DataFrame.duplicated.html\n",
    "\n",
    "https://pandas.pydata.org/docs/reference/api/pandas.DataFrame.drop_duplicates.html\n"
   ]
  },
  {
   "cell_type": "code",
   "execution_count": null,
   "metadata": {},
   "outputs": [],
   "source": [
    "df_dupes = pd.DataFrame({\n",
    "     'brand': ['Yum Yum', 'Yum Yum', 'Indomie', 'Indomie', 'Indomie'],\n",
    "     'style': ['cup', 'cup', 'cup', 'pack', 'pack'],\n",
    "     'rating': [4, 4, 3.5, 15, 5]\n",
    "})\n",
    "\n",
    "df_dupes"
   ]
  },
  {
   "cell_type": "code",
   "execution_count": null,
   "metadata": {},
   "outputs": [],
   "source": []
  },
  {
   "cell_type": "code",
   "execution_count": null,
   "metadata": {},
   "outputs": [],
   "source": [
    "# duplicated observations\n",
    "df_dupes.duplicated().sum()"
   ]
  },
  {
   "cell_type": "code",
   "execution_count": null,
   "metadata": {},
   "outputs": [],
   "source": [
    "df_dupes.drop_duplicates()"
   ]
  },
  {
   "cell_type": "code",
   "execution_count": null,
   "metadata": {},
   "outputs": [],
   "source": []
  },
  {
   "cell_type": "markdown",
   "metadata": {},
   "source": [
    "## Take a closer look and point out possible problems:\n",
    "\n",
    "- Duplicates?\n",
    "- Data types?\n",
    "- Missing values?\n",
    "- Strange values?\n",
    "- Descriptive statistics?\n",
    "\n"
   ]
  },
  {
   "cell_type": "markdown",
   "metadata": {},
   "source": [
    "# Visual Exploration\n",
    "\n",
    "Matplotlib tutorials: https://matplotlib.org/stable/tutorials/index.html\n",
    "\n",
    "Matplotlib gallery: https://matplotlib.org/stable/gallery/index.html\n",
    "\n",
    "Seaborn tutorials: https://seaborn.pydata.org/tutorial.html\n",
    "\n",
    "\n",
    "Seaborn gallery: https://seaborn.pydata.org/examples/index.html\n",
    "\n",
    "### Matplotlib vs Seaborn:\n",
    "\n",
    "**Matplotlib** - lower level. allows to fully customize the plot appearance\n",
    "\n",
    "**Seaborn** - higher level. Complex off-the-shelf plots with one line. Matplotlib on steroids\n"
   ]
  },
  {
   "cell_type": "code",
   "execution_count": null,
   "metadata": {},
   "outputs": [],
   "source": [
    "# Define metric and non-metric features. Why?\n",
    "non_metric_features = [\"education\", \"status\", \"gender\", \"dependents\", \"description\"]\n",
    "metric_features = df.columns.drop(non_metric_features).to_list()"
   ]
  },
  {
   "cell_type": "markdown",
   "metadata": {},
   "source": [
    "## Pyplot-style vs Object-Oriented-style\n",
    "- Explicitly create figures and axes, and call methods on them (the \"object-oriented (OO) style\").\n",
    "- Rely on pyplot to automatically create and manage the figures and axes, and use pyplot functions for plotting.\n",
    "\n",
    "More details: https://matplotlib.org/matplotblog/posts/pyplot-vs-object-oriented-interface/"
   ]
  },
  {
   "cell_type": "markdown",
   "metadata": {},
   "source": [
    "## Numeric Variables' Univariate Distribution"
   ]
  },
  {
   "cell_type": "code",
   "execution_count": null,
   "metadata": {},
   "outputs": [],
   "source": [
    "# Single Metric Variable Histogram\n",
    "plt.hist(df[\"age\"], bins=10)  # mess around with the bins\n",
    "plt.title(\"age\", y=-0.2)\n",
    "\n",
    "plt.show()"
   ]
  },
  {
   "cell_type": "code",
   "execution_count": null,
   "metadata": {},
   "outputs": [],
   "source": [
    "# Single Metric Variable Box Plot\n",
    "sns.boxplot(y=df[\"age\"])\n",
    "\n",
    "plt.show()"
   ]
  },
  {
   "cell_type": "markdown",
   "metadata": {},
   "source": [
    "What information can we extract from the plot above?"
   ]
  },
  {
   "cell_type": "code",
   "execution_count": null,
   "metadata": {},
   "outputs": [],
   "source": [
    "# All Numeric Variables' Histograms in one figure\n",
    "sns.set()\n",
    "\n",
    "# Prepare figure. Create individual axes where each histogram will be placed\n",
    "fig, axes = plt.subplots(2, ceil(len(metric_features) / 2), figsize=(20, 11))\n",
    "\n",
    "# Plot data\n",
    "# Iterate across axes objects and associate each histogram (hint: use the ax.hist() instead of plt.hist()):\n",
    "for ax, feat in zip(axes.flatten(), metric_features): # Notice the zip() function and flatten() method\n",
    "    # CODE HERE (extra: set each axis title as the feature name)\n",
    "    \n",
    "# Layout\n",
    "# Add a centered title to the figure:\n",
    "title = \"Numeric Variables' Histograms\"\n",
    "\n",
    "plt.suptitle(title)\n",
    "\n",
    "plt.show()"
   ]
  },
  {
   "cell_type": "code",
   "execution_count": null,
   "metadata": {},
   "outputs": [],
   "source": [
    "# All Numeric Variables' Box Plots in one figure\n",
    "sns.set()\n",
    "\n",
    "# Prepare figure. Create individual axes where each box plot will be placed\n",
    "fig, axes = plt.subplots(2, ceil(len(metric_features) / 2), figsize=(20, 13))\n",
    "\n",
    "# Plot data\n",
    "# Iterate across axes objects and associate each box plot (hint: use the ax argument):\n",
    "for ax, feat in zip(axes.flatten(), metric_features): # Notice the zip() function and flatten() method\n",
    "    # CODE HERE\n",
    "    \n",
    "# Layout\n",
    "# Add a centered title to the figure:\n",
    "title = 'Numeric Variables\\' Box Plots' # notice the \"\\\"\n",
    "\n",
    "# CODE HERE\n",
    "plt.show()"
   ]
  },
  {
   "cell_type": "markdown",
   "metadata": {},
   "source": [
    "### Insights:\n",
    "- univariate distributions\n",
    "- potential univariate outliers\n",
    "\n",
    "--------------------------------------"
   ]
  },
  {
   "cell_type": "markdown",
   "metadata": {},
   "source": [
    "### During our Exploratory Data Analysis (EDA), we must also account for:\n",
    "- Coherence check\n",
    "- Outliers\n",
    "- Feature Engineering"
   ]
  },
  {
   "cell_type": "markdown",
   "metadata": {},
   "source": [
    "### Depending on the context, various steps must be considered when performing Data Preprocessing. \n",
    "\n",
    "The most relevant steps are the following:\n",
    "- Coherence check (find inconsistent values, missing values, outliers and any other problem you may find in your dataset)\n",
    "- Data editing (fix inconsistent values)\n",
    "- Data cleansing (drop observations - Outlier removal and removal of inconsistent values and/or features)\n",
    "- Data wrangling (feature extraction/engineering and transformation)\n",
    "- Data reduction (reducing the dimensionality of a dataset, producing summary statistics, reducing the number of records in a dataset)"
   ]
  },
  {
   "cell_type": "markdown",
   "metadata": {},
   "source": [
    "## Optional Exercise\n",
    "\n",
    "Download the [Amazing Internation Airlines Inc dataset](https://elearning.novaims.unl.pt/mod/folder/view.php?id=96622). Using the  `DM_AIAI_FlightsDB.csv\n",
    "` and the `DM_AIAI_CustomerDB.csv`  file, perform the same exercises that we did in this notebook.\n",
    "\n",
    "Identify the metric and non-metric features in this dataset.\n",
    "\n",
    "Identify if any problems exist:\n",
    "\n",
    "- Duplicates?\n",
    "- Data types?\n",
    "- Missing values?\n",
    "- Strange values?\n",
    "- Descriptive statistics?\n"
   ]
  },
  {
   "cell_type": "code",
   "execution_count": null,
   "metadata": {},
   "outputs": [],
   "source": [
    "# please use pd.read_csv()\n",
    "# try to note from if the separator is , or ; or \\t"
   ]
  }
 ],
 "metadata": {
  "kernelspec": {
   "display_name": "DM2526",
   "language": "python",
   "name": "python3"
  },
  "language_info": {
   "codemirror_mode": {
    "name": "ipython",
    "version": 3
   },
   "file_extension": ".py",
   "mimetype": "text/x-python",
   "name": "python",
   "nbconvert_exporter": "python",
   "pygments_lexer": "ipython3",
   "version": "3.12.11"
  },
  "widgets": {
   "application/vnd.jupyter.widget-state+json": {
    "state": {},
    "version_major": 2,
    "version_minor": 0
   }
  }
 },
 "nbformat": 4,
 "nbformat_minor": 4
}
