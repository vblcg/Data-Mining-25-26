{
 "cells": [
  {
   "cell_type": "code",
   "execution_count": 457,
   "metadata": {},
   "outputs": [],
   "source": [
    "# Remember: library imports are ALWAYS at the top of the script, no exceptions!\n",
    "import sqlite3\n",
    "import os\n",
    "import pandas as pd\n",
    "import numpy as np\n",
    "\n",
    "import matplotlib.pyplot as plt\n",
    "import seaborn as sns\n",
    "from math import ceil\n",
    "\n",
    "from itertools import product\n",
    "from scipy.stats import skewnorm\n",
    "\n",
    "from datetime import datetime\n",
    "from sklearn.impute import KNNImputer\n",
    "\n",
    "# for better resolution plots\n",
    "%config InlineBackend.figure_format = 'retina' # optionally, you can change 'svg' to 'retina'\n",
    "\n",
    "# Setting seaborn style\n",
    "sns.set()"
   ]
  },
  {
   "cell_type": "markdown",
   "metadata": {},
   "source": [
    "# Context\n",
    "The data we will be using through the pratical classes comes from a small relational database whose schema can be seen below:\n",
    "![alt text](../figures/schema.png \"Relation database schema\")"
   ]
  },
  {
   "cell_type": "markdown",
   "metadata": {},
   "source": [
    "# Reading the Data"
   ]
  },
  {
   "cell_type": "code",
   "execution_count": 458,
   "metadata": {},
   "outputs": [],
   "source": [
    "# path to database\n",
    "my_path = os.path.join(\"..\", \"data\", \"datamining.db\")\n",
    "\n",
    "# connect to the database\n",
    "conn = sqlite3.connect(my_path)\n",
    "\n",
    "# the query\n",
    "query = \"\"\"\n",
    "select\n",
    "    age, \n",
    "    income, \n",
    "    frq, \n",
    "    rcn, \n",
    "    mnt, \n",
    "    clothes, \n",
    "    kitchen, \n",
    "    small_appliances, \n",
    "    toys, \n",
    "    house_keeping,\n",
    "    dependents, \n",
    "    per_net_purchase,\n",
    "    g.gender, \n",
    "    e.education, \n",
    "    m.status, \n",
    "    r.description\n",
    "from customers as c\n",
    "    join genders as g on g.id = c.gender_id\n",
    "    join education_levels as e on e.id = c.education_id\n",
    "    join marital_status as m on m.id = c.marital_status_id\n",
    "    join recommendations as r on r.id = c.recommendation_id\n",
    "order by c.id;\n",
    "\"\"\"\n",
    "\n",
    "df = pd.read_sql_query(query, conn)"
   ]
  },
  {
   "cell_type": "markdown",
   "metadata": {},
   "source": [
    "## Make a copy of your original dataset\n",
    "\n",
    "why?"
   ]
  },
  {
   "cell_type": "code",
   "execution_count": 459,
   "metadata": {},
   "outputs": [],
   "source": [
    "df_original = df.copy()"
   ]
  },
  {
   "cell_type": "markdown",
   "metadata": {},
   "source": [
    "# Metadata\n",
    "- *id* - The unique identifier of the customer\n",
    "- *age* - The year of birht of the customer\n",
    "- *income* - The income of the customer\n",
    "- *frq* - Frequency: number of purchases made by the customer\n",
    "- *rcn* - Recency: number of days since last customer purchase\n",
    "- *mnt* - Monetary: amount of € spent by the customer in purchases\n",
    "- *clothes* - Number of clothes items purchased by the customer\n",
    "- *kitchen* - Number of kitchen items purchased by the customer\n",
    "- *small_appliances* - Number of small_appliances items purchased by the customer\n",
    "- *toys* - Number of toys items purchased by the customer\n",
    "- *house_keeping* - Number of house_keeping items purchased by the customer\n",
    "- *dependents* - Binary. Whether or not the customer has dependents\n",
    "- *per_net_purchase* - Percentage of purchases made online\n",
    "- *education* - Education level of the customer\n",
    "- *status* - Marital status of the customer\n",
    "- *gender* - Gender of the customer\n",
    "- *description* - Last customer's recommendation description"
   ]
  },
  {
   "cell_type": "markdown",
   "metadata": {},
   "source": [
    "# Problems:\n",
    "- Duplicates?\n",
    "- Data types?\n",
    "- Missing values?\n",
    "- Strange values?\n",
    "- Descriptive statistics?\n",
    "\n",
    "### Take a closer look and point out possible problems:\n",
    "\n",
    "(hint: a missing values in pandas is represented with a NaN value)"
   ]
  },
  {
   "cell_type": "markdown",
   "metadata": {},
   "source": [
    "## Replicating modifications from previous notebook"
   ]
  },
  {
   "cell_type": "code",
   "execution_count": 460,
   "metadata": {},
   "outputs": [
    {
     "name": "stderr",
     "output_type": "stream",
     "text": [
      "/var/folders/jb/jm3xb4f53hs9mcvbg93nks7h0000gn/T/ipykernel_11548/3385904135.py:2: FutureWarning: Downcasting behavior in `replace` is deprecated and will be removed in a future version. To retain the old behavior, explicitly call `result.infer_objects(copy=False)`. To opt-in to the future behavior, set `pd.set_option('future.no_silent_downcasting', True)`\n",
      "  df.replace(\"\", np.nan, inplace=True)\n"
     ]
    },
    {
     "data": {
      "application/vnd.microsoft.datawrangler.viewer.v0+json": {
       "columns": [
        {
         "name": "index",
         "rawType": "object",
         "type": "string"
        },
        {
         "name": "0",
         "rawType": "int64",
         "type": "integer"
        }
       ],
       "ref": "9b9ed22a-b3e1-4b45-9840-1b73f594d280",
       "rows": [
        [
         "age",
         "0"
        ],
        [
         "income",
         "46"
        ],
        [
         "frq",
         "0"
        ],
        [
         "rcn",
         "0"
        ],
        [
         "mnt",
         "0"
        ],
        [
         "clothes",
         "0"
        ],
        [
         "kitchen",
         "0"
        ],
        [
         "small_appliances",
         "0"
        ],
        [
         "toys",
         "0"
        ],
        [
         "house_keeping",
         "0"
        ],
        [
         "dependents",
         "282"
        ],
        [
         "per_net_purchase",
         "0"
        ],
        [
         "gender",
         "0"
        ],
        [
         "education",
         "47"
        ],
        [
         "status",
         "177"
        ],
        [
         "description",
         "0"
        ]
       ],
       "shape": {
        "columns": 1,
        "rows": 16
       }
      },
      "text/plain": [
       "age                   0\n",
       "income               46\n",
       "frq                   0\n",
       "rcn                   0\n",
       "mnt                   0\n",
       "clothes               0\n",
       "kitchen               0\n",
       "small_appliances      0\n",
       "toys                  0\n",
       "house_keeping         0\n",
       "dependents          282\n",
       "per_net_purchase      0\n",
       "gender                0\n",
       "education            47\n",
       "status              177\n",
       "description           0\n",
       "dtype: int64"
      ]
     },
     "execution_count": 460,
     "metadata": {},
     "output_type": "execute_result"
    }
   ],
   "source": [
    "# replace \"\" by nans\n",
    "df.replace(\"\", np.nan, inplace=True)\n",
    "\n",
    "# count of missing values\n",
    "df.isna().sum()"
   ]
  },
  {
   "cell_type": "code",
   "execution_count": 461,
   "metadata": {},
   "outputs": [],
   "source": [
    "# fix wrong dtypes\n",
    "df.dependents = df.dependents.astype(\"boolean\")  # converting to \"boolean\" over \"bool\" allows preservation of NaNs"
   ]
  },
  {
   "cell_type": "code",
   "execution_count": 462,
   "metadata": {},
   "outputs": [
    {
     "data": {
      "application/vnd.microsoft.datawrangler.viewer.v0+json": {
       "columns": [
        {
         "name": "index",
         "rawType": "object",
         "type": "string"
        },
        {
         "name": "0",
         "rawType": "object",
         "type": "unknown"
        }
       ],
       "ref": "209653ae-1364-4ae8-bd7a-d8f55f1f2ea5",
       "rows": [
        [
         "age",
         "int64"
        ],
        [
         "income",
         "float64"
        ],
        [
         "frq",
         "int64"
        ],
        [
         "rcn",
         "int64"
        ],
        [
         "mnt",
         "int64"
        ],
        [
         "clothes",
         "int64"
        ],
        [
         "kitchen",
         "int64"
        ],
        [
         "small_appliances",
         "int64"
        ],
        [
         "toys",
         "int64"
        ],
        [
         "house_keeping",
         "int64"
        ],
        [
         "dependents",
         "boolean"
        ],
        [
         "per_net_purchase",
         "int64"
        ],
        [
         "gender",
         "object"
        ],
        [
         "education",
         "object"
        ],
        [
         "status",
         "object"
        ],
        [
         "description",
         "object"
        ]
       ],
       "shape": {
        "columns": 1,
        "rows": 16
       }
      },
      "text/plain": [
       "age                   int64\n",
       "income              float64\n",
       "frq                   int64\n",
       "rcn                   int64\n",
       "mnt                   int64\n",
       "clothes               int64\n",
       "kitchen               int64\n",
       "small_appliances      int64\n",
       "toys                  int64\n",
       "house_keeping         int64\n",
       "dependents          boolean\n",
       "per_net_purchase      int64\n",
       "gender               object\n",
       "education            object\n",
       "status               object\n",
       "description          object\n",
       "dtype: object"
      ]
     },
     "execution_count": 462,
     "metadata": {},
     "output_type": "execute_result"
    }
   ],
   "source": [
    "# check dataset data types again\n",
    "df.dtypes"
   ]
  },
  {
   "cell_type": "code",
   "execution_count": 463,
   "metadata": {},
   "outputs": [
    {
     "data": {
      "application/vnd.microsoft.datawrangler.viewer.v0+json": {
       "columns": [
        {
         "name": "index",
         "rawType": "object",
         "type": "string"
        },
        {
         "name": "count",
         "rawType": "object",
         "type": "unknown"
        },
        {
         "name": "unique",
         "rawType": "object",
         "type": "unknown"
        },
        {
         "name": "top",
         "rawType": "object",
         "type": "unknown"
        },
        {
         "name": "freq",
         "rawType": "object",
         "type": "unknown"
        },
        {
         "name": "mean",
         "rawType": "object",
         "type": "unknown"
        },
        {
         "name": "std",
         "rawType": "object",
         "type": "unknown"
        },
        {
         "name": "min",
         "rawType": "object",
         "type": "unknown"
        },
        {
         "name": "25%",
         "rawType": "object",
         "type": "unknown"
        },
        {
         "name": "50%",
         "rawType": "object",
         "type": "unknown"
        },
        {
         "name": "75%",
         "rawType": "object",
         "type": "unknown"
        },
        {
         "name": "max",
         "rawType": "object",
         "type": "unknown"
        }
       ],
       "ref": "30aee494-d9fd-48fb-8e2a-41a44fa37887",
       "rows": [
        [
         "age",
         "8998.0",
         null,
         null,
         null,
         "1966.059679928873",
         "17.29655220631773",
         "1936.0",
         "1951.0",
         "1966.0",
         "1981.0",
         "1996.0"
        ],
        [
         "income",
         "8952.0",
         null,
         null,
         null,
         "69963.55082663092",
         "27591.556225748664",
         "10000.0",
         "47741.0",
         "70030.5",
         "92218.0",
         "140628.0"
        ],
        [
         "frq",
         "8998.0",
         null,
         null,
         null,
         "19.84807735052234",
         "10.903434608706068",
         "3.0",
         "10.0",
         "17.0",
         "28.0",
         "59.0"
        ],
        [
         "rcn",
         "8998.0",
         null,
         null,
         null,
         "62.46977106023561",
         "69.76180219134835",
         "0.0",
         "26.0",
         "53.0",
         "79.0",
         "549.0"
        ],
        [
         "mnt",
         "8998.0",
         null,
         null,
         null,
         "622.1628139586575",
         "646.7682045549258",
         "6.0",
         "63.0",
         "383.0",
         "1076.0",
         "3052.0"
        ],
        [
         "clothes",
         "8998.0",
         null,
         null,
         null,
         "50.44665481218048",
         "23.42224891836114",
         "1.0",
         "33.0",
         "51.0",
         "69.0",
         "99.0"
        ],
        [
         "kitchen",
         "8998.0",
         null,
         null,
         null,
         "7.039675483440765",
         "7.848139310437572",
         "0.0",
         "2.0",
         "4.0",
         "10.0",
         "75.0"
        ],
        [
         "small_appliances",
         "8998.0",
         null,
         null,
         null,
         "28.52411647032674",
         "12.586436800072201",
         "1.0",
         "19.0",
         "28.0",
         "37.0",
         "74.0"
        ],
        [
         "toys",
         "8998.0",
         null,
         null,
         null,
         "7.036897088241831",
         "7.924421742286118",
         "0.0",
         "2.0",
         "4.0",
         "10.0",
         "62.0"
        ],
        [
         "house_keeping",
         "8998.0",
         null,
         null,
         null,
         "6.929984440986886",
         "7.882655354667001",
         "0.0",
         "2.0",
         "4.0",
         "9.0",
         "77.0"
        ],
        [
         "dependents",
         "8716",
         "2",
         "True",
         "6164",
         null,
         null,
         null,
         null,
         null,
         null,
         null
        ],
        [
         "per_net_purchase",
         "8998.0",
         null,
         null,
         null,
         "42.42898421871527",
         "18.495742448171647",
         "4.0",
         "28.0",
         "45.0",
         "57.0",
         "88.0"
        ],
        [
         "gender",
         "8998",
         "2",
         "M",
         "5784",
         null,
         null,
         null,
         null,
         null,
         null,
         null
        ],
        [
         "education",
         "8951",
         "6",
         "Graduation",
         "4429",
         null,
         null,
         null,
         null,
         null,
         null,
         null
        ],
        [
         "status",
         "8821",
         "6",
         "Married",
         "3273",
         null,
         null,
         null,
         null,
         null,
         null,
         null
        ],
        [
         "description",
         "8998",
         "5",
         "OK nice!",
         "3434",
         null,
         null,
         null,
         null,
         null,
         null,
         null
        ]
       ],
       "shape": {
        "columns": 11,
        "rows": 16
       }
      },
      "text/html": [
       "<div>\n",
       "<style scoped>\n",
       "    .dataframe tbody tr th:only-of-type {\n",
       "        vertical-align: middle;\n",
       "    }\n",
       "\n",
       "    .dataframe tbody tr th {\n",
       "        vertical-align: top;\n",
       "    }\n",
       "\n",
       "    .dataframe thead th {\n",
       "        text-align: right;\n",
       "    }\n",
       "</style>\n",
       "<table border=\"1\" class=\"dataframe\">\n",
       "  <thead>\n",
       "    <tr style=\"text-align: right;\">\n",
       "      <th></th>\n",
       "      <th>count</th>\n",
       "      <th>unique</th>\n",
       "      <th>top</th>\n",
       "      <th>freq</th>\n",
       "      <th>mean</th>\n",
       "      <th>std</th>\n",
       "      <th>min</th>\n",
       "      <th>25%</th>\n",
       "      <th>50%</th>\n",
       "      <th>75%</th>\n",
       "      <th>max</th>\n",
       "    </tr>\n",
       "  </thead>\n",
       "  <tbody>\n",
       "    <tr>\n",
       "      <th>age</th>\n",
       "      <td>8998.0</td>\n",
       "      <td>NaN</td>\n",
       "      <td>NaN</td>\n",
       "      <td>NaN</td>\n",
       "      <td>1966.05968</td>\n",
       "      <td>17.296552</td>\n",
       "      <td>1936.0</td>\n",
       "      <td>1951.0</td>\n",
       "      <td>1966.0</td>\n",
       "      <td>1981.0</td>\n",
       "      <td>1996.0</td>\n",
       "    </tr>\n",
       "    <tr>\n",
       "      <th>income</th>\n",
       "      <td>8952.0</td>\n",
       "      <td>NaN</td>\n",
       "      <td>NaN</td>\n",
       "      <td>NaN</td>\n",
       "      <td>69963.550827</td>\n",
       "      <td>27591.556226</td>\n",
       "      <td>10000.0</td>\n",
       "      <td>47741.0</td>\n",
       "      <td>70030.5</td>\n",
       "      <td>92218.0</td>\n",
       "      <td>140628.0</td>\n",
       "    </tr>\n",
       "    <tr>\n",
       "      <th>frq</th>\n",
       "      <td>8998.0</td>\n",
       "      <td>NaN</td>\n",
       "      <td>NaN</td>\n",
       "      <td>NaN</td>\n",
       "      <td>19.848077</td>\n",
       "      <td>10.903435</td>\n",
       "      <td>3.0</td>\n",
       "      <td>10.0</td>\n",
       "      <td>17.0</td>\n",
       "      <td>28.0</td>\n",
       "      <td>59.0</td>\n",
       "    </tr>\n",
       "    <tr>\n",
       "      <th>rcn</th>\n",
       "      <td>8998.0</td>\n",
       "      <td>NaN</td>\n",
       "      <td>NaN</td>\n",
       "      <td>NaN</td>\n",
       "      <td>62.469771</td>\n",
       "      <td>69.761802</td>\n",
       "      <td>0.0</td>\n",
       "      <td>26.0</td>\n",
       "      <td>53.0</td>\n",
       "      <td>79.0</td>\n",
       "      <td>549.0</td>\n",
       "    </tr>\n",
       "    <tr>\n",
       "      <th>mnt</th>\n",
       "      <td>8998.0</td>\n",
       "      <td>NaN</td>\n",
       "      <td>NaN</td>\n",
       "      <td>NaN</td>\n",
       "      <td>622.162814</td>\n",
       "      <td>646.768205</td>\n",
       "      <td>6.0</td>\n",
       "      <td>63.0</td>\n",
       "      <td>383.0</td>\n",
       "      <td>1076.0</td>\n",
       "      <td>3052.0</td>\n",
       "    </tr>\n",
       "    <tr>\n",
       "      <th>clothes</th>\n",
       "      <td>8998.0</td>\n",
       "      <td>NaN</td>\n",
       "      <td>NaN</td>\n",
       "      <td>NaN</td>\n",
       "      <td>50.446655</td>\n",
       "      <td>23.422249</td>\n",
       "      <td>1.0</td>\n",
       "      <td>33.0</td>\n",
       "      <td>51.0</td>\n",
       "      <td>69.0</td>\n",
       "      <td>99.0</td>\n",
       "    </tr>\n",
       "    <tr>\n",
       "      <th>kitchen</th>\n",
       "      <td>8998.0</td>\n",
       "      <td>NaN</td>\n",
       "      <td>NaN</td>\n",
       "      <td>NaN</td>\n",
       "      <td>7.039675</td>\n",
       "      <td>7.848139</td>\n",
       "      <td>0.0</td>\n",
       "      <td>2.0</td>\n",
       "      <td>4.0</td>\n",
       "      <td>10.0</td>\n",
       "      <td>75.0</td>\n",
       "    </tr>\n",
       "    <tr>\n",
       "      <th>small_appliances</th>\n",
       "      <td>8998.0</td>\n",
       "      <td>NaN</td>\n",
       "      <td>NaN</td>\n",
       "      <td>NaN</td>\n",
       "      <td>28.524116</td>\n",
       "      <td>12.586437</td>\n",
       "      <td>1.0</td>\n",
       "      <td>19.0</td>\n",
       "      <td>28.0</td>\n",
       "      <td>37.0</td>\n",
       "      <td>74.0</td>\n",
       "    </tr>\n",
       "    <tr>\n",
       "      <th>toys</th>\n",
       "      <td>8998.0</td>\n",
       "      <td>NaN</td>\n",
       "      <td>NaN</td>\n",
       "      <td>NaN</td>\n",
       "      <td>7.036897</td>\n",
       "      <td>7.924422</td>\n",
       "      <td>0.0</td>\n",
       "      <td>2.0</td>\n",
       "      <td>4.0</td>\n",
       "      <td>10.0</td>\n",
       "      <td>62.0</td>\n",
       "    </tr>\n",
       "    <tr>\n",
       "      <th>house_keeping</th>\n",
       "      <td>8998.0</td>\n",
       "      <td>NaN</td>\n",
       "      <td>NaN</td>\n",
       "      <td>NaN</td>\n",
       "      <td>6.929984</td>\n",
       "      <td>7.882655</td>\n",
       "      <td>0.0</td>\n",
       "      <td>2.0</td>\n",
       "      <td>4.0</td>\n",
       "      <td>9.0</td>\n",
       "      <td>77.0</td>\n",
       "    </tr>\n",
       "    <tr>\n",
       "      <th>dependents</th>\n",
       "      <td>8716</td>\n",
       "      <td>2</td>\n",
       "      <td>True</td>\n",
       "      <td>6164</td>\n",
       "      <td>NaN</td>\n",
       "      <td>NaN</td>\n",
       "      <td>NaN</td>\n",
       "      <td>NaN</td>\n",
       "      <td>NaN</td>\n",
       "      <td>NaN</td>\n",
       "      <td>NaN</td>\n",
       "    </tr>\n",
       "    <tr>\n",
       "      <th>per_net_purchase</th>\n",
       "      <td>8998.0</td>\n",
       "      <td>NaN</td>\n",
       "      <td>NaN</td>\n",
       "      <td>NaN</td>\n",
       "      <td>42.428984</td>\n",
       "      <td>18.495742</td>\n",
       "      <td>4.0</td>\n",
       "      <td>28.0</td>\n",
       "      <td>45.0</td>\n",
       "      <td>57.0</td>\n",
       "      <td>88.0</td>\n",
       "    </tr>\n",
       "    <tr>\n",
       "      <th>gender</th>\n",
       "      <td>8998</td>\n",
       "      <td>2</td>\n",
       "      <td>M</td>\n",
       "      <td>5784</td>\n",
       "      <td>NaN</td>\n",
       "      <td>NaN</td>\n",
       "      <td>NaN</td>\n",
       "      <td>NaN</td>\n",
       "      <td>NaN</td>\n",
       "      <td>NaN</td>\n",
       "      <td>NaN</td>\n",
       "    </tr>\n",
       "    <tr>\n",
       "      <th>education</th>\n",
       "      <td>8951</td>\n",
       "      <td>6</td>\n",
       "      <td>Graduation</td>\n",
       "      <td>4429</td>\n",
       "      <td>NaN</td>\n",
       "      <td>NaN</td>\n",
       "      <td>NaN</td>\n",
       "      <td>NaN</td>\n",
       "      <td>NaN</td>\n",
       "      <td>NaN</td>\n",
       "      <td>NaN</td>\n",
       "    </tr>\n",
       "    <tr>\n",
       "      <th>status</th>\n",
       "      <td>8821</td>\n",
       "      <td>6</td>\n",
       "      <td>Married</td>\n",
       "      <td>3273</td>\n",
       "      <td>NaN</td>\n",
       "      <td>NaN</td>\n",
       "      <td>NaN</td>\n",
       "      <td>NaN</td>\n",
       "      <td>NaN</td>\n",
       "      <td>NaN</td>\n",
       "      <td>NaN</td>\n",
       "    </tr>\n",
       "    <tr>\n",
       "      <th>description</th>\n",
       "      <td>8998</td>\n",
       "      <td>5</td>\n",
       "      <td>OK nice!</td>\n",
       "      <td>3434</td>\n",
       "      <td>NaN</td>\n",
       "      <td>NaN</td>\n",
       "      <td>NaN</td>\n",
       "      <td>NaN</td>\n",
       "      <td>NaN</td>\n",
       "      <td>NaN</td>\n",
       "      <td>NaN</td>\n",
       "    </tr>\n",
       "  </tbody>\n",
       "</table>\n",
       "</div>"
      ],
      "text/plain": [
       "                   count unique         top  freq          mean           std  \\\n",
       "age               8998.0    NaN         NaN   NaN    1966.05968     17.296552   \n",
       "income            8952.0    NaN         NaN   NaN  69963.550827  27591.556226   \n",
       "frq               8998.0    NaN         NaN   NaN     19.848077     10.903435   \n",
       "rcn               8998.0    NaN         NaN   NaN     62.469771     69.761802   \n",
       "mnt               8998.0    NaN         NaN   NaN    622.162814    646.768205   \n",
       "clothes           8998.0    NaN         NaN   NaN     50.446655     23.422249   \n",
       "kitchen           8998.0    NaN         NaN   NaN      7.039675      7.848139   \n",
       "small_appliances  8998.0    NaN         NaN   NaN     28.524116     12.586437   \n",
       "toys              8998.0    NaN         NaN   NaN      7.036897      7.924422   \n",
       "house_keeping     8998.0    NaN         NaN   NaN      6.929984      7.882655   \n",
       "dependents          8716      2        True  6164           NaN           NaN   \n",
       "per_net_purchase  8998.0    NaN         NaN   NaN     42.428984     18.495742   \n",
       "gender              8998      2           M  5784           NaN           NaN   \n",
       "education           8951      6  Graduation  4429           NaN           NaN   \n",
       "status              8821      6     Married  3273           NaN           NaN   \n",
       "description         8998      5    OK nice!  3434           NaN           NaN   \n",
       "\n",
       "                      min      25%      50%      75%       max  \n",
       "age                1936.0   1951.0   1966.0   1981.0    1996.0  \n",
       "income            10000.0  47741.0  70030.5  92218.0  140628.0  \n",
       "frq                   3.0     10.0     17.0     28.0      59.0  \n",
       "rcn                   0.0     26.0     53.0     79.0     549.0  \n",
       "mnt                   6.0     63.0    383.0   1076.0    3052.0  \n",
       "clothes               1.0     33.0     51.0     69.0      99.0  \n",
       "kitchen               0.0      2.0      4.0     10.0      75.0  \n",
       "small_appliances      1.0     19.0     28.0     37.0      74.0  \n",
       "toys                  0.0      2.0      4.0     10.0      62.0  \n",
       "house_keeping         0.0      2.0      4.0      9.0      77.0  \n",
       "dependents            NaN      NaN      NaN      NaN       NaN  \n",
       "per_net_purchase      4.0     28.0     45.0     57.0      88.0  \n",
       "gender                NaN      NaN      NaN      NaN       NaN  \n",
       "education             NaN      NaN      NaN      NaN       NaN  \n",
       "status                NaN      NaN      NaN      NaN       NaN  \n",
       "description           NaN      NaN      NaN      NaN       NaN  "
      ]
     },
     "execution_count": 463,
     "metadata": {},
     "output_type": "execute_result"
    }
   ],
   "source": [
    "# check descriptive statistics again\n",
    "df.describe(include=\"all\").T"
   ]
  },
  {
   "cell_type": "code",
   "execution_count": 464,
   "metadata": {},
   "outputs": [],
   "source": [
    "#Define metric and non-metric features. Why?\n",
    "non_metric_features = [\"education\", \"status\", \"gender\", \"dependents\", \"description\"]\n",
    "metric_features = df.columns.drop(non_metric_features).to_list()"
   ]
  },
  {
   "cell_type": "markdown",
   "metadata": {},
   "source": [
    "# Fill missing values\n",
    "\n",
    "https://statisticsbyjim.com/basics/missing-data/\n",
    "\n",
    "---\n",
    "<br>\n",
    "\n",
    "Read: Section 2.4.2 \n",
    "\n",
    "Han, J., Pei, J., & Tong, H. (2022). *Data mining: Concepts and Techniques* (4th ed.). Morgan Kaufmann.\n",
    "\n",
    "<br>\n",
    "\n",
    "Read: Chapter 4\n",
    "\n",
    "García, S., Luengo, J., & Herrera, F. (2014). *Data preprocessing in data mining*. Springer."
   ]
  },
  {
   "cell_type": "markdown",
   "metadata": {},
   "source": [
    "### How can we fill missing values?"
   ]
  },
  {
   "cell_type": "markdown",
   "metadata": {},
   "source": [
    "### Measures of central tendency"
   ]
  },
  {
   "cell_type": "code",
   "execution_count": 465,
   "metadata": {},
   "outputs": [],
   "source": [
    "# Creating a copy to apply central tendency measures imputation\n",
    "df_central = df.copy()"
   ]
  },
  {
   "cell_type": "code",
   "execution_count": 466,
   "metadata": {},
   "outputs": [
    {
     "data": {
      "application/vnd.microsoft.datawrangler.viewer.v0+json": {
       "columns": [
        {
         "name": "index",
         "rawType": "object",
         "type": "string"
        },
        {
         "name": "0",
         "rawType": "int64",
         "type": "integer"
        }
       ],
       "ref": "8cf483cf-7e61-450b-8ade-78f415cfe600",
       "rows": [
        [
         "age",
         "0"
        ],
        [
         "income",
         "46"
        ],
        [
         "frq",
         "0"
        ],
        [
         "rcn",
         "0"
        ],
        [
         "mnt",
         "0"
        ],
        [
         "clothes",
         "0"
        ],
        [
         "kitchen",
         "0"
        ],
        [
         "small_appliances",
         "0"
        ],
        [
         "toys",
         "0"
        ],
        [
         "house_keeping",
         "0"
        ],
        [
         "dependents",
         "282"
        ],
        [
         "per_net_purchase",
         "0"
        ],
        [
         "gender",
         "0"
        ],
        [
         "education",
         "47"
        ],
        [
         "status",
         "177"
        ],
        [
         "description",
         "0"
        ]
       ],
       "shape": {
        "columns": 1,
        "rows": 16
       }
      },
      "text/plain": [
       "age                   0\n",
       "income               46\n",
       "frq                   0\n",
       "rcn                   0\n",
       "mnt                   0\n",
       "clothes               0\n",
       "kitchen               0\n",
       "small_appliances      0\n",
       "toys                  0\n",
       "house_keeping         0\n",
       "dependents          282\n",
       "per_net_purchase      0\n",
       "gender                0\n",
       "education            47\n",
       "status              177\n",
       "description           0\n",
       "dtype: int64"
      ]
     },
     "execution_count": 466,
     "metadata": {},
     "output_type": "execute_result"
    }
   ],
   "source": [
    "# count of missing values\n",
    "df_central.isna().sum()"
   ]
  },
  {
   "cell_type": "markdown",
   "metadata": {},
   "source": [
    "### Exercise 1: Find the mean and median values for each metric feature"
   ]
  },
  {
   "cell_type": "code",
   "execution_count": 467,
   "metadata": {},
   "outputs": [
    {
     "data": {
      "application/vnd.microsoft.datawrangler.viewer.v0+json": {
       "columns": [
        {
         "name": "index",
         "rawType": "object",
         "type": "string"
        },
        {
         "name": "0",
         "rawType": "float64",
         "type": "float"
        }
       ],
       "ref": "3f7c643d-f79c-45d9-91d1-dd18e5deddf1",
       "rows": [
        [
         "age",
         "1966.059679928873"
        ],
        [
         "income",
         "69963.55082663092"
        ],
        [
         "frq",
         "19.84807735052234"
        ],
        [
         "rcn",
         "62.46977106023561"
        ],
        [
         "mnt",
         "622.1628139586575"
        ],
        [
         "clothes",
         "50.44665481218048"
        ],
        [
         "kitchen",
         "7.039675483440765"
        ],
        [
         "small_appliances",
         "28.52411647032674"
        ],
        [
         "toys",
         "7.036897088241831"
        ],
        [
         "house_keeping",
         "6.929984440986886"
        ],
        [
         "per_net_purchase",
         "42.42898421871527"
        ]
       ],
       "shape": {
        "columns": 1,
        "rows": 11
       }
      },
      "text/plain": [
       "age                  1966.059680\n",
       "income              69963.550827\n",
       "frq                    19.848077\n",
       "rcn                    62.469771\n",
       "mnt                   622.162814\n",
       "clothes                50.446655\n",
       "kitchen                 7.039675\n",
       "small_appliances       28.524116\n",
       "toys                    7.036897\n",
       "house_keeping           6.929984\n",
       "per_net_purchase       42.428984\n",
       "dtype: float64"
      ]
     },
     "execution_count": 467,
     "metadata": {},
     "output_type": "execute_result"
    }
   ],
   "source": [
    "# How do we get the mean values of our data?\n",
    "\n",
    "means = df[metric_features].mean()\n",
    "means"
   ]
  },
  {
   "cell_type": "code",
   "execution_count": 468,
   "metadata": {},
   "outputs": [
    {
     "data": {
      "application/vnd.microsoft.datawrangler.viewer.v0+json": {
       "columns": [
        {
         "name": "index",
         "rawType": "object",
         "type": "string"
        },
        {
         "name": "0",
         "rawType": "float64",
         "type": "float"
        }
       ],
       "ref": "3ef4de0d-493b-4ed3-b223-4ef9c6512daa",
       "rows": [
        [
         "age",
         "1966.0"
        ],
        [
         "income",
         "70030.5"
        ],
        [
         "frq",
         "17.0"
        ],
        [
         "rcn",
         "53.0"
        ],
        [
         "mnt",
         "383.0"
        ],
        [
         "clothes",
         "51.0"
        ],
        [
         "kitchen",
         "4.0"
        ],
        [
         "small_appliances",
         "28.0"
        ],
        [
         "toys",
         "4.0"
        ],
        [
         "house_keeping",
         "4.0"
        ],
        [
         "per_net_purchase",
         "45.0"
        ]
       ],
       "shape": {
        "columns": 1,
        "rows": 11
       }
      },
      "text/plain": [
       "age                  1966.0\n",
       "income              70030.5\n",
       "frq                    17.0\n",
       "rcn                    53.0\n",
       "mnt                   383.0\n",
       "clothes                51.0\n",
       "kitchen                 4.0\n",
       "small_appliances       28.0\n",
       "toys                    4.0\n",
       "house_keeping           4.0\n",
       "per_net_purchase       45.0\n",
       "dtype: float64"
      ]
     },
     "execution_count": 468,
     "metadata": {},
     "output_type": "execute_result"
    }
   ],
   "source": [
    "# How do we get the median values of our data?\n",
    "\n",
    "medians = df[metric_features].median()\n",
    "medians"
   ]
  },
  {
   "cell_type": "markdown",
   "metadata": {},
   "source": [
    "#### Mean or Median?"
   ]
  },
  {
   "cell_type": "code",
   "execution_count": 469,
   "metadata": {
    "id": "HVZ3NMFVasiZ"
   },
   "outputs": [
    {
     "data": {
      "image/png": "[encoded data removed]",
      "text/plain": [
       "<Figure size 800x500 with 1 Axes>"
      ]
     },
     "metadata": {
      "image/png": {
       "height": 452,
       "width": 699
      }
     },
     "output_type": "display_data"
    }
   ],
   "source": [
    "#####################\n",
    "## You don't need to understand this code\n",
    "#####################\n",
    "\n",
    "\n",
    "skew_demo = np.round(skewnorm.rvs(180, size=1500, random_state=68410237)*100, 0).astype(int)\n",
    "\n",
    "skew_md = np.median(skew_demo)\n",
    "skew_mn = np.mean(skew_demo)\n",
    "\n",
    "sns.set_theme(style=\"white\", palette=None)\n",
    "\n",
    "fig, ax = plt.subplots(figsize=(8,5))\n",
    "\n",
    "sns.histplot(skew_demo, bins=20,\n",
    "             ax=ax, color='tab:orange')\n",
    "\n",
    "ax.axvline(skew_md, color='black', linewidth=4,\n",
    "           label='Median: {}'.format(int(skew_md)))\n",
    "ax.axvline(skew_mn, color='blue', linestyle='dashed', linewidth=4,\n",
    "           label='Mean: {}'.format(int(skew_mn)))\n",
    "\n",
    "ax.legend(handlelength=5)\n",
    "\n",
    "ax.set_title(\"Histogram\")\n",
    "plt.show()\n",
    "\n",
    "sns.set()"
   ]
  },
  {
   "cell_type": "markdown",
   "metadata": {},
   "source": [
    "#### What about non-numeric features?"
   ]
  },
  {
   "cell_type": "code",
   "execution_count": 470,
   "metadata": {},
   "outputs": [
    {
     "data": {
      "application/vnd.microsoft.datawrangler.viewer.v0+json": {
       "columns": [
        {
         "name": "index",
         "rawType": "object",
         "type": "string"
        },
        {
         "name": "0",
         "rawType": "object",
         "type": "unknown"
        }
       ],
       "ref": "4a51011c-03f6-428c-98e1-bb8373fc9dd7",
       "rows": [
        [
         "education",
         "Graduation"
        ],
        [
         "status",
         "Married"
        ],
        [
         "gender",
         "M"
        ],
        [
         "dependents",
         "True"
        ],
        [
         "description",
         "OK nice!"
        ]
       ],
       "shape": {
        "columns": 1,
        "rows": 5
       }
      },
      "text/plain": [
       "education      Graduation\n",
       "status            Married\n",
       "gender                  M\n",
       "dependents           True\n",
       "description      OK nice!\n",
       "Name: 0, dtype: object"
      ]
     },
     "execution_count": 470,
     "metadata": {},
     "output_type": "execute_result"
    }
   ],
   "source": [
    "# Check each step of these commands\n",
    "modes = df_central[non_metric_features].mode().loc[0]\n",
    "modes"
   ]
  },
  {
   "cell_type": "markdown",
   "metadata": {},
   "source": [
    "### Exercise 2: Fill NaNs on df_central"
   ]
  },
  {
   "cell_type": "code",
   "execution_count": 471,
   "metadata": {},
   "outputs": [
    {
     "data": {
      "application/vnd.microsoft.datawrangler.viewer.v0+json": {
       "columns": [
        {
         "name": "index",
         "rawType": "object",
         "type": "string"
        },
        {
         "name": "0",
         "rawType": "int64",
         "type": "integer"
        }
       ],
       "ref": "e0513167-870e-4263-acfb-cf9db7f9fa98",
       "rows": [
        [
         "age",
         "0"
        ],
        [
         "income",
         "0"
        ],
        [
         "frq",
         "0"
        ],
        [
         "rcn",
         "0"
        ],
        [
         "mnt",
         "0"
        ],
        [
         "clothes",
         "0"
        ],
        [
         "kitchen",
         "0"
        ],
        [
         "small_appliances",
         "0"
        ],
        [
         "toys",
         "0"
        ],
        [
         "house_keeping",
         "0"
        ],
        [
         "dependents",
         "0"
        ],
        [
         "per_net_purchase",
         "0"
        ],
        [
         "gender",
         "0"
        ],
        [
         "education",
         "0"
        ],
        [
         "status",
         "0"
        ],
        [
         "description",
         "0"
        ]
       ],
       "shape": {
        "columns": 1,
        "rows": 16
       }
      },
      "text/plain": [
       "age                 0\n",
       "income              0\n",
       "frq                 0\n",
       "rcn                 0\n",
       "mnt                 0\n",
       "clothes             0\n",
       "kitchen             0\n",
       "small_appliances    0\n",
       "toys                0\n",
       "house_keeping       0\n",
       "dependents          0\n",
       "per_net_purchase    0\n",
       "gender              0\n",
       "education           0\n",
       "status              0\n",
       "description         0\n",
       "dtype: int64"
      ]
     },
     "execution_count": 471,
     "metadata": {},
     "output_type": "execute_result"
    }
   ],
   "source": [
    "# Fill NaNs on df_central\n",
    "# CODE HERE\n",
    "# complete the lines \n",
    "\n",
    "df_central[metric_features] = df_central[metric_features].fillna(medians)\n",
    "df_central[non_metric_features] = df_central[non_metric_features].fillna(modes)\n",
    "\n",
    "df_central.isna().sum(axis=0)\n"
   ]
  },
  {
   "cell_type": "markdown",
   "metadata": {},
   "source": [
    "## KNN imputer"
   ]
  },
  {
   "cell_type": "markdown",
   "metadata": {},
   "source": [
    "Impute with KNN Imputer  \n",
    "(using **2 neighbors**, **Manhattan distance**, and **uniform weights**)  \n",
    "\n",
    "<div align=\"center\">\n",
    "\n",
    "| Sample | Feature 1 | Feature 2 |\n",
    "|:------:|:----------:|:----------:|\n",
    "|   A    |     2      |     10     |\n",
    "|   B    |     4      |    NaN     |\n",
    "|   C    |     6      |     30     |\n",
    "|   D    |     7      |     40     |\n",
    "\n",
    "</div>"
   ]
  },
  {
   "cell_type": "code",
   "execution_count": 472,
   "metadata": {},
   "outputs": [],
   "source": [
    "# Creating new df copy to explore neighbordhood imputation\n",
    "df_neighbors = df.copy()"
   ]
  },
  {
   "cell_type": "code",
   "execution_count": 473,
   "metadata": {},
   "outputs": [
    {
     "data": {
      "application/vnd.microsoft.datawrangler.viewer.v0+json": {
       "columns": [
        {
         "name": "index",
         "rawType": "int64",
         "type": "integer"
        },
        {
         "name": "0",
         "rawType": "bool",
         "type": "boolean"
        }
       ],
       "ref": "d2328146-1cc5-404e-bd90-8ee434742b6b",
       "rows": [
        [
         "0",
         "False"
        ],
        [
         "1",
         "False"
        ],
        [
         "2",
         "False"
        ],
        [
         "3",
         "True"
        ],
        [
         "4",
         "False"
        ],
        [
         "5",
         "False"
        ],
        [
         "6",
         "False"
        ],
        [
         "7",
         "False"
        ],
        [
         "8",
         "False"
        ],
        [
         "9",
         "False"
        ],
        [
         "10",
         "False"
        ],
        [
         "11",
         "False"
        ],
        [
         "12",
         "False"
        ],
        [
         "13",
         "False"
        ],
        [
         "14",
         "False"
        ],
        [
         "15",
         "False"
        ],
        [
         "16",
         "False"
        ],
        [
         "17",
         "False"
        ],
        [
         "18",
         "False"
        ],
        [
         "19",
         "False"
        ],
        [
         "20",
         "False"
        ],
        [
         "21",
         "False"
        ],
        [
         "22",
         "False"
        ],
        [
         "23",
         "False"
        ],
        [
         "24",
         "False"
        ],
        [
         "25",
         "False"
        ],
        [
         "26",
         "False"
        ],
        [
         "27",
         "False"
        ],
        [
         "28",
         "False"
        ],
        [
         "29",
         "False"
        ],
        [
         "30",
         "False"
        ],
        [
         "31",
         "False"
        ],
        [
         "32",
         "False"
        ],
        [
         "33",
         "False"
        ],
        [
         "34",
         "False"
        ],
        [
         "35",
         "False"
        ],
        [
         "36",
         "False"
        ],
        [
         "37",
         "False"
        ],
        [
         "38",
         "False"
        ],
        [
         "39",
         "False"
        ],
        [
         "40",
         "False"
        ],
        [
         "41",
         "False"
        ],
        [
         "42",
         "False"
        ],
        [
         "43",
         "False"
        ],
        [
         "44",
         "False"
        ],
        [
         "45",
         "False"
        ],
        [
         "46",
         "False"
        ],
        [
         "47",
         "False"
        ],
        [
         "48",
         "False"
        ],
        [
         "49",
         "False"
        ]
       ],
       "shape": {
        "columns": 1,
        "rows": 8998
       }
      },
      "text/plain": [
       "0       False\n",
       "1       False\n",
       "2       False\n",
       "3        True\n",
       "4       False\n",
       "        ...  \n",
       "8993    False\n",
       "8994    False\n",
       "8995    False\n",
       "8996    False\n",
       "8997    False\n",
       "Length: 8998, dtype: bool"
      ]
     },
     "execution_count": 473,
     "metadata": {},
     "output_type": "execute_result"
    }
   ],
   "source": [
    "# Seeing rows with NaNs\n",
    "nans_index = df_neighbors.isna().any(axis=1)\n",
    "nans_index"
   ]
  },
  {
   "cell_type": "code",
   "execution_count": 474,
   "metadata": {},
   "outputs": [
    {
     "data": {
      "application/vnd.microsoft.datawrangler.viewer.v0+json": {
       "columns": [
        {
         "name": "index",
         "rawType": "int64",
         "type": "integer"
        },
        {
         "name": "age",
         "rawType": "int64",
         "type": "integer"
        },
        {
         "name": "income",
         "rawType": "float64",
         "type": "float"
        },
        {
         "name": "frq",
         "rawType": "int64",
         "type": "integer"
        },
        {
         "name": "rcn",
         "rawType": "int64",
         "type": "integer"
        },
        {
         "name": "mnt",
         "rawType": "int64",
         "type": "integer"
        },
        {
         "name": "clothes",
         "rawType": "int64",
         "type": "integer"
        },
        {
         "name": "kitchen",
         "rawType": "int64",
         "type": "integer"
        },
        {
         "name": "small_appliances",
         "rawType": "int64",
         "type": "integer"
        },
        {
         "name": "toys",
         "rawType": "int64",
         "type": "integer"
        },
        {
         "name": "house_keeping",
         "rawType": "int64",
         "type": "integer"
        },
        {
         "name": "dependents",
         "rawType": "boolean",
         "type": "boolean"
        },
        {
         "name": "per_net_purchase",
         "rawType": "int64",
         "type": "integer"
        },
        {
         "name": "gender",
         "rawType": "object",
         "type": "string"
        },
        {
         "name": "education",
         "rawType": "object",
         "type": "unknown"
        },
        {
         "name": "status",
         "rawType": "object",
         "type": "unknown"
        },
        {
         "name": "description",
         "rawType": "object",
         "type": "string"
        }
       ],
       "ref": "5835a0f1-496a-4342-9be6-4d0062aeaabb",
       "rows": [
        [
         "3",
         "1955",
         "93571.0",
         "26",
         "10",
         "888",
         "60",
         "10",
         "19",
         "6",
         "5",
         "True",
         "35",
         "F",
         "Master",
         null,
         "OK nice!"
        ],
        [
         "61",
         "1968",
         null,
         "14",
         "90",
         "184",
         "95",
         "1",
         "3",
         "1",
         "0",
         "True",
         "59",
         "F",
         "2nd Cycle",
         "Married",
         "Meh..."
        ],
        [
         "67",
         "1981",
         "60457.0",
         "9",
         "73",
         "63",
         "37",
         "2",
         "51",
         "6",
         "3",
         null,
         "57",
         "M",
         "PhD",
         "Married",
         "Meh..."
        ],
        [
         "70",
         "1944",
         "116259.0",
         "28",
         "35",
         "1279",
         "17",
         "6",
         "54",
         "3",
         "20",
         "False",
         "11",
         "M",
         "Graduation",
         null,
         "OK nice!"
        ],
        [
         "73",
         "1967",
         "75274.0",
         "16",
         "67",
         "263",
         "88",
         "3",
         "6",
         "1",
         "2",
         null,
         "66",
         "M",
         "Graduation",
         "Single",
         "Kind of OK"
        ],
        [
         "107",
         "1989",
         "48600.0",
         "9",
         "74",
         "47",
         "45",
         "10",
         "37",
         "6",
         "3",
         "True",
         "61",
         "F",
         "Graduation",
         null,
         "Kind of OK"
        ],
        [
         "147",
         "1973",
         "70965.0",
         "10",
         "11",
         "120",
         "70",
         "3",
         "21",
         "3",
         "3",
         "True",
         "46",
         "M",
         "Graduation",
         null,
         "Meh..."
        ],
        [
         "172",
         "1977",
         "51478.0",
         "7",
         "89",
         "47",
         "22",
         "23",
         "10",
         "15",
         "30",
         null,
         "40",
         "M",
         "Graduation",
         "Single",
         "Kind of OK"
        ],
        [
         "198",
         "1990",
         "25100.0",
         "14",
         "96",
         "117",
         "22",
         "16",
         "39",
         "3",
         "20",
         null,
         "50",
         "F",
         "Graduation",
         "Single",
         "Meh..."
        ],
        [
         "218",
         "1950",
         "106486.0",
         "19",
         "12",
         "714",
         "10",
         "14",
         "39",
         "20",
         "17",
         null,
         "26",
         "M",
         "Graduation",
         "Married",
         "OK nice!"
        ],
        [
         "221",
         "1994",
         "22670.0",
         "9",
         "37",
         "33",
         "9",
         "16",
         "38",
         "12",
         "25",
         null,
         "56",
         "M",
         "1st Cycle",
         "Single",
         "Meh..."
        ],
        [
         "250",
         "1996",
         "22963.0",
         "11",
         "90",
         "59",
         "2",
         "23",
         "34",
         "18",
         "22",
         null,
         "57",
         "F",
         "1st Cycle",
         "Single",
         "Kind of OK"
        ],
        [
         "259",
         "1956",
         "81245.0",
         "23",
         "41",
         "775",
         "29",
         "20",
         "20",
         "19",
         "12",
         null,
         "31",
         "M",
         "2nd Cycle",
         "Married",
         "OK nice!"
        ],
        [
         "299",
         "1976",
         "64355.0",
         "11",
         "50",
         "40",
         "58",
         "4",
         "28",
         "3",
         "7",
         "True",
         "75",
         "M",
         "2nd Cycle",
         null,
         "Meh..."
        ],
        [
         "332",
         "1992",
         "30954.0",
         "13",
         "54",
         "74",
         "20",
         "5",
         "40",
         "12",
         "23",
         null,
         "74",
         "M",
         "Graduation",
         "Single",
         "OK nice!"
        ],
        [
         "338",
         "1965",
         "62464.0",
         "24",
         "73",
         "605",
         "82",
         "1",
         "15",
         "1",
         "1",
         null,
         "61",
         "F",
         "Graduation",
         "Single",
         "Meh..."
        ],
        [
         "344",
         "1953",
         "102375.0",
         "24",
         "35",
         "775",
         "43",
         "12",
         "22",
         "14",
         "10",
         null,
         "41",
         "M",
         "Master",
         "Married",
         "OK nice!"
        ],
        [
         "348",
         "1976",
         "59316.0",
         "5",
         "13",
         "40",
         "36",
         "6",
         "34",
         "20",
         "4",
         "True",
         "44",
         "M",
         "Graduation",
         null,
         "Kind of OK"
        ],
        [
         "363",
         "1995",
         "35790.0",
         "8",
         "38",
         "19",
         "4",
         "40",
         "18",
         "33",
         "5",
         "False",
         "56",
         "M",
         "1st Cycle",
         null,
         "Meh..."
        ],
        [
         "388",
         "1969",
         "51999.0",
         "8",
         "2",
         "41",
         "91",
         "0",
         "8",
         "1",
         "0",
         null,
         "49",
         "F",
         "Graduation",
         "Divorced",
         "Meh..."
        ],
        [
         "399",
         "1953",
         "89653.0",
         "27",
         "71",
         "953",
         "62",
         "7",
         "22",
         "2",
         "7",
         null,
         "40",
         "M",
         "Graduation",
         "Widow",
         "OK nice!"
        ],
        [
         "443",
         "1972",
         "46366.0",
         "22",
         "42",
         "492",
         "62",
         "5",
         "27",
         "2",
         "4",
         null,
         "43",
         "F",
         "Graduation",
         "Married",
         "Kind of OK"
        ],
        [
         "452",
         "1994",
         "10000.0",
         "11",
         "96",
         "29",
         "6",
         "40",
         "19",
         "12",
         "22",
         null,
         "66",
         "F",
         "1st Cycle",
         "Single",
         "Kind of OK"
        ],
        [
         "463",
         "1962",
         "73941.0",
         "17",
         "17",
         "443",
         "77",
         "0",
         "20",
         "1",
         "2",
         null,
         "37",
         "M",
         "Graduation",
         "Together",
         "OK nice!"
        ],
        [
         "505",
         "1940",
         "88158.0",
         "31",
         "16",
         "1411",
         "43",
         "6",
         "35",
         "7",
         "9",
         "False",
         "13",
         "M",
         "Graduation",
         null,
         "Take my money!!"
        ],
        [
         "520",
         "1941",
         "99890.0",
         "41",
         "78",
         "1985",
         "49",
         "3",
         "46",
         "1",
         "1",
         "False",
         "13",
         "M",
         "Graduation",
         null,
         "OK nice!"
        ],
        [
         "549",
         "1945",
         "88845.0",
         "24",
         "21",
         "955",
         "52",
         "5",
         "27",
         "7",
         "10",
         null,
         "17",
         "M",
         "Graduation",
         "Married",
         "Meh..."
        ],
        [
         "559",
         "1946",
         "95678.0",
         "33",
         "42",
         "1467",
         "43",
         "3",
         "49",
         "4",
         "2",
         null,
         "15",
         "F",
         "Graduation",
         "Divorced",
         "OK nice!"
        ],
        [
         "582",
         "1989",
         "10182.0",
         "7",
         "29",
         "33",
         "46",
         "11",
         "33",
         "6",
         "4",
         "True",
         "24",
         "M",
         "Graduation",
         null,
         "OK nice!"
        ],
        [
         "598",
         "1948",
         "78801.0",
         "26",
         "76",
         "1089",
         "28",
         "16",
         "39",
         "12",
         "5",
         null,
         "12",
         "F",
         "Graduation",
         "Together",
         "Take my money!!"
        ],
        [
         "636",
         "1949",
         "99146.0",
         "40",
         "47",
         "1787",
         "59",
         "3",
         "21",
         "11",
         "6",
         "False",
         "22",
         "F",
         "Master",
         null,
         "Take my money!!"
        ],
        [
         "644",
         "1963",
         "67633.0",
         "23",
         "45",
         "541",
         "82",
         "2",
         "14",
         "0",
         "2",
         null,
         "56",
         "F",
         "Graduation",
         "Married",
         "OK nice!"
        ],
        [
         "653",
         "1988",
         "56216.0",
         "11",
         "31",
         "119",
         "39",
         "6",
         "50",
         "1",
         "4",
         "True",
         "55",
         "F",
         "Graduation",
         null,
         "Meh..."
        ],
        [
         "655",
         "1986",
         "38196.0",
         "11",
         "54",
         "71",
         "28",
         "12",
         "42",
         "1",
         "17",
         "True",
         "54",
         "M",
         "Graduation",
         null,
         "Kind of OK"
        ],
        [
         "671",
         "1986",
         "31885.0",
         "10",
         "379",
         "12",
         "41",
         "2",
         "40",
         "11",
         "6",
         "True",
         "66",
         "M",
         "Master",
         null,
         "Meh..."
        ],
        [
         "676",
         "1993",
         "27944.0",
         "11",
         "60",
         "74",
         "17",
         "10",
         "33",
         "10",
         "30",
         null,
         "60",
         "M",
         "2nd Cycle",
         "Married",
         "Meh..."
        ],
        [
         "680",
         "1991",
         "28722.0",
         "9",
         "52",
         "35",
         "38",
         "11",
         "24",
         "13",
         "14",
         null,
         "56",
         "M",
         "Graduation",
         "Married",
         "Kind of OK"
        ],
        [
         "697",
         "1980",
         "53469.0",
         "10",
         "53",
         "49",
         "43",
         "2",
         "42",
         "12",
         "0",
         "True",
         "72",
         "M",
         "Graduation",
         null,
         "OK nice!"
        ],
        [
         "703",
         "1988",
         null,
         "10",
         "77",
         "39",
         "24",
         "5",
         "63",
         "4",
         "4",
         "True",
         "68",
         "F",
         "2nd Cycle",
         "Together",
         "OK nice!"
        ],
        [
         "793",
         "1956",
         null,
         "15",
         "25",
         "338",
         "72",
         "1",
         "25",
         "0",
         "1",
         "True",
         "48",
         "M",
         "Master",
         "Single",
         "OK nice!"
        ],
        [
         "796",
         "1980",
         "61246.0",
         "19",
         "0",
         "295",
         "41",
         "1",
         "47",
         "8",
         "3",
         "True",
         "72",
         "M",
         "Master",
         null,
         "Kind of OK"
        ],
        [
         "804",
         "1968",
         "54362.0",
         "9",
         "33",
         "70",
         "92",
         "0",
         "7",
         "0",
         "0",
         null,
         "53",
         "F",
         "Graduation",
         "Together",
         "Kind of OK"
        ],
        [
         "805",
         "1967",
         "57799.0",
         "18",
         "67",
         "303",
         "88",
         "1",
         "9",
         "1",
         "0",
         "True",
         "62",
         "M",
         null,
         "Married",
         "Kind of OK"
        ],
        [
         "826",
         "1956",
         "76673.0",
         "24",
         "72",
         "710",
         "65",
         "2",
         "26",
         "2",
         "5",
         null,
         "43",
         "M",
         "Graduation",
         "Divorced",
         "OK nice!"
        ],
        [
         "852",
         "1956",
         null,
         "21",
         "95",
         "596",
         "69",
         "4",
         "20",
         "2",
         "6",
         "True",
         "33",
         "M",
         "Graduation",
         "Together",
         "OK nice!"
        ],
        [
         "853",
         "1984",
         "42616.0",
         "8",
         "532",
         "19",
         "34",
         "25",
         "25",
         "8",
         "7",
         "True",
         "57",
         "M",
         null,
         "Married",
         "Kind of OK"
        ],
        [
         "870",
         "1939",
         "97763.0",
         "30",
         "25",
         "1340",
         "66",
         "6",
         "24",
         "0",
         "3",
         null,
         "13",
         "M",
         "Graduation",
         "Divorced",
         "Take my money!!"
        ],
        [
         "917",
         "1966",
         "66241.0",
         "20",
         "66",
         "438",
         "94",
         "0",
         "6",
         "0",
         "0",
         null,
         "57",
         "M",
         "Graduation",
         "Together",
         "Kind of OK"
        ],
        [
         "941",
         "1980",
         "70562.0",
         "25",
         "15",
         "644",
         "45",
         "6",
         "40",
         "8",
         "2",
         null,
         "53",
         "M",
         "Graduation",
         "Married",
         "Kind of OK"
        ],
        [
         "971",
         "1965",
         "66544.0",
         "10",
         "62",
         "118",
         "87",
         "1",
         "10",
         "2",
         "0",
         "True",
         "54",
         "M",
         "Graduation",
         null,
         "OK nice!"
        ]
       ],
       "shape": {
        "columns": 16,
        "rows": 542
       }
      },
      "text/html": [
       "<div>\n",
       "<style scoped>\n",
       "    .dataframe tbody tr th:only-of-type {\n",
       "        vertical-align: middle;\n",
       "    }\n",
       "\n",
       "    .dataframe tbody tr th {\n",
       "        vertical-align: top;\n",
       "    }\n",
       "\n",
       "    .dataframe thead th {\n",
       "        text-align: right;\n",
       "    }\n",
       "</style>\n",
       "<table border=\"1\" class=\"dataframe\">\n",
       "  <thead>\n",
       "    <tr style=\"text-align: right;\">\n",
       "      <th></th>\n",
       "      <th>age</th>\n",
       "      <th>income</th>\n",
       "      <th>frq</th>\n",
       "      <th>rcn</th>\n",
       "      <th>mnt</th>\n",
       "      <th>clothes</th>\n",
       "      <th>kitchen</th>\n",
       "      <th>small_appliances</th>\n",
       "      <th>toys</th>\n",
       "      <th>house_keeping</th>\n",
       "      <th>dependents</th>\n",
       "      <th>per_net_purchase</th>\n",
       "      <th>gender</th>\n",
       "      <th>education</th>\n",
       "      <th>status</th>\n",
       "      <th>description</th>\n",
       "    </tr>\n",
       "  </thead>\n",
       "  <tbody>\n",
       "    <tr>\n",
       "      <th>3</th>\n",
       "      <td>1955</td>\n",
       "      <td>93571.0</td>\n",
       "      <td>26</td>\n",
       "      <td>10</td>\n",
       "      <td>888</td>\n",
       "      <td>60</td>\n",
       "      <td>10</td>\n",
       "      <td>19</td>\n",
       "      <td>6</td>\n",
       "      <td>5</td>\n",
       "      <td>True</td>\n",
       "      <td>35</td>\n",
       "      <td>F</td>\n",
       "      <td>Master</td>\n",
       "      <td>NaN</td>\n",
       "      <td>OK nice!</td>\n",
       "    </tr>\n",
       "    <tr>\n",
       "      <th>61</th>\n",
       "      <td>1968</td>\n",
       "      <td>NaN</td>\n",
       "      <td>14</td>\n",
       "      <td>90</td>\n",
       "      <td>184</td>\n",
       "      <td>95</td>\n",
       "      <td>1</td>\n",
       "      <td>3</td>\n",
       "      <td>1</td>\n",
       "      <td>0</td>\n",
       "      <td>True</td>\n",
       "      <td>59</td>\n",
       "      <td>F</td>\n",
       "      <td>2nd Cycle</td>\n",
       "      <td>Married</td>\n",
       "      <td>Meh...</td>\n",
       "    </tr>\n",
       "    <tr>\n",
       "      <th>67</th>\n",
       "      <td>1981</td>\n",
       "      <td>60457.0</td>\n",
       "      <td>9</td>\n",
       "      <td>73</td>\n",
       "      <td>63</td>\n",
       "      <td>37</td>\n",
       "      <td>2</td>\n",
       "      <td>51</td>\n",
       "      <td>6</td>\n",
       "      <td>3</td>\n",
       "      <td>&lt;NA&gt;</td>\n",
       "      <td>57</td>\n",
       "      <td>M</td>\n",
       "      <td>PhD</td>\n",
       "      <td>Married</td>\n",
       "      <td>Meh...</td>\n",
       "    </tr>\n",
       "    <tr>\n",
       "      <th>70</th>\n",
       "      <td>1944</td>\n",
       "      <td>116259.0</td>\n",
       "      <td>28</td>\n",
       "      <td>35</td>\n",
       "      <td>1279</td>\n",
       "      <td>17</td>\n",
       "      <td>6</td>\n",
       "      <td>54</td>\n",
       "      <td>3</td>\n",
       "      <td>20</td>\n",
       "      <td>False</td>\n",
       "      <td>11</td>\n",
       "      <td>M</td>\n",
       "      <td>Graduation</td>\n",
       "      <td>NaN</td>\n",
       "      <td>OK nice!</td>\n",
       "    </tr>\n",
       "    <tr>\n",
       "      <th>73</th>\n",
       "      <td>1967</td>\n",
       "      <td>75274.0</td>\n",
       "      <td>16</td>\n",
       "      <td>67</td>\n",
       "      <td>263</td>\n",
       "      <td>88</td>\n",
       "      <td>3</td>\n",
       "      <td>6</td>\n",
       "      <td>1</td>\n",
       "      <td>2</td>\n",
       "      <td>&lt;NA&gt;</td>\n",
       "      <td>66</td>\n",
       "      <td>M</td>\n",
       "      <td>Graduation</td>\n",
       "      <td>Single</td>\n",
       "      <td>Kind of OK</td>\n",
       "    </tr>\n",
       "    <tr>\n",
       "      <th>...</th>\n",
       "      <td>...</td>\n",
       "      <td>...</td>\n",
       "      <td>...</td>\n",
       "      <td>...</td>\n",
       "      <td>...</td>\n",
       "      <td>...</td>\n",
       "      <td>...</td>\n",
       "      <td>...</td>\n",
       "      <td>...</td>\n",
       "      <td>...</td>\n",
       "      <td>...</td>\n",
       "      <td>...</td>\n",
       "      <td>...</td>\n",
       "      <td>...</td>\n",
       "      <td>...</td>\n",
       "      <td>...</td>\n",
       "    </tr>\n",
       "    <tr>\n",
       "      <th>8932</th>\n",
       "      <td>1959</td>\n",
       "      <td>NaN</td>\n",
       "      <td>20</td>\n",
       "      <td>71</td>\n",
       "      <td>716</td>\n",
       "      <td>67</td>\n",
       "      <td>5</td>\n",
       "      <td>25</td>\n",
       "      <td>3</td>\n",
       "      <td>1</td>\n",
       "      <td>False</td>\n",
       "      <td>27</td>\n",
       "      <td>M</td>\n",
       "      <td>Graduation</td>\n",
       "      <td>Married</td>\n",
       "      <td>Meh...</td>\n",
       "    </tr>\n",
       "    <tr>\n",
       "      <th>8942</th>\n",
       "      <td>1950</td>\n",
       "      <td>92746.0</td>\n",
       "      <td>34</td>\n",
       "      <td>98</td>\n",
       "      <td>1399</td>\n",
       "      <td>50</td>\n",
       "      <td>5</td>\n",
       "      <td>36</td>\n",
       "      <td>5</td>\n",
       "      <td>4</td>\n",
       "      <td>&lt;NA&gt;</td>\n",
       "      <td>28</td>\n",
       "      <td>M</td>\n",
       "      <td>Master</td>\n",
       "      <td>Married</td>\n",
       "      <td>Take my money!!</td>\n",
       "    </tr>\n",
       "    <tr>\n",
       "      <th>8964</th>\n",
       "      <td>1978</td>\n",
       "      <td>44661.0</td>\n",
       "      <td>6</td>\n",
       "      <td>49</td>\n",
       "      <td>33</td>\n",
       "      <td>18</td>\n",
       "      <td>18</td>\n",
       "      <td>35</td>\n",
       "      <td>16</td>\n",
       "      <td>13</td>\n",
       "      <td>True</td>\n",
       "      <td>42</td>\n",
       "      <td>M</td>\n",
       "      <td>1st Cycle</td>\n",
       "      <td>NaN</td>\n",
       "      <td>OK nice!</td>\n",
       "    </tr>\n",
       "    <tr>\n",
       "      <th>8972</th>\n",
       "      <td>1976</td>\n",
       "      <td>NaN</td>\n",
       "      <td>17</td>\n",
       "      <td>9</td>\n",
       "      <td>254</td>\n",
       "      <td>70</td>\n",
       "      <td>1</td>\n",
       "      <td>28</td>\n",
       "      <td>1</td>\n",
       "      <td>1</td>\n",
       "      <td>True</td>\n",
       "      <td>59</td>\n",
       "      <td>M</td>\n",
       "      <td>Graduation</td>\n",
       "      <td>Divorced</td>\n",
       "      <td>Meh...</td>\n",
       "    </tr>\n",
       "    <tr>\n",
       "      <th>8992</th>\n",
       "      <td>1954</td>\n",
       "      <td>87399.0</td>\n",
       "      <td>25</td>\n",
       "      <td>1</td>\n",
       "      <td>837</td>\n",
       "      <td>56</td>\n",
       "      <td>8</td>\n",
       "      <td>27</td>\n",
       "      <td>8</td>\n",
       "      <td>1</td>\n",
       "      <td>&lt;NA&gt;</td>\n",
       "      <td>47</td>\n",
       "      <td>M</td>\n",
       "      <td>Graduation</td>\n",
       "      <td>Married</td>\n",
       "      <td>Kind of OK</td>\n",
       "    </tr>\n",
       "  </tbody>\n",
       "</table>\n",
       "<p>542 rows × 16 columns</p>\n",
       "</div>"
      ],
      "text/plain": [
       "       age    income  frq  rcn   mnt  clothes  kitchen  small_appliances  \\\n",
       "3     1955   93571.0   26   10   888       60       10                19   \n",
       "61    1968       NaN   14   90   184       95        1                 3   \n",
       "67    1981   60457.0    9   73    63       37        2                51   \n",
       "70    1944  116259.0   28   35  1279       17        6                54   \n",
       "73    1967   75274.0   16   67   263       88        3                 6   \n",
       "...    ...       ...  ...  ...   ...      ...      ...               ...   \n",
       "8932  1959       NaN   20   71   716       67        5                25   \n",
       "8942  1950   92746.0   34   98  1399       50        5                36   \n",
       "8964  1978   44661.0    6   49    33       18       18                35   \n",
       "8972  1976       NaN   17    9   254       70        1                28   \n",
       "8992  1954   87399.0   25    1   837       56        8                27   \n",
       "\n",
       "      toys  house_keeping  dependents  per_net_purchase gender   education  \\\n",
       "3        6              5        True                35      F      Master   \n",
       "61       1              0        True                59      F   2nd Cycle   \n",
       "67       6              3        <NA>                57      M         PhD   \n",
       "70       3             20       False                11      M  Graduation   \n",
       "73       1              2        <NA>                66      M  Graduation   \n",
       "...    ...            ...         ...               ...    ...         ...   \n",
       "8932     3              1       False                27      M  Graduation   \n",
       "8942     5              4        <NA>                28      M      Master   \n",
       "8964    16             13        True                42      M   1st Cycle   \n",
       "8972     1              1        True                59      M  Graduation   \n",
       "8992     8              1        <NA>                47      M  Graduation   \n",
       "\n",
       "        status      description  \n",
       "3          NaN         OK nice!  \n",
       "61     Married           Meh...  \n",
       "67     Married           Meh...  \n",
       "70         NaN         OK nice!  \n",
       "73      Single       Kind of OK  \n",
       "...        ...              ...  \n",
       "8932   Married           Meh...  \n",
       "8942   Married  Take my money!!  \n",
       "8964       NaN         OK nice!  \n",
       "8972  Divorced           Meh...  \n",
       "8992   Married       Kind of OK  \n",
       "\n",
       "[542 rows x 16 columns]"
      ]
     },
     "execution_count": 474,
     "metadata": {},
     "output_type": "execute_result"
    }
   ],
   "source": [
    "df_neighbors[nans_index]"
   ]
  },
  {
   "cell_type": "markdown",
   "metadata": {},
   "source": [
    "### Exercise 3: Fill NaNs with KKNImputer"
   ]
  },
  {
   "cell_type": "code",
   "execution_count": 475,
   "metadata": {},
   "outputs": [],
   "source": [
    "# KNNImputer - only works for numerical variables. Fill NaNs on df_neighbors\n",
    "imputer = KNNImputer(n_neighbors=5, weights=\"uniform\")\n",
    "# CODE HERE\n",
    "\n",
    "imputer.fit(df_neighbors[metric_features])\n",
    "df_neighbors[metric_features] = imputer.transform(df_neighbors[metric_features])"
   ]
  },
  {
   "cell_type": "code",
   "execution_count": 476,
   "metadata": {},
   "outputs": [
    {
     "data": {
      "application/vnd.microsoft.datawrangler.viewer.v0+json": {
       "columns": [
        {
         "name": "index",
         "rawType": "int64",
         "type": "integer"
        },
        {
         "name": "age",
         "rawType": "float64",
         "type": "float"
        },
        {
         "name": "income",
         "rawType": "float64",
         "type": "float"
        },
        {
         "name": "frq",
         "rawType": "float64",
         "type": "float"
        },
        {
         "name": "rcn",
         "rawType": "float64",
         "type": "float"
        },
        {
         "name": "mnt",
         "rawType": "float64",
         "type": "float"
        },
        {
         "name": "clothes",
         "rawType": "float64",
         "type": "float"
        },
        {
         "name": "kitchen",
         "rawType": "float64",
         "type": "float"
        },
        {
         "name": "small_appliances",
         "rawType": "float64",
         "type": "float"
        },
        {
         "name": "toys",
         "rawType": "float64",
         "type": "float"
        },
        {
         "name": "house_keeping",
         "rawType": "float64",
         "type": "float"
        },
        {
         "name": "dependents",
         "rawType": "boolean",
         "type": "boolean"
        },
        {
         "name": "per_net_purchase",
         "rawType": "float64",
         "type": "float"
        },
        {
         "name": "gender",
         "rawType": "object",
         "type": "string"
        },
        {
         "name": "education",
         "rawType": "object",
         "type": "unknown"
        },
        {
         "name": "status",
         "rawType": "object",
         "type": "unknown"
        },
        {
         "name": "description",
         "rawType": "object",
         "type": "string"
        }
       ],
       "ref": "40c85f1d-e634-4ac5-b73e-46e6f14872aa",
       "rows": [
        [
         "3",
         "1955.0",
         "93571.0",
         "26.0",
         "10.0",
         "888.0",
         "60.0",
         "10.0",
         "19.0",
         "6.0",
         "5.0",
         "True",
         "35.0",
         "F",
         "Master",
         null,
         "OK nice!"
        ],
        [
         "61",
         "1968.0",
         "63143.0",
         "14.0",
         "90.0",
         "184.0",
         "95.0",
         "1.0",
         "3.0",
         "1.0",
         "0.0",
         "True",
         "59.0",
         "F",
         "2nd Cycle",
         "Married",
         "Meh..."
        ],
        [
         "67",
         "1981.0",
         "60457.0",
         "9.0",
         "73.0",
         "63.0",
         "37.0",
         "2.0",
         "51.0",
         "6.0",
         "3.0",
         null,
         "57.0",
         "M",
         "PhD",
         "Married",
         "Meh..."
        ],
        [
         "70",
         "1944.0",
         "116259.0",
         "28.0",
         "35.0",
         "1279.0",
         "17.0",
         "6.0",
         "54.0",
         "3.0",
         "20.0",
         "False",
         "11.0",
         "M",
         "Graduation",
         null,
         "OK nice!"
        ],
        [
         "73",
         "1967.0",
         "75274.0",
         "16.0",
         "67.0",
         "263.0",
         "88.0",
         "3.0",
         "6.0",
         "1.0",
         "2.0",
         null,
         "66.0",
         "M",
         "Graduation",
         "Single",
         "Kind of OK"
        ],
        [
         "107",
         "1989.0",
         "48600.0",
         "9.0",
         "74.0",
         "47.0",
         "45.0",
         "10.0",
         "37.0",
         "6.0",
         "3.0",
         "True",
         "61.0",
         "F",
         "Graduation",
         null,
         "Kind of OK"
        ],
        [
         "147",
         "1973.0",
         "70965.0",
         "10.0",
         "11.0",
         "120.0",
         "70.0",
         "3.0",
         "21.0",
         "3.0",
         "3.0",
         "True",
         "46.0",
         "M",
         "Graduation",
         null,
         "Meh..."
        ],
        [
         "172",
         "1977.0",
         "51478.0",
         "7.0",
         "89.0",
         "47.0",
         "22.0",
         "23.0",
         "10.0",
         "15.0",
         "30.0",
         null,
         "40.0",
         "M",
         "Graduation",
         "Single",
         "Kind of OK"
        ],
        [
         "198",
         "1990.0",
         "25100.0",
         "14.0",
         "96.0",
         "117.0",
         "22.0",
         "16.0",
         "39.0",
         "3.0",
         "20.0",
         null,
         "50.0",
         "F",
         "Graduation",
         "Single",
         "Meh..."
        ],
        [
         "218",
         "1950.0",
         "106486.0",
         "19.0",
         "12.0",
         "714.0",
         "10.0",
         "14.0",
         "39.0",
         "20.0",
         "17.0",
         null,
         "26.0",
         "M",
         "Graduation",
         "Married",
         "OK nice!"
        ],
        [
         "221",
         "1994.0",
         "22670.0",
         "9.0",
         "37.0",
         "33.0",
         "9.0",
         "16.0",
         "38.0",
         "12.0",
         "25.0",
         null,
         "56.0",
         "M",
         "1st Cycle",
         "Single",
         "Meh..."
        ],
        [
         "250",
         "1996.0",
         "22963.0",
         "11.0",
         "90.0",
         "59.0",
         "2.0",
         "23.0",
         "34.0",
         "18.0",
         "22.0",
         null,
         "57.0",
         "F",
         "1st Cycle",
         "Single",
         "Kind of OK"
        ],
        [
         "259",
         "1956.0",
         "81245.0",
         "23.0",
         "41.0",
         "775.0",
         "29.0",
         "20.0",
         "20.0",
         "19.0",
         "12.0",
         null,
         "31.0",
         "M",
         "2nd Cycle",
         "Married",
         "OK nice!"
        ],
        [
         "299",
         "1976.0",
         "64355.0",
         "11.0",
         "50.0",
         "40.0",
         "58.0",
         "4.0",
         "28.0",
         "3.0",
         "7.0",
         "True",
         "75.0",
         "M",
         "2nd Cycle",
         null,
         "Meh..."
        ],
        [
         "332",
         "1992.0",
         "30954.0",
         "13.0",
         "54.0",
         "74.0",
         "20.0",
         "5.0",
         "40.0",
         "12.0",
         "23.0",
         null,
         "74.0",
         "M",
         "Graduation",
         "Single",
         "OK nice!"
        ],
        [
         "338",
         "1965.0",
         "62464.0",
         "24.0",
         "73.0",
         "605.0",
         "82.0",
         "1.0",
         "15.0",
         "1.0",
         "1.0",
         null,
         "61.0",
         "F",
         "Graduation",
         "Single",
         "Meh..."
        ],
        [
         "344",
         "1953.0",
         "102375.0",
         "24.0",
         "35.0",
         "775.0",
         "43.0",
         "12.0",
         "22.0",
         "14.0",
         "10.0",
         null,
         "41.0",
         "M",
         "Master",
         "Married",
         "OK nice!"
        ],
        [
         "348",
         "1976.0",
         "59316.0",
         "5.0",
         "13.0",
         "40.0",
         "36.0",
         "6.0",
         "34.0",
         "20.0",
         "4.0",
         "True",
         "44.0",
         "M",
         "Graduation",
         null,
         "Kind of OK"
        ],
        [
         "363",
         "1995.0",
         "35790.0",
         "8.0",
         "38.0",
         "19.0",
         "4.0",
         "40.0",
         "18.0",
         "33.0",
         "5.0",
         "False",
         "56.0",
         "M",
         "1st Cycle",
         null,
         "Meh..."
        ],
        [
         "388",
         "1969.0",
         "51999.0",
         "8.0",
         "2.0",
         "41.0",
         "91.0",
         "0.0",
         "8.0",
         "1.0",
         "0.0",
         null,
         "49.0",
         "F",
         "Graduation",
         "Divorced",
         "Meh..."
        ],
        [
         "399",
         "1953.0",
         "89653.0",
         "27.0",
         "71.0",
         "953.0",
         "62.0",
         "7.0",
         "22.0",
         "2.0",
         "7.0",
         null,
         "40.0",
         "M",
         "Graduation",
         "Widow",
         "OK nice!"
        ],
        [
         "443",
         "1972.0",
         "46366.0",
         "22.0",
         "42.0",
         "492.0",
         "62.0",
         "5.0",
         "27.0",
         "2.0",
         "4.0",
         null,
         "43.0",
         "F",
         "Graduation",
         "Married",
         "Kind of OK"
        ],
        [
         "452",
         "1994.0",
         "10000.0",
         "11.0",
         "96.0",
         "29.0",
         "6.0",
         "40.0",
         "19.0",
         "12.0",
         "22.0",
         null,
         "66.0",
         "F",
         "1st Cycle",
         "Single",
         "Kind of OK"
        ],
        [
         "463",
         "1962.0",
         "73941.0",
         "17.0",
         "17.0",
         "443.0",
         "77.0",
         "0.0",
         "20.0",
         "1.0",
         "2.0",
         null,
         "37.0",
         "M",
         "Graduation",
         "Together",
         "OK nice!"
        ],
        [
         "505",
         "1940.0",
         "88158.0",
         "31.0",
         "16.0",
         "1411.0",
         "43.0",
         "6.0",
         "35.0",
         "7.0",
         "9.0",
         "False",
         "13.0",
         "M",
         "Graduation",
         null,
         "Take my money!!"
        ],
        [
         "520",
         "1941.0",
         "99890.0",
         "41.0",
         "78.0",
         "1985.0",
         "49.0",
         "3.0",
         "46.0",
         "1.0",
         "1.0",
         "False",
         "13.0",
         "M",
         "Graduation",
         null,
         "OK nice!"
        ],
        [
         "549",
         "1945.0",
         "88845.0",
         "24.0",
         "21.0",
         "955.0",
         "52.0",
         "5.0",
         "27.0",
         "7.0",
         "10.0",
         null,
         "17.0",
         "M",
         "Graduation",
         "Married",
         "Meh..."
        ],
        [
         "559",
         "1946.0",
         "95678.0",
         "33.0",
         "42.0",
         "1467.0",
         "43.0",
         "3.0",
         "49.0",
         "4.0",
         "2.0",
         null,
         "15.0",
         "F",
         "Graduation",
         "Divorced",
         "OK nice!"
        ],
        [
         "582",
         "1989.0",
         "10182.0",
         "7.0",
         "29.0",
         "33.0",
         "46.0",
         "11.0",
         "33.0",
         "6.0",
         "4.0",
         "True",
         "24.0",
         "M",
         "Graduation",
         null,
         "OK nice!"
        ],
        [
         "598",
         "1948.0",
         "78801.0",
         "26.0",
         "76.0",
         "1089.0",
         "28.0",
         "16.0",
         "39.0",
         "12.0",
         "5.0",
         null,
         "12.0",
         "F",
         "Graduation",
         "Together",
         "Take my money!!"
        ],
        [
         "636",
         "1949.0",
         "99146.0",
         "40.0",
         "47.0",
         "1787.0",
         "59.0",
         "3.0",
         "21.0",
         "11.0",
         "6.0",
         "False",
         "22.0",
         "F",
         "Master",
         null,
         "Take my money!!"
        ],
        [
         "644",
         "1963.0",
         "67633.0",
         "23.0",
         "45.0",
         "541.0",
         "82.0",
         "2.0",
         "14.0",
         "0.0",
         "2.0",
         null,
         "56.0",
         "F",
         "Graduation",
         "Married",
         "OK nice!"
        ],
        [
         "653",
         "1988.0",
         "56216.0",
         "11.0",
         "31.0",
         "119.0",
         "39.0",
         "6.0",
         "50.0",
         "1.0",
         "4.0",
         "True",
         "55.0",
         "F",
         "Graduation",
         null,
         "Meh..."
        ],
        [
         "655",
         "1986.0",
         "38196.0",
         "11.0",
         "54.0",
         "71.0",
         "28.0",
         "12.0",
         "42.0",
         "1.0",
         "17.0",
         "True",
         "54.0",
         "M",
         "Graduation",
         null,
         "Kind of OK"
        ],
        [
         "671",
         "1986.0",
         "31885.0",
         "10.0",
         "379.0",
         "12.0",
         "41.0",
         "2.0",
         "40.0",
         "11.0",
         "6.0",
         "True",
         "66.0",
         "M",
         "Master",
         null,
         "Meh..."
        ],
        [
         "676",
         "1993.0",
         "27944.0",
         "11.0",
         "60.0",
         "74.0",
         "17.0",
         "10.0",
         "33.0",
         "10.0",
         "30.0",
         null,
         "60.0",
         "M",
         "2nd Cycle",
         "Married",
         "Meh..."
        ],
        [
         "680",
         "1991.0",
         "28722.0",
         "9.0",
         "52.0",
         "35.0",
         "38.0",
         "11.0",
         "24.0",
         "13.0",
         "14.0",
         null,
         "56.0",
         "M",
         "Graduation",
         "Married",
         "Kind of OK"
        ],
        [
         "697",
         "1980.0",
         "53469.0",
         "10.0",
         "53.0",
         "49.0",
         "43.0",
         "2.0",
         "42.0",
         "12.0",
         "0.0",
         "True",
         "72.0",
         "M",
         "Graduation",
         null,
         "OK nice!"
        ],
        [
         "703",
         "1988.0",
         "40386.2",
         "10.0",
         "77.0",
         "39.0",
         "24.0",
         "5.0",
         "63.0",
         "4.0",
         "4.0",
         "True",
         "68.0",
         "F",
         "2nd Cycle",
         "Together",
         "OK nice!"
        ],
        [
         "793",
         "1956.0",
         "75781.8",
         "15.0",
         "25.0",
         "338.0",
         "72.0",
         "1.0",
         "25.0",
         "0.0",
         "1.0",
         "True",
         "48.0",
         "M",
         "Master",
         "Single",
         "OK nice!"
        ],
        [
         "796",
         "1980.0",
         "61246.0",
         "19.0",
         "0.0",
         "295.0",
         "41.0",
         "1.0",
         "47.0",
         "8.0",
         "3.0",
         "True",
         "72.0",
         "M",
         "Master",
         null,
         "Kind of OK"
        ],
        [
         "804",
         "1968.0",
         "54362.0",
         "9.0",
         "33.0",
         "70.0",
         "92.0",
         "0.0",
         "7.0",
         "0.0",
         "0.0",
         null,
         "53.0",
         "F",
         "Graduation",
         "Together",
         "Kind of OK"
        ],
        [
         "805",
         "1967.0",
         "57799.0",
         "18.0",
         "67.0",
         "303.0",
         "88.0",
         "1.0",
         "9.0",
         "1.0",
         "0.0",
         "True",
         "62.0",
         "M",
         null,
         "Married",
         "Kind of OK"
        ],
        [
         "826",
         "1956.0",
         "76673.0",
         "24.0",
         "72.0",
         "710.0",
         "65.0",
         "2.0",
         "26.0",
         "2.0",
         "5.0",
         null,
         "43.0",
         "M",
         "Graduation",
         "Divorced",
         "OK nice!"
        ],
        [
         "852",
         "1956.0",
         "80303.8",
         "21.0",
         "95.0",
         "596.0",
         "69.0",
         "4.0",
         "20.0",
         "2.0",
         "6.0",
         "True",
         "33.0",
         "M",
         "Graduation",
         "Together",
         "OK nice!"
        ],
        [
         "853",
         "1984.0",
         "42616.0",
         "8.0",
         "532.0",
         "19.0",
         "34.0",
         "25.0",
         "25.0",
         "8.0",
         "7.0",
         "True",
         "57.0",
         "M",
         null,
         "Married",
         "Kind of OK"
        ],
        [
         "870",
         "1939.0",
         "97763.0",
         "30.0",
         "25.0",
         "1340.0",
         "66.0",
         "6.0",
         "24.0",
         "0.0",
         "3.0",
         null,
         "13.0",
         "M",
         "Graduation",
         "Divorced",
         "Take my money!!"
        ],
        [
         "917",
         "1966.0",
         "66241.0",
         "20.0",
         "66.0",
         "438.0",
         "94.0",
         "0.0",
         "6.0",
         "0.0",
         "0.0",
         null,
         "57.0",
         "M",
         "Graduation",
         "Together",
         "Kind of OK"
        ],
        [
         "941",
         "1980.0",
         "70562.0",
         "25.0",
         "15.0",
         "644.0",
         "45.0",
         "6.0",
         "40.0",
         "8.0",
         "2.0",
         null,
         "53.0",
         "M",
         "Graduation",
         "Married",
         "Kind of OK"
        ],
        [
         "971",
         "1965.0",
         "66544.0",
         "10.0",
         "62.0",
         "118.0",
         "87.0",
         "1.0",
         "10.0",
         "2.0",
         "0.0",
         "True",
         "54.0",
         "M",
         "Graduation",
         null,
         "OK nice!"
        ]
       ],
       "shape": {
        "columns": 16,
        "rows": 542
       }
      },
      "text/html": [
       "<div>\n",
       "<style scoped>\n",
       "    .dataframe tbody tr th:only-of-type {\n",
       "        vertical-align: middle;\n",
       "    }\n",
       "\n",
       "    .dataframe tbody tr th {\n",
       "        vertical-align: top;\n",
       "    }\n",
       "\n",
       "    .dataframe thead th {\n",
       "        text-align: right;\n",
       "    }\n",
       "</style>\n",
       "<table border=\"1\" class=\"dataframe\">\n",
       "  <thead>\n",
       "    <tr style=\"text-align: right;\">\n",
       "      <th></th>\n",
       "      <th>age</th>\n",
       "      <th>income</th>\n",
       "      <th>frq</th>\n",
       "      <th>rcn</th>\n",
       "      <th>mnt</th>\n",
       "      <th>clothes</th>\n",
       "      <th>kitchen</th>\n",
       "      <th>small_appliances</th>\n",
       "      <th>toys</th>\n",
       "      <th>house_keeping</th>\n",
       "      <th>dependents</th>\n",
       "      <th>per_net_purchase</th>\n",
       "      <th>gender</th>\n",
       "      <th>education</th>\n",
       "      <th>status</th>\n",
       "      <th>description</th>\n",
       "    </tr>\n",
       "  </thead>\n",
       "  <tbody>\n",
       "    <tr>\n",
       "      <th>3</th>\n",
       "      <td>1955.0</td>\n",
       "      <td>93571.0</td>\n",
       "      <td>26.0</td>\n",
       "      <td>10.0</td>\n",
       "      <td>888.0</td>\n",
       "      <td>60.0</td>\n",
       "      <td>10.0</td>\n",
       "      <td>19.0</td>\n",
       "      <td>6.0</td>\n",
       "      <td>5.0</td>\n",
       "      <td>True</td>\n",
       "      <td>35.0</td>\n",
       "      <td>F</td>\n",
       "      <td>Master</td>\n",
       "      <td>NaN</td>\n",
       "      <td>OK nice!</td>\n",
       "    </tr>\n",
       "    <tr>\n",
       "      <th>61</th>\n",
       "      <td>1968.0</td>\n",
       "      <td>63143.0</td>\n",
       "      <td>14.0</td>\n",
       "      <td>90.0</td>\n",
       "      <td>184.0</td>\n",
       "      <td>95.0</td>\n",
       "      <td>1.0</td>\n",
       "      <td>3.0</td>\n",
       "      <td>1.0</td>\n",
       "      <td>0.0</td>\n",
       "      <td>True</td>\n",
       "      <td>59.0</td>\n",
       "      <td>F</td>\n",
       "      <td>2nd Cycle</td>\n",
       "      <td>Married</td>\n",
       "      <td>Meh...</td>\n",
       "    </tr>\n",
       "    <tr>\n",
       "      <th>67</th>\n",
       "      <td>1981.0</td>\n",
       "      <td>60457.0</td>\n",
       "      <td>9.0</td>\n",
       "      <td>73.0</td>\n",
       "      <td>63.0</td>\n",
       "      <td>37.0</td>\n",
       "      <td>2.0</td>\n",
       "      <td>51.0</td>\n",
       "      <td>6.0</td>\n",
       "      <td>3.0</td>\n",
       "      <td>&lt;NA&gt;</td>\n",
       "      <td>57.0</td>\n",
       "      <td>M</td>\n",
       "      <td>PhD</td>\n",
       "      <td>Married</td>\n",
       "      <td>Meh...</td>\n",
       "    </tr>\n",
       "    <tr>\n",
       "      <th>70</th>\n",
       "      <td>1944.0</td>\n",
       "      <td>116259.0</td>\n",
       "      <td>28.0</td>\n",
       "      <td>35.0</td>\n",
       "      <td>1279.0</td>\n",
       "      <td>17.0</td>\n",
       "      <td>6.0</td>\n",
       "      <td>54.0</td>\n",
       "      <td>3.0</td>\n",
       "      <td>20.0</td>\n",
       "      <td>False</td>\n",
       "      <td>11.0</td>\n",
       "      <td>M</td>\n",
       "      <td>Graduation</td>\n",
       "      <td>NaN</td>\n",
       "      <td>OK nice!</td>\n",
       "    </tr>\n",
       "    <tr>\n",
       "      <th>73</th>\n",
       "      <td>1967.0</td>\n",
       "      <td>75274.0</td>\n",
       "      <td>16.0</td>\n",
       "      <td>67.0</td>\n",
       "      <td>263.0</td>\n",
       "      <td>88.0</td>\n",
       "      <td>3.0</td>\n",
       "      <td>6.0</td>\n",
       "      <td>1.0</td>\n",
       "      <td>2.0</td>\n",
       "      <td>&lt;NA&gt;</td>\n",
       "      <td>66.0</td>\n",
       "      <td>M</td>\n",
       "      <td>Graduation</td>\n",
       "      <td>Single</td>\n",
       "      <td>Kind of OK</td>\n",
       "    </tr>\n",
       "    <tr>\n",
       "      <th>...</th>\n",
       "      <td>...</td>\n",
       "      <td>...</td>\n",
       "      <td>...</td>\n",
       "      <td>...</td>\n",
       "      <td>...</td>\n",
       "      <td>...</td>\n",
       "      <td>...</td>\n",
       "      <td>...</td>\n",
       "      <td>...</td>\n",
       "      <td>...</td>\n",
       "      <td>...</td>\n",
       "      <td>...</td>\n",
       "      <td>...</td>\n",
       "      <td>...</td>\n",
       "      <td>...</td>\n",
       "      <td>...</td>\n",
       "    </tr>\n",
       "    <tr>\n",
       "      <th>8932</th>\n",
       "      <td>1959.0</td>\n",
       "      <td>85643.4</td>\n",
       "      <td>20.0</td>\n",
       "      <td>71.0</td>\n",
       "      <td>716.0</td>\n",
       "      <td>67.0</td>\n",
       "      <td>5.0</td>\n",
       "      <td>25.0</td>\n",
       "      <td>3.0</td>\n",
       "      <td>1.0</td>\n",
       "      <td>False</td>\n",
       "      <td>27.0</td>\n",
       "      <td>M</td>\n",
       "      <td>Graduation</td>\n",
       "      <td>Married</td>\n",
       "      <td>Meh...</td>\n",
       "    </tr>\n",
       "    <tr>\n",
       "      <th>8942</th>\n",
       "      <td>1950.0</td>\n",
       "      <td>92746.0</td>\n",
       "      <td>34.0</td>\n",
       "      <td>98.0</td>\n",
       "      <td>1399.0</td>\n",
       "      <td>50.0</td>\n",
       "      <td>5.0</td>\n",
       "      <td>36.0</td>\n",
       "      <td>5.0</td>\n",
       "      <td>4.0</td>\n",
       "      <td>&lt;NA&gt;</td>\n",
       "      <td>28.0</td>\n",
       "      <td>M</td>\n",
       "      <td>Master</td>\n",
       "      <td>Married</td>\n",
       "      <td>Take my money!!</td>\n",
       "    </tr>\n",
       "    <tr>\n",
       "      <th>8964</th>\n",
       "      <td>1978.0</td>\n",
       "      <td>44661.0</td>\n",
       "      <td>6.0</td>\n",
       "      <td>49.0</td>\n",
       "      <td>33.0</td>\n",
       "      <td>18.0</td>\n",
       "      <td>18.0</td>\n",
       "      <td>35.0</td>\n",
       "      <td>16.0</td>\n",
       "      <td>13.0</td>\n",
       "      <td>True</td>\n",
       "      <td>42.0</td>\n",
       "      <td>M</td>\n",
       "      <td>1st Cycle</td>\n",
       "      <td>NaN</td>\n",
       "      <td>OK nice!</td>\n",
       "    </tr>\n",
       "    <tr>\n",
       "      <th>8972</th>\n",
       "      <td>1976.0</td>\n",
       "      <td>63932.4</td>\n",
       "      <td>17.0</td>\n",
       "      <td>9.0</td>\n",
       "      <td>254.0</td>\n",
       "      <td>70.0</td>\n",
       "      <td>1.0</td>\n",
       "      <td>28.0</td>\n",
       "      <td>1.0</td>\n",
       "      <td>1.0</td>\n",
       "      <td>True</td>\n",
       "      <td>59.0</td>\n",
       "      <td>M</td>\n",
       "      <td>Graduation</td>\n",
       "      <td>Divorced</td>\n",
       "      <td>Meh...</td>\n",
       "    </tr>\n",
       "    <tr>\n",
       "      <th>8992</th>\n",
       "      <td>1954.0</td>\n",
       "      <td>87399.0</td>\n",
       "      <td>25.0</td>\n",
       "      <td>1.0</td>\n",
       "      <td>837.0</td>\n",
       "      <td>56.0</td>\n",
       "      <td>8.0</td>\n",
       "      <td>27.0</td>\n",
       "      <td>8.0</td>\n",
       "      <td>1.0</td>\n",
       "      <td>&lt;NA&gt;</td>\n",
       "      <td>47.0</td>\n",
       "      <td>M</td>\n",
       "      <td>Graduation</td>\n",
       "      <td>Married</td>\n",
       "      <td>Kind of OK</td>\n",
       "    </tr>\n",
       "  </tbody>\n",
       "</table>\n",
       "<p>542 rows × 16 columns</p>\n",
       "</div>"
      ],
      "text/plain": [
       "         age    income   frq   rcn     mnt  clothes  kitchen  \\\n",
       "3     1955.0   93571.0  26.0  10.0   888.0     60.0     10.0   \n",
       "61    1968.0   63143.0  14.0  90.0   184.0     95.0      1.0   \n",
       "67    1981.0   60457.0   9.0  73.0    63.0     37.0      2.0   \n",
       "70    1944.0  116259.0  28.0  35.0  1279.0     17.0      6.0   \n",
       "73    1967.0   75274.0  16.0  67.0   263.0     88.0      3.0   \n",
       "...      ...       ...   ...   ...     ...      ...      ...   \n",
       "8932  1959.0   85643.4  20.0  71.0   716.0     67.0      5.0   \n",
       "8942  1950.0   92746.0  34.0  98.0  1399.0     50.0      5.0   \n",
       "8964  1978.0   44661.0   6.0  49.0    33.0     18.0     18.0   \n",
       "8972  1976.0   63932.4  17.0   9.0   254.0     70.0      1.0   \n",
       "8992  1954.0   87399.0  25.0   1.0   837.0     56.0      8.0   \n",
       "\n",
       "      small_appliances  toys  house_keeping  dependents  per_net_purchase  \\\n",
       "3                 19.0   6.0            5.0        True              35.0   \n",
       "61                 3.0   1.0            0.0        True              59.0   \n",
       "67                51.0   6.0            3.0        <NA>              57.0   \n",
       "70                54.0   3.0           20.0       False              11.0   \n",
       "73                 6.0   1.0            2.0        <NA>              66.0   \n",
       "...                ...   ...            ...         ...               ...   \n",
       "8932              25.0   3.0            1.0       False              27.0   \n",
       "8942              36.0   5.0            4.0        <NA>              28.0   \n",
       "8964              35.0  16.0           13.0        True              42.0   \n",
       "8972              28.0   1.0            1.0        True              59.0   \n",
       "8992              27.0   8.0            1.0        <NA>              47.0   \n",
       "\n",
       "     gender   education    status      description  \n",
       "3         F      Master       NaN         OK nice!  \n",
       "61        F   2nd Cycle   Married           Meh...  \n",
       "67        M         PhD   Married           Meh...  \n",
       "70        M  Graduation       NaN         OK nice!  \n",
       "73        M  Graduation    Single       Kind of OK  \n",
       "...     ...         ...       ...              ...  \n",
       "8932      M  Graduation   Married           Meh...  \n",
       "8942      M      Master   Married  Take my money!!  \n",
       "8964      M   1st Cycle       NaN         OK nice!  \n",
       "8972      M  Graduation  Divorced           Meh...  \n",
       "8992      M  Graduation   Married       Kind of OK  \n",
       "\n",
       "[542 rows x 16 columns]"
      ]
     },
     "execution_count": 476,
     "metadata": {},
     "output_type": "execute_result"
    }
   ],
   "source": [
    "# See rows with NaNs imputed\n",
    "# CODE HERE\n",
    "df_neighbors[nans_index]"
   ]
  },
  {
   "cell_type": "markdown",
   "metadata": {},
   "source": [
    "#### Keep central tendency imputation\n",
    "\n",
    "*Why?*"
   ]
  },
  {
   "cell_type": "code",
   "execution_count": 477,
   "metadata": {},
   "outputs": [],
   "source": [
    "# let's keep the central imputation\n",
    "df = df_central.copy()"
   ]
  },
  {
   "cell_type": "markdown",
   "metadata": {},
   "source": [
    "## An overview of our previous data exploration\n",
    "\n",
    "You can also explore this dataset using the exported `pandas-profiling` report.\n",
    "\n"
   ]
  },
  {
   "cell_type": "markdown",
   "metadata": {},
   "source": [
    "\n",
    "![](https://raw.githubusercontent.com/fpontejos/Data-Mining-24-25/refs/heads/main/figures/eda/categorical_variables_counts.png)\n",
    "\n",
    "![](https://raw.githubusercontent.com/fpontejos/Data-Mining-24-25/refs/heads/main/figures/eda/numeric_variables_histograms.png)\n",
    "\n",
    "![](https://raw.githubusercontent.com/fpontejos/Data-Mining-24-25/refs/heads/main/figures/eda/numeric_variables_boxplots.png)\n",
    "\n",
    "![](https://raw.githubusercontent.com/fpontejos/Data-Mining-24-25/refs/heads/main/figures/eda/pairwise_numeric_scatterplots.png)\n",
    "\n",
    "![](https://raw.githubusercontent.com/fpontejos/Data-Mining-24-25/refs/heads/main/figures/eda/correlation_matrix.png)"
   ]
  },
  {
   "cell_type": "markdown",
   "metadata": {},
   "source": [
    "# Outlier removal\n",
    "\n",
    "Why do we need to remove outliers? Which methods can we use?\n",
    "\n",
    "\n"
   ]
  },
  {
   "cell_type": "markdown",
   "metadata": {},
   "source": [
    "### Outlier removal using only the IQR method\n",
    "\n",
    "Why should you use/not use this method?"
   ]
  },
  {
   "cell_type": "markdown",
   "metadata": {
    "id": "dTg3mjGfa487"
   },
   "source": [
    "Inter-Quartile Range formula:\n",
    "\n",
    "<br>\n",
    "\n",
    "$IQR = Q_3 – Q_1$\n",
    "\n",
    "<br>\n",
    "\n",
    "---\n",
    "\n",
    "<br>\n",
    "\n",
    "**Outliers** are the observations that fall\n",
    "- below $Q_1 − 1.5 \\times IQR$\n",
    "\n",
    "or\n",
    "\n",
    "- above $Q_3 + 1.5 \\times IQR$\n",
    "\n",
    "<br>\n",
    "<br>\n",
    "\n",
    "https://online.stat.psu.edu/stat200/lesson/3/3.2"
   ]
  },
  {
   "cell_type": "markdown",
   "metadata": {},
   "source": [
    "#### Exercise 4: Compute the Q1, Q3, IQR, upper and lower outliers bound  "
   ]
  },
  {
   "cell_type": "code",
   "execution_count": 478,
   "metadata": {},
   "outputs": [
    {
     "data": {
      "application/vnd.microsoft.datawrangler.viewer.v0+json": {
       "columns": [
        {
         "name": "index",
         "rawType": "object",
         "type": "string"
        },
        {
         "name": "0.25",
         "rawType": "float64",
         "type": "float"
        }
       ],
       "ref": "f13e17d5-47dd-43d6-b180-791d14cb76d5",
       "rows": [
        [
         "age",
         "1951.0"
        ],
        [
         "income",
         "47892.75"
        ],
        [
         "frq",
         "10.0"
        ],
        [
         "rcn",
         "26.0"
        ],
        [
         "mnt",
         "63.0"
        ],
        [
         "clothes",
         "33.0"
        ],
        [
         "kitchen",
         "2.0"
        ],
        [
         "small_appliances",
         "19.0"
        ],
        [
         "toys",
         "2.0"
        ],
        [
         "house_keeping",
         "2.0"
        ],
        [
         "per_net_purchase",
         "28.0"
        ]
       ],
       "shape": {
        "columns": 1,
        "rows": 11
       }
      },
      "text/plain": [
       "age                  1951.00\n",
       "income              47892.75\n",
       "frq                    10.00\n",
       "rcn                    26.00\n",
       "mnt                    63.00\n",
       "clothes                33.00\n",
       "kitchen                 2.00\n",
       "small_appliances       19.00\n",
       "toys                    2.00\n",
       "house_keeping           2.00\n",
       "per_net_purchase       28.00\n",
       "Name: 0.25, dtype: float64"
      ]
     },
     "execution_count": 478,
     "metadata": {},
     "output_type": "execute_result"
    }
   ],
   "source": [
    "# Compute the IQR\n",
    "# HINT: Use .quantile()\n",
    "\n",
    "# Calculate Q1, Q3, IQR\n",
    "\n",
    "q1 = df[metric_features].quantile(0.25)\n",
    "q1\n"
   ]
  },
  {
   "cell_type": "code",
   "execution_count": 479,
   "metadata": {},
   "outputs": [
    {
     "data": {
      "application/vnd.microsoft.datawrangler.viewer.v0+json": {
       "columns": [
        {
         "name": "index",
         "rawType": "object",
         "type": "string"
        },
        {
         "name": "0.75",
         "rawType": "float64",
         "type": "float"
        }
       ],
       "ref": "57bac585-3553-4048-ae92-222a85b2f884",
       "rows": [
        [
         "age",
         "1981.0"
        ],
        [
         "income",
         "92129.5"
        ],
        [
         "frq",
         "28.0"
        ],
        [
         "rcn",
         "79.0"
        ],
        [
         "mnt",
         "1076.0"
        ],
        [
         "clothes",
         "69.0"
        ],
        [
         "kitchen",
         "10.0"
        ],
        [
         "small_appliances",
         "37.0"
        ],
        [
         "toys",
         "10.0"
        ],
        [
         "house_keeping",
         "9.0"
        ],
        [
         "per_net_purchase",
         "57.0"
        ]
       ],
       "shape": {
        "columns": 1,
        "rows": 11
       }
      },
      "text/plain": [
       "age                  1981.0\n",
       "income              92129.5\n",
       "frq                    28.0\n",
       "rcn                    79.0\n",
       "mnt                  1076.0\n",
       "clothes                69.0\n",
       "kitchen                10.0\n",
       "small_appliances       37.0\n",
       "toys                   10.0\n",
       "house_keeping           9.0\n",
       "per_net_purchase       57.0\n",
       "Name: 0.75, dtype: float64"
      ]
     },
     "execution_count": 479,
     "metadata": {},
     "output_type": "execute_result"
    }
   ],
   "source": [
    "# Calculate Q1, Q3, IQR\n",
    "\n",
    "q3 = df[metric_features].quantile(0.75)\n",
    "q3\n"
   ]
  },
  {
   "cell_type": "code",
   "execution_count": 480,
   "metadata": {},
   "outputs": [
    {
     "data": {
      "application/vnd.microsoft.datawrangler.viewer.v0+json": {
       "columns": [
        {
         "name": "index",
         "rawType": "object",
         "type": "string"
        },
        {
         "name": "0",
         "rawType": "float64",
         "type": "float"
        }
       ],
       "ref": "e37c3ec4-98d3-48d8-956f-42665b60ef9e",
       "rows": [
        [
         "age",
         "30.0"
        ],
        [
         "income",
         "44236.75"
        ],
        [
         "frq",
         "18.0"
        ],
        [
         "rcn",
         "53.0"
        ],
        [
         "mnt",
         "1013.0"
        ],
        [
         "clothes",
         "36.0"
        ],
        [
         "kitchen",
         "8.0"
        ],
        [
         "small_appliances",
         "18.0"
        ],
        [
         "toys",
         "8.0"
        ],
        [
         "house_keeping",
         "7.0"
        ],
        [
         "per_net_purchase",
         "29.0"
        ]
       ],
       "shape": {
        "columns": 1,
        "rows": 11
       }
      },
      "text/plain": [
       "age                    30.00\n",
       "income              44236.75\n",
       "frq                    18.00\n",
       "rcn                    53.00\n",
       "mnt                  1013.00\n",
       "clothes                36.00\n",
       "kitchen                 8.00\n",
       "small_appliances       18.00\n",
       "toys                    8.00\n",
       "house_keeping           7.00\n",
       "per_net_purchase       29.00\n",
       "dtype: float64"
      ]
     },
     "execution_count": 480,
     "metadata": {},
     "output_type": "execute_result"
    }
   ],
   "source": [
    "# Calculate Q1, Q3, IQR\n",
    "\n",
    "iqr = q3 - q1\n",
    "iqr"
   ]
  },
  {
   "cell_type": "code",
   "execution_count": null,
   "metadata": {},
   "outputs": [],
   "source": []
  },
  {
   "cell_type": "code",
   "execution_count": 481,
   "metadata": {},
   "outputs": [
    {
     "data": {
      "application/vnd.microsoft.datawrangler.viewer.v0+json": {
       "columns": [
        {
         "name": "index",
         "rawType": "object",
         "type": "string"
        },
        {
         "name": "0",
         "rawType": "float64",
         "type": "float"
        }
       ],
       "ref": "b8524cea-4a22-4a66-b817-81759052ba0b",
       "rows": [
        [
         "age",
         "1906.0"
        ],
        [
         "income",
         "-18462.375"
        ],
        [
         "frq",
         "-17.0"
        ],
        [
         "rcn",
         "-53.5"
        ],
        [
         "mnt",
         "-1456.5"
        ],
        [
         "clothes",
         "-21.0"
        ],
        [
         "kitchen",
         "-10.0"
        ],
        [
         "small_appliances",
         "-8.0"
        ],
        [
         "toys",
         "-10.0"
        ],
        [
         "house_keeping",
         "-8.5"
        ],
        [
         "per_net_purchase",
         "-15.5"
        ]
       ],
       "shape": {
        "columns": 1,
        "rows": 11
       }
      },
      "text/plain": [
       "age                  1906.000\n",
       "income             -18462.375\n",
       "frq                   -17.000\n",
       "rcn                   -53.500\n",
       "mnt                 -1456.500\n",
       "clothes               -21.000\n",
       "kitchen               -10.000\n",
       "small_appliances       -8.000\n",
       "toys                  -10.000\n",
       "house_keeping          -8.500\n",
       "per_net_purchase      -15.500\n",
       "dtype: float64"
      ]
     },
     "execution_count": 481,
     "metadata": {},
     "output_type": "execute_result"
    }
   ],
   "source": [
    "# Compute upper and lower limit \n",
    "\n",
    "lower_lim = q1 - (iqr * 1.5)\n",
    "lower_lim"
   ]
  },
  {
   "cell_type": "code",
   "execution_count": 482,
   "metadata": {},
   "outputs": [
    {
     "data": {
      "application/vnd.microsoft.datawrangler.viewer.v0+json": {
       "columns": [
        {
         "name": "index",
         "rawType": "object",
         "type": "string"
        },
        {
         "name": "0",
         "rawType": "float64",
         "type": "float"
        }
       ],
       "ref": "922577fa-0f5a-47d6-8ca0-735c5c15f404",
       "rows": [
        [
         "age",
         "2026.0"
        ],
        [
         "income",
         "158484.625"
        ],
        [
         "frq",
         "55.0"
        ],
        [
         "rcn",
         "158.5"
        ],
        [
         "mnt",
         "2595.5"
        ],
        [
         "clothes",
         "123.0"
        ],
        [
         "kitchen",
         "22.0"
        ],
        [
         "small_appliances",
         "64.0"
        ],
        [
         "toys",
         "22.0"
        ],
        [
         "house_keeping",
         "19.5"
        ],
        [
         "per_net_purchase",
         "100.5"
        ]
       ],
       "shape": {
        "columns": 1,
        "rows": 11
       }
      },
      "text/plain": [
       "age                   2026.000\n",
       "income              158484.625\n",
       "frq                     55.000\n",
       "rcn                    158.500\n",
       "mnt                   2595.500\n",
       "clothes                123.000\n",
       "kitchen                 22.000\n",
       "small_appliances        64.000\n",
       "toys                    22.000\n",
       "house_keeping           19.500\n",
       "per_net_purchase       100.500\n",
       "dtype: float64"
      ]
     },
     "execution_count": 482,
     "metadata": {},
     "output_type": "execute_result"
    }
   ],
   "source": [
    "upper_lim = q3 + (iqr * 1.5)\n",
    "upper_lim"
   ]
  },
  {
   "cell_type": "code",
   "execution_count": 483,
   "metadata": {},
   "outputs": [],
   "source": [
    "# filters_iqr = []\n",
    "# for metric in metric_features:\n",
    "#     llim = lower_lim[metric]\n",
    "#     ulim = upper_lim[metric]\n",
    "#     filters_iqr.append(df[metric].between(llim, ulim, inclusive='neither'))\n",
    "\n",
    "# filters_iqr_all = pd.Series(np.all(filters_iqr, 0))\n",
    "\n",
    "# filters_iqr"
   ]
  },
  {
   "cell_type": "code",
   "execution_count": 484,
   "metadata": {},
   "outputs": [],
   "source": [
    "filters_iqr_all = df[metric_features].apply(\n",
    "    lambda col: col.between(lower_lim[col.name], upper_lim[col.name], inclusive='neither')\n",
    ").all(axis=1)"
   ]
  },
  {
   "cell_type": "code",
   "execution_count": 485,
   "metadata": {},
   "outputs": [],
   "source": [
    "# Lets break this out"
   ]
  },
  {
   "cell_type": "code",
   "execution_count": 486,
   "metadata": {},
   "outputs": [
    {
     "data": {
      "application/vnd.microsoft.datawrangler.viewer.v0+json": {
       "columns": [
        {
         "name": "index",
         "rawType": "int64",
         "type": "integer"
        },
        {
         "name": "age",
         "rawType": "bool",
         "type": "boolean"
        }
       ],
       "ref": "fe1f657f-4514-4ce6-918b-bdabf87df13f",
       "rows": [
        [
         "0",
         "False"
        ],
        [
         "1",
         "False"
        ],
        [
         "2",
         "False"
        ],
        [
         "3",
         "True"
        ],
        [
         "4",
         "True"
        ],
        [
         "5",
         "True"
        ],
        [
         "6",
         "True"
        ],
        [
         "7",
         "True"
        ],
        [
         "8",
         "False"
        ],
        [
         "9",
         "False"
        ],
        [
         "10",
         "False"
        ],
        [
         "11",
         "True"
        ],
        [
         "12",
         "True"
        ],
        [
         "13",
         "True"
        ],
        [
         "14",
         "True"
        ],
        [
         "15",
         "False"
        ],
        [
         "16",
         "False"
        ],
        [
         "17",
         "False"
        ],
        [
         "18",
         "True"
        ],
        [
         "19",
         "False"
        ],
        [
         "20",
         "False"
        ],
        [
         "21",
         "True"
        ],
        [
         "22",
         "True"
        ],
        [
         "23",
         "False"
        ],
        [
         "24",
         "True"
        ],
        [
         "25",
         "True"
        ],
        [
         "26",
         "True"
        ],
        [
         "27",
         "True"
        ],
        [
         "28",
         "False"
        ],
        [
         "29",
         "True"
        ],
        [
         "30",
         "True"
        ],
        [
         "31",
         "True"
        ],
        [
         "32",
         "True"
        ],
        [
         "33",
         "True"
        ],
        [
         "34",
         "False"
        ],
        [
         "35",
         "False"
        ],
        [
         "36",
         "True"
        ],
        [
         "37",
         "False"
        ],
        [
         "38",
         "True"
        ],
        [
         "39",
         "False"
        ],
        [
         "40",
         "True"
        ],
        [
         "41",
         "True"
        ],
        [
         "42",
         "True"
        ],
        [
         "43",
         "True"
        ],
        [
         "44",
         "True"
        ],
        [
         "45",
         "True"
        ],
        [
         "46",
         "False"
        ],
        [
         "47",
         "True"
        ],
        [
         "48",
         "True"
        ],
        [
         "49",
         "False"
        ]
       ],
       "shape": {
        "columns": 1,
        "rows": 8998
       }
      },
      "text/plain": [
       "0       False\n",
       "1       False\n",
       "2       False\n",
       "3        True\n",
       "4        True\n",
       "        ...  \n",
       "8993     True\n",
       "8994     True\n",
       "8995     True\n",
       "8996    False\n",
       "8997    False\n",
       "Name: age, Length: 8998, dtype: bool"
      ]
     },
     "execution_count": 486,
     "metadata": {},
     "output_type": "execute_result"
    }
   ],
   "source": [
    "df[\"age\"].between(1950, 1990, inclusive='neither')"
   ]
  },
  {
   "cell_type": "code",
   "execution_count": 487,
   "metadata": {},
   "outputs": [
    {
     "data": {
      "application/vnd.microsoft.datawrangler.viewer.v0+json": {
       "columns": [
        {
         "name": "index",
         "rawType": "int64",
         "type": "integer"
        },
        {
         "name": "age",
         "rawType": "bool",
         "type": "boolean"
        },
        {
         "name": "income",
         "rawType": "bool",
         "type": "boolean"
        },
        {
         "name": "frq",
         "rawType": "bool",
         "type": "boolean"
        },
        {
         "name": "rcn",
         "rawType": "bool",
         "type": "boolean"
        },
        {
         "name": "mnt",
         "rawType": "bool",
         "type": "boolean"
        },
        {
         "name": "clothes",
         "rawType": "bool",
         "type": "boolean"
        },
        {
         "name": "kitchen",
         "rawType": "bool",
         "type": "boolean"
        },
        {
         "name": "small_appliances",
         "rawType": "bool",
         "type": "boolean"
        },
        {
         "name": "toys",
         "rawType": "bool",
         "type": "boolean"
        },
        {
         "name": "house_keeping",
         "rawType": "bool",
         "type": "boolean"
        },
        {
         "name": "per_net_purchase",
         "rawType": "bool",
         "type": "boolean"
        }
       ],
       "ref": "03bf8b12-804e-473a-ae06-a87a704282d5",
       "rows": [
        [
         "0",
         "True",
         "True",
         "True",
         "True",
         "True",
         "True",
         "True",
         "True",
         "True",
         "True",
         "True"
        ],
        [
         "1",
         "True",
         "True",
         "True",
         "True",
         "True",
         "True",
         "True",
         "True",
         "True",
         "True",
         "True"
        ],
        [
         "2",
         "True",
         "True",
         "True",
         "True",
         "True",
         "True",
         "True",
         "True",
         "True",
         "False",
         "True"
        ],
        [
         "3",
         "True",
         "True",
         "True",
         "True",
         "True",
         "True",
         "True",
         "True",
         "True",
         "True",
         "True"
        ],
        [
         "4",
         "True",
         "True",
         "True",
         "True",
         "True",
         "True",
         "True",
         "True",
         "True",
         "True",
         "True"
        ],
        [
         "5",
         "True",
         "True",
         "True",
         "True",
         "True",
         "True",
         "True",
         "True",
         "True",
         "True",
         "True"
        ],
        [
         "6",
         "True",
         "True",
         "True",
         "True",
         "True",
         "True",
         "True",
         "True",
         "True",
         "True",
         "True"
        ],
        [
         "7",
         "True",
         "True",
         "True",
         "True",
         "True",
         "True",
         "True",
         "True",
         "True",
         "True",
         "True"
        ],
        [
         "8",
         "True",
         "True",
         "True",
         "True",
         "True",
         "True",
         "True",
         "True",
         "True",
         "True",
         "True"
        ],
        [
         "9",
         "True",
         "True",
         "True",
         "True",
         "True",
         "True",
         "False",
         "True",
         "True",
         "True",
         "True"
        ],
        [
         "10",
         "True",
         "True",
         "True",
         "True",
         "True",
         "True",
         "True",
         "True",
         "True",
         "True",
         "True"
        ],
        [
         "11",
         "True",
         "True",
         "True",
         "True",
         "True",
         "True",
         "True",
         "True",
         "True",
         "True",
         "True"
        ],
        [
         "12",
         "True",
         "True",
         "True",
         "True",
         "True",
         "True",
         "True",
         "True",
         "True",
         "True",
         "True"
        ],
        [
         "13",
         "True",
         "True",
         "True",
         "True",
         "True",
         "True",
         "True",
         "True",
         "True",
         "True",
         "True"
        ],
        [
         "14",
         "True",
         "True",
         "True",
         "False",
         "True",
         "True",
         "True",
         "True",
         "True",
         "True",
         "True"
        ],
        [
         "15",
         "True",
         "True",
         "True",
         "True",
         "True",
         "True",
         "False",
         "True",
         "False",
         "True",
         "True"
        ],
        [
         "16",
         "True",
         "True",
         "True",
         "True",
         "True",
         "True",
         "True",
         "True",
         "True",
         "False",
         "True"
        ],
        [
         "17",
         "True",
         "True",
         "True",
         "True",
         "True",
         "True",
         "True",
         "True",
         "False",
         "True",
         "True"
        ],
        [
         "18",
         "True",
         "True",
         "True",
         "True",
         "True",
         "True",
         "True",
         "True",
         "True",
         "True",
         "True"
        ],
        [
         "19",
         "True",
         "True",
         "True",
         "True",
         "True",
         "True",
         "True",
         "True",
         "False",
         "False",
         "True"
        ],
        [
         "20",
         "True",
         "True",
         "True",
         "True",
         "True",
         "True",
         "False",
         "True",
         "True",
         "False",
         "True"
        ],
        [
         "21",
         "True",
         "True",
         "True",
         "True",
         "True",
         "True",
         "True",
         "True",
         "True",
         "True",
         "True"
        ],
        [
         "22",
         "True",
         "True",
         "True",
         "True",
         "True",
         "True",
         "True",
         "True",
         "True",
         "True",
         "True"
        ],
        [
         "23",
         "True",
         "True",
         "True",
         "True",
         "True",
         "True",
         "True",
         "True",
         "True",
         "True",
         "True"
        ],
        [
         "24",
         "True",
         "True",
         "True",
         "True",
         "True",
         "True",
         "True",
         "True",
         "True",
         "True",
         "True"
        ],
        [
         "25",
         "True",
         "True",
         "True",
         "True",
         "True",
         "True",
         "True",
         "True",
         "True",
         "True",
         "True"
        ],
        [
         "26",
         "True",
         "True",
         "True",
         "True",
         "True",
         "True",
         "True",
         "True",
         "True",
         "True",
         "True"
        ],
        [
         "27",
         "True",
         "True",
         "True",
         "True",
         "True",
         "True",
         "True",
         "True",
         "True",
         "True",
         "True"
        ],
        [
         "28",
         "True",
         "True",
         "True",
         "True",
         "True",
         "True",
         "True",
         "True",
         "True",
         "True",
         "True"
        ],
        [
         "29",
         "True",
         "True",
         "True",
         "True",
         "True",
         "True",
         "True",
         "True",
         "True",
         "True",
         "True"
        ],
        [
         "30",
         "True",
         "True",
         "True",
         "True",
         "True",
         "True",
         "True",
         "True",
         "True",
         "True",
         "True"
        ],
        [
         "31",
         "True",
         "True",
         "True",
         "True",
         "True",
         "True",
         "True",
         "True",
         "True",
         "True",
         "True"
        ],
        [
         "32",
         "True",
         "True",
         "True",
         "True",
         "True",
         "True",
         "True",
         "True",
         "True",
         "True",
         "True"
        ],
        [
         "33",
         "True",
         "True",
         "True",
         "True",
         "True",
         "True",
         "True",
         "True",
         "True",
         "True",
         "True"
        ],
        [
         "34",
         "True",
         "True",
         "True",
         "True",
         "True",
         "True",
         "True",
         "True",
         "True",
         "True",
         "True"
        ],
        [
         "35",
         "True",
         "True",
         "True",
         "True",
         "True",
         "True",
         "False",
         "True",
         "True",
         "False",
         "True"
        ],
        [
         "36",
         "True",
         "True",
         "True",
         "True",
         "True",
         "True",
         "True",
         "True",
         "True",
         "True",
         "True"
        ],
        [
         "37",
         "True",
         "True",
         "True",
         "True",
         "True",
         "True",
         "False",
         "True",
         "True",
         "False",
         "True"
        ],
        [
         "38",
         "True",
         "True",
         "True",
         "True",
         "True",
         "True",
         "True",
         "True",
         "True",
         "True",
         "True"
        ],
        [
         "39",
         "True",
         "True",
         "True",
         "True",
         "True",
         "True",
         "True",
         "True",
         "False",
         "True",
         "True"
        ],
        [
         "40",
         "True",
         "True",
         "True",
         "True",
         "True",
         "True",
         "True",
         "True",
         "True",
         "True",
         "True"
        ],
        [
         "41",
         "True",
         "True",
         "True",
         "True",
         "True",
         "True",
         "True",
         "True",
         "True",
         "True",
         "True"
        ],
        [
         "42",
         "True",
         "True",
         "True",
         "True",
         "True",
         "True",
         "True",
         "True",
         "True",
         "True",
         "True"
        ],
        [
         "43",
         "True",
         "True",
         "True",
         "True",
         "True",
         "True",
         "True",
         "True",
         "True",
         "True",
         "True"
        ],
        [
         "44",
         "True",
         "True",
         "True",
         "True",
         "True",
         "True",
         "True",
         "True",
         "True",
         "True",
         "True"
        ],
        [
         "45",
         "True",
         "True",
         "True",
         "True",
         "True",
         "True",
         "True",
         "True",
         "True",
         "True",
         "True"
        ],
        [
         "46",
         "True",
         "True",
         "True",
         "True",
         "True",
         "True",
         "True",
         "True",
         "True",
         "True",
         "True"
        ],
        [
         "47",
         "True",
         "True",
         "True",
         "True",
         "True",
         "True",
         "True",
         "True",
         "True",
         "True",
         "True"
        ],
        [
         "48",
         "True",
         "True",
         "True",
         "True",
         "True",
         "True",
         "True",
         "True",
         "True",
         "False",
         "True"
        ],
        [
         "49",
         "True",
         "True",
         "True",
         "True",
         "True",
         "True",
         "False",
         "True",
         "True",
         "False",
         "True"
        ]
       ],
       "shape": {
        "columns": 11,
        "rows": 8998
       }
      },
      "text/html": [
       "<div>\n",
       "<style scoped>\n",
       "    .dataframe tbody tr th:only-of-type {\n",
       "        vertical-align: middle;\n",
       "    }\n",
       "\n",
       "    .dataframe tbody tr th {\n",
       "        vertical-align: top;\n",
       "    }\n",
       "\n",
       "    .dataframe thead th {\n",
       "        text-align: right;\n",
       "    }\n",
       "</style>\n",
       "<table border=\"1\" class=\"dataframe\">\n",
       "  <thead>\n",
       "    <tr style=\"text-align: right;\">\n",
       "      <th></th>\n",
       "      <th>age</th>\n",
       "      <th>income</th>\n",
       "      <th>frq</th>\n",
       "      <th>rcn</th>\n",
       "      <th>mnt</th>\n",
       "      <th>clothes</th>\n",
       "      <th>kitchen</th>\n",
       "      <th>small_appliances</th>\n",
       "      <th>toys</th>\n",
       "      <th>house_keeping</th>\n",
       "      <th>per_net_purchase</th>\n",
       "    </tr>\n",
       "  </thead>\n",
       "  <tbody>\n",
       "    <tr>\n",
       "      <th>0</th>\n",
       "      <td>True</td>\n",
       "      <td>True</td>\n",
       "      <td>True</td>\n",
       "      <td>True</td>\n",
       "      <td>True</td>\n",
       "      <td>True</td>\n",
       "      <td>True</td>\n",
       "      <td>True</td>\n",
       "      <td>True</td>\n",
       "      <td>True</td>\n",
       "      <td>True</td>\n",
       "    </tr>\n",
       "    <tr>\n",
       "      <th>1</th>\n",
       "      <td>True</td>\n",
       "      <td>True</td>\n",
       "      <td>True</td>\n",
       "      <td>True</td>\n",
       "      <td>True</td>\n",
       "      <td>True</td>\n",
       "      <td>True</td>\n",
       "      <td>True</td>\n",
       "      <td>True</td>\n",
       "      <td>True</td>\n",
       "      <td>True</td>\n",
       "    </tr>\n",
       "    <tr>\n",
       "      <th>2</th>\n",
       "      <td>True</td>\n",
       "      <td>True</td>\n",
       "      <td>True</td>\n",
       "      <td>True</td>\n",
       "      <td>True</td>\n",
       "      <td>True</td>\n",
       "      <td>True</td>\n",
       "      <td>True</td>\n",
       "      <td>True</td>\n",
       "      <td>False</td>\n",
       "      <td>True</td>\n",
       "    </tr>\n",
       "    <tr>\n",
       "      <th>3</th>\n",
       "      <td>True</td>\n",
       "      <td>True</td>\n",
       "      <td>True</td>\n",
       "      <td>True</td>\n",
       "      <td>True</td>\n",
       "      <td>True</td>\n",
       "      <td>True</td>\n",
       "      <td>True</td>\n",
       "      <td>True</td>\n",
       "      <td>True</td>\n",
       "      <td>True</td>\n",
       "    </tr>\n",
       "    <tr>\n",
       "      <th>4</th>\n",
       "      <td>True</td>\n",
       "      <td>True</td>\n",
       "      <td>True</td>\n",
       "      <td>True</td>\n",
       "      <td>True</td>\n",
       "      <td>True</td>\n",
       "      <td>True</td>\n",
       "      <td>True</td>\n",
       "      <td>True</td>\n",
       "      <td>True</td>\n",
       "      <td>True</td>\n",
       "    </tr>\n",
       "    <tr>\n",
       "      <th>...</th>\n",
       "      <td>...</td>\n",
       "      <td>...</td>\n",
       "      <td>...</td>\n",
       "      <td>...</td>\n",
       "      <td>...</td>\n",
       "      <td>...</td>\n",
       "      <td>...</td>\n",
       "      <td>...</td>\n",
       "      <td>...</td>\n",
       "      <td>...</td>\n",
       "      <td>...</td>\n",
       "    </tr>\n",
       "    <tr>\n",
       "      <th>8993</th>\n",
       "      <td>True</td>\n",
       "      <td>True</td>\n",
       "      <td>True</td>\n",
       "      <td>True</td>\n",
       "      <td>True</td>\n",
       "      <td>True</td>\n",
       "      <td>True</td>\n",
       "      <td>True</td>\n",
       "      <td>True</td>\n",
       "      <td>True</td>\n",
       "      <td>True</td>\n",
       "    </tr>\n",
       "    <tr>\n",
       "      <th>8994</th>\n",
       "      <td>True</td>\n",
       "      <td>True</td>\n",
       "      <td>True</td>\n",
       "      <td>True</td>\n",
       "      <td>True</td>\n",
       "      <td>True</td>\n",
       "      <td>True</td>\n",
       "      <td>True</td>\n",
       "      <td>True</td>\n",
       "      <td>True</td>\n",
       "      <td>True</td>\n",
       "    </tr>\n",
       "    <tr>\n",
       "      <th>8995</th>\n",
       "      <td>True</td>\n",
       "      <td>True</td>\n",
       "      <td>True</td>\n",
       "      <td>True</td>\n",
       "      <td>True</td>\n",
       "      <td>True</td>\n",
       "      <td>True</td>\n",
       "      <td>True</td>\n",
       "      <td>True</td>\n",
       "      <td>True</td>\n",
       "      <td>True</td>\n",
       "    </tr>\n",
       "    <tr>\n",
       "      <th>8996</th>\n",
       "      <td>True</td>\n",
       "      <td>True</td>\n",
       "      <td>True</td>\n",
       "      <td>True</td>\n",
       "      <td>True</td>\n",
       "      <td>True</td>\n",
       "      <td>True</td>\n",
       "      <td>True</td>\n",
       "      <td>True</td>\n",
       "      <td>True</td>\n",
       "      <td>True</td>\n",
       "    </tr>\n",
       "    <tr>\n",
       "      <th>8997</th>\n",
       "      <td>True</td>\n",
       "      <td>True</td>\n",
       "      <td>True</td>\n",
       "      <td>True</td>\n",
       "      <td>True</td>\n",
       "      <td>True</td>\n",
       "      <td>True</td>\n",
       "      <td>True</td>\n",
       "      <td>False</td>\n",
       "      <td>True</td>\n",
       "      <td>True</td>\n",
       "    </tr>\n",
       "  </tbody>\n",
       "</table>\n",
       "<p>8998 rows × 11 columns</p>\n",
       "</div>"
      ],
      "text/plain": [
       "       age  income   frq   rcn   mnt  clothes  kitchen  small_appliances  \\\n",
       "0     True    True  True  True  True     True     True              True   \n",
       "1     True    True  True  True  True     True     True              True   \n",
       "2     True    True  True  True  True     True     True              True   \n",
       "3     True    True  True  True  True     True     True              True   \n",
       "4     True    True  True  True  True     True     True              True   \n",
       "...    ...     ...   ...   ...   ...      ...      ...               ...   \n",
       "8993  True    True  True  True  True     True     True              True   \n",
       "8994  True    True  True  True  True     True     True              True   \n",
       "8995  True    True  True  True  True     True     True              True   \n",
       "8996  True    True  True  True  True     True     True              True   \n",
       "8997  True    True  True  True  True     True     True              True   \n",
       "\n",
       "       toys  house_keeping  per_net_purchase  \n",
       "0      True           True              True  \n",
       "1      True           True              True  \n",
       "2      True          False              True  \n",
       "3      True           True              True  \n",
       "4      True           True              True  \n",
       "...     ...            ...               ...  \n",
       "8993   True           True              True  \n",
       "8994   True           True              True  \n",
       "8995   True           True              True  \n",
       "8996   True           True              True  \n",
       "8997  False           True              True  \n",
       "\n",
       "[8998 rows x 11 columns]"
      ]
     },
     "execution_count": 487,
     "metadata": {},
     "output_type": "execute_result"
    }
   ],
   "source": [
    "df[metric_features].apply(\n",
    "    lambda col: col.between(lower_lim[col.name], upper_lim[col.name], inclusive='neither')\n",
    ")"
   ]
  },
  {
   "cell_type": "code",
   "execution_count": 488,
   "metadata": {},
   "outputs": [
    {
     "data": {
      "application/vnd.microsoft.datawrangler.viewer.v0+json": {
       "columns": [
        {
         "name": "index",
         "rawType": "int64",
         "type": "integer"
        },
        {
         "name": "0",
         "rawType": "bool",
         "type": "boolean"
        }
       ],
       "ref": "c3cadce5-af12-49b4-a9ec-aa944367aeff",
       "rows": [
        [
         "0",
         "True"
        ],
        [
         "1",
         "True"
        ],
        [
         "2",
         "False"
        ],
        [
         "3",
         "True"
        ],
        [
         "4",
         "True"
        ],
        [
         "5",
         "True"
        ],
        [
         "6",
         "True"
        ],
        [
         "7",
         "True"
        ],
        [
         "8",
         "True"
        ],
        [
         "9",
         "False"
        ],
        [
         "10",
         "True"
        ],
        [
         "11",
         "True"
        ],
        [
         "12",
         "True"
        ],
        [
         "13",
         "True"
        ],
        [
         "14",
         "False"
        ],
        [
         "15",
         "False"
        ],
        [
         "16",
         "False"
        ],
        [
         "17",
         "False"
        ],
        [
         "18",
         "True"
        ],
        [
         "19",
         "False"
        ],
        [
         "20",
         "False"
        ],
        [
         "21",
         "True"
        ],
        [
         "22",
         "True"
        ],
        [
         "23",
         "True"
        ],
        [
         "24",
         "True"
        ],
        [
         "25",
         "True"
        ],
        [
         "26",
         "True"
        ],
        [
         "27",
         "True"
        ],
        [
         "28",
         "True"
        ],
        [
         "29",
         "True"
        ],
        [
         "30",
         "True"
        ],
        [
         "31",
         "True"
        ],
        [
         "32",
         "True"
        ],
        [
         "33",
         "True"
        ],
        [
         "34",
         "True"
        ],
        [
         "35",
         "False"
        ],
        [
         "36",
         "True"
        ],
        [
         "37",
         "False"
        ],
        [
         "38",
         "True"
        ],
        [
         "39",
         "False"
        ],
        [
         "40",
         "True"
        ],
        [
         "41",
         "True"
        ],
        [
         "42",
         "True"
        ],
        [
         "43",
         "True"
        ],
        [
         "44",
         "True"
        ],
        [
         "45",
         "True"
        ],
        [
         "46",
         "True"
        ],
        [
         "47",
         "True"
        ],
        [
         "48",
         "False"
        ],
        [
         "49",
         "False"
        ]
       ],
       "shape": {
        "columns": 1,
        "rows": 8998
       }
      },
      "text/plain": [
       "0        True\n",
       "1        True\n",
       "2       False\n",
       "3        True\n",
       "4        True\n",
       "        ...  \n",
       "8993     True\n",
       "8994     True\n",
       "8995     True\n",
       "8996     True\n",
       "8997    False\n",
       "Length: 8998, dtype: bool"
      ]
     },
     "execution_count": 488,
     "metadata": {},
     "output_type": "execute_result"
    }
   ],
   "source": [
    "df[metric_features].apply(\n",
    "    lambda col: col.between(lower_lim[col.name], upper_lim[col.name], inclusive='neither')\n",
    ").all(axis=1)"
   ]
  },
  {
   "cell_type": "code",
   "execution_count": 489,
   "metadata": {},
   "outputs": [
    {
     "data": {
      "application/vnd.microsoft.datawrangler.viewer.v0+json": {
       "columns": [
        {
         "name": "index",
         "rawType": "int64",
         "type": "integer"
        },
        {
         "name": "0",
         "rawType": "bool",
         "type": "boolean"
        }
       ],
       "ref": "9a4f1d67-77af-4d83-a071-4131b9e79371",
       "rows": [
        [
         "0",
         "True"
        ],
        [
         "1",
         "True"
        ],
        [
         "2",
         "False"
        ],
        [
         "3",
         "True"
        ],
        [
         "4",
         "True"
        ],
        [
         "5",
         "True"
        ],
        [
         "6",
         "True"
        ],
        [
         "7",
         "True"
        ],
        [
         "8",
         "True"
        ],
        [
         "9",
         "False"
        ],
        [
         "10",
         "True"
        ],
        [
         "11",
         "True"
        ],
        [
         "12",
         "True"
        ],
        [
         "13",
         "True"
        ],
        [
         "14",
         "False"
        ],
        [
         "15",
         "False"
        ],
        [
         "16",
         "False"
        ],
        [
         "17",
         "False"
        ],
        [
         "18",
         "True"
        ],
        [
         "19",
         "False"
        ],
        [
         "20",
         "False"
        ],
        [
         "21",
         "True"
        ],
        [
         "22",
         "True"
        ],
        [
         "23",
         "True"
        ],
        [
         "24",
         "True"
        ],
        [
         "25",
         "True"
        ],
        [
         "26",
         "True"
        ],
        [
         "27",
         "True"
        ],
        [
         "28",
         "True"
        ],
        [
         "29",
         "True"
        ],
        [
         "30",
         "True"
        ],
        [
         "31",
         "True"
        ],
        [
         "32",
         "True"
        ],
        [
         "33",
         "True"
        ],
        [
         "34",
         "True"
        ],
        [
         "35",
         "False"
        ],
        [
         "36",
         "True"
        ],
        [
         "37",
         "False"
        ],
        [
         "38",
         "True"
        ],
        [
         "39",
         "False"
        ],
        [
         "40",
         "True"
        ],
        [
         "41",
         "True"
        ],
        [
         "42",
         "True"
        ],
        [
         "43",
         "True"
        ],
        [
         "44",
         "True"
        ],
        [
         "45",
         "True"
        ],
        [
         "46",
         "True"
        ],
        [
         "47",
         "True"
        ],
        [
         "48",
         "False"
        ],
        [
         "49",
         "False"
        ]
       ],
       "shape": {
        "columns": 1,
        "rows": 8998
       }
      },
      "text/plain": [
       "0        True\n",
       "1        True\n",
       "2       False\n",
       "3        True\n",
       "4        True\n",
       "        ...  \n",
       "8993     True\n",
       "8994     True\n",
       "8995     True\n",
       "8996     True\n",
       "8997    False\n",
       "Length: 8998, dtype: bool"
      ]
     },
     "execution_count": 489,
     "metadata": {},
     "output_type": "execute_result"
    }
   ],
   "source": [
    "filters_iqr_all"
   ]
  },
  {
   "cell_type": "code",
   "execution_count": 490,
   "metadata": {},
   "outputs": [
    {
     "name": "stdout",
     "output_type": "stream",
     "text": [
      "Percentage of data kept after removing outliers: 81.56\n"
     ]
    }
   ],
   "source": [
    "df_iqr = df[filters_iqr_all]\n",
    "\n",
    "print('Percentage of data kept after removing outliers:', 100*(np.round(df_iqr.shape[0] / df_original.shape[0], 4)))\n"
   ]
  },
  {
   "cell_type": "markdown",
   "metadata": {
    "id": "3foxpUT9bvYv"
   },
   "source": [
    "What do you think of this number?\n",
    "\n",
    "In general we want to keep as much of our data as possible.\n",
    "\n",
    "As a rule of thumb, try not to remove more than 5% of your rows. \n",
    "\n",
    "***This is only a rule of thumb!*** \n",
    "\n",
    "In some cases it really is necessary to remove more.\n"
   ]
  },
  {
   "cell_type": "markdown",
   "metadata": {},
   "source": [
    "### Manual outlier removal\n",
    "\n",
    "Now let's try \"manually\" filtering the dataset's outliers\n",
    "\n",
    "---\n",
    "\n",
    "\n",
    "Let's look at the boxplots again:\n",
    "\n",
    "![](https://raw.githubusercontent.com/fpontejos/Data-Mining-24-25/refs/heads/main/figures/eda/numeric_variables_boxplots.png)"
   ]
  },
  {
   "cell_type": "markdown",
   "metadata": {},
   "source": [
    "![](https://raw.githubusercontent.com/fpontejos/Data-Mining-24-25/refs/heads/main/figures/eda/categorical_variables_counts.png)"
   ]
  },
  {
   "cell_type": "markdown",
   "metadata": {},
   "source": [
    "### Exercise 5: Set manually the bounds for outliers  "
   ]
  },
  {
   "cell_type": "code",
   "execution_count": 491,
   "metadata": {},
   "outputs": [],
   "source": [
    "# This may vary from session to session, and is prone to varying interpretations.\n",
    "# A simple example is provided below:\n",
    "\n",
    "# ( df['feature1']<= limit1 ) & ( df['feature2']<= limit2 ) ...\n",
    "\n",
    "\n",
    "filters_man = (\n",
    "    # CODE HERE\n",
    "    #   ( df['feature1']<= limit1 ) \n",
    "    # & ( df['feature2']<= limit2 )\n",
    "    # ...\n",
    "    # replace this\n",
    "    (df['house_keeping']<= 40 ) \n",
    "    &\n",
    "    # replace this\n",
    "    (df['kitchen']<= 40 ) \n",
    "    &\n",
    "    # replace this\n",
    "    (df['toys']<= 40 ) \n",
    "    &\n",
    "    # replace this\n",
    "    (df['education']!='OldSchool' )\n",
    "    &\n",
    "    (df['status'] != 'Whatever')\n",
    "    &\n",
    "    (df['rcn'] < 300) # why ? \n",
    "\n",
    ")\n",
    "\n",
    "df_man = df[filters_man]"
   ]
  },
  {
   "cell_type": "code",
   "execution_count": 492,
   "metadata": {},
   "outputs": [
    {
     "data": {
      "application/vnd.microsoft.datawrangler.viewer.v0+json": {
       "columns": [
        {
         "name": "index",
         "rawType": "int64",
         "type": "integer"
        },
        {
         "name": "0",
         "rawType": "bool",
         "type": "boolean"
        }
       ],
       "ref": "cd798365-046a-40fd-9737-7b8a334d76d0",
       "rows": [
        [
         "0",
         "True"
        ],
        [
         "1",
         "True"
        ],
        [
         "2",
         "True"
        ],
        [
         "3",
         "True"
        ],
        [
         "4",
         "True"
        ],
        [
         "5",
         "True"
        ],
        [
         "6",
         "True"
        ],
        [
         "7",
         "True"
        ],
        [
         "8",
         "True"
        ],
        [
         "9",
         "False"
        ],
        [
         "10",
         "True"
        ],
        [
         "11",
         "True"
        ],
        [
         "12",
         "True"
        ],
        [
         "13",
         "True"
        ],
        [
         "14",
         "True"
        ],
        [
         "15",
         "True"
        ],
        [
         "16",
         "True"
        ],
        [
         "17",
         "True"
        ],
        [
         "18",
         "True"
        ],
        [
         "19",
         "True"
        ],
        [
         "20",
         "True"
        ],
        [
         "21",
         "True"
        ],
        [
         "22",
         "True"
        ],
        [
         "23",
         "True"
        ],
        [
         "24",
         "True"
        ],
        [
         "25",
         "True"
        ],
        [
         "26",
         "True"
        ],
        [
         "27",
         "True"
        ],
        [
         "28",
         "True"
        ],
        [
         "29",
         "True"
        ],
        [
         "30",
         "True"
        ],
        [
         "31",
         "True"
        ],
        [
         "32",
         "True"
        ],
        [
         "33",
         "True"
        ],
        [
         "34",
         "True"
        ],
        [
         "35",
         "True"
        ],
        [
         "36",
         "True"
        ],
        [
         "37",
         "True"
        ],
        [
         "38",
         "True"
        ],
        [
         "39",
         "False"
        ],
        [
         "40",
         "True"
        ],
        [
         "41",
         "True"
        ],
        [
         "42",
         "True"
        ],
        [
         "43",
         "True"
        ],
        [
         "44",
         "True"
        ],
        [
         "45",
         "True"
        ],
        [
         "46",
         "True"
        ],
        [
         "47",
         "True"
        ],
        [
         "48",
         "True"
        ],
        [
         "49",
         "True"
        ]
       ],
       "shape": {
        "columns": 1,
        "rows": 8998
       }
      },
      "text/plain": [
       "0        True\n",
       "1        True\n",
       "2        True\n",
       "3        True\n",
       "4        True\n",
       "        ...  \n",
       "8993     True\n",
       "8994     True\n",
       "8995     True\n",
       "8996     True\n",
       "8997    False\n",
       "Length: 8998, dtype: bool"
      ]
     },
     "execution_count": 492,
     "metadata": {},
     "output_type": "execute_result"
    }
   ],
   "source": [
    "# Let's break this out\n",
    "\n",
    "filters_man"
   ]
  },
  {
   "cell_type": "code",
   "execution_count": 493,
   "metadata": {},
   "outputs": [
    {
     "name": "stdout",
     "output_type": "stream",
     "text": [
      "Percentage of data kept after removing outliers: 0.9561\n"
     ]
    }
   ],
   "source": [
    "print('Percentage of data kept after removing outliers:', np.round(df_man.shape[0] / df_original.shape[0], 4))"
   ]
  },
  {
   "cell_type": "markdown",
   "metadata": {},
   "source": [
    "## Combining different outlier methods\n",
    "\n",
    "More robust/ consistent outlier detection method:"
   ]
  },
  {
   "cell_type": "code",
   "execution_count": 494,
   "metadata": {},
   "outputs": [
    {
     "name": "stdout",
     "output_type": "stream",
     "text": [
      "Percentage of data kept after removing outliers: 0.9594\n"
     ]
    }
   ],
   "source": [
    "## What is this doing?\n",
    "df_out = df[(filters_iqr_all | filters_man)] \n",
    "\n",
    "\n",
    "print('Percentage of data kept after removing outliers:', np.round(df_out.shape[0] / df_original.shape[0], 4))"
   ]
  },
  {
   "cell_type": "code",
   "execution_count": 495,
   "metadata": {},
   "outputs": [],
   "source": [
    "# Get the manual filtering version\n",
    "\n",
    "df = df_man.copy()\n",
    "\n"
   ]
  },
  {
   "cell_type": "markdown",
   "metadata": {},
   "source": [
    "## Outlier threshold value\n",
    "\n",
    "You may change the values of observations for a given variable:\n"
   ]
  },
  {
   "cell_type": "code",
   "execution_count": 496,
   "metadata": {},
   "outputs": [],
   "source": [
    "# Remember the 'rcn' variable had an odd behavior? \n",
    "# This is the time to fix that\n",
    "\n",
    "# CODE HERE"
   ]
  },
  {
   "cell_type": "code",
   "execution_count": 497,
   "metadata": {},
   "outputs": [
    {
     "name": "stdout",
     "output_type": "stream",
     "text": [
      "rcn\n",
      "False    8434\n",
      "True      169\n",
      "Name: count, dtype: int64\n"
     ]
    }
   ],
   "source": [
    "print((df['rcn']>100).value_counts())\n",
    "\n",
    "rcn_t = df['rcn'].copy()\n",
    "rcn_t.loc[rcn_t>100] = 100\n",
    "\n",
    "df['rcn'] = rcn_t"
   ]
  },
  {
   "cell_type": "markdown",
   "metadata": {},
   "source": [
    "### Visualize your boxplots after outlier removal.\n"
   ]
  },
  {
   "cell_type": "code",
   "execution_count": 498,
   "metadata": {},
   "outputs": [
    {
     "data": {
      "image/png": "[encoded data removed]",
      "text/plain": [
       "<Figure size 2000x800 with 22 Axes>"
      ]
     },
     "metadata": {
      "image/png": {
       "height": 795,
       "width": 2007
      }
     },
     "output_type": "display_data"
    }
   ],
   "source": [
    "# CODE HERE\n",
    "sns.set_style('whitegrid')\n",
    "\n",
    "fig = plt.figure(figsize=(20,8))\n",
    "subfigs = fig.subfigures(\n",
    "    2, \n",
    "    ceil(len(metric_features)/2), \n",
    "    wspace=.03, hspace=.03)\n",
    "\n",
    "\n",
    "for sfig, feat in zip(subfigs.flatten(), metric_features):\n",
    "    axes = sfig.subplots(2, 1, sharex=True)\n",
    "    \n",
    "    sns.boxplot(x=df_original[feat], ax=axes[0])\n",
    "    axes[0].set_ylabel('Original')\n",
    "    axes[0].set_title(feat, fontsize='large')\n",
    "    \n",
    "    \n",
    "    sns.boxplot(x=df[feat], ax=axes[1])\n",
    "    axes[1].set_ylabel('Outliers\\nRemoved')\n",
    "    axes[1].set_xlabel('')\n",
    "\n",
    "    # Subfigure Aesthetics\n",
    "    sfig.set_facecolor(\"#F9F9F9\")\n",
    "    sfig.subplots_adjust(left=.2, right=.95, bottom=.1,)\n",
    "\n",
    "    \n",
    "# plt.savefig(os.path.join('..', 'figures', 'eda', 'boxplots_before_after_outliers.png'), dpi=200)\n",
    "plt.show()\n",
    "\n",
    "\n",
    "sns.set()"
   ]
  },
  {
   "cell_type": "code",
   "execution_count": null,
   "metadata": {},
   "outputs": [],
   "source": [
    "# Figure (plt.figure)\n",
    "#  ├── SubFigure 1 (fig.subfigures)\n",
    "#  │    ├── Axes 1 (sfig.subplots)\n",
    "#  │    └── Axes 2\n",
    "#  └── SubFigure 2\n",
    "#       ├── Axes 3\n",
    "#       └── Axes 4"
   ]
  },
  {
   "cell_type": "code",
   "execution_count": null,
   "metadata": {},
   "outputs": [],
   "source": []
  },
  {
   "cell_type": "markdown",
   "metadata": {},
   "source": [
    "# Feature Engineering\n",
    "\n",
    "A reminder of our metadata:\n",
    "- *id* - The unique identifier of the customer\n",
    "- *age* - The year of birht of the customer\n",
    "- *income* - The income of the customer\n",
    "- *frq* - Frequency: number of purchases made by the customer\n",
    "- *rcn* - Recency: number of days since last customer purchase\n",
    "- *mnt* - Monetary: amount of € spent by the customer in purchases\n",
    "- *clothes* - Number of clothes items purchased by the customer\n",
    "- *kitchen* - Number of kitchen items purchased by the customer\n",
    "- *small_appliances* - Number of small_appliances items purchased by the customer\n",
    "- *toys* - Number of toys items purchased by the customer\n",
    "- *house_keeping* - Number of house_keeping items purchased by the customer\n",
    "- *dependents* - Binary. Whether or not the customer has dependents\n",
    "- *per_net_purchase* - Percentage of purchases made online\n",
    "- *education* - Education level of the customer\n",
    "- *status* - Marital status of the customer\n",
    "- *gender* - Gender of the customer\n",
    "- *description* - Last customer's recommendation description"
   ]
  },
  {
   "cell_type": "markdown",
   "metadata": {},
   "source": [
    "### Exercise 6: Rename `age` to `YoB`. Create the features `age` and `spent_online`"
   ]
  },
  {
   "cell_type": "code",
   "execution_count": 499,
   "metadata": {},
   "outputs": [],
   "source": [
    "# Try to pull as many features as you can; You can always drop them later on\n",
    "# You can start by converting the 'age' variable to the actual age\n",
    "# You can also store the birth year in another feature\n",
    "\n",
    "# CODE HERE\n",
    "df.rename(columns={'age': 'YoB'}, inplace=True)\n"
   ]
  },
  {
   "cell_type": "code",
   "execution_count": 500,
   "metadata": {},
   "outputs": [
    {
     "data": {
      "application/vnd.microsoft.datawrangler.viewer.v0+json": {
       "columns": [
        {
         "name": "index",
         "rawType": "int64",
         "type": "integer"
        },
        {
         "name": "YoB",
         "rawType": "int64",
         "type": "integer"
        },
        {
         "name": "income",
         "rawType": "float64",
         "type": "float"
        },
        {
         "name": "frq",
         "rawType": "int64",
         "type": "integer"
        },
        {
         "name": "rcn",
         "rawType": "int64",
         "type": "integer"
        },
        {
         "name": "mnt",
         "rawType": "int64",
         "type": "integer"
        },
        {
         "name": "clothes",
         "rawType": "int64",
         "type": "integer"
        },
        {
         "name": "kitchen",
         "rawType": "int64",
         "type": "integer"
        },
        {
         "name": "small_appliances",
         "rawType": "int64",
         "type": "integer"
        },
        {
         "name": "toys",
         "rawType": "int64",
         "type": "integer"
        },
        {
         "name": "house_keeping",
         "rawType": "int64",
         "type": "integer"
        },
        {
         "name": "dependents",
         "rawType": "boolean",
         "type": "boolean"
        },
        {
         "name": "per_net_purchase",
         "rawType": "int64",
         "type": "integer"
        },
        {
         "name": "gender",
         "rawType": "object",
         "type": "string"
        },
        {
         "name": "education",
         "rawType": "object",
         "type": "string"
        },
        {
         "name": "status",
         "rawType": "object",
         "type": "string"
        },
        {
         "name": "description",
         "rawType": "object",
         "type": "string"
        }
       ],
       "ref": "21c54dd7-7c19-4719-86a7-5069ef122d04",
       "rows": [
        [
         "0",
         "1946",
         "90782.0",
         "33",
         "66",
         "1402",
         "37",
         "5",
         "44",
         "10",
         "3",
         "False",
         "19",
         "M",
         "Graduation",
         "Together",
         "Take my money!!"
        ],
        [
         "1",
         "1936",
         "113023.0",
         "32",
         "6",
         "1537",
         "55",
         "1",
         "38",
         "4",
         "2",
         "False",
         "9",
         "F",
         "PhD",
         "Divorced",
         "Take my money!!"
        ],
        [
         "2",
         "1990",
         "28344.0",
         "11",
         "69",
         "44",
         "32",
         "19",
         "24",
         "1",
         "24",
         "True",
         "59",
         "M",
         "Graduation",
         "Married",
         "Kind of OK"
        ],
        [
         "3",
         "1955",
         "93571.0",
         "26",
         "10",
         "888",
         "60",
         "10",
         "19",
         "6",
         "5",
         "True",
         "35",
         "F",
         "Master",
         "Married",
         "OK nice!"
        ],
        [
         "4",
         "1955",
         "91852.0",
         "31",
         "26",
         "1138",
         "59",
         "5",
         "28",
         "4",
         "4",
         "True",
         "34",
         "F",
         "Graduation",
         "Together",
         "Take my money!!"
        ],
        [
         "5",
         "1982",
         "22386.0",
         "14",
         "65",
         "56",
         "47",
         "2",
         "48",
         "2",
         "1",
         "True",
         "67",
         "M",
         "PhD",
         "Single",
         "OK nice!"
        ],
        [
         "6",
         "1969",
         "69485.0",
         "18",
         "73",
         "345",
         "71",
         "7",
         "13",
         "1",
         "8",
         "True",
         "46",
         "M",
         "Graduation",
         "Together",
         "OK nice!"
        ],
        [
         "7",
         "1960",
         "68602.0",
         "5",
         "44",
         "41",
         "84",
         "1",
         "12",
         "2",
         "0",
         "True",
         "37",
         "M",
         "Graduation",
         "Together",
         "Horrible"
        ],
        [
         "8",
         "1940",
         "109499.0",
         "30",
         "75",
         "1401",
         "38",
         "9",
         "35",
         "9",
         "9",
         "False",
         "17",
         "M",
         "Graduation",
         "Divorced",
         "OK nice!"
        ],
        [
         "10",
         "1949",
         "97492.0",
         "20",
         "93",
         "774",
         "37",
         "16",
         "33",
         "9",
         "5",
         "False",
         "15",
         "M",
         "Master",
         "Single",
         "OK nice!"
        ],
        [
         "11",
         "1957",
         "75436.0",
         "17",
         "32",
         "491",
         "60",
         "4",
         "33",
         "2",
         "1",
         "True",
         "29",
         "M",
         "Graduation",
         "Together",
         "OK nice!"
        ],
        [
         "12",
         "1954",
         "95586.0",
         "32",
         "54",
         "1407",
         "27",
         "3",
         "39",
         "20",
         "11",
         "False",
         "23",
         "F",
         "2nd Cycle",
         "Widow",
         "Take my money!!"
        ],
        [
         "13",
         "1979",
         "57997.0",
         "10",
         "28",
         "81",
         "77",
         "0",
         "21",
         "1",
         "0",
         "True",
         "52",
         "M",
         "Graduation",
         "Married",
         "Meh..."
        ],
        [
         "14",
         "1982",
         "50289.0",
         "10",
         "100",
         "20",
         "46",
         "0",
         "33",
         "16",
         "5",
         "True",
         "70",
         "M",
         "PhD",
         "Together",
         "Meh..."
        ],
        [
         "15",
         "1992",
         "20043.0",
         "5",
         "37",
         "16",
         "6",
         "28",
         "35",
         "28",
         "3",
         "False",
         "51",
         "M",
         "Graduation",
         "Single",
         "Kind of OK"
        ],
        [
         "16",
         "1938",
         "112765.0",
         "44",
         "72",
         "2039",
         "19",
         "1",
         "35",
         "14",
         "31",
         "False",
         "23",
         "M",
         "2nd Cycle",
         "Together",
         "OK nice!"
        ],
        [
         "17",
         "1990",
         "26141.0",
         "8",
         "52",
         "36",
         "19",
         "17",
         "28",
         "23",
         "12",
         "False",
         "50",
         "M",
         "Graduation",
         "Together",
         "Meh..."
        ],
        [
         "18",
         "1988",
         "40944.0",
         "10",
         "67",
         "52",
         "30",
         "12",
         "46",
         "9",
         "3",
         "True",
         "60",
         "M",
         "2nd Cycle",
         "Together",
         "Meh..."
        ],
        [
         "19",
         "1947",
         "89755.0",
         "13",
         "44",
         "394",
         "12",
         "4",
         "14",
         "34",
         "36",
         "False",
         "15",
         "M",
         "1st Cycle",
         "Married",
         "Meh..."
        ],
        [
         "20",
         "1995",
         "43392.0",
         "12",
         "4",
         "118",
         "5",
         "29",
         "16",
         "12",
         "38",
         "False",
         "57",
         "M",
         "1st Cycle",
         "Widow",
         "Meh..."
        ],
        [
         "21",
         "1982",
         "50518.0",
         "9",
         "42",
         "52",
         "22",
         "11",
         "51",
         "9",
         "7",
         "True",
         "57",
         "F",
         "Graduation",
         "Together",
         "OK nice!"
        ],
        [
         "22",
         "1981",
         "41238.0",
         "18",
         "59",
         "304",
         "67",
         "4",
         "23",
         "3",
         "4",
         "True",
         "60",
         "F",
         "Master",
         "Married",
         "Kind of OK"
        ],
        [
         "23",
         "1946",
         "104758.0",
         "33",
         "14",
         "1595",
         "35",
         "5",
         "39",
         "10",
         "11",
         "False",
         "12",
         "M",
         "2nd Cycle",
         "Married",
         "Take my money!!"
        ],
        [
         "24",
         "1971",
         "59583.0",
         "10",
         "99",
         "65",
         "70",
         "1",
         "26",
         "0",
         "3",
         "True",
         "66",
         "F",
         "Master",
         "Together",
         "Kind of OK"
        ],
        [
         "25",
         "1976",
         "33634.0",
         "10",
         "17",
         "41",
         "63",
         "3",
         "18",
         "9",
         "7",
         "True",
         "51",
         "M",
         "Graduation",
         "Married",
         "Kind of OK"
        ],
        [
         "26",
         "1961",
         "90708.0",
         "25",
         "61",
         "767",
         "76",
         "3",
         "15",
         "4",
         "3",
         "False",
         "52",
         "M",
         "2nd Cycle",
         "Married",
         "Kind of OK"
        ],
        [
         "27",
         "1986",
         "30957.0",
         "9",
         "100",
         "19",
         "77",
         "2",
         "17",
         "0",
         "4",
         "True",
         "64",
         "F",
         "Master",
         "Married",
         "Meh..."
        ],
        [
         "28",
         "1940",
         "119982.0",
         "37",
         "52",
         "1852",
         "20",
         "3",
         "48",
         "15",
         "14",
         "False",
         "13",
         "F",
         "2nd Cycle",
         "Widow",
         "Take my money!!"
        ],
        [
         "29",
         "1982",
         "54327.0",
         "8",
         "21",
         "47",
         "20",
         "14",
         "39",
         "16",
         "11",
         "True",
         "62",
         "M",
         "2nd Cycle",
         "Single",
         "Kind of OK"
        ],
        [
         "30",
         "1973",
         "65852.0",
         "10",
         "55",
         "63",
         "64",
         "1",
         "31",
         "2",
         "2",
         "True",
         "57",
         "M",
         "Graduation",
         "Single",
         "Kind of OK"
        ],
        [
         "31",
         "1967",
         "69713.0",
         "37",
         "64",
         "1340",
         "81",
         "1",
         "8",
         "4",
         "5",
         "True",
         "61",
         "M",
         "Graduation",
         "Divorced",
         "Take my money!!"
        ],
        [
         "32",
         "1955",
         "87449.0",
         "16",
         "87",
         "445",
         "53",
         "2",
         "37",
         "4",
         "3",
         "True",
         "38",
         "F",
         "PhD",
         "Single",
         "Kind of OK"
        ],
        [
         "33",
         "1976",
         "47584.0",
         "15",
         "94",
         "180",
         "41",
         "2",
         "50",
         "5",
         "1",
         "True",
         "53",
         "M",
         "1st Cycle",
         "Together",
         "Kind of OK"
        ],
        [
         "34",
         "1936",
         "109767.0",
         "41",
         "30",
         "2040",
         "46",
         "7",
         "37",
         "6",
         "4",
         "False",
         "14",
         "F",
         "1st Cycle",
         "Together",
         "OK nice!"
        ],
        [
         "35",
         "1996",
         "36143.0",
         "14",
         "65",
         "150",
         "6",
         "28",
         "27",
         "17",
         "22",
         "True",
         "60",
         "M",
         "1st Cycle",
         "Widow",
         "Meh..."
        ],
        [
         "36",
         "1979",
         "49108.0",
         "8",
         "80",
         "30",
         "57",
         "9",
         "24",
         "0",
         "10",
         "True",
         "48",
         "F",
         "Graduation",
         "Married",
         "OK nice!"
        ],
        [
         "37",
         "1996",
         "12808.0",
         "9",
         "93",
         "25",
         "6",
         "26",
         "15",
         "19",
         "33",
         "True",
         "62",
         "M",
         "1st Cycle",
         "Single",
         "OK nice!"
        ],
        [
         "38",
         "1958",
         "85333.0",
         "27",
         "13",
         "1019",
         "55",
         "7",
         "27",
         "9",
         "2",
         "True",
         "25",
         "M",
         "Graduation",
         "Married",
         "Take my money!!"
        ],
        [
         "40",
         "1959",
         "93132.0",
         "29",
         "81",
         "1277",
         "53",
         "13",
         "23",
         "9",
         "2",
         "False",
         "20",
         "F",
         "Graduation",
         "Together",
         "Take my money!!"
        ],
        [
         "41",
         "1955",
         "90841.0",
         "21",
         "56",
         "601",
         "62",
         "1",
         "32",
         "1",
         "3",
         "True",
         "41",
         "F",
         "PhD",
         "Married",
         "Kind of OK"
        ],
        [
         "42",
         "1979",
         "45434.0",
         "12",
         "14",
         "90",
         "52",
         "2",
         "36",
         "3",
         "7",
         "True",
         "59",
         "F",
         "2nd Cycle",
         "Married",
         "Meh..."
        ],
        [
         "43",
         "1954",
         "86313.0",
         "26",
         "31",
         "1018",
         "39",
         "7",
         "38",
         "4",
         "11",
         "False",
         "25",
         "M",
         "Graduation",
         "Married",
         "OK nice!"
        ],
        [
         "44",
         "1979",
         "36908.0",
         "6",
         "47",
         "25",
         "84",
         "1",
         "13",
         "1",
         "1",
         "True",
         "41",
         "F",
         "Graduation",
         "Together",
         "Kind of OK"
        ],
        [
         "45",
         "1986",
         "42773.0",
         "11",
         "2",
         "84",
         "71",
         "0",
         "27",
         "1",
         "1",
         "True",
         "52",
         "F",
         "Graduation",
         "Married",
         "Kind of OK"
        ],
        [
         "46",
         "1940",
         "113980.0",
         "38",
         "73",
         "1854",
         "34",
         "14",
         "33",
         "18",
         "1",
         "False",
         "17",
         "F",
         "1st Cycle",
         "Divorced",
         "Take my money!!"
        ],
        [
         "47",
         "1964",
         "80555.0",
         "15",
         "41",
         "298",
         "75",
         "2",
         "17",
         "2",
         "3",
         "True",
         "54",
         "M",
         "Graduation",
         "Married",
         "Kind of OK"
        ],
        [
         "48",
         "1965",
         "72287.0",
         "24",
         "53",
         "719",
         "40",
         "11",
         "20",
         "6",
         "22",
         "False",
         "44",
         "M",
         "2nd Cycle",
         "Single",
         "OK nice!"
        ],
        [
         "49",
         "1995",
         "25634.0",
         "13",
         "25",
         "46",
         "9",
         "30",
         "26",
         "2",
         "33",
         "True",
         "71",
         "F",
         "1st Cycle",
         "Married",
         "OK nice!"
        ],
        [
         "50",
         "1986",
         "52879.0",
         "18",
         "36",
         "263",
         "53",
         "5",
         "30",
         "6",
         "5",
         "True",
         "73",
         "M",
         "Graduation",
         "Together",
         "Kind of OK"
        ],
        [
         "51",
         "1986",
         "58656.0",
         "11",
         "99",
         "122",
         "12",
         "7",
         "50",
         "19",
         "12",
         "True",
         "55",
         "M",
         "2nd Cycle",
         "Single",
         "Kind of OK"
        ]
       ],
       "shape": {
        "columns": 16,
        "rows": 8603
       }
      },
      "text/html": [
       "<div>\n",
       "<style scoped>\n",
       "    .dataframe tbody tr th:only-of-type {\n",
       "        vertical-align: middle;\n",
       "    }\n",
       "\n",
       "    .dataframe tbody tr th {\n",
       "        vertical-align: top;\n",
       "    }\n",
       "\n",
       "    .dataframe thead th {\n",
       "        text-align: right;\n",
       "    }\n",
       "</style>\n",
       "<table border=\"1\" class=\"dataframe\">\n",
       "  <thead>\n",
       "    <tr style=\"text-align: right;\">\n",
       "      <th></th>\n",
       "      <th>YoB</th>\n",
       "      <th>income</th>\n",
       "      <th>frq</th>\n",
       "      <th>rcn</th>\n",
       "      <th>mnt</th>\n",
       "      <th>clothes</th>\n",
       "      <th>kitchen</th>\n",
       "      <th>small_appliances</th>\n",
       "      <th>toys</th>\n",
       "      <th>house_keeping</th>\n",
       "      <th>dependents</th>\n",
       "      <th>per_net_purchase</th>\n",
       "      <th>gender</th>\n",
       "      <th>education</th>\n",
       "      <th>status</th>\n",
       "      <th>description</th>\n",
       "    </tr>\n",
       "  </thead>\n",
       "  <tbody>\n",
       "    <tr>\n",
       "      <th>0</th>\n",
       "      <td>1946</td>\n",
       "      <td>90782.0</td>\n",
       "      <td>33</td>\n",
       "      <td>66</td>\n",
       "      <td>1402</td>\n",
       "      <td>37</td>\n",
       "      <td>5</td>\n",
       "      <td>44</td>\n",
       "      <td>10</td>\n",
       "      <td>3</td>\n",
       "      <td>False</td>\n",
       "      <td>19</td>\n",
       "      <td>M</td>\n",
       "      <td>Graduation</td>\n",
       "      <td>Together</td>\n",
       "      <td>Take my money!!</td>\n",
       "    </tr>\n",
       "    <tr>\n",
       "      <th>1</th>\n",
       "      <td>1936</td>\n",
       "      <td>113023.0</td>\n",
       "      <td>32</td>\n",
       "      <td>6</td>\n",
       "      <td>1537</td>\n",
       "      <td>55</td>\n",
       "      <td>1</td>\n",
       "      <td>38</td>\n",
       "      <td>4</td>\n",
       "      <td>2</td>\n",
       "      <td>False</td>\n",
       "      <td>9</td>\n",
       "      <td>F</td>\n",
       "      <td>PhD</td>\n",
       "      <td>Divorced</td>\n",
       "      <td>Take my money!!</td>\n",
       "    </tr>\n",
       "    <tr>\n",
       "      <th>2</th>\n",
       "      <td>1990</td>\n",
       "      <td>28344.0</td>\n",
       "      <td>11</td>\n",
       "      <td>69</td>\n",
       "      <td>44</td>\n",
       "      <td>32</td>\n",
       "      <td>19</td>\n",
       "      <td>24</td>\n",
       "      <td>1</td>\n",
       "      <td>24</td>\n",
       "      <td>True</td>\n",
       "      <td>59</td>\n",
       "      <td>M</td>\n",
       "      <td>Graduation</td>\n",
       "      <td>Married</td>\n",
       "      <td>Kind of OK</td>\n",
       "    </tr>\n",
       "    <tr>\n",
       "      <th>3</th>\n",
       "      <td>1955</td>\n",
       "      <td>93571.0</td>\n",
       "      <td>26</td>\n",
       "      <td>10</td>\n",
       "      <td>888</td>\n",
       "      <td>60</td>\n",
       "      <td>10</td>\n",
       "      <td>19</td>\n",
       "      <td>6</td>\n",
       "      <td>5</td>\n",
       "      <td>True</td>\n",
       "      <td>35</td>\n",
       "      <td>F</td>\n",
       "      <td>Master</td>\n",
       "      <td>Married</td>\n",
       "      <td>OK nice!</td>\n",
       "    </tr>\n",
       "    <tr>\n",
       "      <th>4</th>\n",
       "      <td>1955</td>\n",
       "      <td>91852.0</td>\n",
       "      <td>31</td>\n",
       "      <td>26</td>\n",
       "      <td>1138</td>\n",
       "      <td>59</td>\n",
       "      <td>5</td>\n",
       "      <td>28</td>\n",
       "      <td>4</td>\n",
       "      <td>4</td>\n",
       "      <td>True</td>\n",
       "      <td>34</td>\n",
       "      <td>F</td>\n",
       "      <td>Graduation</td>\n",
       "      <td>Together</td>\n",
       "      <td>Take my money!!</td>\n",
       "    </tr>\n",
       "    <tr>\n",
       "      <th>...</th>\n",
       "      <td>...</td>\n",
       "      <td>...</td>\n",
       "      <td>...</td>\n",
       "      <td>...</td>\n",
       "      <td>...</td>\n",
       "      <td>...</td>\n",
       "      <td>...</td>\n",
       "      <td>...</td>\n",
       "      <td>...</td>\n",
       "      <td>...</td>\n",
       "      <td>...</td>\n",
       "      <td>...</td>\n",
       "      <td>...</td>\n",
       "      <td>...</td>\n",
       "      <td>...</td>\n",
       "      <td>...</td>\n",
       "    </tr>\n",
       "    <tr>\n",
       "      <th>8992</th>\n",
       "      <td>1954</td>\n",
       "      <td>87399.0</td>\n",
       "      <td>25</td>\n",
       "      <td>1</td>\n",
       "      <td>837</td>\n",
       "      <td>56</td>\n",
       "      <td>8</td>\n",
       "      <td>27</td>\n",
       "      <td>8</td>\n",
       "      <td>1</td>\n",
       "      <td>True</td>\n",
       "      <td>47</td>\n",
       "      <td>M</td>\n",
       "      <td>Graduation</td>\n",
       "      <td>Married</td>\n",
       "      <td>Kind of OK</td>\n",
       "    </tr>\n",
       "    <tr>\n",
       "      <th>8993</th>\n",
       "      <td>1960</td>\n",
       "      <td>94367.0</td>\n",
       "      <td>28</td>\n",
       "      <td>1</td>\n",
       "      <td>896</td>\n",
       "      <td>68</td>\n",
       "      <td>5</td>\n",
       "      <td>21</td>\n",
       "      <td>3</td>\n",
       "      <td>4</td>\n",
       "      <td>True</td>\n",
       "      <td>55</td>\n",
       "      <td>F</td>\n",
       "      <td>1st Cycle</td>\n",
       "      <td>Single</td>\n",
       "      <td>Take my money!!</td>\n",
       "    </tr>\n",
       "    <tr>\n",
       "      <th>8994</th>\n",
       "      <td>1975</td>\n",
       "      <td>58121.0</td>\n",
       "      <td>12</td>\n",
       "      <td>6</td>\n",
       "      <td>61</td>\n",
       "      <td>53</td>\n",
       "      <td>6</td>\n",
       "      <td>28</td>\n",
       "      <td>7</td>\n",
       "      <td>6</td>\n",
       "      <td>True</td>\n",
       "      <td>71</td>\n",
       "      <td>M</td>\n",
       "      <td>2nd Cycle</td>\n",
       "      <td>Single</td>\n",
       "      <td>Meh...</td>\n",
       "    </tr>\n",
       "    <tr>\n",
       "      <th>8995</th>\n",
       "      <td>1986</td>\n",
       "      <td>54292.0</td>\n",
       "      <td>29</td>\n",
       "      <td>72</td>\n",
       "      <td>1011</td>\n",
       "      <td>41</td>\n",
       "      <td>11</td>\n",
       "      <td>36</td>\n",
       "      <td>1</td>\n",
       "      <td>11</td>\n",
       "      <td>False</td>\n",
       "      <td>31</td>\n",
       "      <td>M</td>\n",
       "      <td>Graduation</td>\n",
       "      <td>Together</td>\n",
       "      <td>Take my money!!</td>\n",
       "    </tr>\n",
       "    <tr>\n",
       "      <th>8996</th>\n",
       "      <td>1938</td>\n",
       "      <td>125962.0</td>\n",
       "      <td>38</td>\n",
       "      <td>75</td>\n",
       "      <td>1668</td>\n",
       "      <td>61</td>\n",
       "      <td>2</td>\n",
       "      <td>25</td>\n",
       "      <td>5</td>\n",
       "      <td>6</td>\n",
       "      <td>True</td>\n",
       "      <td>45</td>\n",
       "      <td>M</td>\n",
       "      <td>2nd Cycle</td>\n",
       "      <td>Married</td>\n",
       "      <td>Take my money!!</td>\n",
       "    </tr>\n",
       "  </tbody>\n",
       "</table>\n",
       "<p>8603 rows × 16 columns</p>\n",
       "</div>"
      ],
      "text/plain": [
       "       YoB    income  frq  rcn   mnt  clothes  kitchen  small_appliances  \\\n",
       "0     1946   90782.0   33   66  1402       37        5                44   \n",
       "1     1936  113023.0   32    6  1537       55        1                38   \n",
       "2     1990   28344.0   11   69    44       32       19                24   \n",
       "3     1955   93571.0   26   10   888       60       10                19   \n",
       "4     1955   91852.0   31   26  1138       59        5                28   \n",
       "...    ...       ...  ...  ...   ...      ...      ...               ...   \n",
       "8992  1954   87399.0   25    1   837       56        8                27   \n",
       "8993  1960   94367.0   28    1   896       68        5                21   \n",
       "8994  1975   58121.0   12    6    61       53        6                28   \n",
       "8995  1986   54292.0   29   72  1011       41       11                36   \n",
       "8996  1938  125962.0   38   75  1668       61        2                25   \n",
       "\n",
       "      toys  house_keeping  dependents  per_net_purchase gender   education  \\\n",
       "0       10              3       False                19      M  Graduation   \n",
       "1        4              2       False                 9      F         PhD   \n",
       "2        1             24        True                59      M  Graduation   \n",
       "3        6              5        True                35      F      Master   \n",
       "4        4              4        True                34      F  Graduation   \n",
       "...    ...            ...         ...               ...    ...         ...   \n",
       "8992     8              1        True                47      M  Graduation   \n",
       "8993     3              4        True                55      F   1st Cycle   \n",
       "8994     7              6        True                71      M   2nd Cycle   \n",
       "8995     1             11       False                31      M  Graduation   \n",
       "8996     5              6        True                45      M   2nd Cycle   \n",
       "\n",
       "        status      description  \n",
       "0     Together  Take my money!!  \n",
       "1     Divorced  Take my money!!  \n",
       "2      Married       Kind of OK  \n",
       "3      Married         OK nice!  \n",
       "4     Together  Take my money!!  \n",
       "...        ...              ...  \n",
       "8992   Married       Kind of OK  \n",
       "8993    Single  Take my money!!  \n",
       "8994    Single           Meh...  \n",
       "8995  Together  Take my money!!  \n",
       "8996   Married  Take my money!!  \n",
       "\n",
       "[8603 rows x 16 columns]"
      ]
     },
     "execution_count": 500,
     "metadata": {},
     "output_type": "execute_result"
    }
   ],
   "source": [
    "df"
   ]
  },
  {
   "cell_type": "code",
   "execution_count": 501,
   "metadata": {},
   "outputs": [
    {
     "data": {
      "application/vnd.microsoft.datawrangler.viewer.v0+json": {
       "columns": [
        {
         "name": "index",
         "rawType": "int64",
         "type": "integer"
        },
        {
         "name": "YoB",
         "rawType": "int64",
         "type": "integer"
        },
        {
         "name": "income",
         "rawType": "float64",
         "type": "float"
        },
        {
         "name": "frq",
         "rawType": "int64",
         "type": "integer"
        },
        {
         "name": "rcn",
         "rawType": "int64",
         "type": "integer"
        },
        {
         "name": "mnt",
         "rawType": "int64",
         "type": "integer"
        },
        {
         "name": "clothes",
         "rawType": "int64",
         "type": "integer"
        },
        {
         "name": "kitchen",
         "rawType": "int64",
         "type": "integer"
        },
        {
         "name": "small_appliances",
         "rawType": "int64",
         "type": "integer"
        },
        {
         "name": "toys",
         "rawType": "int64",
         "type": "integer"
        },
        {
         "name": "house_keeping",
         "rawType": "int64",
         "type": "integer"
        },
        {
         "name": "dependents",
         "rawType": "boolean",
         "type": "boolean"
        },
        {
         "name": "per_net_purchase",
         "rawType": "int64",
         "type": "integer"
        },
        {
         "name": "gender",
         "rawType": "object",
         "type": "string"
        },
        {
         "name": "education",
         "rawType": "object",
         "type": "string"
        },
        {
         "name": "status",
         "rawType": "object",
         "type": "string"
        },
        {
         "name": "description",
         "rawType": "object",
         "type": "string"
        },
        {
         "name": "age",
         "rawType": "int64",
         "type": "integer"
        }
       ],
       "ref": "6ad92d98-bf38-45b1-a087-92210026e8ad",
       "rows": [
        [
         "0",
         "1946",
         "90782.0",
         "33",
         "66",
         "1402",
         "37",
         "5",
         "44",
         "10",
         "3",
         "False",
         "19",
         "M",
         "Graduation",
         "Together",
         "Take my money!!",
         "79"
        ],
        [
         "1",
         "1936",
         "113023.0",
         "32",
         "6",
         "1537",
         "55",
         "1",
         "38",
         "4",
         "2",
         "False",
         "9",
         "F",
         "PhD",
         "Divorced",
         "Take my money!!",
         "89"
        ],
        [
         "2",
         "1990",
         "28344.0",
         "11",
         "69",
         "44",
         "32",
         "19",
         "24",
         "1",
         "24",
         "True",
         "59",
         "M",
         "Graduation",
         "Married",
         "Kind of OK",
         "35"
        ],
        [
         "3",
         "1955",
         "93571.0",
         "26",
         "10",
         "888",
         "60",
         "10",
         "19",
         "6",
         "5",
         "True",
         "35",
         "F",
         "Master",
         "Married",
         "OK nice!",
         "70"
        ],
        [
         "4",
         "1955",
         "91852.0",
         "31",
         "26",
         "1138",
         "59",
         "5",
         "28",
         "4",
         "4",
         "True",
         "34",
         "F",
         "Graduation",
         "Together",
         "Take my money!!",
         "70"
        ],
        [
         "5",
         "1982",
         "22386.0",
         "14",
         "65",
         "56",
         "47",
         "2",
         "48",
         "2",
         "1",
         "True",
         "67",
         "M",
         "PhD",
         "Single",
         "OK nice!",
         "43"
        ],
        [
         "6",
         "1969",
         "69485.0",
         "18",
         "73",
         "345",
         "71",
         "7",
         "13",
         "1",
         "8",
         "True",
         "46",
         "M",
         "Graduation",
         "Together",
         "OK nice!",
         "56"
        ],
        [
         "7",
         "1960",
         "68602.0",
         "5",
         "44",
         "41",
         "84",
         "1",
         "12",
         "2",
         "0",
         "True",
         "37",
         "M",
         "Graduation",
         "Together",
         "Horrible",
         "65"
        ],
        [
         "8",
         "1940",
         "109499.0",
         "30",
         "75",
         "1401",
         "38",
         "9",
         "35",
         "9",
         "9",
         "False",
         "17",
         "M",
         "Graduation",
         "Divorced",
         "OK nice!",
         "85"
        ],
        [
         "10",
         "1949",
         "97492.0",
         "20",
         "93",
         "774",
         "37",
         "16",
         "33",
         "9",
         "5",
         "False",
         "15",
         "M",
         "Master",
         "Single",
         "OK nice!",
         "76"
        ],
        [
         "11",
         "1957",
         "75436.0",
         "17",
         "32",
         "491",
         "60",
         "4",
         "33",
         "2",
         "1",
         "True",
         "29",
         "M",
         "Graduation",
         "Together",
         "OK nice!",
         "68"
        ],
        [
         "12",
         "1954",
         "95586.0",
         "32",
         "54",
         "1407",
         "27",
         "3",
         "39",
         "20",
         "11",
         "False",
         "23",
         "F",
         "2nd Cycle",
         "Widow",
         "Take my money!!",
         "71"
        ],
        [
         "13",
         "1979",
         "57997.0",
         "10",
         "28",
         "81",
         "77",
         "0",
         "21",
         "1",
         "0",
         "True",
         "52",
         "M",
         "Graduation",
         "Married",
         "Meh...",
         "46"
        ],
        [
         "14",
         "1982",
         "50289.0",
         "10",
         "100",
         "20",
         "46",
         "0",
         "33",
         "16",
         "5",
         "True",
         "70",
         "M",
         "PhD",
         "Together",
         "Meh...",
         "43"
        ],
        [
         "15",
         "1992",
         "20043.0",
         "5",
         "37",
         "16",
         "6",
         "28",
         "35",
         "28",
         "3",
         "False",
         "51",
         "M",
         "Graduation",
         "Single",
         "Kind of OK",
         "33"
        ],
        [
         "16",
         "1938",
         "112765.0",
         "44",
         "72",
         "2039",
         "19",
         "1",
         "35",
         "14",
         "31",
         "False",
         "23",
         "M",
         "2nd Cycle",
         "Together",
         "OK nice!",
         "87"
        ],
        [
         "17",
         "1990",
         "26141.0",
         "8",
         "52",
         "36",
         "19",
         "17",
         "28",
         "23",
         "12",
         "False",
         "50",
         "M",
         "Graduation",
         "Together",
         "Meh...",
         "35"
        ],
        [
         "18",
         "1988",
         "40944.0",
         "10",
         "67",
         "52",
         "30",
         "12",
         "46",
         "9",
         "3",
         "True",
         "60",
         "M",
         "2nd Cycle",
         "Together",
         "Meh...",
         "37"
        ],
        [
         "19",
         "1947",
         "89755.0",
         "13",
         "44",
         "394",
         "12",
         "4",
         "14",
         "34",
         "36",
         "False",
         "15",
         "M",
         "1st Cycle",
         "Married",
         "Meh...",
         "78"
        ],
        [
         "20",
         "1995",
         "43392.0",
         "12",
         "4",
         "118",
         "5",
         "29",
         "16",
         "12",
         "38",
         "False",
         "57",
         "M",
         "1st Cycle",
         "Widow",
         "Meh...",
         "30"
        ],
        [
         "21",
         "1982",
         "50518.0",
         "9",
         "42",
         "52",
         "22",
         "11",
         "51",
         "9",
         "7",
         "True",
         "57",
         "F",
         "Graduation",
         "Together",
         "OK nice!",
         "43"
        ],
        [
         "22",
         "1981",
         "41238.0",
         "18",
         "59",
         "304",
         "67",
         "4",
         "23",
         "3",
         "4",
         "True",
         "60",
         "F",
         "Master",
         "Married",
         "Kind of OK",
         "44"
        ],
        [
         "23",
         "1946",
         "104758.0",
         "33",
         "14",
         "1595",
         "35",
         "5",
         "39",
         "10",
         "11",
         "False",
         "12",
         "M",
         "2nd Cycle",
         "Married",
         "Take my money!!",
         "79"
        ],
        [
         "24",
         "1971",
         "59583.0",
         "10",
         "99",
         "65",
         "70",
         "1",
         "26",
         "0",
         "3",
         "True",
         "66",
         "F",
         "Master",
         "Together",
         "Kind of OK",
         "54"
        ],
        [
         "25",
         "1976",
         "33634.0",
         "10",
         "17",
         "41",
         "63",
         "3",
         "18",
         "9",
         "7",
         "True",
         "51",
         "M",
         "Graduation",
         "Married",
         "Kind of OK",
         "49"
        ],
        [
         "26",
         "1961",
         "90708.0",
         "25",
         "61",
         "767",
         "76",
         "3",
         "15",
         "4",
         "3",
         "False",
         "52",
         "M",
         "2nd Cycle",
         "Married",
         "Kind of OK",
         "64"
        ],
        [
         "27",
         "1986",
         "30957.0",
         "9",
         "100",
         "19",
         "77",
         "2",
         "17",
         "0",
         "4",
         "True",
         "64",
         "F",
         "Master",
         "Married",
         "Meh...",
         "39"
        ],
        [
         "28",
         "1940",
         "119982.0",
         "37",
         "52",
         "1852",
         "20",
         "3",
         "48",
         "15",
         "14",
         "False",
         "13",
         "F",
         "2nd Cycle",
         "Widow",
         "Take my money!!",
         "85"
        ],
        [
         "29",
         "1982",
         "54327.0",
         "8",
         "21",
         "47",
         "20",
         "14",
         "39",
         "16",
         "11",
         "True",
         "62",
         "M",
         "2nd Cycle",
         "Single",
         "Kind of OK",
         "43"
        ],
        [
         "30",
         "1973",
         "65852.0",
         "10",
         "55",
         "63",
         "64",
         "1",
         "31",
         "2",
         "2",
         "True",
         "57",
         "M",
         "Graduation",
         "Single",
         "Kind of OK",
         "52"
        ],
        [
         "31",
         "1967",
         "69713.0",
         "37",
         "64",
         "1340",
         "81",
         "1",
         "8",
         "4",
         "5",
         "True",
         "61",
         "M",
         "Graduation",
         "Divorced",
         "Take my money!!",
         "58"
        ],
        [
         "32",
         "1955",
         "87449.0",
         "16",
         "87",
         "445",
         "53",
         "2",
         "37",
         "4",
         "3",
         "True",
         "38",
         "F",
         "PhD",
         "Single",
         "Kind of OK",
         "70"
        ],
        [
         "33",
         "1976",
         "47584.0",
         "15",
         "94",
         "180",
         "41",
         "2",
         "50",
         "5",
         "1",
         "True",
         "53",
         "M",
         "1st Cycle",
         "Together",
         "Kind of OK",
         "49"
        ],
        [
         "34",
         "1936",
         "109767.0",
         "41",
         "30",
         "2040",
         "46",
         "7",
         "37",
         "6",
         "4",
         "False",
         "14",
         "F",
         "1st Cycle",
         "Together",
         "OK nice!",
         "89"
        ],
        [
         "35",
         "1996",
         "36143.0",
         "14",
         "65",
         "150",
         "6",
         "28",
         "27",
         "17",
         "22",
         "True",
         "60",
         "M",
         "1st Cycle",
         "Widow",
         "Meh...",
         "29"
        ],
        [
         "36",
         "1979",
         "49108.0",
         "8",
         "80",
         "30",
         "57",
         "9",
         "24",
         "0",
         "10",
         "True",
         "48",
         "F",
         "Graduation",
         "Married",
         "OK nice!",
         "46"
        ],
        [
         "37",
         "1996",
         "12808.0",
         "9",
         "93",
         "25",
         "6",
         "26",
         "15",
         "19",
         "33",
         "True",
         "62",
         "M",
         "1st Cycle",
         "Single",
         "OK nice!",
         "29"
        ],
        [
         "38",
         "1958",
         "85333.0",
         "27",
         "13",
         "1019",
         "55",
         "7",
         "27",
         "9",
         "2",
         "True",
         "25",
         "M",
         "Graduation",
         "Married",
         "Take my money!!",
         "67"
        ],
        [
         "40",
         "1959",
         "93132.0",
         "29",
         "81",
         "1277",
         "53",
         "13",
         "23",
         "9",
         "2",
         "False",
         "20",
         "F",
         "Graduation",
         "Together",
         "Take my money!!",
         "66"
        ],
        [
         "41",
         "1955",
         "90841.0",
         "21",
         "56",
         "601",
         "62",
         "1",
         "32",
         "1",
         "3",
         "True",
         "41",
         "F",
         "PhD",
         "Married",
         "Kind of OK",
         "70"
        ],
        [
         "42",
         "1979",
         "45434.0",
         "12",
         "14",
         "90",
         "52",
         "2",
         "36",
         "3",
         "7",
         "True",
         "59",
         "F",
         "2nd Cycle",
         "Married",
         "Meh...",
         "46"
        ],
        [
         "43",
         "1954",
         "86313.0",
         "26",
         "31",
         "1018",
         "39",
         "7",
         "38",
         "4",
         "11",
         "False",
         "25",
         "M",
         "Graduation",
         "Married",
         "OK nice!",
         "71"
        ],
        [
         "44",
         "1979",
         "36908.0",
         "6",
         "47",
         "25",
         "84",
         "1",
         "13",
         "1",
         "1",
         "True",
         "41",
         "F",
         "Graduation",
         "Together",
         "Kind of OK",
         "46"
        ],
        [
         "45",
         "1986",
         "42773.0",
         "11",
         "2",
         "84",
         "71",
         "0",
         "27",
         "1",
         "1",
         "True",
         "52",
         "F",
         "Graduation",
         "Married",
         "Kind of OK",
         "39"
        ],
        [
         "46",
         "1940",
         "113980.0",
         "38",
         "73",
         "1854",
         "34",
         "14",
         "33",
         "18",
         "1",
         "False",
         "17",
         "F",
         "1st Cycle",
         "Divorced",
         "Take my money!!",
         "85"
        ],
        [
         "47",
         "1964",
         "80555.0",
         "15",
         "41",
         "298",
         "75",
         "2",
         "17",
         "2",
         "3",
         "True",
         "54",
         "M",
         "Graduation",
         "Married",
         "Kind of OK",
         "61"
        ],
        [
         "48",
         "1965",
         "72287.0",
         "24",
         "53",
         "719",
         "40",
         "11",
         "20",
         "6",
         "22",
         "False",
         "44",
         "M",
         "2nd Cycle",
         "Single",
         "OK nice!",
         "60"
        ],
        [
         "49",
         "1995",
         "25634.0",
         "13",
         "25",
         "46",
         "9",
         "30",
         "26",
         "2",
         "33",
         "True",
         "71",
         "F",
         "1st Cycle",
         "Married",
         "OK nice!",
         "30"
        ],
        [
         "50",
         "1986",
         "52879.0",
         "18",
         "36",
         "263",
         "53",
         "5",
         "30",
         "6",
         "5",
         "True",
         "73",
         "M",
         "Graduation",
         "Together",
         "Kind of OK",
         "39"
        ],
        [
         "51",
         "1986",
         "58656.0",
         "11",
         "99",
         "122",
         "12",
         "7",
         "50",
         "19",
         "12",
         "True",
         "55",
         "M",
         "2nd Cycle",
         "Single",
         "Kind of OK",
         "39"
        ]
       ],
       "shape": {
        "columns": 17,
        "rows": 8603
       }
      },
      "text/html": [
       "<div>\n",
       "<style scoped>\n",
       "    .dataframe tbody tr th:only-of-type {\n",
       "        vertical-align: middle;\n",
       "    }\n",
       "\n",
       "    .dataframe tbody tr th {\n",
       "        vertical-align: top;\n",
       "    }\n",
       "\n",
       "    .dataframe thead th {\n",
       "        text-align: right;\n",
       "    }\n",
       "</style>\n",
       "<table border=\"1\" class=\"dataframe\">\n",
       "  <thead>\n",
       "    <tr style=\"text-align: right;\">\n",
       "      <th></th>\n",
       "      <th>YoB</th>\n",
       "      <th>income</th>\n",
       "      <th>frq</th>\n",
       "      <th>rcn</th>\n",
       "      <th>mnt</th>\n",
       "      <th>clothes</th>\n",
       "      <th>kitchen</th>\n",
       "      <th>small_appliances</th>\n",
       "      <th>toys</th>\n",
       "      <th>house_keeping</th>\n",
       "      <th>dependents</th>\n",
       "      <th>per_net_purchase</th>\n",
       "      <th>gender</th>\n",
       "      <th>education</th>\n",
       "      <th>status</th>\n",
       "      <th>description</th>\n",
       "      <th>age</th>\n",
       "    </tr>\n",
       "  </thead>\n",
       "  <tbody>\n",
       "    <tr>\n",
       "      <th>0</th>\n",
       "      <td>1946</td>\n",
       "      <td>90782.0</td>\n",
       "      <td>33</td>\n",
       "      <td>66</td>\n",
       "      <td>1402</td>\n",
       "      <td>37</td>\n",
       "      <td>5</td>\n",
       "      <td>44</td>\n",
       "      <td>10</td>\n",
       "      <td>3</td>\n",
       "      <td>False</td>\n",
       "      <td>19</td>\n",
       "      <td>M</td>\n",
       "      <td>Graduation</td>\n",
       "      <td>Together</td>\n",
       "      <td>Take my money!!</td>\n",
       "      <td>79</td>\n",
       "    </tr>\n",
       "    <tr>\n",
       "      <th>1</th>\n",
       "      <td>1936</td>\n",
       "      <td>113023.0</td>\n",
       "      <td>32</td>\n",
       "      <td>6</td>\n",
       "      <td>1537</td>\n",
       "      <td>55</td>\n",
       "      <td>1</td>\n",
       "      <td>38</td>\n",
       "      <td>4</td>\n",
       "      <td>2</td>\n",
       "      <td>False</td>\n",
       "      <td>9</td>\n",
       "      <td>F</td>\n",
       "      <td>PhD</td>\n",
       "      <td>Divorced</td>\n",
       "      <td>Take my money!!</td>\n",
       "      <td>89</td>\n",
       "    </tr>\n",
       "    <tr>\n",
       "      <th>2</th>\n",
       "      <td>1990</td>\n",
       "      <td>28344.0</td>\n",
       "      <td>11</td>\n",
       "      <td>69</td>\n",
       "      <td>44</td>\n",
       "      <td>32</td>\n",
       "      <td>19</td>\n",
       "      <td>24</td>\n",
       "      <td>1</td>\n",
       "      <td>24</td>\n",
       "      <td>True</td>\n",
       "      <td>59</td>\n",
       "      <td>M</td>\n",
       "      <td>Graduation</td>\n",
       "      <td>Married</td>\n",
       "      <td>Kind of OK</td>\n",
       "      <td>35</td>\n",
       "    </tr>\n",
       "    <tr>\n",
       "      <th>3</th>\n",
       "      <td>1955</td>\n",
       "      <td>93571.0</td>\n",
       "      <td>26</td>\n",
       "      <td>10</td>\n",
       "      <td>888</td>\n",
       "      <td>60</td>\n",
       "      <td>10</td>\n",
       "      <td>19</td>\n",
       "      <td>6</td>\n",
       "      <td>5</td>\n",
       "      <td>True</td>\n",
       "      <td>35</td>\n",
       "      <td>F</td>\n",
       "      <td>Master</td>\n",
       "      <td>Married</td>\n",
       "      <td>OK nice!</td>\n",
       "      <td>70</td>\n",
       "    </tr>\n",
       "    <tr>\n",
       "      <th>4</th>\n",
       "      <td>1955</td>\n",
       "      <td>91852.0</td>\n",
       "      <td>31</td>\n",
       "      <td>26</td>\n",
       "      <td>1138</td>\n",
       "      <td>59</td>\n",
       "      <td>5</td>\n",
       "      <td>28</td>\n",
       "      <td>4</td>\n",
       "      <td>4</td>\n",
       "      <td>True</td>\n",
       "      <td>34</td>\n",
       "      <td>F</td>\n",
       "      <td>Graduation</td>\n",
       "      <td>Together</td>\n",
       "      <td>Take my money!!</td>\n",
       "      <td>70</td>\n",
       "    </tr>\n",
       "    <tr>\n",
       "      <th>...</th>\n",
       "      <td>...</td>\n",
       "      <td>...</td>\n",
       "      <td>...</td>\n",
       "      <td>...</td>\n",
       "      <td>...</td>\n",
       "      <td>...</td>\n",
       "      <td>...</td>\n",
       "      <td>...</td>\n",
       "      <td>...</td>\n",
       "      <td>...</td>\n",
       "      <td>...</td>\n",
       "      <td>...</td>\n",
       "      <td>...</td>\n",
       "      <td>...</td>\n",
       "      <td>...</td>\n",
       "      <td>...</td>\n",
       "      <td>...</td>\n",
       "    </tr>\n",
       "    <tr>\n",
       "      <th>8992</th>\n",
       "      <td>1954</td>\n",
       "      <td>87399.0</td>\n",
       "      <td>25</td>\n",
       "      <td>1</td>\n",
       "      <td>837</td>\n",
       "      <td>56</td>\n",
       "      <td>8</td>\n",
       "      <td>27</td>\n",
       "      <td>8</td>\n",
       "      <td>1</td>\n",
       "      <td>True</td>\n",
       "      <td>47</td>\n",
       "      <td>M</td>\n",
       "      <td>Graduation</td>\n",
       "      <td>Married</td>\n",
       "      <td>Kind of OK</td>\n",
       "      <td>71</td>\n",
       "    </tr>\n",
       "    <tr>\n",
       "      <th>8993</th>\n",
       "      <td>1960</td>\n",
       "      <td>94367.0</td>\n",
       "      <td>28</td>\n",
       "      <td>1</td>\n",
       "      <td>896</td>\n",
       "      <td>68</td>\n",
       "      <td>5</td>\n",
       "      <td>21</td>\n",
       "      <td>3</td>\n",
       "      <td>4</td>\n",
       "      <td>True</td>\n",
       "      <td>55</td>\n",
       "      <td>F</td>\n",
       "      <td>1st Cycle</td>\n",
       "      <td>Single</td>\n",
       "      <td>Take my money!!</td>\n",
       "      <td>65</td>\n",
       "    </tr>\n",
       "    <tr>\n",
       "      <th>8994</th>\n",
       "      <td>1975</td>\n",
       "      <td>58121.0</td>\n",
       "      <td>12</td>\n",
       "      <td>6</td>\n",
       "      <td>61</td>\n",
       "      <td>53</td>\n",
       "      <td>6</td>\n",
       "      <td>28</td>\n",
       "      <td>7</td>\n",
       "      <td>6</td>\n",
       "      <td>True</td>\n",
       "      <td>71</td>\n",
       "      <td>M</td>\n",
       "      <td>2nd Cycle</td>\n",
       "      <td>Single</td>\n",
       "      <td>Meh...</td>\n",
       "      <td>50</td>\n",
       "    </tr>\n",
       "    <tr>\n",
       "      <th>8995</th>\n",
       "      <td>1986</td>\n",
       "      <td>54292.0</td>\n",
       "      <td>29</td>\n",
       "      <td>72</td>\n",
       "      <td>1011</td>\n",
       "      <td>41</td>\n",
       "      <td>11</td>\n",
       "      <td>36</td>\n",
       "      <td>1</td>\n",
       "      <td>11</td>\n",
       "      <td>False</td>\n",
       "      <td>31</td>\n",
       "      <td>M</td>\n",
       "      <td>Graduation</td>\n",
       "      <td>Together</td>\n",
       "      <td>Take my money!!</td>\n",
       "      <td>39</td>\n",
       "    </tr>\n",
       "    <tr>\n",
       "      <th>8996</th>\n",
       "      <td>1938</td>\n",
       "      <td>125962.0</td>\n",
       "      <td>38</td>\n",
       "      <td>75</td>\n",
       "      <td>1668</td>\n",
       "      <td>61</td>\n",
       "      <td>2</td>\n",
       "      <td>25</td>\n",
       "      <td>5</td>\n",
       "      <td>6</td>\n",
       "      <td>True</td>\n",
       "      <td>45</td>\n",
       "      <td>M</td>\n",
       "      <td>2nd Cycle</td>\n",
       "      <td>Married</td>\n",
       "      <td>Take my money!!</td>\n",
       "      <td>87</td>\n",
       "    </tr>\n",
       "  </tbody>\n",
       "</table>\n",
       "<p>8603 rows × 17 columns</p>\n",
       "</div>"
      ],
      "text/plain": [
       "       YoB    income  frq  rcn   mnt  clothes  kitchen  small_appliances  \\\n",
       "0     1946   90782.0   33   66  1402       37        5                44   \n",
       "1     1936  113023.0   32    6  1537       55        1                38   \n",
       "2     1990   28344.0   11   69    44       32       19                24   \n",
       "3     1955   93571.0   26   10   888       60       10                19   \n",
       "4     1955   91852.0   31   26  1138       59        5                28   \n",
       "...    ...       ...  ...  ...   ...      ...      ...               ...   \n",
       "8992  1954   87399.0   25    1   837       56        8                27   \n",
       "8993  1960   94367.0   28    1   896       68        5                21   \n",
       "8994  1975   58121.0   12    6    61       53        6                28   \n",
       "8995  1986   54292.0   29   72  1011       41       11                36   \n",
       "8996  1938  125962.0   38   75  1668       61        2                25   \n",
       "\n",
       "      toys  house_keeping  dependents  per_net_purchase gender   education  \\\n",
       "0       10              3       False                19      M  Graduation   \n",
       "1        4              2       False                 9      F         PhD   \n",
       "2        1             24        True                59      M  Graduation   \n",
       "3        6              5        True                35      F      Master   \n",
       "4        4              4        True                34      F  Graduation   \n",
       "...    ...            ...         ...               ...    ...         ...   \n",
       "8992     8              1        True                47      M  Graduation   \n",
       "8993     3              4        True                55      F   1st Cycle   \n",
       "8994     7              6        True                71      M   2nd Cycle   \n",
       "8995     1             11       False                31      M  Graduation   \n",
       "8996     5              6        True                45      M   2nd Cycle   \n",
       "\n",
       "        status      description  age  \n",
       "0     Together  Take my money!!   79  \n",
       "1     Divorced  Take my money!!   89  \n",
       "2      Married       Kind of OK   35  \n",
       "3      Married         OK nice!   70  \n",
       "4     Together  Take my money!!   70  \n",
       "...        ...              ...  ...  \n",
       "8992   Married       Kind of OK   71  \n",
       "8993    Single  Take my money!!   65  \n",
       "8994    Single           Meh...   50  \n",
       "8995  Together  Take my money!!   39  \n",
       "8996   Married  Take my money!!   87  \n",
       "\n",
       "[8603 rows x 17 columns]"
      ]
     },
     "execution_count": 501,
     "metadata": {},
     "output_type": "execute_result"
    }
   ],
   "source": [
    "df['age'] = 2025 - df['YoB']\n",
    "df"
   ]
  },
  {
   "cell_type": "code",
   "execution_count": 502,
   "metadata": {},
   "outputs": [
    {
     "data": {
      "application/vnd.microsoft.datawrangler.viewer.v0+json": {
       "columns": [
        {
         "name": "index",
         "rawType": "int64",
         "type": "integer"
        },
        {
         "name": "YoB",
         "rawType": "int64",
         "type": "integer"
        },
        {
         "name": "income",
         "rawType": "float64",
         "type": "float"
        },
        {
         "name": "frq",
         "rawType": "int64",
         "type": "integer"
        },
        {
         "name": "rcn",
         "rawType": "int64",
         "type": "integer"
        },
        {
         "name": "mnt",
         "rawType": "int64",
         "type": "integer"
        },
        {
         "name": "clothes",
         "rawType": "int64",
         "type": "integer"
        },
        {
         "name": "kitchen",
         "rawType": "int64",
         "type": "integer"
        },
        {
         "name": "small_appliances",
         "rawType": "int64",
         "type": "integer"
        },
        {
         "name": "toys",
         "rawType": "int64",
         "type": "integer"
        },
        {
         "name": "house_keeping",
         "rawType": "int64",
         "type": "integer"
        },
        {
         "name": "dependents",
         "rawType": "boolean",
         "type": "boolean"
        },
        {
         "name": "per_net_purchase",
         "rawType": "int64",
         "type": "integer"
        },
        {
         "name": "gender",
         "rawType": "object",
         "type": "string"
        },
        {
         "name": "education",
         "rawType": "object",
         "type": "string"
        },
        {
         "name": "status",
         "rawType": "object",
         "type": "string"
        },
        {
         "name": "description",
         "rawType": "object",
         "type": "string"
        },
        {
         "name": "age",
         "rawType": "int64",
         "type": "integer"
        },
        {
         "name": "spent_online",
         "rawType": "float64",
         "type": "float"
        }
       ],
       "ref": "faecf5f0-3d36-41c9-9e47-d4d5f09e2e95",
       "rows": [
        [
         "0",
         "1946",
         "90782.0",
         "33",
         "66",
         "1402",
         "37",
         "5",
         "44",
         "10",
         "3",
         "False",
         "19",
         "M",
         "Graduation",
         "Together",
         "Take my money!!",
         "79",
         "266.38"
        ],
        [
         "1",
         "1936",
         "113023.0",
         "32",
         "6",
         "1537",
         "55",
         "1",
         "38",
         "4",
         "2",
         "False",
         "9",
         "F",
         "PhD",
         "Divorced",
         "Take my money!!",
         "89",
         "138.33"
        ],
        [
         "2",
         "1990",
         "28344.0",
         "11",
         "69",
         "44",
         "32",
         "19",
         "24",
         "1",
         "24",
         "True",
         "59",
         "M",
         "Graduation",
         "Married",
         "Kind of OK",
         "35",
         "25.96"
        ],
        [
         "3",
         "1955",
         "93571.0",
         "26",
         "10",
         "888",
         "60",
         "10",
         "19",
         "6",
         "5",
         "True",
         "35",
         "F",
         "Master",
         "Married",
         "OK nice!",
         "70",
         "310.8"
        ],
        [
         "4",
         "1955",
         "91852.0",
         "31",
         "26",
         "1138",
         "59",
         "5",
         "28",
         "4",
         "4",
         "True",
         "34",
         "F",
         "Graduation",
         "Together",
         "Take my money!!",
         "70",
         "386.92"
        ],
        [
         "5",
         "1982",
         "22386.0",
         "14",
         "65",
         "56",
         "47",
         "2",
         "48",
         "2",
         "1",
         "True",
         "67",
         "M",
         "PhD",
         "Single",
         "OK nice!",
         "43",
         "37.52"
        ],
        [
         "6",
         "1969",
         "69485.0",
         "18",
         "73",
         "345",
         "71",
         "7",
         "13",
         "1",
         "8",
         "True",
         "46",
         "M",
         "Graduation",
         "Together",
         "OK nice!",
         "56",
         "158.7"
        ],
        [
         "7",
         "1960",
         "68602.0",
         "5",
         "44",
         "41",
         "84",
         "1",
         "12",
         "2",
         "0",
         "True",
         "37",
         "M",
         "Graduation",
         "Together",
         "Horrible",
         "65",
         "15.17"
        ],
        [
         "8",
         "1940",
         "109499.0",
         "30",
         "75",
         "1401",
         "38",
         "9",
         "35",
         "9",
         "9",
         "False",
         "17",
         "M",
         "Graduation",
         "Divorced",
         "OK nice!",
         "85",
         "238.17"
        ],
        [
         "10",
         "1949",
         "97492.0",
         "20",
         "93",
         "774",
         "37",
         "16",
         "33",
         "9",
         "5",
         "False",
         "15",
         "M",
         "Master",
         "Single",
         "OK nice!",
         "76",
         "116.1"
        ],
        [
         "11",
         "1957",
         "75436.0",
         "17",
         "32",
         "491",
         "60",
         "4",
         "33",
         "2",
         "1",
         "True",
         "29",
         "M",
         "Graduation",
         "Together",
         "OK nice!",
         "68",
         "142.39"
        ],
        [
         "12",
         "1954",
         "95586.0",
         "32",
         "54",
         "1407",
         "27",
         "3",
         "39",
         "20",
         "11",
         "False",
         "23",
         "F",
         "2nd Cycle",
         "Widow",
         "Take my money!!",
         "71",
         "323.61"
        ],
        [
         "13",
         "1979",
         "57997.0",
         "10",
         "28",
         "81",
         "77",
         "0",
         "21",
         "1",
         "0",
         "True",
         "52",
         "M",
         "Graduation",
         "Married",
         "Meh...",
         "46",
         "42.12"
        ],
        [
         "14",
         "1982",
         "50289.0",
         "10",
         "100",
         "20",
         "46",
         "0",
         "33",
         "16",
         "5",
         "True",
         "70",
         "M",
         "PhD",
         "Together",
         "Meh...",
         "43",
         "14.0"
        ],
        [
         "15",
         "1992",
         "20043.0",
         "5",
         "37",
         "16",
         "6",
         "28",
         "35",
         "28",
         "3",
         "False",
         "51",
         "M",
         "Graduation",
         "Single",
         "Kind of OK",
         "33",
         "8.16"
        ],
        [
         "16",
         "1938",
         "112765.0",
         "44",
         "72",
         "2039",
         "19",
         "1",
         "35",
         "14",
         "31",
         "False",
         "23",
         "M",
         "2nd Cycle",
         "Together",
         "OK nice!",
         "87",
         "468.97"
        ],
        [
         "17",
         "1990",
         "26141.0",
         "8",
         "52",
         "36",
         "19",
         "17",
         "28",
         "23",
         "12",
         "False",
         "50",
         "M",
         "Graduation",
         "Together",
         "Meh...",
         "35",
         "18.0"
        ],
        [
         "18",
         "1988",
         "40944.0",
         "10",
         "67",
         "52",
         "30",
         "12",
         "46",
         "9",
         "3",
         "True",
         "60",
         "M",
         "2nd Cycle",
         "Together",
         "Meh...",
         "37",
         "31.2"
        ],
        [
         "19",
         "1947",
         "89755.0",
         "13",
         "44",
         "394",
         "12",
         "4",
         "14",
         "34",
         "36",
         "False",
         "15",
         "M",
         "1st Cycle",
         "Married",
         "Meh...",
         "78",
         "59.1"
        ],
        [
         "20",
         "1995",
         "43392.0",
         "12",
         "4",
         "118",
         "5",
         "29",
         "16",
         "12",
         "38",
         "False",
         "57",
         "M",
         "1st Cycle",
         "Widow",
         "Meh...",
         "30",
         "67.26"
        ],
        [
         "21",
         "1982",
         "50518.0",
         "9",
         "42",
         "52",
         "22",
         "11",
         "51",
         "9",
         "7",
         "True",
         "57",
         "F",
         "Graduation",
         "Together",
         "OK nice!",
         "43",
         "29.64"
        ],
        [
         "22",
         "1981",
         "41238.0",
         "18",
         "59",
         "304",
         "67",
         "4",
         "23",
         "3",
         "4",
         "True",
         "60",
         "F",
         "Master",
         "Married",
         "Kind of OK",
         "44",
         "182.4"
        ],
        [
         "23",
         "1946",
         "104758.0",
         "33",
         "14",
         "1595",
         "35",
         "5",
         "39",
         "10",
         "11",
         "False",
         "12",
         "M",
         "2nd Cycle",
         "Married",
         "Take my money!!",
         "79",
         "191.4"
        ],
        [
         "24",
         "1971",
         "59583.0",
         "10",
         "99",
         "65",
         "70",
         "1",
         "26",
         "0",
         "3",
         "True",
         "66",
         "F",
         "Master",
         "Together",
         "Kind of OK",
         "54",
         "42.9"
        ],
        [
         "25",
         "1976",
         "33634.0",
         "10",
         "17",
         "41",
         "63",
         "3",
         "18",
         "9",
         "7",
         "True",
         "51",
         "M",
         "Graduation",
         "Married",
         "Kind of OK",
         "49",
         "20.91"
        ],
        [
         "26",
         "1961",
         "90708.0",
         "25",
         "61",
         "767",
         "76",
         "3",
         "15",
         "4",
         "3",
         "False",
         "52",
         "M",
         "2nd Cycle",
         "Married",
         "Kind of OK",
         "64",
         "398.84"
        ],
        [
         "27",
         "1986",
         "30957.0",
         "9",
         "100",
         "19",
         "77",
         "2",
         "17",
         "0",
         "4",
         "True",
         "64",
         "F",
         "Master",
         "Married",
         "Meh...",
         "39",
         "12.16"
        ],
        [
         "28",
         "1940",
         "119982.0",
         "37",
         "52",
         "1852",
         "20",
         "3",
         "48",
         "15",
         "14",
         "False",
         "13",
         "F",
         "2nd Cycle",
         "Widow",
         "Take my money!!",
         "85",
         "240.76"
        ],
        [
         "29",
         "1982",
         "54327.0",
         "8",
         "21",
         "47",
         "20",
         "14",
         "39",
         "16",
         "11",
         "True",
         "62",
         "M",
         "2nd Cycle",
         "Single",
         "Kind of OK",
         "43",
         "29.14"
        ],
        [
         "30",
         "1973",
         "65852.0",
         "10",
         "55",
         "63",
         "64",
         "1",
         "31",
         "2",
         "2",
         "True",
         "57",
         "M",
         "Graduation",
         "Single",
         "Kind of OK",
         "52",
         "35.91"
        ],
        [
         "31",
         "1967",
         "69713.0",
         "37",
         "64",
         "1340",
         "81",
         "1",
         "8",
         "4",
         "5",
         "True",
         "61",
         "M",
         "Graduation",
         "Divorced",
         "Take my money!!",
         "58",
         "817.4"
        ],
        [
         "32",
         "1955",
         "87449.0",
         "16",
         "87",
         "445",
         "53",
         "2",
         "37",
         "4",
         "3",
         "True",
         "38",
         "F",
         "PhD",
         "Single",
         "Kind of OK",
         "70",
         "169.1"
        ],
        [
         "33",
         "1976",
         "47584.0",
         "15",
         "94",
         "180",
         "41",
         "2",
         "50",
         "5",
         "1",
         "True",
         "53",
         "M",
         "1st Cycle",
         "Together",
         "Kind of OK",
         "49",
         "95.4"
        ],
        [
         "34",
         "1936",
         "109767.0",
         "41",
         "30",
         "2040",
         "46",
         "7",
         "37",
         "6",
         "4",
         "False",
         "14",
         "F",
         "1st Cycle",
         "Together",
         "OK nice!",
         "89",
         "285.6"
        ],
        [
         "35",
         "1996",
         "36143.0",
         "14",
         "65",
         "150",
         "6",
         "28",
         "27",
         "17",
         "22",
         "True",
         "60",
         "M",
         "1st Cycle",
         "Widow",
         "Meh...",
         "29",
         "90.0"
        ],
        [
         "36",
         "1979",
         "49108.0",
         "8",
         "80",
         "30",
         "57",
         "9",
         "24",
         "0",
         "10",
         "True",
         "48",
         "F",
         "Graduation",
         "Married",
         "OK nice!",
         "46",
         "14.4"
        ],
        [
         "37",
         "1996",
         "12808.0",
         "9",
         "93",
         "25",
         "6",
         "26",
         "15",
         "19",
         "33",
         "True",
         "62",
         "M",
         "1st Cycle",
         "Single",
         "OK nice!",
         "29",
         "15.5"
        ],
        [
         "38",
         "1958",
         "85333.0",
         "27",
         "13",
         "1019",
         "55",
         "7",
         "27",
         "9",
         "2",
         "True",
         "25",
         "M",
         "Graduation",
         "Married",
         "Take my money!!",
         "67",
         "254.75"
        ],
        [
         "40",
         "1959",
         "93132.0",
         "29",
         "81",
         "1277",
         "53",
         "13",
         "23",
         "9",
         "2",
         "False",
         "20",
         "F",
         "Graduation",
         "Together",
         "Take my money!!",
         "66",
         "255.4"
        ],
        [
         "41",
         "1955",
         "90841.0",
         "21",
         "56",
         "601",
         "62",
         "1",
         "32",
         "1",
         "3",
         "True",
         "41",
         "F",
         "PhD",
         "Married",
         "Kind of OK",
         "70",
         "246.41"
        ],
        [
         "42",
         "1979",
         "45434.0",
         "12",
         "14",
         "90",
         "52",
         "2",
         "36",
         "3",
         "7",
         "True",
         "59",
         "F",
         "2nd Cycle",
         "Married",
         "Meh...",
         "46",
         "53.1"
        ],
        [
         "43",
         "1954",
         "86313.0",
         "26",
         "31",
         "1018",
         "39",
         "7",
         "38",
         "4",
         "11",
         "False",
         "25",
         "M",
         "Graduation",
         "Married",
         "OK nice!",
         "71",
         "254.5"
        ],
        [
         "44",
         "1979",
         "36908.0",
         "6",
         "47",
         "25",
         "84",
         "1",
         "13",
         "1",
         "1",
         "True",
         "41",
         "F",
         "Graduation",
         "Together",
         "Kind of OK",
         "46",
         "10.25"
        ],
        [
         "45",
         "1986",
         "42773.0",
         "11",
         "2",
         "84",
         "71",
         "0",
         "27",
         "1",
         "1",
         "True",
         "52",
         "F",
         "Graduation",
         "Married",
         "Kind of OK",
         "39",
         "43.68"
        ],
        [
         "46",
         "1940",
         "113980.0",
         "38",
         "73",
         "1854",
         "34",
         "14",
         "33",
         "18",
         "1",
         "False",
         "17",
         "F",
         "1st Cycle",
         "Divorced",
         "Take my money!!",
         "85",
         "315.18"
        ],
        [
         "47",
         "1964",
         "80555.0",
         "15",
         "41",
         "298",
         "75",
         "2",
         "17",
         "2",
         "3",
         "True",
         "54",
         "M",
         "Graduation",
         "Married",
         "Kind of OK",
         "61",
         "160.92"
        ],
        [
         "48",
         "1965",
         "72287.0",
         "24",
         "53",
         "719",
         "40",
         "11",
         "20",
         "6",
         "22",
         "False",
         "44",
         "M",
         "2nd Cycle",
         "Single",
         "OK nice!",
         "60",
         "316.36"
        ],
        [
         "49",
         "1995",
         "25634.0",
         "13",
         "25",
         "46",
         "9",
         "30",
         "26",
         "2",
         "33",
         "True",
         "71",
         "F",
         "1st Cycle",
         "Married",
         "OK nice!",
         "30",
         "32.66"
        ],
        [
         "50",
         "1986",
         "52879.0",
         "18",
         "36",
         "263",
         "53",
         "5",
         "30",
         "6",
         "5",
         "True",
         "73",
         "M",
         "Graduation",
         "Together",
         "Kind of OK",
         "39",
         "191.99"
        ],
        [
         "51",
         "1986",
         "58656.0",
         "11",
         "99",
         "122",
         "12",
         "7",
         "50",
         "19",
         "12",
         "True",
         "55",
         "M",
         "2nd Cycle",
         "Single",
         "Kind of OK",
         "39",
         "67.1"
        ]
       ],
       "shape": {
        "columns": 18,
        "rows": 8603
       }
      },
      "text/html": [
       "<div>\n",
       "<style scoped>\n",
       "    .dataframe tbody tr th:only-of-type {\n",
       "        vertical-align: middle;\n",
       "    }\n",
       "\n",
       "    .dataframe tbody tr th {\n",
       "        vertical-align: top;\n",
       "    }\n",
       "\n",
       "    .dataframe thead th {\n",
       "        text-align: right;\n",
       "    }\n",
       "</style>\n",
       "<table border=\"1\" class=\"dataframe\">\n",
       "  <thead>\n",
       "    <tr style=\"text-align: right;\">\n",
       "      <th></th>\n",
       "      <th>YoB</th>\n",
       "      <th>income</th>\n",
       "      <th>frq</th>\n",
       "      <th>rcn</th>\n",
       "      <th>mnt</th>\n",
       "      <th>clothes</th>\n",
       "      <th>kitchen</th>\n",
       "      <th>small_appliances</th>\n",
       "      <th>toys</th>\n",
       "      <th>house_keeping</th>\n",
       "      <th>dependents</th>\n",
       "      <th>per_net_purchase</th>\n",
       "      <th>gender</th>\n",
       "      <th>education</th>\n",
       "      <th>status</th>\n",
       "      <th>description</th>\n",
       "      <th>age</th>\n",
       "      <th>spent_online</th>\n",
       "    </tr>\n",
       "  </thead>\n",
       "  <tbody>\n",
       "    <tr>\n",
       "      <th>0</th>\n",
       "      <td>1946</td>\n",
       "      <td>90782.0</td>\n",
       "      <td>33</td>\n",
       "      <td>66</td>\n",
       "      <td>1402</td>\n",
       "      <td>37</td>\n",
       "      <td>5</td>\n",
       "      <td>44</td>\n",
       "      <td>10</td>\n",
       "      <td>3</td>\n",
       "      <td>False</td>\n",
       "      <td>19</td>\n",
       "      <td>M</td>\n",
       "      <td>Graduation</td>\n",
       "      <td>Together</td>\n",
       "      <td>Take my money!!</td>\n",
       "      <td>79</td>\n",
       "      <td>266.38</td>\n",
       "    </tr>\n",
       "    <tr>\n",
       "      <th>1</th>\n",
       "      <td>1936</td>\n",
       "      <td>113023.0</td>\n",
       "      <td>32</td>\n",
       "      <td>6</td>\n",
       "      <td>1537</td>\n",
       "      <td>55</td>\n",
       "      <td>1</td>\n",
       "      <td>38</td>\n",
       "      <td>4</td>\n",
       "      <td>2</td>\n",
       "      <td>False</td>\n",
       "      <td>9</td>\n",
       "      <td>F</td>\n",
       "      <td>PhD</td>\n",
       "      <td>Divorced</td>\n",
       "      <td>Take my money!!</td>\n",
       "      <td>89</td>\n",
       "      <td>138.33</td>\n",
       "    </tr>\n",
       "    <tr>\n",
       "      <th>2</th>\n",
       "      <td>1990</td>\n",
       "      <td>28344.0</td>\n",
       "      <td>11</td>\n",
       "      <td>69</td>\n",
       "      <td>44</td>\n",
       "      <td>32</td>\n",
       "      <td>19</td>\n",
       "      <td>24</td>\n",
       "      <td>1</td>\n",
       "      <td>24</td>\n",
       "      <td>True</td>\n",
       "      <td>59</td>\n",
       "      <td>M</td>\n",
       "      <td>Graduation</td>\n",
       "      <td>Married</td>\n",
       "      <td>Kind of OK</td>\n",
       "      <td>35</td>\n",
       "      <td>25.96</td>\n",
       "    </tr>\n",
       "    <tr>\n",
       "      <th>3</th>\n",
       "      <td>1955</td>\n",
       "      <td>93571.0</td>\n",
       "      <td>26</td>\n",
       "      <td>10</td>\n",
       "      <td>888</td>\n",
       "      <td>60</td>\n",
       "      <td>10</td>\n",
       "      <td>19</td>\n",
       "      <td>6</td>\n",
       "      <td>5</td>\n",
       "      <td>True</td>\n",
       "      <td>35</td>\n",
       "      <td>F</td>\n",
       "      <td>Master</td>\n",
       "      <td>Married</td>\n",
       "      <td>OK nice!</td>\n",
       "      <td>70</td>\n",
       "      <td>310.80</td>\n",
       "    </tr>\n",
       "    <tr>\n",
       "      <th>4</th>\n",
       "      <td>1955</td>\n",
       "      <td>91852.0</td>\n",
       "      <td>31</td>\n",
       "      <td>26</td>\n",
       "      <td>1138</td>\n",
       "      <td>59</td>\n",
       "      <td>5</td>\n",
       "      <td>28</td>\n",
       "      <td>4</td>\n",
       "      <td>4</td>\n",
       "      <td>True</td>\n",
       "      <td>34</td>\n",
       "      <td>F</td>\n",
       "      <td>Graduation</td>\n",
       "      <td>Together</td>\n",
       "      <td>Take my money!!</td>\n",
       "      <td>70</td>\n",
       "      <td>386.92</td>\n",
       "    </tr>\n",
       "    <tr>\n",
       "      <th>...</th>\n",
       "      <td>...</td>\n",
       "      <td>...</td>\n",
       "      <td>...</td>\n",
       "      <td>...</td>\n",
       "      <td>...</td>\n",
       "      <td>...</td>\n",
       "      <td>...</td>\n",
       "      <td>...</td>\n",
       "      <td>...</td>\n",
       "      <td>...</td>\n",
       "      <td>...</td>\n",
       "      <td>...</td>\n",
       "      <td>...</td>\n",
       "      <td>...</td>\n",
       "      <td>...</td>\n",
       "      <td>...</td>\n",
       "      <td>...</td>\n",
       "      <td>...</td>\n",
       "    </tr>\n",
       "    <tr>\n",
       "      <th>8992</th>\n",
       "      <td>1954</td>\n",
       "      <td>87399.0</td>\n",
       "      <td>25</td>\n",
       "      <td>1</td>\n",
       "      <td>837</td>\n",
       "      <td>56</td>\n",
       "      <td>8</td>\n",
       "      <td>27</td>\n",
       "      <td>8</td>\n",
       "      <td>1</td>\n",
       "      <td>True</td>\n",
       "      <td>47</td>\n",
       "      <td>M</td>\n",
       "      <td>Graduation</td>\n",
       "      <td>Married</td>\n",
       "      <td>Kind of OK</td>\n",
       "      <td>71</td>\n",
       "      <td>393.39</td>\n",
       "    </tr>\n",
       "    <tr>\n",
       "      <th>8993</th>\n",
       "      <td>1960</td>\n",
       "      <td>94367.0</td>\n",
       "      <td>28</td>\n",
       "      <td>1</td>\n",
       "      <td>896</td>\n",
       "      <td>68</td>\n",
       "      <td>5</td>\n",
       "      <td>21</td>\n",
       "      <td>3</td>\n",
       "      <td>4</td>\n",
       "      <td>True</td>\n",
       "      <td>55</td>\n",
       "      <td>F</td>\n",
       "      <td>1st Cycle</td>\n",
       "      <td>Single</td>\n",
       "      <td>Take my money!!</td>\n",
       "      <td>65</td>\n",
       "      <td>492.80</td>\n",
       "    </tr>\n",
       "    <tr>\n",
       "      <th>8994</th>\n",
       "      <td>1975</td>\n",
       "      <td>58121.0</td>\n",
       "      <td>12</td>\n",
       "      <td>6</td>\n",
       "      <td>61</td>\n",
       "      <td>53</td>\n",
       "      <td>6</td>\n",
       "      <td>28</td>\n",
       "      <td>7</td>\n",
       "      <td>6</td>\n",
       "      <td>True</td>\n",
       "      <td>71</td>\n",
       "      <td>M</td>\n",
       "      <td>2nd Cycle</td>\n",
       "      <td>Single</td>\n",
       "      <td>Meh...</td>\n",
       "      <td>50</td>\n",
       "      <td>43.31</td>\n",
       "    </tr>\n",
       "    <tr>\n",
       "      <th>8995</th>\n",
       "      <td>1986</td>\n",
       "      <td>54292.0</td>\n",
       "      <td>29</td>\n",
       "      <td>72</td>\n",
       "      <td>1011</td>\n",
       "      <td>41</td>\n",
       "      <td>11</td>\n",
       "      <td>36</td>\n",
       "      <td>1</td>\n",
       "      <td>11</td>\n",
       "      <td>False</td>\n",
       "      <td>31</td>\n",
       "      <td>M</td>\n",
       "      <td>Graduation</td>\n",
       "      <td>Together</td>\n",
       "      <td>Take my money!!</td>\n",
       "      <td>39</td>\n",
       "      <td>313.41</td>\n",
       "    </tr>\n",
       "    <tr>\n",
       "      <th>8996</th>\n",
       "      <td>1938</td>\n",
       "      <td>125962.0</td>\n",
       "      <td>38</td>\n",
       "      <td>75</td>\n",
       "      <td>1668</td>\n",
       "      <td>61</td>\n",
       "      <td>2</td>\n",
       "      <td>25</td>\n",
       "      <td>5</td>\n",
       "      <td>6</td>\n",
       "      <td>True</td>\n",
       "      <td>45</td>\n",
       "      <td>M</td>\n",
       "      <td>2nd Cycle</td>\n",
       "      <td>Married</td>\n",
       "      <td>Take my money!!</td>\n",
       "      <td>87</td>\n",
       "      <td>750.60</td>\n",
       "    </tr>\n",
       "  </tbody>\n",
       "</table>\n",
       "<p>8603 rows × 18 columns</p>\n",
       "</div>"
      ],
      "text/plain": [
       "       YoB    income  frq  rcn   mnt  clothes  kitchen  small_appliances  \\\n",
       "0     1946   90782.0   33   66  1402       37        5                44   \n",
       "1     1936  113023.0   32    6  1537       55        1                38   \n",
       "2     1990   28344.0   11   69    44       32       19                24   \n",
       "3     1955   93571.0   26   10   888       60       10                19   \n",
       "4     1955   91852.0   31   26  1138       59        5                28   \n",
       "...    ...       ...  ...  ...   ...      ...      ...               ...   \n",
       "8992  1954   87399.0   25    1   837       56        8                27   \n",
       "8993  1960   94367.0   28    1   896       68        5                21   \n",
       "8994  1975   58121.0   12    6    61       53        6                28   \n",
       "8995  1986   54292.0   29   72  1011       41       11                36   \n",
       "8996  1938  125962.0   38   75  1668       61        2                25   \n",
       "\n",
       "      toys  house_keeping  dependents  per_net_purchase gender   education  \\\n",
       "0       10              3       False                19      M  Graduation   \n",
       "1        4              2       False                 9      F         PhD   \n",
       "2        1             24        True                59      M  Graduation   \n",
       "3        6              5        True                35      F      Master   \n",
       "4        4              4        True                34      F  Graduation   \n",
       "...    ...            ...         ...               ...    ...         ...   \n",
       "8992     8              1        True                47      M  Graduation   \n",
       "8993     3              4        True                55      F   1st Cycle   \n",
       "8994     7              6        True                71      M   2nd Cycle   \n",
       "8995     1             11       False                31      M  Graduation   \n",
       "8996     5              6        True                45      M   2nd Cycle   \n",
       "\n",
       "        status      description  age  spent_online  \n",
       "0     Together  Take my money!!   79        266.38  \n",
       "1     Divorced  Take my money!!   89        138.33  \n",
       "2      Married       Kind of OK   35         25.96  \n",
       "3      Married         OK nice!   70        310.80  \n",
       "4     Together  Take my money!!   70        386.92  \n",
       "...        ...              ...  ...           ...  \n",
       "8992   Married       Kind of OK   71        393.39  \n",
       "8993    Single  Take my money!!   65        492.80  \n",
       "8994    Single           Meh...   50         43.31  \n",
       "8995  Together  Take my money!!   39        313.41  \n",
       "8996   Married  Take my money!!   87        750.60  \n",
       "\n",
       "[8603 rows x 18 columns]"
      ]
     },
     "execution_count": 502,
     "metadata": {},
     "output_type": "execute_result"
    }
   ],
   "source": [
    "df['spent_online'] = df['mnt'] * df['per_net_purchase'] / 100\n",
    "df"
   ]
  },
  {
   "cell_type": "code",
   "execution_count": 503,
   "metadata": {},
   "outputs": [],
   "source": [
    "# ONLY RUN THIS CELL ONCE \n",
    "\n",
    "metric_features.append('spent_online')\n",
    "metric_features.append('YoB')"
   ]
  },
  {
   "cell_type": "markdown",
   "metadata": {},
   "source": [
    "# Variable selection: Redundancy VS Relevancy"
   ]
  },
  {
   "cell_type": "markdown",
   "metadata": {},
   "source": [
    "### Redundancy: Handling highly correlated variables\n",
    "\n",
    "We already saw our original correlation matrix:\n",
    "\n",
    "![](https://raw.githubusercontent.com/fpontejos/Data-Mining-24-25/refs/heads/main/figures/eda/correlation_matrix.png)\n"
   ]
  },
  {
   "cell_type": "code",
   "execution_count": 504,
   "metadata": {},
   "outputs": [
    {
     "data": {
      "image/png": "[encoded data removed]",
      "text/plain": [
       "<Figure size 1200x800 with 2 Axes>"
      ]
     },
     "metadata": {
      "image/png": {
       "height": 778,
       "width": 901
      }
     },
     "output_type": "display_data"
    }
   ],
   "source": [
    "plt.figure(figsize=(12,8))\n",
    "corr = df[metric_features].corr()\n",
    "corr = corr.round(2)\n",
    "\n",
    "sns.heatmap(\n",
    "    corr,\n",
    "    center = 0,\n",
    "    cmap='PiYG',\n",
    "    annot=np.where(np.absolute(corr) >= 0.9, corr.values, np.full(corr.values.shape, \"\")),\n",
    "    fmt='s',\n",
    "    square=True,\n",
    "    linewidths=.5,\n",
    ")\n",
    "plt.show()"
   ]
  },
  {
   "cell_type": "markdown",
   "metadata": {},
   "source": [
    "### Exercise 7:  Modify the list `metric_features` to exclude redundant features "
   ]
  },
  {
   "cell_type": "code",
   "execution_count": 505,
   "metadata": {},
   "outputs": [],
   "source": [
    "# Select variables according to their correlations\n",
    "# Updating metric_features\n",
    "## RUN THIS CELL ONLY ONCE!!!!\n",
    "\n",
    "# CODE HERE\n",
    "# metric_features.remove()\n",
    "\n",
    "\n",
    "metric_features.remove('age')\n",
    "metric_features.remove('mnt')\n",
    "metric_features.remove('YoB')\n"
   ]
  },
  {
   "cell_type": "code",
   "execution_count": 506,
   "metadata": {},
   "outputs": [
    {
     "data": {
      "text/plain": [
       "['income',\n",
       " 'frq',\n",
       " 'rcn',\n",
       " 'clothes',\n",
       " 'kitchen',\n",
       " 'small_appliances',\n",
       " 'toys',\n",
       " 'house_keeping',\n",
       " 'per_net_purchase',\n",
       " 'spent_online']"
      ]
     },
     "execution_count": 506,
     "metadata": {},
     "output_type": "execute_result"
    }
   ],
   "source": [
    "metric_features"
   ]
  },
  {
   "cell_type": "code",
   "execution_count": 507,
   "metadata": {},
   "outputs": [],
   "source": [
    "# You can also drop the features from the df\n",
    "# But sometimes they may be useful for cluster profiling later\n",
    "\n",
    "# df.drop(..., inplace=True)\n"
   ]
  },
  {
   "cell_type": "markdown",
   "metadata": {
    "jp-MarkdownHeadingCollapsed": true
   },
   "source": [
    "### Relevancy\n",
    "Selecting variables based on the relevancy of each one to the task. \n",
    "\n",
    "Example: \n",
    "- remove uncorrelated variables with the target,\n",
    "- stepwise regression,\n",
    "- use variables for product clustering,\n",
    "- use variables for socio-demographic clustering,\n",
    "- ...\n",
    "\n",
    "Variables that aren't correlated with any other variable are often also not relevant. In this case we will not focus on this a lot since we don't have a defined task yet."
   ]
  },
  {
   "cell_type": "markdown",
   "metadata": {},
   "source": [
    "# Redo data exploration\n",
    "\n",
    "Check if the data looks the way you expect it to. \n",
    "\n",
    "- Have you missed some outliers? \n",
    "- Are there still missing values?\n",
    "- Is the data normalized?\n",
    "\n",
    "This is an iterative process. It is likely you will change your preprocessing steps frequently throughout your group work."
   ]
  },
  {
   "cell_type": "markdown",
   "metadata": {},
   "source": [
    "#### A tool to assist you through your exploratory data analysis\n",
    "\n",
    "Optionally, you may use `pandas-profiling` in your data analysis. \n",
    "\n",
    "Remember, although this tool provides excelent insights about the data you're working with, it is not enough to perform a proper analysis."
   ]
  },
  {
   "cell_type": "code",
   "execution_count": 508,
   "metadata": {},
   "outputs": [],
   "source": [
    "# ProfileReport(\n",
    "#     df,\n",
    "#     title='Tugas Customer Data Preprocessed',\n",
    "#     correlations={\n",
    "#         \"pearson\": {\"calculate\": True},\n",
    "#         \"spearman\": {\"calculate\": False},\n",
    "#         \"kendall\": {\"calculate\": False},\n",
    "#         \"phi_k\": {\"calculate\": False},\n",
    "#         \"cramers\": {\"calculate\": False},\n",
    "#     },\n",
    "# )"
   ]
  }
 ],
 "metadata": {
  "kernelspec": {
   "display_name": "Fall2526",
   "language": "python",
   "name": "python3"
  },
  "language_info": {
   "codemirror_mode": {
    "name": "ipython",
    "version": 3
   },
   "file_extension": ".py",
   "mimetype": "text/x-python",
   "name": "python",
   "nbconvert_exporter": "python",
   "pygments_lexer": "ipython3",
   "version": "3.12.9"
  },
  "widgets": {
   "application/vnd.jupyter.widget-state+json": {
    "state": {},
    "version_major": 2,
    "version_minor": 0
   }
  }
 },
 "nbformat": 4,
 "nbformat_minor": 4
}
