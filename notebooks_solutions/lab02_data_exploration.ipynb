{
 "cells": [
  {
   "cell_type": "markdown",
   "metadata": {},
   "source": [
    "# Lab 02: Data Exploration"
   ]
  },
  {
   "cell_type": "markdown",
   "metadata": {},
   "source": [
    "Summary:\n",
    "\n",
    "1. Data Exploration and initial analysis:\n",
    "    - Loading the data.\n",
    "    - Inspecting data shape, column names, and data types, variable types.\n",
    "    - Viewing basic descriptive statistics and unique values.\n",
    "    - Subsetting data by rows and columns, and conditional selection.\n",
    "\n",
    "2. Data Quality Checks:\n",
    "    - Identifying **missing values**.\n",
    "    - Checking and correcting **data types**.\n",
    "    - Detecting and handling **duplicate records**.\n",
    "\n",
    "4. Data Aggregation and Operations:\n",
    "    - Summing and aggregating data by columns and rows.\n",
    "    - Discussing the appropriateness of different operations.\n",
    "\n",
    "5. Visual Exploration:\n",
    "    - Plotting univariate distributions (histograms and box plots) for numeric variables.\n",
    "    - Using matplotlib and seaborn for data visualization.\n",
    "\n",
    "7. Optional Exercise:\n",
    "    - Applying the same analysis steps to the project dataset."
   ]
  },
  {
   "cell_type": "code",
   "execution_count": 1,
   "metadata": {},
   "outputs": [],
   "source": [
    "# Remember: library imports are ALWAYS at the top of the script, no exceptions!\n",
    "import sqlite3\n",
    "import os\n",
    "import pandas as pd\n",
    "import numpy as np\n",
    "import matplotlib.pyplot as plt\n",
    "import seaborn as sns\n",
    "from math import ceil\n",
    "\n",
    "# for better resolution plots\n",
    "%config InlineBackend.figure_format = 'retina' # optionally, you can change 'svg' to 'retina'\n",
    "\n",
    "# Setting seaborn style\n",
    "sns.set()"
   ]
  },
  {
   "cell_type": "markdown",
   "metadata": {},
   "source": [
    "# Context\n",
    "The data we will be using through the pratical classes comes from a small relational database whose schema can be seen below:\n",
    "![alt text](../figures/schema.png \"Relation database schema\")"
   ]
  },
  {
   "cell_type": "markdown",
   "metadata": {},
   "source": [
    "# Reading the Data"
   ]
  },
  {
   "cell_type": "code",
   "execution_count": 2,
   "metadata": {},
   "outputs": [],
   "source": [
    "# path to database\n",
    "my_path = os.path.join(\"..\", \"data\", \"datamining.db\")\n",
    "\n",
    "# connect to the database\n",
    "conn = sqlite3.connect(my_path)\n",
    "\n",
    "# the query\n",
    "query = \"\"\"\n",
    "select\n",
    "    age, \n",
    "    income, \n",
    "    frq, \n",
    "    rcn, \n",
    "    mnt, \n",
    "    clothes, \n",
    "    kitchen, \n",
    "    small_appliances, \n",
    "    toys, \n",
    "    house_keeping,\n",
    "    dependents, \n",
    "    per_net_purchase,\n",
    "    g.gender, \n",
    "    e.education, \n",
    "    m.status, \n",
    "    r.description\n",
    "from customers as c\n",
    "    join genders as g on g.id = c.gender_id\n",
    "    join education_levels as e on e.id = c.education_id\n",
    "    join marital_status as m on m.id = c.marital_status_id\n",
    "    join recommendations as r on r.id = c.recommendation_id\n",
    "order by c.id;\n",
    "\"\"\"\n",
    "\n",
    "df = pd.read_sql_query(query, conn)"
   ]
  },
  {
   "cell_type": "markdown",
   "metadata": {},
   "source": [
    "# Metadata\n",
    "- *id* - The unique identifier of the customer\n",
    "- *age* - The year of birht of the customer\n",
    "- *income* - The income of the customer\n",
    "- *frq* - Frequency: number of purchases made by the customer\n",
    "- *rcn* - Recency: number of days since last customer purchase\n",
    "- *mnt* - Monetary: amount of € spent by the customer in purchases\n",
    "- *clothes* - Number of clothes items purchased by the customer\n",
    "- *kitchen* - Number of kitchen items purchased by the customer\n",
    "- *small_appliances* - Number of small_appliances items purchased by the customer\n",
    "- *toys* - Number of toys items purchased by the customer\n",
    "- *house_keeping* - Number of house_keeping items purchased by the customer\n",
    "- *dependents* - Binary. Whether or not the customer has dependents\n",
    "- *per_net_purchase* - Percentage of purchases made online\n",
    "- *education* - Education level of the customer\n",
    "- *status* - Marital status of the customer\n",
    "- *gender* - Gender of the customer\n",
    "- *description* - Last customer's recommendation description"
   ]
  },
  {
   "cell_type": "markdown",
   "metadata": {},
   "source": [
    "# Initial Analysis\n",
    "\n",
    "Pandas user guide: https://pandas.pydata.org/pandas-docs/stable/user_guide/index.html\n",
    "\n",
    "Pandas 10 min tutorial: https://pandas.pydata.org/pandas-docs/stable/user_guide/10min.html"
   ]
  },
  {
   "cell_type": "code",
   "execution_count": 3,
   "metadata": {},
   "outputs": [
    {
     "data": {
      "application/vnd.microsoft.datawrangler.viewer.v0+json": {
       "columns": [
        {
         "name": "index",
         "rawType": "int64",
         "type": "integer"
        },
        {
         "name": "age",
         "rawType": "int64",
         "type": "integer"
        },
        {
         "name": "income",
         "rawType": "object",
         "type": "unknown"
        },
        {
         "name": "frq",
         "rawType": "int64",
         "type": "integer"
        },
        {
         "name": "rcn",
         "rawType": "int64",
         "type": "integer"
        },
        {
         "name": "mnt",
         "rawType": "int64",
         "type": "integer"
        },
        {
         "name": "clothes",
         "rawType": "int64",
         "type": "integer"
        },
        {
         "name": "kitchen",
         "rawType": "int64",
         "type": "integer"
        },
        {
         "name": "small_appliances",
         "rawType": "int64",
         "type": "integer"
        },
        {
         "name": "toys",
         "rawType": "int64",
         "type": "integer"
        },
        {
         "name": "house_keeping",
         "rawType": "int64",
         "type": "integer"
        },
        {
         "name": "dependents",
         "rawType": "object",
         "type": "unknown"
        },
        {
         "name": "per_net_purchase",
         "rawType": "int64",
         "type": "integer"
        },
        {
         "name": "gender",
         "rawType": "object",
         "type": "string"
        },
        {
         "name": "education",
         "rawType": "object",
         "type": "string"
        },
        {
         "name": "status",
         "rawType": "object",
         "type": "string"
        },
        {
         "name": "description",
         "rawType": "object",
         "type": "string"
        }
       ],
       "ref": "d62e9594-6bcd-42de-8e59-944e0bdcd0ea",
       "rows": [
        [
         "0",
         "1946",
         "90782",
         "33",
         "66",
         "1402",
         "37",
         "5",
         "44",
         "10",
         "3",
         "0",
         "19",
         "M",
         "Graduation",
         "Together",
         "Take my money!!"
        ],
        [
         "1",
         "1936",
         "113023",
         "32",
         "6",
         "1537",
         "55",
         "1",
         "38",
         "4",
         "2",
         "0",
         "9",
         "F",
         "PhD",
         "Divorced",
         "Take my money!!"
        ],
        [
         "2",
         "1990",
         "28344",
         "11",
         "69",
         "44",
         "32",
         "19",
         "24",
         "1",
         "24",
         "1",
         "59",
         "M",
         "Graduation",
         "Married",
         "Kind of OK"
        ],
        [
         "3",
         "1955",
         "93571",
         "26",
         "10",
         "888",
         "60",
         "10",
         "19",
         "6",
         "5",
         "1",
         "35",
         "F",
         "Master",
         "",
         "OK nice!"
        ],
        [
         "4",
         "1955",
         "91852",
         "31",
         "26",
         "1138",
         "59",
         "5",
         "28",
         "4",
         "4",
         "1",
         "34",
         "F",
         "Graduation",
         "Together",
         "Take my money!!"
        ],
        [
         "5",
         "1982",
         "22386",
         "14",
         "65",
         "56",
         "47",
         "2",
         "48",
         "2",
         "1",
         "1",
         "67",
         "M",
         "PhD",
         "Single",
         "OK nice!"
        ],
        [
         "6",
         "1969",
         "69485",
         "18",
         "73",
         "345",
         "71",
         "7",
         "13",
         "1",
         "8",
         "1",
         "46",
         "M",
         "Graduation",
         "Together",
         "OK nice!"
        ],
        [
         "7",
         "1960",
         "68602",
         "5",
         "44",
         "41",
         "84",
         "1",
         "12",
         "2",
         "0",
         "1",
         "37",
         "M",
         "Graduation",
         "Together",
         "Horrible"
        ],
        [
         "8",
         "1940",
         "109499",
         "30",
         "75",
         "1401",
         "38",
         "9",
         "35",
         "9",
         "9",
         "0",
         "17",
         "M",
         "Graduation",
         "Divorced",
         "OK nice!"
        ],
        [
         "9",
         "1994",
         "23846",
         "8",
         "153",
         "19",
         "18",
         "55",
         "17",
         "10",
         "1",
         "1",
         "39",
         "F",
         "1st Cycle",
         "Together",
         "Meh..."
        ],
        [
         "10",
         "1949",
         "97492",
         "20",
         "93",
         "774",
         "37",
         "16",
         "33",
         "9",
         "5",
         "0",
         "15",
         "M",
         "Master",
         "Single",
         "OK nice!"
        ],
        [
         "11",
         "1957",
         "75436",
         "17",
         "32",
         "491",
         "60",
         "4",
         "33",
         "2",
         "1",
         "1",
         "29",
         "M",
         "Graduation",
         "Together",
         "OK nice!"
        ],
        [
         "12",
         "1954",
         "95586",
         "32",
         "54",
         "1407",
         "27",
         "3",
         "39",
         "20",
         "11",
         "0",
         "23",
         "F",
         "2nd Cycle",
         "Widow",
         "Take my money!!"
        ],
        [
         "13",
         "1979",
         "57997",
         "10",
         "28",
         "81",
         "77",
         "0",
         "21",
         "1",
         "0",
         "1",
         "52",
         "M",
         "Graduation",
         "Married",
         "Meh..."
        ],
        [
         "14",
         "1982",
         "50289",
         "10",
         "231",
         "20",
         "46",
         "0",
         "33",
         "16",
         "5",
         "1",
         "70",
         "M",
         "PhD",
         "Together",
         "Meh..."
        ],
        [
         "15",
         "1992",
         "20043",
         "5",
         "37",
         "16",
         "6",
         "28",
         "35",
         "28",
         "3",
         "0",
         "51",
         "M",
         "Graduation",
         "Single",
         "Kind of OK"
        ],
        [
         "16",
         "1938",
         "112765",
         "44",
         "72",
         "2039",
         "19",
         "1",
         "35",
         "14",
         "31",
         "0",
         "23",
         "M",
         "2nd Cycle",
         "Together",
         "OK nice!"
        ],
        [
         "17",
         "1990",
         "26141",
         "8",
         "52",
         "36",
         "19",
         "17",
         "28",
         "23",
         "12",
         "0",
         "50",
         "M",
         "Graduation",
         "Together",
         "Meh..."
        ],
        [
         "18",
         "1988",
         "40944",
         "10",
         "67",
         "52",
         "30",
         "12",
         "46",
         "9",
         "3",
         "1",
         "60",
         "M",
         "2nd Cycle",
         "Together",
         "Meh..."
        ],
        [
         "19",
         "1947",
         "89755",
         "13",
         "44",
         "394",
         "12",
         "4",
         "14",
         "34",
         "36",
         "0",
         "15",
         "M",
         "1st Cycle",
         "Married",
         "Meh..."
        ],
        [
         "20",
         "1995",
         "43392",
         "12",
         "4",
         "118",
         "5",
         "29",
         "16",
         "12",
         "38",
         "0",
         "57",
         "M",
         "1st Cycle",
         "Widow",
         "Meh..."
        ],
        [
         "21",
         "1982",
         "50518",
         "9",
         "42",
         "52",
         "22",
         "11",
         "51",
         "9",
         "7",
         "1",
         "57",
         "F",
         "Graduation",
         "Together",
         "OK nice!"
        ],
        [
         "22",
         "1981",
         "41238",
         "18",
         "59",
         "304",
         "67",
         "4",
         "23",
         "3",
         "4",
         "1",
         "60",
         "F",
         "Master",
         "Married",
         "Kind of OK"
        ],
        [
         "23",
         "1946",
         "104758",
         "33",
         "14",
         "1595",
         "35",
         "5",
         "39",
         "10",
         "11",
         "0",
         "12",
         "M",
         "2nd Cycle",
         "Married",
         "Take my money!!"
        ],
        [
         "24",
         "1971",
         "59583",
         "10",
         "99",
         "65",
         "70",
         "1",
         "26",
         "0",
         "3",
         "1",
         "66",
         "F",
         "Master",
         "Together",
         "Kind of OK"
        ],
        [
         "25",
         "1976",
         "33634",
         "10",
         "17",
         "41",
         "63",
         "3",
         "18",
         "9",
         "7",
         "1",
         "51",
         "M",
         "Graduation",
         "Married",
         "Kind of OK"
        ],
        [
         "26",
         "1961",
         "90708",
         "25",
         "61",
         "767",
         "76",
         "3",
         "15",
         "4",
         "3",
         "0",
         "52",
         "M",
         "2nd Cycle",
         "Married",
         "Kind of OK"
        ],
        [
         "27",
         "1986",
         "30957",
         "9",
         "156",
         "19",
         "77",
         "2",
         "17",
         "0",
         "4",
         "1",
         "64",
         "F",
         "Master",
         "Married",
         "Meh..."
        ],
        [
         "28",
         "1940",
         "119982",
         "37",
         "52",
         "1852",
         "20",
         "3",
         "48",
         "15",
         "14",
         "0",
         "13",
         "F",
         "2nd Cycle",
         "Widow",
         "Take my money!!"
        ],
        [
         "29",
         "1982",
         "54327",
         "8",
         "21",
         "47",
         "20",
         "14",
         "39",
         "16",
         "11",
         "1",
         "62",
         "M",
         "2nd Cycle",
         "Single",
         "Kind of OK"
        ],
        [
         "30",
         "1973",
         "65852",
         "10",
         "55",
         "63",
         "64",
         "1",
         "31",
         "2",
         "2",
         "1",
         "57",
         "M",
         "Graduation",
         "Single",
         "Kind of OK"
        ],
        [
         "31",
         "1967",
         "69713",
         "37",
         "64",
         "1340",
         "81",
         "1",
         "8",
         "4",
         "5",
         "1",
         "61",
         "M",
         "Graduation",
         "Divorced",
         "Take my money!!"
        ],
        [
         "32",
         "1955",
         "87449",
         "16",
         "87",
         "445",
         "53",
         "2",
         "37",
         "4",
         "3",
         "1",
         "38",
         "F",
         "PhD",
         "Single",
         "Kind of OK"
        ],
        [
         "33",
         "1976",
         "47584",
         "15",
         "94",
         "180",
         "41",
         "2",
         "50",
         "5",
         "1",
         "1",
         "53",
         "M",
         "1st Cycle",
         "Together",
         "Kind of OK"
        ],
        [
         "34",
         "1936",
         "109767",
         "41",
         "30",
         "2040",
         "46",
         "7",
         "37",
         "6",
         "4",
         "0",
         "14",
         "F",
         "1st Cycle",
         "Together",
         "OK nice!"
        ],
        [
         "35",
         "1996",
         "36143",
         "14",
         "65",
         "150",
         "6",
         "28",
         "27",
         "17",
         "22",
         "1",
         "60",
         "M",
         "1st Cycle",
         "Widow",
         "Meh..."
        ],
        [
         "36",
         "1979",
         "49108",
         "8",
         "80",
         "30",
         "57",
         "9",
         "24",
         "0",
         "10",
         "1",
         "48",
         "F",
         "Graduation",
         "Married",
         "OK nice!"
        ],
        [
         "37",
         "1996",
         "12808",
         "9",
         "93",
         "25",
         "6",
         "26",
         "15",
         "19",
         "33",
         "1",
         "62",
         "M",
         "1st Cycle",
         "Single",
         "OK nice!"
        ],
        [
         "38",
         "1958",
         "85333",
         "27",
         "13",
         "1019",
         "55",
         "7",
         "27",
         "9",
         "2",
         "1",
         "25",
         "M",
         "Graduation",
         "Married",
         "Take my money!!"
        ],
        [
         "39",
         "1995",
         "33176",
         "8",
         "52",
         "40",
         "4",
         "12",
         "27",
         "57",
         "0",
         "1",
         "43",
         "M",
         "1st Cycle",
         "Married",
         "Kind of OK"
        ],
        [
         "40",
         "1959",
         "93132",
         "29",
         "81",
         "1277",
         "53",
         "13",
         "23",
         "9",
         "2",
         "0",
         "20",
         "F",
         "Graduation",
         "Together",
         "Take my money!!"
        ],
        [
         "41",
         "1955",
         "90841",
         "21",
         "56",
         "601",
         "62",
         "1",
         "32",
         "1",
         "3",
         "1",
         "41",
         "F",
         "PhD",
         "Married",
         "Kind of OK"
        ],
        [
         "42",
         "1979",
         "45434",
         "12",
         "14",
         "90",
         "52",
         "2",
         "36",
         "3",
         "7",
         "1",
         "59",
         "F",
         "2nd Cycle",
         "Married",
         "Meh..."
        ],
        [
         "43",
         "1954",
         "86313",
         "26",
         "31",
         "1018",
         "39",
         "7",
         "38",
         "4",
         "11",
         "0",
         "25",
         "M",
         "Graduation",
         "Married",
         "OK nice!"
        ],
        [
         "44",
         "1979",
         "36908",
         "6",
         "47",
         "25",
         "84",
         "1",
         "13",
         "1",
         "1",
         "1",
         "41",
         "F",
         "Graduation",
         "Together",
         "Kind of OK"
        ],
        [
         "45",
         "1986",
         "42773",
         "11",
         "2",
         "84",
         "71",
         "0",
         "27",
         "1",
         "1",
         "1",
         "52",
         "F",
         "Graduation",
         "Married",
         "Kind of OK"
        ],
        [
         "46",
         "1940",
         "113980",
         "38",
         "73",
         "1854",
         "34",
         "14",
         "33",
         "18",
         "1",
         "0",
         "17",
         "F",
         "1st Cycle",
         "Divorced",
         "Take my money!!"
        ],
        [
         "47",
         "1964",
         "80555",
         "15",
         "41",
         "298",
         "75",
         "2",
         "17",
         "2",
         "3",
         "1",
         "54",
         "M",
         "Graduation",
         "Married",
         "Kind of OK"
        ],
        [
         "48",
         "1965",
         "72287",
         "24",
         "53",
         "719",
         "40",
         "11",
         "20",
         "6",
         "22",
         "0",
         "44",
         "M",
         "2nd Cycle",
         "Single",
         "OK nice!"
        ],
        [
         "49",
         "1995",
         "25634",
         "13",
         "25",
         "46",
         "9",
         "30",
         "26",
         "2",
         "33",
         "1",
         "71",
         "F",
         "1st Cycle",
         "Married",
         "OK nice!"
        ]
       ],
       "shape": {
        "columns": 16,
        "rows": 8998
       }
      },
      "text/html": [
       "<div>\n",
       "<style scoped>\n",
       "    .dataframe tbody tr th:only-of-type {\n",
       "        vertical-align: middle;\n",
       "    }\n",
       "\n",
       "    .dataframe tbody tr th {\n",
       "        vertical-align: top;\n",
       "    }\n",
       "\n",
       "    .dataframe thead th {\n",
       "        text-align: right;\n",
       "    }\n",
       "</style>\n",
       "<table border=\"1\" class=\"dataframe\">\n",
       "  <thead>\n",
       "    <tr style=\"text-align: right;\">\n",
       "      <th></th>\n",
       "      <th>age</th>\n",
       "      <th>income</th>\n",
       "      <th>frq</th>\n",
       "      <th>rcn</th>\n",
       "      <th>mnt</th>\n",
       "      <th>clothes</th>\n",
       "      <th>kitchen</th>\n",
       "      <th>small_appliances</th>\n",
       "      <th>toys</th>\n",
       "      <th>house_keeping</th>\n",
       "      <th>dependents</th>\n",
       "      <th>per_net_purchase</th>\n",
       "      <th>gender</th>\n",
       "      <th>education</th>\n",
       "      <th>status</th>\n",
       "      <th>description</th>\n",
       "    </tr>\n",
       "  </thead>\n",
       "  <tbody>\n",
       "    <tr>\n",
       "      <th>0</th>\n",
       "      <td>1946</td>\n",
       "      <td>90782</td>\n",
       "      <td>33</td>\n",
       "      <td>66</td>\n",
       "      <td>1402</td>\n",
       "      <td>37</td>\n",
       "      <td>5</td>\n",
       "      <td>44</td>\n",
       "      <td>10</td>\n",
       "      <td>3</td>\n",
       "      <td>0</td>\n",
       "      <td>19</td>\n",
       "      <td>M</td>\n",
       "      <td>Graduation</td>\n",
       "      <td>Together</td>\n",
       "      <td>Take my money!!</td>\n",
       "    </tr>\n",
       "    <tr>\n",
       "      <th>1</th>\n",
       "      <td>1936</td>\n",
       "      <td>113023</td>\n",
       "      <td>32</td>\n",
       "      <td>6</td>\n",
       "      <td>1537</td>\n",
       "      <td>55</td>\n",
       "      <td>1</td>\n",
       "      <td>38</td>\n",
       "      <td>4</td>\n",
       "      <td>2</td>\n",
       "      <td>0</td>\n",
       "      <td>9</td>\n",
       "      <td>F</td>\n",
       "      <td>PhD</td>\n",
       "      <td>Divorced</td>\n",
       "      <td>Take my money!!</td>\n",
       "    </tr>\n",
       "    <tr>\n",
       "      <th>2</th>\n",
       "      <td>1990</td>\n",
       "      <td>28344</td>\n",
       "      <td>11</td>\n",
       "      <td>69</td>\n",
       "      <td>44</td>\n",
       "      <td>32</td>\n",
       "      <td>19</td>\n",
       "      <td>24</td>\n",
       "      <td>1</td>\n",
       "      <td>24</td>\n",
       "      <td>1</td>\n",
       "      <td>59</td>\n",
       "      <td>M</td>\n",
       "      <td>Graduation</td>\n",
       "      <td>Married</td>\n",
       "      <td>Kind of OK</td>\n",
       "    </tr>\n",
       "    <tr>\n",
       "      <th>3</th>\n",
       "      <td>1955</td>\n",
       "      <td>93571</td>\n",
       "      <td>26</td>\n",
       "      <td>10</td>\n",
       "      <td>888</td>\n",
       "      <td>60</td>\n",
       "      <td>10</td>\n",
       "      <td>19</td>\n",
       "      <td>6</td>\n",
       "      <td>5</td>\n",
       "      <td>1</td>\n",
       "      <td>35</td>\n",
       "      <td>F</td>\n",
       "      <td>Master</td>\n",
       "      <td></td>\n",
       "      <td>OK nice!</td>\n",
       "    </tr>\n",
       "    <tr>\n",
       "      <th>4</th>\n",
       "      <td>1955</td>\n",
       "      <td>91852</td>\n",
       "      <td>31</td>\n",
       "      <td>26</td>\n",
       "      <td>1138</td>\n",
       "      <td>59</td>\n",
       "      <td>5</td>\n",
       "      <td>28</td>\n",
       "      <td>4</td>\n",
       "      <td>4</td>\n",
       "      <td>1</td>\n",
       "      <td>34</td>\n",
       "      <td>F</td>\n",
       "      <td>Graduation</td>\n",
       "      <td>Together</td>\n",
       "      <td>Take my money!!</td>\n",
       "    </tr>\n",
       "    <tr>\n",
       "      <th>...</th>\n",
       "      <td>...</td>\n",
       "      <td>...</td>\n",
       "      <td>...</td>\n",
       "      <td>...</td>\n",
       "      <td>...</td>\n",
       "      <td>...</td>\n",
       "      <td>...</td>\n",
       "      <td>...</td>\n",
       "      <td>...</td>\n",
       "      <td>...</td>\n",
       "      <td>...</td>\n",
       "      <td>...</td>\n",
       "      <td>...</td>\n",
       "      <td>...</td>\n",
       "      <td>...</td>\n",
       "      <td>...</td>\n",
       "    </tr>\n",
       "    <tr>\n",
       "      <th>8993</th>\n",
       "      <td>1960</td>\n",
       "      <td>94367</td>\n",
       "      <td>28</td>\n",
       "      <td>1</td>\n",
       "      <td>896</td>\n",
       "      <td>68</td>\n",
       "      <td>5</td>\n",
       "      <td>21</td>\n",
       "      <td>3</td>\n",
       "      <td>4</td>\n",
       "      <td>1</td>\n",
       "      <td>55</td>\n",
       "      <td>F</td>\n",
       "      <td>1st Cycle</td>\n",
       "      <td>Single</td>\n",
       "      <td>Take my money!!</td>\n",
       "    </tr>\n",
       "    <tr>\n",
       "      <th>8994</th>\n",
       "      <td>1975</td>\n",
       "      <td>58121</td>\n",
       "      <td>12</td>\n",
       "      <td>6</td>\n",
       "      <td>61</td>\n",
       "      <td>53</td>\n",
       "      <td>6</td>\n",
       "      <td>28</td>\n",
       "      <td>7</td>\n",
       "      <td>6</td>\n",
       "      <td>1</td>\n",
       "      <td>71</td>\n",
       "      <td>M</td>\n",
       "      <td>2nd Cycle</td>\n",
       "      <td>Single</td>\n",
       "      <td>Meh...</td>\n",
       "    </tr>\n",
       "    <tr>\n",
       "      <th>8995</th>\n",
       "      <td>1986</td>\n",
       "      <td>54292</td>\n",
       "      <td>29</td>\n",
       "      <td>72</td>\n",
       "      <td>1011</td>\n",
       "      <td>41</td>\n",
       "      <td>11</td>\n",
       "      <td>36</td>\n",
       "      <td>1</td>\n",
       "      <td>11</td>\n",
       "      <td>0</td>\n",
       "      <td>31</td>\n",
       "      <td>M</td>\n",
       "      <td>Graduation</td>\n",
       "      <td>Together</td>\n",
       "      <td>Take my money!!</td>\n",
       "    </tr>\n",
       "    <tr>\n",
       "      <th>8996</th>\n",
       "      <td>1938</td>\n",
       "      <td>125962</td>\n",
       "      <td>38</td>\n",
       "      <td>75</td>\n",
       "      <td>1668</td>\n",
       "      <td>61</td>\n",
       "      <td>2</td>\n",
       "      <td>25</td>\n",
       "      <td>5</td>\n",
       "      <td>6</td>\n",
       "      <td>1</td>\n",
       "      <td>45</td>\n",
       "      <td>M</td>\n",
       "      <td>2nd Cycle</td>\n",
       "      <td>Married</td>\n",
       "      <td>Take my money!!</td>\n",
       "    </tr>\n",
       "    <tr>\n",
       "      <th>8997</th>\n",
       "      <td>1994</td>\n",
       "      <td>26385</td>\n",
       "      <td>9</td>\n",
       "      <td>24</td>\n",
       "      <td>46</td>\n",
       "      <td>5</td>\n",
       "      <td>13</td>\n",
       "      <td>21</td>\n",
       "      <td>46</td>\n",
       "      <td>15</td>\n",
       "      <td>1</td>\n",
       "      <td>52</td>\n",
       "      <td>M</td>\n",
       "      <td>1st Cycle</td>\n",
       "      <td>Single</td>\n",
       "      <td>Kind of OK</td>\n",
       "    </tr>\n",
       "  </tbody>\n",
       "</table>\n",
       "<p>8998 rows × 16 columns</p>\n",
       "</div>"
      ],
      "text/plain": [
       "       age  income  frq  rcn   mnt  clothes  kitchen  small_appliances  toys  \\\n",
       "0     1946   90782   33   66  1402       37        5                44    10   \n",
       "1     1936  113023   32    6  1537       55        1                38     4   \n",
       "2     1990   28344   11   69    44       32       19                24     1   \n",
       "3     1955   93571   26   10   888       60       10                19     6   \n",
       "4     1955   91852   31   26  1138       59        5                28     4   \n",
       "...    ...     ...  ...  ...   ...      ...      ...               ...   ...   \n",
       "8993  1960   94367   28    1   896       68        5                21     3   \n",
       "8994  1975   58121   12    6    61       53        6                28     7   \n",
       "8995  1986   54292   29   72  1011       41       11                36     1   \n",
       "8996  1938  125962   38   75  1668       61        2                25     5   \n",
       "8997  1994   26385    9   24    46        5       13                21    46   \n",
       "\n",
       "      house_keeping dependents  per_net_purchase gender   education    status  \\\n",
       "0                 3          0                19      M  Graduation  Together   \n",
       "1                 2          0                 9      F         PhD  Divorced   \n",
       "2                24          1                59      M  Graduation   Married   \n",
       "3                 5          1                35      F      Master             \n",
       "4                 4          1                34      F  Graduation  Together   \n",
       "...             ...        ...               ...    ...         ...       ...   \n",
       "8993              4          1                55      F   1st Cycle    Single   \n",
       "8994              6          1                71      M   2nd Cycle    Single   \n",
       "8995             11          0                31      M  Graduation  Together   \n",
       "8996              6          1                45      M   2nd Cycle   Married   \n",
       "8997             15          1                52      M   1st Cycle    Single   \n",
       "\n",
       "          description  \n",
       "0     Take my money!!  \n",
       "1     Take my money!!  \n",
       "2          Kind of OK  \n",
       "3            OK nice!  \n",
       "4     Take my money!!  \n",
       "...               ...  \n",
       "8993  Take my money!!  \n",
       "8994           Meh...  \n",
       "8995  Take my money!!  \n",
       "8996  Take my money!!  \n",
       "8997       Kind of OK  \n",
       "\n",
       "[8998 rows x 16 columns]"
      ]
     },
     "execution_count": 3,
     "metadata": {},
     "output_type": "execute_result"
    }
   ],
   "source": [
    "df"
   ]
  },
  {
   "cell_type": "markdown",
   "metadata": {
    "id": "OSW8OXjJoFPr"
   },
   "source": [
    "## What are some characteristics of our data?"
   ]
  },
  {
   "cell_type": "markdown",
   "metadata": {
    "id": "jj2vrVrhU5bA"
   },
   "source": [
    "We can use the `.shape` method to see how much data we have.\n",
    "\n",
    "It returns a tuple with (nrows, ncols)."
   ]
  },
  {
   "cell_type": "code",
   "execution_count": 4,
   "metadata": {
    "id": "Jw0QWzNgVAOw"
   },
   "outputs": [
    {
     "data": {
      "text/plain": [
       "(8998, 16)"
      ]
     },
     "execution_count": 4,
     "metadata": {},
     "output_type": "execute_result"
    }
   ],
   "source": [
    "df.shape"
   ]
  },
  {
   "cell_type": "code",
   "execution_count": 5,
   "metadata": {},
   "outputs": [
    {
     "data": {
      "text/plain": [
       "Index(['age', 'income', 'frq', 'rcn', 'mnt', 'clothes', 'kitchen',\n",
       "       'small_appliances', 'toys', 'house_keeping', 'dependents',\n",
       "       'per_net_purchase', 'gender', 'education', 'status', 'description'],\n",
       "      dtype='object')"
      ]
     },
     "execution_count": 5,
     "metadata": {},
     "output_type": "execute_result"
    }
   ],
   "source": [
    "# How to get the names of the columns of the data?\n",
    "\n",
    "df.columns"
   ]
  },
  {
   "cell_type": "markdown",
   "metadata": {
    "id": "rqiPuB2DkOou"
   },
   "source": [
    "We can use the `.info()` method to get some information about the dataset we have."
   ]
  },
  {
   "cell_type": "code",
   "execution_count": 6,
   "metadata": {
    "id": "PjoFnHEhi0Mx"
   },
   "outputs": [
    {
     "name": "stdout",
     "output_type": "stream",
     "text": [
      "<class 'pandas.core.frame.DataFrame'>\n",
      "RangeIndex: 8998 entries, 0 to 8997\n",
      "Data columns (total 16 columns):\n",
      " #   Column            Non-Null Count  Dtype \n",
      "---  ------            --------------  ----- \n",
      " 0   age               8998 non-null   int64 \n",
      " 1   income            8998 non-null   object\n",
      " 2   frq               8998 non-null   int64 \n",
      " 3   rcn               8998 non-null   int64 \n",
      " 4   mnt               8998 non-null   int64 \n",
      " 5   clothes           8998 non-null   int64 \n",
      " 6   kitchen           8998 non-null   int64 \n",
      " 7   small_appliances  8998 non-null   int64 \n",
      " 8   toys              8998 non-null   int64 \n",
      " 9   house_keeping     8998 non-null   int64 \n",
      " 10  dependents        8998 non-null   object\n",
      " 11  per_net_purchase  8998 non-null   int64 \n",
      " 12  gender            8998 non-null   object\n",
      " 13  education         8998 non-null   object\n",
      " 14  status            8998 non-null   object\n",
      " 15  description       8998 non-null   object\n",
      "dtypes: int64(10), object(6)\n",
      "memory usage: 1.1+ MB\n"
     ]
    }
   ],
   "source": [
    "df.info()"
   ]
  },
  {
   "cell_type": "markdown",
   "metadata": {
    "id": "DvPIclHK_oPr"
   },
   "source": [
    "What do these mean?\n",
    "\n",
    "- Non-Null Count\n",
    "- Dtype\n",
    "    - object\n",
    "    - float64\n",
    "    - bool\n"
   ]
  },
  {
   "cell_type": "markdown",
   "metadata": {
    "id": "XlAyr0tdWhst"
   },
   "source": [
    "Let's look at datatypes more closely.\n",
    "\n",
    "Do their values look correct?\n",
    "\n",
    "*Hint* compare the dtypes with the provided metadata."
   ]
  },
  {
   "cell_type": "code",
   "execution_count": 7,
   "metadata": {
    "id": "P0gYXIX6WkY9"
   },
   "outputs": [
    {
     "data": {
      "application/vnd.microsoft.datawrangler.viewer.v0+json": {
       "columns": [
        {
         "name": "index",
         "rawType": "object",
         "type": "string"
        },
        {
         "name": "0",
         "rawType": "object",
         "type": "unknown"
        }
       ],
       "ref": "355f2f6e-ca07-49ef-b2fd-3a5aa8cdc605",
       "rows": [
        [
         "age",
         "int64"
        ],
        [
         "income",
         "object"
        ],
        [
         "frq",
         "int64"
        ],
        [
         "rcn",
         "int64"
        ],
        [
         "mnt",
         "int64"
        ],
        [
         "clothes",
         "int64"
        ],
        [
         "kitchen",
         "int64"
        ],
        [
         "small_appliances",
         "int64"
        ],
        [
         "toys",
         "int64"
        ],
        [
         "house_keeping",
         "int64"
        ],
        [
         "dependents",
         "object"
        ],
        [
         "per_net_purchase",
         "int64"
        ],
        [
         "gender",
         "object"
        ],
        [
         "education",
         "object"
        ],
        [
         "status",
         "object"
        ],
        [
         "description",
         "object"
        ]
       ],
       "shape": {
        "columns": 1,
        "rows": 16
       }
      },
      "text/plain": [
       "age                  int64\n",
       "income              object\n",
       "frq                  int64\n",
       "rcn                  int64\n",
       "mnt                  int64\n",
       "clothes              int64\n",
       "kitchen              int64\n",
       "small_appliances     int64\n",
       "toys                 int64\n",
       "house_keeping        int64\n",
       "dependents          object\n",
       "per_net_purchase     int64\n",
       "gender              object\n",
       "education           object\n",
       "status              object\n",
       "description         object\n",
       "dtype: object"
      ]
     },
     "execution_count": 7,
     "metadata": {},
     "output_type": "execute_result"
    }
   ],
   "source": [
    "df.dtypes"
   ]
  },
  {
   "cell_type": "markdown",
   "metadata": {
    "id": "Mz19cAVn_897"
   },
   "source": [
    "We can use the `.describe()` method to calculate the basic descriptive statistics of our data."
   ]
  },
  {
   "cell_type": "code",
   "execution_count": 8,
   "metadata": {
    "id": "OC-8gX8Pd05a"
   },
   "outputs": [
    {
     "data": {
      "application/vnd.microsoft.datawrangler.viewer.v0+json": {
       "columns": [
        {
         "name": "index",
         "rawType": "object",
         "type": "string"
        },
        {
         "name": "age",
         "rawType": "float64",
         "type": "float"
        },
        {
         "name": "frq",
         "rawType": "float64",
         "type": "float"
        },
        {
         "name": "rcn",
         "rawType": "float64",
         "type": "float"
        },
        {
         "name": "mnt",
         "rawType": "float64",
         "type": "float"
        },
        {
         "name": "clothes",
         "rawType": "float64",
         "type": "float"
        },
        {
         "name": "kitchen",
         "rawType": "float64",
         "type": "float"
        },
        {
         "name": "small_appliances",
         "rawType": "float64",
         "type": "float"
        },
        {
         "name": "toys",
         "rawType": "float64",
         "type": "float"
        },
        {
         "name": "house_keeping",
         "rawType": "float64",
         "type": "float"
        },
        {
         "name": "per_net_purchase",
         "rawType": "float64",
         "type": "float"
        }
       ],
       "ref": "9fb90f8c-e700-4c4a-b96f-586bb039e970",
       "rows": [
        [
         "count",
         "8998.0",
         "8998.0",
         "8998.0",
         "8998.0",
         "8998.0",
         "8998.0",
         "8998.0",
         "8998.0",
         "8998.0",
         "8998.0"
        ],
        [
         "mean",
         "1966.059679928873",
         "19.84807735052234",
         "62.46977106023561",
         "622.1628139586575",
         "50.44665481218048",
         "7.039675483440765",
         "28.52411647032674",
         "7.036897088241831",
         "6.929984440986886",
         "42.42898421871527"
        ],
        [
         "std",
         "17.29655220631773",
         "10.903434608706068",
         "69.76180219134835",
         "646.7682045549258",
         "23.42224891836114",
         "7.848139310437572",
         "12.586436800072201",
         "7.924421742286118",
         "7.882655354667001",
         "18.495742448171647"
        ],
        [
         "min",
         "1936.0",
         "3.0",
         "0.0",
         "6.0",
         "1.0",
         "0.0",
         "1.0",
         "0.0",
         "0.0",
         "4.0"
        ],
        [
         "25%",
         "1951.0",
         "10.0",
         "26.0",
         "63.0",
         "33.0",
         "2.0",
         "19.0",
         "2.0",
         "2.0",
         "28.0"
        ],
        [
         "50%",
         "1966.0",
         "17.0",
         "53.0",
         "383.0",
         "51.0",
         "4.0",
         "28.0",
         "4.0",
         "4.0",
         "45.0"
        ],
        [
         "75%",
         "1981.0",
         "28.0",
         "79.0",
         "1076.0",
         "69.0",
         "10.0",
         "37.0",
         "10.0",
         "9.0",
         "57.0"
        ],
        [
         "max",
         "1996.0",
         "59.0",
         "549.0",
         "3052.0",
         "99.0",
         "75.0",
         "74.0",
         "62.0",
         "77.0",
         "88.0"
        ]
       ],
       "shape": {
        "columns": 10,
        "rows": 8
       }
      },
      "text/html": [
       "<div>\n",
       "<style scoped>\n",
       "    .dataframe tbody tr th:only-of-type {\n",
       "        vertical-align: middle;\n",
       "    }\n",
       "\n",
       "    .dataframe tbody tr th {\n",
       "        vertical-align: top;\n",
       "    }\n",
       "\n",
       "    .dataframe thead th {\n",
       "        text-align: right;\n",
       "    }\n",
       "</style>\n",
       "<table border=\"1\" class=\"dataframe\">\n",
       "  <thead>\n",
       "    <tr style=\"text-align: right;\">\n",
       "      <th></th>\n",
       "      <th>age</th>\n",
       "      <th>frq</th>\n",
       "      <th>rcn</th>\n",
       "      <th>mnt</th>\n",
       "      <th>clothes</th>\n",
       "      <th>kitchen</th>\n",
       "      <th>small_appliances</th>\n",
       "      <th>toys</th>\n",
       "      <th>house_keeping</th>\n",
       "      <th>per_net_purchase</th>\n",
       "    </tr>\n",
       "  </thead>\n",
       "  <tbody>\n",
       "    <tr>\n",
       "      <th>count</th>\n",
       "      <td>8998.000000</td>\n",
       "      <td>8998.000000</td>\n",
       "      <td>8998.000000</td>\n",
       "      <td>8998.000000</td>\n",
       "      <td>8998.000000</td>\n",
       "      <td>8998.000000</td>\n",
       "      <td>8998.000000</td>\n",
       "      <td>8998.000000</td>\n",
       "      <td>8998.000000</td>\n",
       "      <td>8998.000000</td>\n",
       "    </tr>\n",
       "    <tr>\n",
       "      <th>mean</th>\n",
       "      <td>1966.059680</td>\n",
       "      <td>19.848077</td>\n",
       "      <td>62.469771</td>\n",
       "      <td>622.162814</td>\n",
       "      <td>50.446655</td>\n",
       "      <td>7.039675</td>\n",
       "      <td>28.524116</td>\n",
       "      <td>7.036897</td>\n",
       "      <td>6.929984</td>\n",
       "      <td>42.428984</td>\n",
       "    </tr>\n",
       "    <tr>\n",
       "      <th>std</th>\n",
       "      <td>17.296552</td>\n",
       "      <td>10.903435</td>\n",
       "      <td>69.761802</td>\n",
       "      <td>646.768205</td>\n",
       "      <td>23.422249</td>\n",
       "      <td>7.848139</td>\n",
       "      <td>12.586437</td>\n",
       "      <td>7.924422</td>\n",
       "      <td>7.882655</td>\n",
       "      <td>18.495742</td>\n",
       "    </tr>\n",
       "    <tr>\n",
       "      <th>min</th>\n",
       "      <td>1936.000000</td>\n",
       "      <td>3.000000</td>\n",
       "      <td>0.000000</td>\n",
       "      <td>6.000000</td>\n",
       "      <td>1.000000</td>\n",
       "      <td>0.000000</td>\n",
       "      <td>1.000000</td>\n",
       "      <td>0.000000</td>\n",
       "      <td>0.000000</td>\n",
       "      <td>4.000000</td>\n",
       "    </tr>\n",
       "    <tr>\n",
       "      <th>25%</th>\n",
       "      <td>1951.000000</td>\n",
       "      <td>10.000000</td>\n",
       "      <td>26.000000</td>\n",
       "      <td>63.000000</td>\n",
       "      <td>33.000000</td>\n",
       "      <td>2.000000</td>\n",
       "      <td>19.000000</td>\n",
       "      <td>2.000000</td>\n",
       "      <td>2.000000</td>\n",
       "      <td>28.000000</td>\n",
       "    </tr>\n",
       "    <tr>\n",
       "      <th>50%</th>\n",
       "      <td>1966.000000</td>\n",
       "      <td>17.000000</td>\n",
       "      <td>53.000000</td>\n",
       "      <td>383.000000</td>\n",
       "      <td>51.000000</td>\n",
       "      <td>4.000000</td>\n",
       "      <td>28.000000</td>\n",
       "      <td>4.000000</td>\n",
       "      <td>4.000000</td>\n",
       "      <td>45.000000</td>\n",
       "    </tr>\n",
       "    <tr>\n",
       "      <th>75%</th>\n",
       "      <td>1981.000000</td>\n",
       "      <td>28.000000</td>\n",
       "      <td>79.000000</td>\n",
       "      <td>1076.000000</td>\n",
       "      <td>69.000000</td>\n",
       "      <td>10.000000</td>\n",
       "      <td>37.000000</td>\n",
       "      <td>10.000000</td>\n",
       "      <td>9.000000</td>\n",
       "      <td>57.000000</td>\n",
       "    </tr>\n",
       "    <tr>\n",
       "      <th>max</th>\n",
       "      <td>1996.000000</td>\n",
       "      <td>59.000000</td>\n",
       "      <td>549.000000</td>\n",
       "      <td>3052.000000</td>\n",
       "      <td>99.000000</td>\n",
       "      <td>75.000000</td>\n",
       "      <td>74.000000</td>\n",
       "      <td>62.000000</td>\n",
       "      <td>77.000000</td>\n",
       "      <td>88.000000</td>\n",
       "    </tr>\n",
       "  </tbody>\n",
       "</table>\n",
       "</div>"
      ],
      "text/plain": [
       "               age          frq          rcn          mnt      clothes  \\\n",
       "count  8998.000000  8998.000000  8998.000000  8998.000000  8998.000000   \n",
       "mean   1966.059680    19.848077    62.469771   622.162814    50.446655   \n",
       "std      17.296552    10.903435    69.761802   646.768205    23.422249   \n",
       "min    1936.000000     3.000000     0.000000     6.000000     1.000000   \n",
       "25%    1951.000000    10.000000    26.000000    63.000000    33.000000   \n",
       "50%    1966.000000    17.000000    53.000000   383.000000    51.000000   \n",
       "75%    1981.000000    28.000000    79.000000  1076.000000    69.000000   \n",
       "max    1996.000000    59.000000   549.000000  3052.000000    99.000000   \n",
       "\n",
       "           kitchen  small_appliances         toys  house_keeping  \\\n",
       "count  8998.000000       8998.000000  8998.000000    8998.000000   \n",
       "mean      7.039675         28.524116     7.036897       6.929984   \n",
       "std       7.848139         12.586437     7.924422       7.882655   \n",
       "min       0.000000          1.000000     0.000000       0.000000   \n",
       "25%       2.000000         19.000000     2.000000       2.000000   \n",
       "50%       4.000000         28.000000     4.000000       4.000000   \n",
       "75%      10.000000         37.000000    10.000000       9.000000   \n",
       "max      75.000000         74.000000    62.000000      77.000000   \n",
       "\n",
       "       per_net_purchase  \n",
       "count       8998.000000  \n",
       "mean          42.428984  \n",
       "std           18.495742  \n",
       "min            4.000000  \n",
       "25%           28.000000  \n",
       "50%           45.000000  \n",
       "75%           57.000000  \n",
       "max           88.000000  "
      ]
     },
     "execution_count": 8,
     "metadata": {},
     "output_type": "execute_result"
    }
   ],
   "source": [
    "df.describe()"
   ]
  },
  {
   "cell_type": "code",
   "execution_count": 9,
   "metadata": {
    "id": "Fl2TTESJkF07"
   },
   "outputs": [
    {
     "data": {
      "application/vnd.microsoft.datawrangler.viewer.v0+json": {
       "columns": [
        {
         "name": "index",
         "rawType": "object",
         "type": "string"
        },
        {
         "name": "income",
         "rawType": "object",
         "type": "unknown"
        },
        {
         "name": "dependents",
         "rawType": "int64",
         "type": "integer"
        },
        {
         "name": "gender",
         "rawType": "object",
         "type": "unknown"
        },
        {
         "name": "education",
         "rawType": "object",
         "type": "unknown"
        },
        {
         "name": "status",
         "rawType": "object",
         "type": "unknown"
        },
        {
         "name": "description",
         "rawType": "object",
         "type": "unknown"
        }
       ],
       "ref": "f20f874c-c608-4556-989e-7506e6c03240",
       "rows": [
        [
         "count",
         "8998",
         "8998",
         "8998",
         "8998",
         "8998",
         "8998"
        ],
        [
         "unique",
         "8525",
         "3",
         "2",
         "7",
         "7",
         "5"
        ],
        [
         "top",
         "",
         "1",
         "M",
         "Graduation",
         "Married",
         "OK nice!"
        ],
        [
         "freq",
         "46",
         "6164",
         "5784",
         "4429",
         "3273",
         "3434"
        ]
       ],
       "shape": {
        "columns": 6,
        "rows": 4
       }
      },
      "text/html": [
       "<div>\n",
       "<style scoped>\n",
       "    .dataframe tbody tr th:only-of-type {\n",
       "        vertical-align: middle;\n",
       "    }\n",
       "\n",
       "    .dataframe tbody tr th {\n",
       "        vertical-align: top;\n",
       "    }\n",
       "\n",
       "    .dataframe thead th {\n",
       "        text-align: right;\n",
       "    }\n",
       "</style>\n",
       "<table border=\"1\" class=\"dataframe\">\n",
       "  <thead>\n",
       "    <tr style=\"text-align: right;\">\n",
       "      <th></th>\n",
       "      <th>income</th>\n",
       "      <th>dependents</th>\n",
       "      <th>gender</th>\n",
       "      <th>education</th>\n",
       "      <th>status</th>\n",
       "      <th>description</th>\n",
       "    </tr>\n",
       "  </thead>\n",
       "  <tbody>\n",
       "    <tr>\n",
       "      <th>count</th>\n",
       "      <td>8998</td>\n",
       "      <td>8998</td>\n",
       "      <td>8998</td>\n",
       "      <td>8998</td>\n",
       "      <td>8998</td>\n",
       "      <td>8998</td>\n",
       "    </tr>\n",
       "    <tr>\n",
       "      <th>unique</th>\n",
       "      <td>8525</td>\n",
       "      <td>3</td>\n",
       "      <td>2</td>\n",
       "      <td>7</td>\n",
       "      <td>7</td>\n",
       "      <td>5</td>\n",
       "    </tr>\n",
       "    <tr>\n",
       "      <th>top</th>\n",
       "      <td></td>\n",
       "      <td>1</td>\n",
       "      <td>M</td>\n",
       "      <td>Graduation</td>\n",
       "      <td>Married</td>\n",
       "      <td>OK nice!</td>\n",
       "    </tr>\n",
       "    <tr>\n",
       "      <th>freq</th>\n",
       "      <td>46</td>\n",
       "      <td>6164</td>\n",
       "      <td>5784</td>\n",
       "      <td>4429</td>\n",
       "      <td>3273</td>\n",
       "      <td>3434</td>\n",
       "    </tr>\n",
       "  </tbody>\n",
       "</table>\n",
       "</div>"
      ],
      "text/plain": [
       "       income  dependents gender   education   status description\n",
       "count    8998        8998   8998        8998     8998        8998\n",
       "unique   8525           3      2           7        7           5\n",
       "top                     1      M  Graduation  Married    OK nice!\n",
       "freq       46        6164   5784        4429     3273        3434"
      ]
     },
     "execution_count": 9,
     "metadata": {},
     "output_type": "execute_result"
    }
   ],
   "source": [
    "## Modify the .describe() method\n",
    "df.describe(include=\"object\")"
   ]
  },
  {
   "cell_type": "markdown",
   "metadata": {
    "id": "-W5jMNCXBPSp"
   },
   "source": [
    "By default `.describe()` only considers numeric features."
   ]
  },
  {
   "cell_type": "code",
   "execution_count": 10,
   "metadata": {
    "id": "Fl2TTESJkF07"
   },
   "outputs": [
    {
     "data": {
      "application/vnd.microsoft.datawrangler.viewer.v0+json": {
       "columns": [
        {
         "name": "index",
         "rawType": "object",
         "type": "string"
        },
        {
         "name": "age",
         "rawType": "float64",
         "type": "float"
        },
        {
         "name": "income",
         "rawType": "object",
         "type": "unknown"
        },
        {
         "name": "frq",
         "rawType": "float64",
         "type": "float"
        },
        {
         "name": "rcn",
         "rawType": "float64",
         "type": "float"
        },
        {
         "name": "mnt",
         "rawType": "float64",
         "type": "float"
        },
        {
         "name": "clothes",
         "rawType": "float64",
         "type": "float"
        },
        {
         "name": "kitchen",
         "rawType": "float64",
         "type": "float"
        },
        {
         "name": "small_appliances",
         "rawType": "float64",
         "type": "float"
        },
        {
         "name": "toys",
         "rawType": "float64",
         "type": "float"
        },
        {
         "name": "house_keeping",
         "rawType": "float64",
         "type": "float"
        },
        {
         "name": "dependents",
         "rawType": "float64",
         "type": "float"
        },
        {
         "name": "per_net_purchase",
         "rawType": "float64",
         "type": "float"
        },
        {
         "name": "gender",
         "rawType": "object",
         "type": "unknown"
        },
        {
         "name": "education",
         "rawType": "object",
         "type": "unknown"
        },
        {
         "name": "status",
         "rawType": "object",
         "type": "unknown"
        },
        {
         "name": "description",
         "rawType": "object",
         "type": "unknown"
        }
       ],
       "ref": "0d754c46-d518-4977-bd71-1e91b481e33d",
       "rows": [
        [
         "count",
         "8998.0",
         "8998",
         "8998.0",
         "8998.0",
         "8998.0",
         "8998.0",
         "8998.0",
         "8998.0",
         "8998.0",
         "8998.0",
         "8998.0",
         "8998.0",
         "8998",
         "8998",
         "8998",
         "8998"
        ],
        [
         "unique",
         null,
         "8525",
         null,
         null,
         null,
         null,
         null,
         null,
         null,
         null,
         "3.0",
         null,
         "2",
         "7",
         "7",
         "5"
        ],
        [
         "top",
         null,
         "",
         null,
         null,
         null,
         null,
         null,
         null,
         null,
         null,
         "1.0",
         null,
         "M",
         "Graduation",
         "Married",
         "OK nice!"
        ],
        [
         "freq",
         null,
         "46",
         null,
         null,
         null,
         null,
         null,
         null,
         null,
         null,
         "6164.0",
         null,
         "5784",
         "4429",
         "3273",
         "3434"
        ],
        [
         "mean",
         "1966.059679928873",
         null,
         "19.84807735052234",
         "62.46977106023561",
         "622.1628139586575",
         "50.44665481218048",
         "7.039675483440765",
         "28.52411647032674",
         "7.036897088241831",
         "6.929984440986886",
         null,
         "42.42898421871527",
         null,
         null,
         null,
         null
        ],
        [
         "std",
         "17.29655220631773",
         null,
         "10.903434608706068",
         "69.76180219134835",
         "646.7682045549258",
         "23.42224891836114",
         "7.848139310437572",
         "12.586436800072201",
         "7.924421742286118",
         "7.882655354667001",
         null,
         "18.495742448171647",
         null,
         null,
         null,
         null
        ],
        [
         "min",
         "1936.0",
         null,
         "3.0",
         "0.0",
         "6.0",
         "1.0",
         "0.0",
         "1.0",
         "0.0",
         "0.0",
         null,
         "4.0",
         null,
         null,
         null,
         null
        ],
        [
         "25%",
         "1951.0",
         null,
         "10.0",
         "26.0",
         "63.0",
         "33.0",
         "2.0",
         "19.0",
         "2.0",
         "2.0",
         null,
         "28.0",
         null,
         null,
         null,
         null
        ],
        [
         "50%",
         "1966.0",
         null,
         "17.0",
         "53.0",
         "383.0",
         "51.0",
         "4.0",
         "28.0",
         "4.0",
         "4.0",
         null,
         "45.0",
         null,
         null,
         null,
         null
        ],
        [
         "75%",
         "1981.0",
         null,
         "28.0",
         "79.0",
         "1076.0",
         "69.0",
         "10.0",
         "37.0",
         "10.0",
         "9.0",
         null,
         "57.0",
         null,
         null,
         null,
         null
        ],
        [
         "max",
         "1996.0",
         null,
         "59.0",
         "549.0",
         "3052.0",
         "99.0",
         "75.0",
         "74.0",
         "62.0",
         "77.0",
         null,
         "88.0",
         null,
         null,
         null,
         null
        ]
       ],
       "shape": {
        "columns": 16,
        "rows": 11
       }
      },
      "text/html": [
       "<div>\n",
       "<style scoped>\n",
       "    .dataframe tbody tr th:only-of-type {\n",
       "        vertical-align: middle;\n",
       "    }\n",
       "\n",
       "    .dataframe tbody tr th {\n",
       "        vertical-align: top;\n",
       "    }\n",
       "\n",
       "    .dataframe thead th {\n",
       "        text-align: right;\n",
       "    }\n",
       "</style>\n",
       "<table border=\"1\" class=\"dataframe\">\n",
       "  <thead>\n",
       "    <tr style=\"text-align: right;\">\n",
       "      <th></th>\n",
       "      <th>age</th>\n",
       "      <th>income</th>\n",
       "      <th>frq</th>\n",
       "      <th>rcn</th>\n",
       "      <th>mnt</th>\n",
       "      <th>clothes</th>\n",
       "      <th>kitchen</th>\n",
       "      <th>small_appliances</th>\n",
       "      <th>toys</th>\n",
       "      <th>house_keeping</th>\n",
       "      <th>dependents</th>\n",
       "      <th>per_net_purchase</th>\n",
       "      <th>gender</th>\n",
       "      <th>education</th>\n",
       "      <th>status</th>\n",
       "      <th>description</th>\n",
       "    </tr>\n",
       "  </thead>\n",
       "  <tbody>\n",
       "    <tr>\n",
       "      <th>count</th>\n",
       "      <td>8998.000000</td>\n",
       "      <td>8998</td>\n",
       "      <td>8998.000000</td>\n",
       "      <td>8998.000000</td>\n",
       "      <td>8998.000000</td>\n",
       "      <td>8998.000000</td>\n",
       "      <td>8998.000000</td>\n",
       "      <td>8998.000000</td>\n",
       "      <td>8998.000000</td>\n",
       "      <td>8998.000000</td>\n",
       "      <td>8998.0</td>\n",
       "      <td>8998.000000</td>\n",
       "      <td>8998</td>\n",
       "      <td>8998</td>\n",
       "      <td>8998</td>\n",
       "      <td>8998</td>\n",
       "    </tr>\n",
       "    <tr>\n",
       "      <th>unique</th>\n",
       "      <td>NaN</td>\n",
       "      <td>8525</td>\n",
       "      <td>NaN</td>\n",
       "      <td>NaN</td>\n",
       "      <td>NaN</td>\n",
       "      <td>NaN</td>\n",
       "      <td>NaN</td>\n",
       "      <td>NaN</td>\n",
       "      <td>NaN</td>\n",
       "      <td>NaN</td>\n",
       "      <td>3.0</td>\n",
       "      <td>NaN</td>\n",
       "      <td>2</td>\n",
       "      <td>7</td>\n",
       "      <td>7</td>\n",
       "      <td>5</td>\n",
       "    </tr>\n",
       "    <tr>\n",
       "      <th>top</th>\n",
       "      <td>NaN</td>\n",
       "      <td></td>\n",
       "      <td>NaN</td>\n",
       "      <td>NaN</td>\n",
       "      <td>NaN</td>\n",
       "      <td>NaN</td>\n",
       "      <td>NaN</td>\n",
       "      <td>NaN</td>\n",
       "      <td>NaN</td>\n",
       "      <td>NaN</td>\n",
       "      <td>1.0</td>\n",
       "      <td>NaN</td>\n",
       "      <td>M</td>\n",
       "      <td>Graduation</td>\n",
       "      <td>Married</td>\n",
       "      <td>OK nice!</td>\n",
       "    </tr>\n",
       "    <tr>\n",
       "      <th>freq</th>\n",
       "      <td>NaN</td>\n",
       "      <td>46</td>\n",
       "      <td>NaN</td>\n",
       "      <td>NaN</td>\n",
       "      <td>NaN</td>\n",
       "      <td>NaN</td>\n",
       "      <td>NaN</td>\n",
       "      <td>NaN</td>\n",
       "      <td>NaN</td>\n",
       "      <td>NaN</td>\n",
       "      <td>6164.0</td>\n",
       "      <td>NaN</td>\n",
       "      <td>5784</td>\n",
       "      <td>4429</td>\n",
       "      <td>3273</td>\n",
       "      <td>3434</td>\n",
       "    </tr>\n",
       "    <tr>\n",
       "      <th>mean</th>\n",
       "      <td>1966.059680</td>\n",
       "      <td>NaN</td>\n",
       "      <td>19.848077</td>\n",
       "      <td>62.469771</td>\n",
       "      <td>622.162814</td>\n",
       "      <td>50.446655</td>\n",
       "      <td>7.039675</td>\n",
       "      <td>28.524116</td>\n",
       "      <td>7.036897</td>\n",
       "      <td>6.929984</td>\n",
       "      <td>NaN</td>\n",
       "      <td>42.428984</td>\n",
       "      <td>NaN</td>\n",
       "      <td>NaN</td>\n",
       "      <td>NaN</td>\n",
       "      <td>NaN</td>\n",
       "    </tr>\n",
       "    <tr>\n",
       "      <th>std</th>\n",
       "      <td>17.296552</td>\n",
       "      <td>NaN</td>\n",
       "      <td>10.903435</td>\n",
       "      <td>69.761802</td>\n",
       "      <td>646.768205</td>\n",
       "      <td>23.422249</td>\n",
       "      <td>7.848139</td>\n",
       "      <td>12.586437</td>\n",
       "      <td>7.924422</td>\n",
       "      <td>7.882655</td>\n",
       "      <td>NaN</td>\n",
       "      <td>18.495742</td>\n",
       "      <td>NaN</td>\n",
       "      <td>NaN</td>\n",
       "      <td>NaN</td>\n",
       "      <td>NaN</td>\n",
       "    </tr>\n",
       "    <tr>\n",
       "      <th>min</th>\n",
       "      <td>1936.000000</td>\n",
       "      <td>NaN</td>\n",
       "      <td>3.000000</td>\n",
       "      <td>0.000000</td>\n",
       "      <td>6.000000</td>\n",
       "      <td>1.000000</td>\n",
       "      <td>0.000000</td>\n",
       "      <td>1.000000</td>\n",
       "      <td>0.000000</td>\n",
       "      <td>0.000000</td>\n",
       "      <td>NaN</td>\n",
       "      <td>4.000000</td>\n",
       "      <td>NaN</td>\n",
       "      <td>NaN</td>\n",
       "      <td>NaN</td>\n",
       "      <td>NaN</td>\n",
       "    </tr>\n",
       "    <tr>\n",
       "      <th>25%</th>\n",
       "      <td>1951.000000</td>\n",
       "      <td>NaN</td>\n",
       "      <td>10.000000</td>\n",
       "      <td>26.000000</td>\n",
       "      <td>63.000000</td>\n",
       "      <td>33.000000</td>\n",
       "      <td>2.000000</td>\n",
       "      <td>19.000000</td>\n",
       "      <td>2.000000</td>\n",
       "      <td>2.000000</td>\n",
       "      <td>NaN</td>\n",
       "      <td>28.000000</td>\n",
       "      <td>NaN</td>\n",
       "      <td>NaN</td>\n",
       "      <td>NaN</td>\n",
       "      <td>NaN</td>\n",
       "    </tr>\n",
       "    <tr>\n",
       "      <th>50%</th>\n",
       "      <td>1966.000000</td>\n",
       "      <td>NaN</td>\n",
       "      <td>17.000000</td>\n",
       "      <td>53.000000</td>\n",
       "      <td>383.000000</td>\n",
       "      <td>51.000000</td>\n",
       "      <td>4.000000</td>\n",
       "      <td>28.000000</td>\n",
       "      <td>4.000000</td>\n",
       "      <td>4.000000</td>\n",
       "      <td>NaN</td>\n",
       "      <td>45.000000</td>\n",
       "      <td>NaN</td>\n",
       "      <td>NaN</td>\n",
       "      <td>NaN</td>\n",
       "      <td>NaN</td>\n",
       "    </tr>\n",
       "    <tr>\n",
       "      <th>75%</th>\n",
       "      <td>1981.000000</td>\n",
       "      <td>NaN</td>\n",
       "      <td>28.000000</td>\n",
       "      <td>79.000000</td>\n",
       "      <td>1076.000000</td>\n",
       "      <td>69.000000</td>\n",
       "      <td>10.000000</td>\n",
       "      <td>37.000000</td>\n",
       "      <td>10.000000</td>\n",
       "      <td>9.000000</td>\n",
       "      <td>NaN</td>\n",
       "      <td>57.000000</td>\n",
       "      <td>NaN</td>\n",
       "      <td>NaN</td>\n",
       "      <td>NaN</td>\n",
       "      <td>NaN</td>\n",
       "    </tr>\n",
       "    <tr>\n",
       "      <th>max</th>\n",
       "      <td>1996.000000</td>\n",
       "      <td>NaN</td>\n",
       "      <td>59.000000</td>\n",
       "      <td>549.000000</td>\n",
       "      <td>3052.000000</td>\n",
       "      <td>99.000000</td>\n",
       "      <td>75.000000</td>\n",
       "      <td>74.000000</td>\n",
       "      <td>62.000000</td>\n",
       "      <td>77.000000</td>\n",
       "      <td>NaN</td>\n",
       "      <td>88.000000</td>\n",
       "      <td>NaN</td>\n",
       "      <td>NaN</td>\n",
       "      <td>NaN</td>\n",
       "      <td>NaN</td>\n",
       "    </tr>\n",
       "  </tbody>\n",
       "</table>\n",
       "</div>"
      ],
      "text/plain": [
       "                age income          frq          rcn          mnt  \\\n",
       "count   8998.000000   8998  8998.000000  8998.000000  8998.000000   \n",
       "unique          NaN   8525          NaN          NaN          NaN   \n",
       "top             NaN                 NaN          NaN          NaN   \n",
       "freq            NaN     46          NaN          NaN          NaN   \n",
       "mean    1966.059680    NaN    19.848077    62.469771   622.162814   \n",
       "std       17.296552    NaN    10.903435    69.761802   646.768205   \n",
       "min     1936.000000    NaN     3.000000     0.000000     6.000000   \n",
       "25%     1951.000000    NaN    10.000000    26.000000    63.000000   \n",
       "50%     1966.000000    NaN    17.000000    53.000000   383.000000   \n",
       "75%     1981.000000    NaN    28.000000    79.000000  1076.000000   \n",
       "max     1996.000000    NaN    59.000000   549.000000  3052.000000   \n",
       "\n",
       "            clothes      kitchen  small_appliances         toys  \\\n",
       "count   8998.000000  8998.000000       8998.000000  8998.000000   \n",
       "unique          NaN          NaN               NaN          NaN   \n",
       "top             NaN          NaN               NaN          NaN   \n",
       "freq            NaN          NaN               NaN          NaN   \n",
       "mean      50.446655     7.039675         28.524116     7.036897   \n",
       "std       23.422249     7.848139         12.586437     7.924422   \n",
       "min        1.000000     0.000000          1.000000     0.000000   \n",
       "25%       33.000000     2.000000         19.000000     2.000000   \n",
       "50%       51.000000     4.000000         28.000000     4.000000   \n",
       "75%       69.000000    10.000000         37.000000    10.000000   \n",
       "max       99.000000    75.000000         74.000000    62.000000   \n",
       "\n",
       "        house_keeping  dependents  per_net_purchase gender   education  \\\n",
       "count     8998.000000      8998.0       8998.000000   8998        8998   \n",
       "unique            NaN         3.0               NaN      2           7   \n",
       "top               NaN         1.0               NaN      M  Graduation   \n",
       "freq              NaN      6164.0               NaN   5784        4429   \n",
       "mean         6.929984         NaN         42.428984    NaN         NaN   \n",
       "std          7.882655         NaN         18.495742    NaN         NaN   \n",
       "min          0.000000         NaN          4.000000    NaN         NaN   \n",
       "25%          2.000000         NaN         28.000000    NaN         NaN   \n",
       "50%          4.000000         NaN         45.000000    NaN         NaN   \n",
       "75%          9.000000         NaN         57.000000    NaN         NaN   \n",
       "max         77.000000         NaN         88.000000    NaN         NaN   \n",
       "\n",
       "         status description  \n",
       "count      8998        8998  \n",
       "unique        7           5  \n",
       "top     Married    OK nice!  \n",
       "freq       3273        3434  \n",
       "mean        NaN         NaN  \n",
       "std         NaN         NaN  \n",
       "min         NaN         NaN  \n",
       "25%         NaN         NaN  \n",
       "50%         NaN         NaN  \n",
       "75%         NaN         NaN  \n",
       "max         NaN         NaN  "
      ]
     },
     "execution_count": 10,
     "metadata": {},
     "output_type": "execute_result"
    }
   ],
   "source": [
    "## Modify the .describe() method\n",
    "df.describe(include=\"all\")"
   ]
  },
  {
   "cell_type": "code",
   "execution_count": 11,
   "metadata": {},
   "outputs": [
    {
     "data": {
      "application/vnd.microsoft.datawrangler.viewer.v0+json": {
       "columns": [
        {
         "name": "index",
         "rawType": "int64",
         "type": "integer"
        },
        {
         "name": "age",
         "rawType": "int64",
         "type": "integer"
        },
        {
         "name": "income",
         "rawType": "object",
         "type": "unknown"
        },
        {
         "name": "frq",
         "rawType": "int64",
         "type": "integer"
        },
        {
         "name": "rcn",
         "rawType": "int64",
         "type": "integer"
        },
        {
         "name": "mnt",
         "rawType": "int64",
         "type": "integer"
        },
        {
         "name": "clothes",
         "rawType": "int64",
         "type": "integer"
        },
        {
         "name": "kitchen",
         "rawType": "int64",
         "type": "integer"
        },
        {
         "name": "small_appliances",
         "rawType": "int64",
         "type": "integer"
        },
        {
         "name": "toys",
         "rawType": "int64",
         "type": "integer"
        },
        {
         "name": "house_keeping",
         "rawType": "int64",
         "type": "integer"
        },
        {
         "name": "dependents",
         "rawType": "object",
         "type": "unknown"
        },
        {
         "name": "per_net_purchase",
         "rawType": "int64",
         "type": "integer"
        },
        {
         "name": "gender",
         "rawType": "object",
         "type": "string"
        },
        {
         "name": "education",
         "rawType": "object",
         "type": "string"
        },
        {
         "name": "status",
         "rawType": "object",
         "type": "string"
        },
        {
         "name": "description",
         "rawType": "object",
         "type": "string"
        }
       ],
       "ref": "f9bedf77-e39c-4820-97f5-f55f36bf2854",
       "rows": [
        [
         "0",
         "1946",
         "90782",
         "33",
         "66",
         "1402",
         "37",
         "5",
         "44",
         "10",
         "3",
         "0",
         "19",
         "M",
         "Graduation",
         "Together",
         "Take my money!!"
        ],
        [
         "1",
         "1936",
         "113023",
         "32",
         "6",
         "1537",
         "55",
         "1",
         "38",
         "4",
         "2",
         "0",
         "9",
         "F",
         "PhD",
         "Divorced",
         "Take my money!!"
        ],
        [
         "2",
         "1990",
         "28344",
         "11",
         "69",
         "44",
         "32",
         "19",
         "24",
         "1",
         "24",
         "1",
         "59",
         "M",
         "Graduation",
         "Married",
         "Kind of OK"
        ],
        [
         "3",
         "1955",
         "93571",
         "26",
         "10",
         "888",
         "60",
         "10",
         "19",
         "6",
         "5",
         "1",
         "35",
         "F",
         "Master",
         "",
         "OK nice!"
        ],
        [
         "4",
         "1955",
         "91852",
         "31",
         "26",
         "1138",
         "59",
         "5",
         "28",
         "4",
         "4",
         "1",
         "34",
         "F",
         "Graduation",
         "Together",
         "Take my money!!"
        ],
        [
         "5",
         "1982",
         "22386",
         "14",
         "65",
         "56",
         "47",
         "2",
         "48",
         "2",
         "1",
         "1",
         "67",
         "M",
         "PhD",
         "Single",
         "OK nice!"
        ],
        [
         "6",
         "1969",
         "69485",
         "18",
         "73",
         "345",
         "71",
         "7",
         "13",
         "1",
         "8",
         "1",
         "46",
         "M",
         "Graduation",
         "Together",
         "OK nice!"
        ],
        [
         "7",
         "1960",
         "68602",
         "5",
         "44",
         "41",
         "84",
         "1",
         "12",
         "2",
         "0",
         "1",
         "37",
         "M",
         "Graduation",
         "Together",
         "Horrible"
        ],
        [
         "8",
         "1940",
         "109499",
         "30",
         "75",
         "1401",
         "38",
         "9",
         "35",
         "9",
         "9",
         "0",
         "17",
         "M",
         "Graduation",
         "Divorced",
         "OK nice!"
        ],
        [
         "9",
         "1994",
         "23846",
         "8",
         "153",
         "19",
         "18",
         "55",
         "17",
         "10",
         "1",
         "1",
         "39",
         "F",
         "1st Cycle",
         "Together",
         "Meh..."
        ]
       ],
       "shape": {
        "columns": 16,
        "rows": 10
       }
      },
      "text/html": [
       "<div>\n",
       "<style scoped>\n",
       "    .dataframe tbody tr th:only-of-type {\n",
       "        vertical-align: middle;\n",
       "    }\n",
       "\n",
       "    .dataframe tbody tr th {\n",
       "        vertical-align: top;\n",
       "    }\n",
       "\n",
       "    .dataframe thead th {\n",
       "        text-align: right;\n",
       "    }\n",
       "</style>\n",
       "<table border=\"1\" class=\"dataframe\">\n",
       "  <thead>\n",
       "    <tr style=\"text-align: right;\">\n",
       "      <th></th>\n",
       "      <th>age</th>\n",
       "      <th>income</th>\n",
       "      <th>frq</th>\n",
       "      <th>rcn</th>\n",
       "      <th>mnt</th>\n",
       "      <th>clothes</th>\n",
       "      <th>kitchen</th>\n",
       "      <th>small_appliances</th>\n",
       "      <th>toys</th>\n",
       "      <th>house_keeping</th>\n",
       "      <th>dependents</th>\n",
       "      <th>per_net_purchase</th>\n",
       "      <th>gender</th>\n",
       "      <th>education</th>\n",
       "      <th>status</th>\n",
       "      <th>description</th>\n",
       "    </tr>\n",
       "  </thead>\n",
       "  <tbody>\n",
       "    <tr>\n",
       "      <th>0</th>\n",
       "      <td>1946</td>\n",
       "      <td>90782</td>\n",
       "      <td>33</td>\n",
       "      <td>66</td>\n",
       "      <td>1402</td>\n",
       "      <td>37</td>\n",
       "      <td>5</td>\n",
       "      <td>44</td>\n",
       "      <td>10</td>\n",
       "      <td>3</td>\n",
       "      <td>0</td>\n",
       "      <td>19</td>\n",
       "      <td>M</td>\n",
       "      <td>Graduation</td>\n",
       "      <td>Together</td>\n",
       "      <td>Take my money!!</td>\n",
       "    </tr>\n",
       "    <tr>\n",
       "      <th>1</th>\n",
       "      <td>1936</td>\n",
       "      <td>113023</td>\n",
       "      <td>32</td>\n",
       "      <td>6</td>\n",
       "      <td>1537</td>\n",
       "      <td>55</td>\n",
       "      <td>1</td>\n",
       "      <td>38</td>\n",
       "      <td>4</td>\n",
       "      <td>2</td>\n",
       "      <td>0</td>\n",
       "      <td>9</td>\n",
       "      <td>F</td>\n",
       "      <td>PhD</td>\n",
       "      <td>Divorced</td>\n",
       "      <td>Take my money!!</td>\n",
       "    </tr>\n",
       "    <tr>\n",
       "      <th>2</th>\n",
       "      <td>1990</td>\n",
       "      <td>28344</td>\n",
       "      <td>11</td>\n",
       "      <td>69</td>\n",
       "      <td>44</td>\n",
       "      <td>32</td>\n",
       "      <td>19</td>\n",
       "      <td>24</td>\n",
       "      <td>1</td>\n",
       "      <td>24</td>\n",
       "      <td>1</td>\n",
       "      <td>59</td>\n",
       "      <td>M</td>\n",
       "      <td>Graduation</td>\n",
       "      <td>Married</td>\n",
       "      <td>Kind of OK</td>\n",
       "    </tr>\n",
       "    <tr>\n",
       "      <th>3</th>\n",
       "      <td>1955</td>\n",
       "      <td>93571</td>\n",
       "      <td>26</td>\n",
       "      <td>10</td>\n",
       "      <td>888</td>\n",
       "      <td>60</td>\n",
       "      <td>10</td>\n",
       "      <td>19</td>\n",
       "      <td>6</td>\n",
       "      <td>5</td>\n",
       "      <td>1</td>\n",
       "      <td>35</td>\n",
       "      <td>F</td>\n",
       "      <td>Master</td>\n",
       "      <td></td>\n",
       "      <td>OK nice!</td>\n",
       "    </tr>\n",
       "    <tr>\n",
       "      <th>4</th>\n",
       "      <td>1955</td>\n",
       "      <td>91852</td>\n",
       "      <td>31</td>\n",
       "      <td>26</td>\n",
       "      <td>1138</td>\n",
       "      <td>59</td>\n",
       "      <td>5</td>\n",
       "      <td>28</td>\n",
       "      <td>4</td>\n",
       "      <td>4</td>\n",
       "      <td>1</td>\n",
       "      <td>34</td>\n",
       "      <td>F</td>\n",
       "      <td>Graduation</td>\n",
       "      <td>Together</td>\n",
       "      <td>Take my money!!</td>\n",
       "    </tr>\n",
       "    <tr>\n",
       "      <th>5</th>\n",
       "      <td>1982</td>\n",
       "      <td>22386</td>\n",
       "      <td>14</td>\n",
       "      <td>65</td>\n",
       "      <td>56</td>\n",
       "      <td>47</td>\n",
       "      <td>2</td>\n",
       "      <td>48</td>\n",
       "      <td>2</td>\n",
       "      <td>1</td>\n",
       "      <td>1</td>\n",
       "      <td>67</td>\n",
       "      <td>M</td>\n",
       "      <td>PhD</td>\n",
       "      <td>Single</td>\n",
       "      <td>OK nice!</td>\n",
       "    </tr>\n",
       "    <tr>\n",
       "      <th>6</th>\n",
       "      <td>1969</td>\n",
       "      <td>69485</td>\n",
       "      <td>18</td>\n",
       "      <td>73</td>\n",
       "      <td>345</td>\n",
       "      <td>71</td>\n",
       "      <td>7</td>\n",
       "      <td>13</td>\n",
       "      <td>1</td>\n",
       "      <td>8</td>\n",
       "      <td>1</td>\n",
       "      <td>46</td>\n",
       "      <td>M</td>\n",
       "      <td>Graduation</td>\n",
       "      <td>Together</td>\n",
       "      <td>OK nice!</td>\n",
       "    </tr>\n",
       "    <tr>\n",
       "      <th>7</th>\n",
       "      <td>1960</td>\n",
       "      <td>68602</td>\n",
       "      <td>5</td>\n",
       "      <td>44</td>\n",
       "      <td>41</td>\n",
       "      <td>84</td>\n",
       "      <td>1</td>\n",
       "      <td>12</td>\n",
       "      <td>2</td>\n",
       "      <td>0</td>\n",
       "      <td>1</td>\n",
       "      <td>37</td>\n",
       "      <td>M</td>\n",
       "      <td>Graduation</td>\n",
       "      <td>Together</td>\n",
       "      <td>Horrible</td>\n",
       "    </tr>\n",
       "    <tr>\n",
       "      <th>8</th>\n",
       "      <td>1940</td>\n",
       "      <td>109499</td>\n",
       "      <td>30</td>\n",
       "      <td>75</td>\n",
       "      <td>1401</td>\n",
       "      <td>38</td>\n",
       "      <td>9</td>\n",
       "      <td>35</td>\n",
       "      <td>9</td>\n",
       "      <td>9</td>\n",
       "      <td>0</td>\n",
       "      <td>17</td>\n",
       "      <td>M</td>\n",
       "      <td>Graduation</td>\n",
       "      <td>Divorced</td>\n",
       "      <td>OK nice!</td>\n",
       "    </tr>\n",
       "    <tr>\n",
       "      <th>9</th>\n",
       "      <td>1994</td>\n",
       "      <td>23846</td>\n",
       "      <td>8</td>\n",
       "      <td>153</td>\n",
       "      <td>19</td>\n",
       "      <td>18</td>\n",
       "      <td>55</td>\n",
       "      <td>17</td>\n",
       "      <td>10</td>\n",
       "      <td>1</td>\n",
       "      <td>1</td>\n",
       "      <td>39</td>\n",
       "      <td>F</td>\n",
       "      <td>1st Cycle</td>\n",
       "      <td>Together</td>\n",
       "      <td>Meh...</td>\n",
       "    </tr>\n",
       "  </tbody>\n",
       "</table>\n",
       "</div>"
      ],
      "text/plain": [
       "    age  income  frq  rcn   mnt  clothes  kitchen  small_appliances  toys  \\\n",
       "0  1946   90782   33   66  1402       37        5                44    10   \n",
       "1  1936  113023   32    6  1537       55        1                38     4   \n",
       "2  1990   28344   11   69    44       32       19                24     1   \n",
       "3  1955   93571   26   10   888       60       10                19     6   \n",
       "4  1955   91852   31   26  1138       59        5                28     4   \n",
       "5  1982   22386   14   65    56       47        2                48     2   \n",
       "6  1969   69485   18   73   345       71        7                13     1   \n",
       "7  1960   68602    5   44    41       84        1                12     2   \n",
       "8  1940  109499   30   75  1401       38        9                35     9   \n",
       "9  1994   23846    8  153    19       18       55                17    10   \n",
       "\n",
       "   house_keeping dependents  per_net_purchase gender   education    status  \\\n",
       "0              3          0                19      M  Graduation  Together   \n",
       "1              2          0                 9      F         PhD  Divorced   \n",
       "2             24          1                59      M  Graduation   Married   \n",
       "3              5          1                35      F      Master             \n",
       "4              4          1                34      F  Graduation  Together   \n",
       "5              1          1                67      M         PhD    Single   \n",
       "6              8          1                46      M  Graduation  Together   \n",
       "7              0          1                37      M  Graduation  Together   \n",
       "8              9          0                17      M  Graduation  Divorced   \n",
       "9              1          1                39      F   1st Cycle  Together   \n",
       "\n",
       "       description  \n",
       "0  Take my money!!  \n",
       "1  Take my money!!  \n",
       "2       Kind of OK  \n",
       "3         OK nice!  \n",
       "4  Take my money!!  \n",
       "5         OK nice!  \n",
       "6         OK nice!  \n",
       "7         Horrible  \n",
       "8         OK nice!  \n",
       "9           Meh...  "
      ]
     },
     "execution_count": 11,
     "metadata": {},
     "output_type": "execute_result"
    }
   ],
   "source": [
    "# dataset head\n",
    "df.head(10)"
   ]
  },
  {
   "cell_type": "code",
   "execution_count": 12,
   "metadata": {},
   "outputs": [
    {
     "data": {
      "application/vnd.microsoft.datawrangler.viewer.v0+json": {
       "columns": [
        {
         "name": "index",
         "rawType": "object",
         "type": "string"
        },
        {
         "name": "count",
         "rawType": "object",
         "type": "unknown"
        },
        {
         "name": "unique",
         "rawType": "object",
         "type": "unknown"
        },
        {
         "name": "top",
         "rawType": "object",
         "type": "unknown"
        },
        {
         "name": "freq",
         "rawType": "object",
         "type": "unknown"
        },
        {
         "name": "mean",
         "rawType": "object",
         "type": "unknown"
        },
        {
         "name": "std",
         "rawType": "object",
         "type": "unknown"
        },
        {
         "name": "min",
         "rawType": "object",
         "type": "unknown"
        },
        {
         "name": "25%",
         "rawType": "object",
         "type": "unknown"
        },
        {
         "name": "50%",
         "rawType": "object",
         "type": "unknown"
        },
        {
         "name": "75%",
         "rawType": "object",
         "type": "unknown"
        },
        {
         "name": "max",
         "rawType": "object",
         "type": "unknown"
        }
       ],
       "ref": "d074e2ef-c163-4a92-853a-86defa8a99aa",
       "rows": [
        [
         "age",
         "8998.0",
         null,
         null,
         null,
         "1966.059679928873",
         "17.29655220631773",
         "1936.0",
         "1951.0",
         "1966.0",
         "1981.0",
         "1996.0"
        ],
        [
         "income",
         "8998",
         "8525",
         "",
         "46",
         null,
         null,
         null,
         null,
         null,
         null,
         null
        ],
        [
         "frq",
         "8998.0",
         null,
         null,
         null,
         "19.84807735052234",
         "10.903434608706068",
         "3.0",
         "10.0",
         "17.0",
         "28.0",
         "59.0"
        ],
        [
         "rcn",
         "8998.0",
         null,
         null,
         null,
         "62.46977106023561",
         "69.76180219134835",
         "0.0",
         "26.0",
         "53.0",
         "79.0",
         "549.0"
        ],
        [
         "mnt",
         "8998.0",
         null,
         null,
         null,
         "622.1628139586575",
         "646.7682045549258",
         "6.0",
         "63.0",
         "383.0",
         "1076.0",
         "3052.0"
        ],
        [
         "clothes",
         "8998.0",
         null,
         null,
         null,
         "50.44665481218048",
         "23.42224891836114",
         "1.0",
         "33.0",
         "51.0",
         "69.0",
         "99.0"
        ],
        [
         "kitchen",
         "8998.0",
         null,
         null,
         null,
         "7.039675483440765",
         "7.848139310437572",
         "0.0",
         "2.0",
         "4.0",
         "10.0",
         "75.0"
        ],
        [
         "small_appliances",
         "8998.0",
         null,
         null,
         null,
         "28.52411647032674",
         "12.586436800072201",
         "1.0",
         "19.0",
         "28.0",
         "37.0",
         "74.0"
        ],
        [
         "toys",
         "8998.0",
         null,
         null,
         null,
         "7.036897088241831",
         "7.924421742286118",
         "0.0",
         "2.0",
         "4.0",
         "10.0",
         "62.0"
        ],
        [
         "house_keeping",
         "8998.0",
         null,
         null,
         null,
         "6.929984440986886",
         "7.882655354667001",
         "0.0",
         "2.0",
         "4.0",
         "9.0",
         "77.0"
        ],
        [
         "dependents",
         "8998.0",
         "3.0",
         "1.0",
         "6164.0",
         null,
         null,
         null,
         null,
         null,
         null,
         null
        ],
        [
         "per_net_purchase",
         "8998.0",
         null,
         null,
         null,
         "42.42898421871527",
         "18.495742448171647",
         "4.0",
         "28.0",
         "45.0",
         "57.0",
         "88.0"
        ],
        [
         "gender",
         "8998",
         "2",
         "M",
         "5784",
         null,
         null,
         null,
         null,
         null,
         null,
         null
        ],
        [
         "education",
         "8998",
         "7",
         "Graduation",
         "4429",
         null,
         null,
         null,
         null,
         null,
         null,
         null
        ],
        [
         "status",
         "8998",
         "7",
         "Married",
         "3273",
         null,
         null,
         null,
         null,
         null,
         null,
         null
        ],
        [
         "description",
         "8998",
         "5",
         "OK nice!",
         "3434",
         null,
         null,
         null,
         null,
         null,
         null,
         null
        ]
       ],
       "shape": {
        "columns": 11,
        "rows": 16
       }
      },
      "text/html": [
       "<div>\n",
       "<style scoped>\n",
       "    .dataframe tbody tr th:only-of-type {\n",
       "        vertical-align: middle;\n",
       "    }\n",
       "\n",
       "    .dataframe tbody tr th {\n",
       "        vertical-align: top;\n",
       "    }\n",
       "\n",
       "    .dataframe thead th {\n",
       "        text-align: right;\n",
       "    }\n",
       "</style>\n",
       "<table border=\"1\" class=\"dataframe\">\n",
       "  <thead>\n",
       "    <tr style=\"text-align: right;\">\n",
       "      <th></th>\n",
       "      <th>count</th>\n",
       "      <th>unique</th>\n",
       "      <th>top</th>\n",
       "      <th>freq</th>\n",
       "      <th>mean</th>\n",
       "      <th>std</th>\n",
       "      <th>min</th>\n",
       "      <th>25%</th>\n",
       "      <th>50%</th>\n",
       "      <th>75%</th>\n",
       "      <th>max</th>\n",
       "    </tr>\n",
       "  </thead>\n",
       "  <tbody>\n",
       "    <tr>\n",
       "      <th>age</th>\n",
       "      <td>8998.0</td>\n",
       "      <td>NaN</td>\n",
       "      <td>NaN</td>\n",
       "      <td>NaN</td>\n",
       "      <td>1966.05968</td>\n",
       "      <td>17.296552</td>\n",
       "      <td>1936.0</td>\n",
       "      <td>1951.0</td>\n",
       "      <td>1966.0</td>\n",
       "      <td>1981.0</td>\n",
       "      <td>1996.0</td>\n",
       "    </tr>\n",
       "    <tr>\n",
       "      <th>income</th>\n",
       "      <td>8998</td>\n",
       "      <td>8525</td>\n",
       "      <td></td>\n",
       "      <td>46</td>\n",
       "      <td>NaN</td>\n",
       "      <td>NaN</td>\n",
       "      <td>NaN</td>\n",
       "      <td>NaN</td>\n",
       "      <td>NaN</td>\n",
       "      <td>NaN</td>\n",
       "      <td>NaN</td>\n",
       "    </tr>\n",
       "    <tr>\n",
       "      <th>frq</th>\n",
       "      <td>8998.0</td>\n",
       "      <td>NaN</td>\n",
       "      <td>NaN</td>\n",
       "      <td>NaN</td>\n",
       "      <td>19.848077</td>\n",
       "      <td>10.903435</td>\n",
       "      <td>3.0</td>\n",
       "      <td>10.0</td>\n",
       "      <td>17.0</td>\n",
       "      <td>28.0</td>\n",
       "      <td>59.0</td>\n",
       "    </tr>\n",
       "    <tr>\n",
       "      <th>rcn</th>\n",
       "      <td>8998.0</td>\n",
       "      <td>NaN</td>\n",
       "      <td>NaN</td>\n",
       "      <td>NaN</td>\n",
       "      <td>62.469771</td>\n",
       "      <td>69.761802</td>\n",
       "      <td>0.0</td>\n",
       "      <td>26.0</td>\n",
       "      <td>53.0</td>\n",
       "      <td>79.0</td>\n",
       "      <td>549.0</td>\n",
       "    </tr>\n",
       "    <tr>\n",
       "      <th>mnt</th>\n",
       "      <td>8998.0</td>\n",
       "      <td>NaN</td>\n",
       "      <td>NaN</td>\n",
       "      <td>NaN</td>\n",
       "      <td>622.162814</td>\n",
       "      <td>646.768205</td>\n",
       "      <td>6.0</td>\n",
       "      <td>63.0</td>\n",
       "      <td>383.0</td>\n",
       "      <td>1076.0</td>\n",
       "      <td>3052.0</td>\n",
       "    </tr>\n",
       "    <tr>\n",
       "      <th>clothes</th>\n",
       "      <td>8998.0</td>\n",
       "      <td>NaN</td>\n",
       "      <td>NaN</td>\n",
       "      <td>NaN</td>\n",
       "      <td>50.446655</td>\n",
       "      <td>23.422249</td>\n",
       "      <td>1.0</td>\n",
       "      <td>33.0</td>\n",
       "      <td>51.0</td>\n",
       "      <td>69.0</td>\n",
       "      <td>99.0</td>\n",
       "    </tr>\n",
       "    <tr>\n",
       "      <th>kitchen</th>\n",
       "      <td>8998.0</td>\n",
       "      <td>NaN</td>\n",
       "      <td>NaN</td>\n",
       "      <td>NaN</td>\n",
       "      <td>7.039675</td>\n",
       "      <td>7.848139</td>\n",
       "      <td>0.0</td>\n",
       "      <td>2.0</td>\n",
       "      <td>4.0</td>\n",
       "      <td>10.0</td>\n",
       "      <td>75.0</td>\n",
       "    </tr>\n",
       "    <tr>\n",
       "      <th>small_appliances</th>\n",
       "      <td>8998.0</td>\n",
       "      <td>NaN</td>\n",
       "      <td>NaN</td>\n",
       "      <td>NaN</td>\n",
       "      <td>28.524116</td>\n",
       "      <td>12.586437</td>\n",
       "      <td>1.0</td>\n",
       "      <td>19.0</td>\n",
       "      <td>28.0</td>\n",
       "      <td>37.0</td>\n",
       "      <td>74.0</td>\n",
       "    </tr>\n",
       "    <tr>\n",
       "      <th>toys</th>\n",
       "      <td>8998.0</td>\n",
       "      <td>NaN</td>\n",
       "      <td>NaN</td>\n",
       "      <td>NaN</td>\n",
       "      <td>7.036897</td>\n",
       "      <td>7.924422</td>\n",
       "      <td>0.0</td>\n",
       "      <td>2.0</td>\n",
       "      <td>4.0</td>\n",
       "      <td>10.0</td>\n",
       "      <td>62.0</td>\n",
       "    </tr>\n",
       "    <tr>\n",
       "      <th>house_keeping</th>\n",
       "      <td>8998.0</td>\n",
       "      <td>NaN</td>\n",
       "      <td>NaN</td>\n",
       "      <td>NaN</td>\n",
       "      <td>6.929984</td>\n",
       "      <td>7.882655</td>\n",
       "      <td>0.0</td>\n",
       "      <td>2.0</td>\n",
       "      <td>4.0</td>\n",
       "      <td>9.0</td>\n",
       "      <td>77.0</td>\n",
       "    </tr>\n",
       "    <tr>\n",
       "      <th>dependents</th>\n",
       "      <td>8998.0</td>\n",
       "      <td>3.0</td>\n",
       "      <td>1.0</td>\n",
       "      <td>6164.0</td>\n",
       "      <td>NaN</td>\n",
       "      <td>NaN</td>\n",
       "      <td>NaN</td>\n",
       "      <td>NaN</td>\n",
       "      <td>NaN</td>\n",
       "      <td>NaN</td>\n",
       "      <td>NaN</td>\n",
       "    </tr>\n",
       "    <tr>\n",
       "      <th>per_net_purchase</th>\n",
       "      <td>8998.0</td>\n",
       "      <td>NaN</td>\n",
       "      <td>NaN</td>\n",
       "      <td>NaN</td>\n",
       "      <td>42.428984</td>\n",
       "      <td>18.495742</td>\n",
       "      <td>4.0</td>\n",
       "      <td>28.0</td>\n",
       "      <td>45.0</td>\n",
       "      <td>57.0</td>\n",
       "      <td>88.0</td>\n",
       "    </tr>\n",
       "    <tr>\n",
       "      <th>gender</th>\n",
       "      <td>8998</td>\n",
       "      <td>2</td>\n",
       "      <td>M</td>\n",
       "      <td>5784</td>\n",
       "      <td>NaN</td>\n",
       "      <td>NaN</td>\n",
       "      <td>NaN</td>\n",
       "      <td>NaN</td>\n",
       "      <td>NaN</td>\n",
       "      <td>NaN</td>\n",
       "      <td>NaN</td>\n",
       "    </tr>\n",
       "    <tr>\n",
       "      <th>education</th>\n",
       "      <td>8998</td>\n",
       "      <td>7</td>\n",
       "      <td>Graduation</td>\n",
       "      <td>4429</td>\n",
       "      <td>NaN</td>\n",
       "      <td>NaN</td>\n",
       "      <td>NaN</td>\n",
       "      <td>NaN</td>\n",
       "      <td>NaN</td>\n",
       "      <td>NaN</td>\n",
       "      <td>NaN</td>\n",
       "    </tr>\n",
       "    <tr>\n",
       "      <th>status</th>\n",
       "      <td>8998</td>\n",
       "      <td>7</td>\n",
       "      <td>Married</td>\n",
       "      <td>3273</td>\n",
       "      <td>NaN</td>\n",
       "      <td>NaN</td>\n",
       "      <td>NaN</td>\n",
       "      <td>NaN</td>\n",
       "      <td>NaN</td>\n",
       "      <td>NaN</td>\n",
       "      <td>NaN</td>\n",
       "    </tr>\n",
       "    <tr>\n",
       "      <th>description</th>\n",
       "      <td>8998</td>\n",
       "      <td>5</td>\n",
       "      <td>OK nice!</td>\n",
       "      <td>3434</td>\n",
       "      <td>NaN</td>\n",
       "      <td>NaN</td>\n",
       "      <td>NaN</td>\n",
       "      <td>NaN</td>\n",
       "      <td>NaN</td>\n",
       "      <td>NaN</td>\n",
       "      <td>NaN</td>\n",
       "    </tr>\n",
       "  </tbody>\n",
       "</table>\n",
       "</div>"
      ],
      "text/plain": [
       "                   count unique         top    freq        mean         std  \\\n",
       "age               8998.0    NaN         NaN     NaN  1966.05968   17.296552   \n",
       "income              8998   8525                  46         NaN         NaN   \n",
       "frq               8998.0    NaN         NaN     NaN   19.848077   10.903435   \n",
       "rcn               8998.0    NaN         NaN     NaN   62.469771   69.761802   \n",
       "mnt               8998.0    NaN         NaN     NaN  622.162814  646.768205   \n",
       "clothes           8998.0    NaN         NaN     NaN   50.446655   23.422249   \n",
       "kitchen           8998.0    NaN         NaN     NaN    7.039675    7.848139   \n",
       "small_appliances  8998.0    NaN         NaN     NaN   28.524116   12.586437   \n",
       "toys              8998.0    NaN         NaN     NaN    7.036897    7.924422   \n",
       "house_keeping     8998.0    NaN         NaN     NaN    6.929984    7.882655   \n",
       "dependents        8998.0    3.0         1.0  6164.0         NaN         NaN   \n",
       "per_net_purchase  8998.0    NaN         NaN     NaN   42.428984   18.495742   \n",
       "gender              8998      2           M    5784         NaN         NaN   \n",
       "education           8998      7  Graduation    4429         NaN         NaN   \n",
       "status              8998      7     Married    3273         NaN         NaN   \n",
       "description         8998      5    OK nice!    3434         NaN         NaN   \n",
       "\n",
       "                     min     25%     50%     75%     max  \n",
       "age               1936.0  1951.0  1966.0  1981.0  1996.0  \n",
       "income               NaN     NaN     NaN     NaN     NaN  \n",
       "frq                  3.0    10.0    17.0    28.0    59.0  \n",
       "rcn                  0.0    26.0    53.0    79.0   549.0  \n",
       "mnt                  6.0    63.0   383.0  1076.0  3052.0  \n",
       "clothes              1.0    33.0    51.0    69.0    99.0  \n",
       "kitchen              0.0     2.0     4.0    10.0    75.0  \n",
       "small_appliances     1.0    19.0    28.0    37.0    74.0  \n",
       "toys                 0.0     2.0     4.0    10.0    62.0  \n",
       "house_keeping        0.0     2.0     4.0     9.0    77.0  \n",
       "dependents           NaN     NaN     NaN     NaN     NaN  \n",
       "per_net_purchase     4.0    28.0    45.0    57.0    88.0  \n",
       "gender               NaN     NaN     NaN     NaN     NaN  \n",
       "education            NaN     NaN     NaN     NaN     NaN  \n",
       "status               NaN     NaN     NaN     NaN     NaN  \n",
       "description          NaN     NaN     NaN     NaN     NaN  "
      ]
     },
     "execution_count": 12,
     "metadata": {},
     "output_type": "execute_result"
    }
   ],
   "source": [
    "# descriptive statistics\n",
    "df.describe(include=\"all\").T  # Transpose df"
   ]
  },
  {
   "cell_type": "code",
   "execution_count": 13,
   "metadata": {},
   "outputs": [],
   "source": [
    "# Use these cells to further explore the dataset\n",
    "# CODE HERE"
   ]
  },
  {
   "cell_type": "code",
   "execution_count": 14,
   "metadata": {},
   "outputs": [
    {
     "data": {
      "application/vnd.microsoft.datawrangler.viewer.v0+json": {
       "columns": [
        {
         "name": "index",
         "rawType": "int64",
         "type": "integer"
        },
        {
         "name": "age",
         "rawType": "int64",
         "type": "integer"
        },
        {
         "name": "income",
         "rawType": "object",
         "type": "unknown"
        },
        {
         "name": "frq",
         "rawType": "int64",
         "type": "integer"
        },
        {
         "name": "rcn",
         "rawType": "int64",
         "type": "integer"
        },
        {
         "name": "mnt",
         "rawType": "int64",
         "type": "integer"
        },
        {
         "name": "clothes",
         "rawType": "int64",
         "type": "integer"
        },
        {
         "name": "kitchen",
         "rawType": "int64",
         "type": "integer"
        },
        {
         "name": "small_appliances",
         "rawType": "int64",
         "type": "integer"
        },
        {
         "name": "toys",
         "rawType": "int64",
         "type": "integer"
        },
        {
         "name": "house_keeping",
         "rawType": "int64",
         "type": "integer"
        },
        {
         "name": "dependents",
         "rawType": "object",
         "type": "unknown"
        },
        {
         "name": "per_net_purchase",
         "rawType": "int64",
         "type": "integer"
        },
        {
         "name": "gender",
         "rawType": "object",
         "type": "string"
        },
        {
         "name": "education",
         "rawType": "object",
         "type": "string"
        },
        {
         "name": "status",
         "rawType": "object",
         "type": "string"
        },
        {
         "name": "description",
         "rawType": "object",
         "type": "string"
        }
       ],
       "ref": "9a766196-6c88-46e4-9e68-00da9ceb7077",
       "rows": [
        [
         "0",
         "1946",
         "90782",
         "33",
         "66",
         "1402",
         "37",
         "5",
         "44",
         "10",
         "3",
         "0",
         "19",
         "M",
         "Graduation",
         "Together",
         "Take my money!!"
        ],
        [
         "1",
         "1936",
         "113023",
         "32",
         "6",
         "1537",
         "55",
         "1",
         "38",
         "4",
         "2",
         "0",
         "9",
         "F",
         "PhD",
         "Divorced",
         "Take my money!!"
        ],
        [
         "2",
         "1990",
         "28344",
         "11",
         "69",
         "44",
         "32",
         "19",
         "24",
         "1",
         "24",
         "1",
         "59",
         "M",
         "Graduation",
         "Married",
         "Kind of OK"
        ],
        [
         "3",
         "1955",
         "93571",
         "26",
         "10",
         "888",
         "60",
         "10",
         "19",
         "6",
         "5",
         "1",
         "35",
         "F",
         "Master",
         "",
         "OK nice!"
        ],
        [
         "4",
         "1955",
         "91852",
         "31",
         "26",
         "1138",
         "59",
         "5",
         "28",
         "4",
         "4",
         "1",
         "34",
         "F",
         "Graduation",
         "Together",
         "Take my money!!"
        ]
       ],
       "shape": {
        "columns": 16,
        "rows": 5
       }
      },
      "text/html": [
       "<div>\n",
       "<style scoped>\n",
       "    .dataframe tbody tr th:only-of-type {\n",
       "        vertical-align: middle;\n",
       "    }\n",
       "\n",
       "    .dataframe tbody tr th {\n",
       "        vertical-align: top;\n",
       "    }\n",
       "\n",
       "    .dataframe thead th {\n",
       "        text-align: right;\n",
       "    }\n",
       "</style>\n",
       "<table border=\"1\" class=\"dataframe\">\n",
       "  <thead>\n",
       "    <tr style=\"text-align: right;\">\n",
       "      <th></th>\n",
       "      <th>age</th>\n",
       "      <th>income</th>\n",
       "      <th>frq</th>\n",
       "      <th>rcn</th>\n",
       "      <th>mnt</th>\n",
       "      <th>clothes</th>\n",
       "      <th>kitchen</th>\n",
       "      <th>small_appliances</th>\n",
       "      <th>toys</th>\n",
       "      <th>house_keeping</th>\n",
       "      <th>dependents</th>\n",
       "      <th>per_net_purchase</th>\n",
       "      <th>gender</th>\n",
       "      <th>education</th>\n",
       "      <th>status</th>\n",
       "      <th>description</th>\n",
       "    </tr>\n",
       "  </thead>\n",
       "  <tbody>\n",
       "    <tr>\n",
       "      <th>0</th>\n",
       "      <td>1946</td>\n",
       "      <td>90782</td>\n",
       "      <td>33</td>\n",
       "      <td>66</td>\n",
       "      <td>1402</td>\n",
       "      <td>37</td>\n",
       "      <td>5</td>\n",
       "      <td>44</td>\n",
       "      <td>10</td>\n",
       "      <td>3</td>\n",
       "      <td>0</td>\n",
       "      <td>19</td>\n",
       "      <td>M</td>\n",
       "      <td>Graduation</td>\n",
       "      <td>Together</td>\n",
       "      <td>Take my money!!</td>\n",
       "    </tr>\n",
       "    <tr>\n",
       "      <th>1</th>\n",
       "      <td>1936</td>\n",
       "      <td>113023</td>\n",
       "      <td>32</td>\n",
       "      <td>6</td>\n",
       "      <td>1537</td>\n",
       "      <td>55</td>\n",
       "      <td>1</td>\n",
       "      <td>38</td>\n",
       "      <td>4</td>\n",
       "      <td>2</td>\n",
       "      <td>0</td>\n",
       "      <td>9</td>\n",
       "      <td>F</td>\n",
       "      <td>PhD</td>\n",
       "      <td>Divorced</td>\n",
       "      <td>Take my money!!</td>\n",
       "    </tr>\n",
       "    <tr>\n",
       "      <th>2</th>\n",
       "      <td>1990</td>\n",
       "      <td>28344</td>\n",
       "      <td>11</td>\n",
       "      <td>69</td>\n",
       "      <td>44</td>\n",
       "      <td>32</td>\n",
       "      <td>19</td>\n",
       "      <td>24</td>\n",
       "      <td>1</td>\n",
       "      <td>24</td>\n",
       "      <td>1</td>\n",
       "      <td>59</td>\n",
       "      <td>M</td>\n",
       "      <td>Graduation</td>\n",
       "      <td>Married</td>\n",
       "      <td>Kind of OK</td>\n",
       "    </tr>\n",
       "    <tr>\n",
       "      <th>3</th>\n",
       "      <td>1955</td>\n",
       "      <td>93571</td>\n",
       "      <td>26</td>\n",
       "      <td>10</td>\n",
       "      <td>888</td>\n",
       "      <td>60</td>\n",
       "      <td>10</td>\n",
       "      <td>19</td>\n",
       "      <td>6</td>\n",
       "      <td>5</td>\n",
       "      <td>1</td>\n",
       "      <td>35</td>\n",
       "      <td>F</td>\n",
       "      <td>Master</td>\n",
       "      <td></td>\n",
       "      <td>OK nice!</td>\n",
       "    </tr>\n",
       "    <tr>\n",
       "      <th>4</th>\n",
       "      <td>1955</td>\n",
       "      <td>91852</td>\n",
       "      <td>31</td>\n",
       "      <td>26</td>\n",
       "      <td>1138</td>\n",
       "      <td>59</td>\n",
       "      <td>5</td>\n",
       "      <td>28</td>\n",
       "      <td>4</td>\n",
       "      <td>4</td>\n",
       "      <td>1</td>\n",
       "      <td>34</td>\n",
       "      <td>F</td>\n",
       "      <td>Graduation</td>\n",
       "      <td>Together</td>\n",
       "      <td>Take my money!!</td>\n",
       "    </tr>\n",
       "  </tbody>\n",
       "</table>\n",
       "</div>"
      ],
      "text/plain": [
       "    age  income  frq  rcn   mnt  clothes  kitchen  small_appliances  toys  \\\n",
       "0  1946   90782   33   66  1402       37        5                44    10   \n",
       "1  1936  113023   32    6  1537       55        1                38     4   \n",
       "2  1990   28344   11   69    44       32       19                24     1   \n",
       "3  1955   93571   26   10   888       60       10                19     6   \n",
       "4  1955   91852   31   26  1138       59        5                28     4   \n",
       "\n",
       "   house_keeping dependents  per_net_purchase gender   education    status  \\\n",
       "0              3          0                19      M  Graduation  Together   \n",
       "1              2          0                 9      F         PhD  Divorced   \n",
       "2             24          1                59      M  Graduation   Married   \n",
       "3              5          1                35      F      Master             \n",
       "4              4          1                34      F  Graduation  Together   \n",
       "\n",
       "       description  \n",
       "0  Take my money!!  \n",
       "1  Take my money!!  \n",
       "2       Kind of OK  \n",
       "3         OK nice!  \n",
       "4  Take my money!!  "
      ]
     },
     "execution_count": 14,
     "metadata": {},
     "output_type": "execute_result"
    }
   ],
   "source": [
    "df.head()"
   ]
  },
  {
   "cell_type": "code",
   "execution_count": 15,
   "metadata": {},
   "outputs": [
    {
     "data": {
      "application/vnd.microsoft.datawrangler.viewer.v0+json": {
       "columns": [
        {
         "name": "index",
         "rawType": "int64",
         "type": "integer"
        },
        {
         "name": "age",
         "rawType": "int64",
         "type": "integer"
        },
        {
         "name": "income",
         "rawType": "object",
         "type": "unknown"
        },
        {
         "name": "frq",
         "rawType": "int64",
         "type": "integer"
        },
        {
         "name": "rcn",
         "rawType": "int64",
         "type": "integer"
        },
        {
         "name": "mnt",
         "rawType": "int64",
         "type": "integer"
        },
        {
         "name": "clothes",
         "rawType": "int64",
         "type": "integer"
        },
        {
         "name": "kitchen",
         "rawType": "int64",
         "type": "integer"
        },
        {
         "name": "small_appliances",
         "rawType": "int64",
         "type": "integer"
        },
        {
         "name": "toys",
         "rawType": "int64",
         "type": "integer"
        },
        {
         "name": "house_keeping",
         "rawType": "int64",
         "type": "integer"
        },
        {
         "name": "dependents",
         "rawType": "object",
         "type": "unknown"
        },
        {
         "name": "per_net_purchase",
         "rawType": "int64",
         "type": "integer"
        },
        {
         "name": "gender",
         "rawType": "object",
         "type": "string"
        },
        {
         "name": "education",
         "rawType": "object",
         "type": "string"
        },
        {
         "name": "status",
         "rawType": "object",
         "type": "string"
        },
        {
         "name": "description",
         "rawType": "object",
         "type": "string"
        }
       ],
       "ref": "00999a97-0896-4785-bcc2-575423ed0495",
       "rows": [
        [
         "8993",
         "1960",
         "94367",
         "28",
         "1",
         "896",
         "68",
         "5",
         "21",
         "3",
         "4",
         "1",
         "55",
         "F",
         "1st Cycle",
         "Single",
         "Take my money!!"
        ],
        [
         "8994",
         "1975",
         "58121",
         "12",
         "6",
         "61",
         "53",
         "6",
         "28",
         "7",
         "6",
         "1",
         "71",
         "M",
         "2nd Cycle",
         "Single",
         "Meh..."
        ],
        [
         "8995",
         "1986",
         "54292",
         "29",
         "72",
         "1011",
         "41",
         "11",
         "36",
         "1",
         "11",
         "0",
         "31",
         "M",
         "Graduation",
         "Together",
         "Take my money!!"
        ],
        [
         "8996",
         "1938",
         "125962",
         "38",
         "75",
         "1668",
         "61",
         "2",
         "25",
         "5",
         "6",
         "1",
         "45",
         "M",
         "2nd Cycle",
         "Married",
         "Take my money!!"
        ],
        [
         "8997",
         "1994",
         "26385",
         "9",
         "24",
         "46",
         "5",
         "13",
         "21",
         "46",
         "15",
         "1",
         "52",
         "M",
         "1st Cycle",
         "Single",
         "Kind of OK"
        ]
       ],
       "shape": {
        "columns": 16,
        "rows": 5
       }
      },
      "text/html": [
       "<div>\n",
       "<style scoped>\n",
       "    .dataframe tbody tr th:only-of-type {\n",
       "        vertical-align: middle;\n",
       "    }\n",
       "\n",
       "    .dataframe tbody tr th {\n",
       "        vertical-align: top;\n",
       "    }\n",
       "\n",
       "    .dataframe thead th {\n",
       "        text-align: right;\n",
       "    }\n",
       "</style>\n",
       "<table border=\"1\" class=\"dataframe\">\n",
       "  <thead>\n",
       "    <tr style=\"text-align: right;\">\n",
       "      <th></th>\n",
       "      <th>age</th>\n",
       "      <th>income</th>\n",
       "      <th>frq</th>\n",
       "      <th>rcn</th>\n",
       "      <th>mnt</th>\n",
       "      <th>clothes</th>\n",
       "      <th>kitchen</th>\n",
       "      <th>small_appliances</th>\n",
       "      <th>toys</th>\n",
       "      <th>house_keeping</th>\n",
       "      <th>dependents</th>\n",
       "      <th>per_net_purchase</th>\n",
       "      <th>gender</th>\n",
       "      <th>education</th>\n",
       "      <th>status</th>\n",
       "      <th>description</th>\n",
       "    </tr>\n",
       "  </thead>\n",
       "  <tbody>\n",
       "    <tr>\n",
       "      <th>8993</th>\n",
       "      <td>1960</td>\n",
       "      <td>94367</td>\n",
       "      <td>28</td>\n",
       "      <td>1</td>\n",
       "      <td>896</td>\n",
       "      <td>68</td>\n",
       "      <td>5</td>\n",
       "      <td>21</td>\n",
       "      <td>3</td>\n",
       "      <td>4</td>\n",
       "      <td>1</td>\n",
       "      <td>55</td>\n",
       "      <td>F</td>\n",
       "      <td>1st Cycle</td>\n",
       "      <td>Single</td>\n",
       "      <td>Take my money!!</td>\n",
       "    </tr>\n",
       "    <tr>\n",
       "      <th>8994</th>\n",
       "      <td>1975</td>\n",
       "      <td>58121</td>\n",
       "      <td>12</td>\n",
       "      <td>6</td>\n",
       "      <td>61</td>\n",
       "      <td>53</td>\n",
       "      <td>6</td>\n",
       "      <td>28</td>\n",
       "      <td>7</td>\n",
       "      <td>6</td>\n",
       "      <td>1</td>\n",
       "      <td>71</td>\n",
       "      <td>M</td>\n",
       "      <td>2nd Cycle</td>\n",
       "      <td>Single</td>\n",
       "      <td>Meh...</td>\n",
       "    </tr>\n",
       "    <tr>\n",
       "      <th>8995</th>\n",
       "      <td>1986</td>\n",
       "      <td>54292</td>\n",
       "      <td>29</td>\n",
       "      <td>72</td>\n",
       "      <td>1011</td>\n",
       "      <td>41</td>\n",
       "      <td>11</td>\n",
       "      <td>36</td>\n",
       "      <td>1</td>\n",
       "      <td>11</td>\n",
       "      <td>0</td>\n",
       "      <td>31</td>\n",
       "      <td>M</td>\n",
       "      <td>Graduation</td>\n",
       "      <td>Together</td>\n",
       "      <td>Take my money!!</td>\n",
       "    </tr>\n",
       "    <tr>\n",
       "      <th>8996</th>\n",
       "      <td>1938</td>\n",
       "      <td>125962</td>\n",
       "      <td>38</td>\n",
       "      <td>75</td>\n",
       "      <td>1668</td>\n",
       "      <td>61</td>\n",
       "      <td>2</td>\n",
       "      <td>25</td>\n",
       "      <td>5</td>\n",
       "      <td>6</td>\n",
       "      <td>1</td>\n",
       "      <td>45</td>\n",
       "      <td>M</td>\n",
       "      <td>2nd Cycle</td>\n",
       "      <td>Married</td>\n",
       "      <td>Take my money!!</td>\n",
       "    </tr>\n",
       "    <tr>\n",
       "      <th>8997</th>\n",
       "      <td>1994</td>\n",
       "      <td>26385</td>\n",
       "      <td>9</td>\n",
       "      <td>24</td>\n",
       "      <td>46</td>\n",
       "      <td>5</td>\n",
       "      <td>13</td>\n",
       "      <td>21</td>\n",
       "      <td>46</td>\n",
       "      <td>15</td>\n",
       "      <td>1</td>\n",
       "      <td>52</td>\n",
       "      <td>M</td>\n",
       "      <td>1st Cycle</td>\n",
       "      <td>Single</td>\n",
       "      <td>Kind of OK</td>\n",
       "    </tr>\n",
       "  </tbody>\n",
       "</table>\n",
       "</div>"
      ],
      "text/plain": [
       "       age  income  frq  rcn   mnt  clothes  kitchen  small_appliances  toys  \\\n",
       "8993  1960   94367   28    1   896       68        5                21     3   \n",
       "8994  1975   58121   12    6    61       53        6                28     7   \n",
       "8995  1986   54292   29   72  1011       41       11                36     1   \n",
       "8996  1938  125962   38   75  1668       61        2                25     5   \n",
       "8997  1994   26385    9   24    46        5       13                21    46   \n",
       "\n",
       "      house_keeping dependents  per_net_purchase gender   education    status  \\\n",
       "8993              4          1                55      F   1st Cycle    Single   \n",
       "8994              6          1                71      M   2nd Cycle    Single   \n",
       "8995             11          0                31      M  Graduation  Together   \n",
       "8996              6          1                45      M   2nd Cycle   Married   \n",
       "8997             15          1                52      M   1st Cycle    Single   \n",
       "\n",
       "          description  \n",
       "8993  Take my money!!  \n",
       "8994           Meh...  \n",
       "8995  Take my money!!  \n",
       "8996  Take my money!!  \n",
       "8997       Kind of OK  "
      ]
     },
     "execution_count": 15,
     "metadata": {},
     "output_type": "execute_result"
    }
   ],
   "source": [
    "df.tail()"
   ]
  },
  {
   "cell_type": "markdown",
   "metadata": {},
   "source": [
    "## Let's do some operations on our data"
   ]
  },
  {
   "cell_type": "markdown",
   "metadata": {
    "id": "AhPoIQDNBcgs"
   },
   "source": [
    "### Taking a subset of data\n",
    "\n",
    "You can take a subset with fewer columns by giving a **list** of features:"
   ]
  },
  {
   "cell_type": "code",
   "execution_count": 16,
   "metadata": {
    "id": "__BXNdwxBgDo"
   },
   "outputs": [
    {
     "data": {
      "application/vnd.microsoft.datawrangler.viewer.v0+json": {
       "columns": [
        {
         "name": "index",
         "rawType": "int64",
         "type": "integer"
        },
        {
         "name": "age",
         "rawType": "int64",
         "type": "integer"
        },
        {
         "name": "education",
         "rawType": "object",
         "type": "string"
        }
       ],
       "ref": "51435102-4260-4ff9-8b18-3747c11ce797",
       "rows": [
        [
         "0",
         "1946",
         "Graduation"
        ],
        [
         "1",
         "1936",
         "PhD"
        ],
        [
         "2",
         "1990",
         "Graduation"
        ],
        [
         "3",
         "1955",
         "Master"
        ],
        [
         "4",
         "1955",
         "Graduation"
        ],
        [
         "5",
         "1982",
         "PhD"
        ],
        [
         "6",
         "1969",
         "Graduation"
        ],
        [
         "7",
         "1960",
         "Graduation"
        ],
        [
         "8",
         "1940",
         "Graduation"
        ],
        [
         "9",
         "1994",
         "1st Cycle"
        ],
        [
         "10",
         "1949",
         "Master"
        ],
        [
         "11",
         "1957",
         "Graduation"
        ],
        [
         "12",
         "1954",
         "2nd Cycle"
        ],
        [
         "13",
         "1979",
         "Graduation"
        ],
        [
         "14",
         "1982",
         "PhD"
        ],
        [
         "15",
         "1992",
         "Graduation"
        ],
        [
         "16",
         "1938",
         "2nd Cycle"
        ],
        [
         "17",
         "1990",
         "Graduation"
        ],
        [
         "18",
         "1988",
         "2nd Cycle"
        ],
        [
         "19",
         "1947",
         "1st Cycle"
        ],
        [
         "20",
         "1995",
         "1st Cycle"
        ],
        [
         "21",
         "1982",
         "Graduation"
        ],
        [
         "22",
         "1981",
         "Master"
        ],
        [
         "23",
         "1946",
         "2nd Cycle"
        ],
        [
         "24",
         "1971",
         "Master"
        ],
        [
         "25",
         "1976",
         "Graduation"
        ],
        [
         "26",
         "1961",
         "2nd Cycle"
        ],
        [
         "27",
         "1986",
         "Master"
        ],
        [
         "28",
         "1940",
         "2nd Cycle"
        ],
        [
         "29",
         "1982",
         "2nd Cycle"
        ],
        [
         "30",
         "1973",
         "Graduation"
        ],
        [
         "31",
         "1967",
         "Graduation"
        ],
        [
         "32",
         "1955",
         "PhD"
        ],
        [
         "33",
         "1976",
         "1st Cycle"
        ],
        [
         "34",
         "1936",
         "1st Cycle"
        ],
        [
         "35",
         "1996",
         "1st Cycle"
        ],
        [
         "36",
         "1979",
         "Graduation"
        ],
        [
         "37",
         "1996",
         "1st Cycle"
        ],
        [
         "38",
         "1958",
         "Graduation"
        ],
        [
         "39",
         "1995",
         "1st Cycle"
        ],
        [
         "40",
         "1959",
         "Graduation"
        ],
        [
         "41",
         "1955",
         "PhD"
        ],
        [
         "42",
         "1979",
         "2nd Cycle"
        ],
        [
         "43",
         "1954",
         "Graduation"
        ],
        [
         "44",
         "1979",
         "Graduation"
        ],
        [
         "45",
         "1986",
         "Graduation"
        ],
        [
         "46",
         "1940",
         "1st Cycle"
        ],
        [
         "47",
         "1964",
         "Graduation"
        ],
        [
         "48",
         "1965",
         "2nd Cycle"
        ],
        [
         "49",
         "1995",
         "1st Cycle"
        ]
       ],
       "shape": {
        "columns": 2,
        "rows": 8998
       }
      },
      "text/html": [
       "<div>\n",
       "<style scoped>\n",
       "    .dataframe tbody tr th:only-of-type {\n",
       "        vertical-align: middle;\n",
       "    }\n",
       "\n",
       "    .dataframe tbody tr th {\n",
       "        vertical-align: top;\n",
       "    }\n",
       "\n",
       "    .dataframe thead th {\n",
       "        text-align: right;\n",
       "    }\n",
       "</style>\n",
       "<table border=\"1\" class=\"dataframe\">\n",
       "  <thead>\n",
       "    <tr style=\"text-align: right;\">\n",
       "      <th></th>\n",
       "      <th>age</th>\n",
       "      <th>education</th>\n",
       "    </tr>\n",
       "  </thead>\n",
       "  <tbody>\n",
       "    <tr>\n",
       "      <th>0</th>\n",
       "      <td>1946</td>\n",
       "      <td>Graduation</td>\n",
       "    </tr>\n",
       "    <tr>\n",
       "      <th>1</th>\n",
       "      <td>1936</td>\n",
       "      <td>PhD</td>\n",
       "    </tr>\n",
       "    <tr>\n",
       "      <th>2</th>\n",
       "      <td>1990</td>\n",
       "      <td>Graduation</td>\n",
       "    </tr>\n",
       "    <tr>\n",
       "      <th>3</th>\n",
       "      <td>1955</td>\n",
       "      <td>Master</td>\n",
       "    </tr>\n",
       "    <tr>\n",
       "      <th>4</th>\n",
       "      <td>1955</td>\n",
       "      <td>Graduation</td>\n",
       "    </tr>\n",
       "    <tr>\n",
       "      <th>...</th>\n",
       "      <td>...</td>\n",
       "      <td>...</td>\n",
       "    </tr>\n",
       "    <tr>\n",
       "      <th>8993</th>\n",
       "      <td>1960</td>\n",
       "      <td>1st Cycle</td>\n",
       "    </tr>\n",
       "    <tr>\n",
       "      <th>8994</th>\n",
       "      <td>1975</td>\n",
       "      <td>2nd Cycle</td>\n",
       "    </tr>\n",
       "    <tr>\n",
       "      <th>8995</th>\n",
       "      <td>1986</td>\n",
       "      <td>Graduation</td>\n",
       "    </tr>\n",
       "    <tr>\n",
       "      <th>8996</th>\n",
       "      <td>1938</td>\n",
       "      <td>2nd Cycle</td>\n",
       "    </tr>\n",
       "    <tr>\n",
       "      <th>8997</th>\n",
       "      <td>1994</td>\n",
       "      <td>1st Cycle</td>\n",
       "    </tr>\n",
       "  </tbody>\n",
       "</table>\n",
       "<p>8998 rows × 2 columns</p>\n",
       "</div>"
      ],
      "text/plain": [
       "       age   education\n",
       "0     1946  Graduation\n",
       "1     1936         PhD\n",
       "2     1990  Graduation\n",
       "3     1955      Master\n",
       "4     1955  Graduation\n",
       "...    ...         ...\n",
       "8993  1960   1st Cycle\n",
       "8994  1975   2nd Cycle\n",
       "8995  1986  Graduation\n",
       "8996  1938   2nd Cycle\n",
       "8997  1994   1st Cycle\n",
       "\n",
       "[8998 rows x 2 columns]"
      ]
     },
     "execution_count": 16,
     "metadata": {},
     "output_type": "execute_result"
    }
   ],
   "source": [
    "## Notice that we use two sets of square brackets\n",
    "\n",
    "df[['age', 'education']]"
   ]
  },
  {
   "cell_type": "markdown",
   "metadata": {
    "id": "Z_o-dIDlFxVK"
   },
   "source": [
    "You can select a single column of data by providing the name of a single column. This returns a \"Series\", instead of a DataFrame."
   ]
  },
  {
   "cell_type": "code",
   "execution_count": 17,
   "metadata": {},
   "outputs": [
    {
     "data": {
      "application/vnd.microsoft.datawrangler.viewer.v0+json": {
       "columns": [
        {
         "name": "index",
         "rawType": "int64",
         "type": "integer"
        },
        {
         "name": "age",
         "rawType": "int64",
         "type": "integer"
        }
       ],
       "ref": "297b3822-96ee-4477-ab7b-8256678e77ab",
       "rows": [
        [
         "0",
         "1946"
        ],
        [
         "1",
         "1936"
        ],
        [
         "2",
         "1990"
        ],
        [
         "3",
         "1955"
        ],
        [
         "4",
         "1955"
        ],
        [
         "5",
         "1982"
        ],
        [
         "6",
         "1969"
        ],
        [
         "7",
         "1960"
        ],
        [
         "8",
         "1940"
        ],
        [
         "9",
         "1994"
        ],
        [
         "10",
         "1949"
        ],
        [
         "11",
         "1957"
        ],
        [
         "12",
         "1954"
        ],
        [
         "13",
         "1979"
        ],
        [
         "14",
         "1982"
        ],
        [
         "15",
         "1992"
        ],
        [
         "16",
         "1938"
        ],
        [
         "17",
         "1990"
        ],
        [
         "18",
         "1988"
        ],
        [
         "19",
         "1947"
        ],
        [
         "20",
         "1995"
        ],
        [
         "21",
         "1982"
        ],
        [
         "22",
         "1981"
        ],
        [
         "23",
         "1946"
        ],
        [
         "24",
         "1971"
        ],
        [
         "25",
         "1976"
        ],
        [
         "26",
         "1961"
        ],
        [
         "27",
         "1986"
        ],
        [
         "28",
         "1940"
        ],
        [
         "29",
         "1982"
        ],
        [
         "30",
         "1973"
        ],
        [
         "31",
         "1967"
        ],
        [
         "32",
         "1955"
        ],
        [
         "33",
         "1976"
        ],
        [
         "34",
         "1936"
        ],
        [
         "35",
         "1996"
        ],
        [
         "36",
         "1979"
        ],
        [
         "37",
         "1996"
        ],
        [
         "38",
         "1958"
        ],
        [
         "39",
         "1995"
        ],
        [
         "40",
         "1959"
        ],
        [
         "41",
         "1955"
        ],
        [
         "42",
         "1979"
        ],
        [
         "43",
         "1954"
        ],
        [
         "44",
         "1979"
        ],
        [
         "45",
         "1986"
        ],
        [
         "46",
         "1940"
        ],
        [
         "47",
         "1964"
        ],
        [
         "48",
         "1965"
        ],
        [
         "49",
         "1995"
        ]
       ],
       "shape": {
        "columns": 1,
        "rows": 8998
       }
      },
      "text/plain": [
       "0       1946\n",
       "1       1936\n",
       "2       1990\n",
       "3       1955\n",
       "4       1955\n",
       "        ... \n",
       "8993    1960\n",
       "8994    1975\n",
       "8995    1986\n",
       "8996    1938\n",
       "8997    1994\n",
       "Name: age, Length: 8998, dtype: int64"
      ]
     },
     "execution_count": 17,
     "metadata": {},
     "output_type": "execute_result"
    }
   ],
   "source": [
    "# How to get the values of one column of data?\n",
    "# Different ways to access the values of a column\n",
    "\n",
    "df['age']\n",
    "df.age\n",
    "df.loc[:,'age']\n"
   ]
  },
  {
   "cell_type": "code",
   "execution_count": 18,
   "metadata": {
    "id": "FtLBSpKOBgL_"
   },
   "outputs": [
    {
     "data": {
      "application/vnd.microsoft.datawrangler.viewer.v0+json": {
       "columns": [
        {
         "name": "index",
         "rawType": "int64",
         "type": "integer"
        },
        {
         "name": "age",
         "rawType": "int64",
         "type": "integer"
        }
       ],
       "ref": "b721aba3-d539-43f6-9b1c-788fbe57d1b4",
       "rows": [
        [
         "0",
         "1946"
        ],
        [
         "1",
         "1936"
        ],
        [
         "2",
         "1990"
        ],
        [
         "3",
         "1955"
        ],
        [
         "4",
         "1955"
        ],
        [
         "5",
         "1982"
        ],
        [
         "6",
         "1969"
        ],
        [
         "7",
         "1960"
        ],
        [
         "8",
         "1940"
        ],
        [
         "9",
         "1994"
        ],
        [
         "10",
         "1949"
        ],
        [
         "11",
         "1957"
        ],
        [
         "12",
         "1954"
        ],
        [
         "13",
         "1979"
        ],
        [
         "14",
         "1982"
        ],
        [
         "15",
         "1992"
        ],
        [
         "16",
         "1938"
        ],
        [
         "17",
         "1990"
        ],
        [
         "18",
         "1988"
        ],
        [
         "19",
         "1947"
        ],
        [
         "20",
         "1995"
        ],
        [
         "21",
         "1982"
        ],
        [
         "22",
         "1981"
        ],
        [
         "23",
         "1946"
        ],
        [
         "24",
         "1971"
        ],
        [
         "25",
         "1976"
        ],
        [
         "26",
         "1961"
        ],
        [
         "27",
         "1986"
        ],
        [
         "28",
         "1940"
        ],
        [
         "29",
         "1982"
        ],
        [
         "30",
         "1973"
        ],
        [
         "31",
         "1967"
        ],
        [
         "32",
         "1955"
        ],
        [
         "33",
         "1976"
        ],
        [
         "34",
         "1936"
        ],
        [
         "35",
         "1996"
        ],
        [
         "36",
         "1979"
        ],
        [
         "37",
         "1996"
        ],
        [
         "38",
         "1958"
        ],
        [
         "39",
         "1995"
        ],
        [
         "40",
         "1959"
        ],
        [
         "41",
         "1955"
        ],
        [
         "42",
         "1979"
        ],
        [
         "43",
         "1954"
        ],
        [
         "44",
         "1979"
        ],
        [
         "45",
         "1986"
        ],
        [
         "46",
         "1940"
        ],
        [
         "47",
         "1964"
        ],
        [
         "48",
         "1965"
        ],
        [
         "49",
         "1995"
        ]
       ],
       "shape": {
        "columns": 1,
        "rows": 8998
       }
      },
      "text/plain": [
       "0       1946\n",
       "1       1936\n",
       "2       1990\n",
       "3       1955\n",
       "4       1955\n",
       "        ... \n",
       "8993    1960\n",
       "8994    1975\n",
       "8995    1986\n",
       "8996    1938\n",
       "8997    1994\n",
       "Name: age, Length: 8998, dtype: int64"
      ]
     },
     "execution_count": 18,
     "metadata": {},
     "output_type": "execute_result"
    }
   ],
   "source": [
    "\n",
    "df['age']"
   ]
  },
  {
   "cell_type": "code",
   "execution_count": 19,
   "metadata": {
    "id": "NH94_CkIGLjY"
   },
   "outputs": [
    {
     "data": {
      "application/vnd.microsoft.datawrangler.viewer.v0+json": {
       "columns": [
        {
         "name": "index",
         "rawType": "int64",
         "type": "integer"
        },
        {
         "name": "age",
         "rawType": "int64",
         "type": "integer"
        }
       ],
       "ref": "ae628fa8-c978-4f6d-b7c9-db95c91fe477",
       "rows": [
        [
         "0",
         "1946"
        ],
        [
         "1",
         "1936"
        ],
        [
         "2",
         "1990"
        ],
        [
         "3",
         "1955"
        ],
        [
         "4",
         "1955"
        ],
        [
         "5",
         "1982"
        ],
        [
         "6",
         "1969"
        ],
        [
         "7",
         "1960"
        ],
        [
         "8",
         "1940"
        ],
        [
         "9",
         "1994"
        ],
        [
         "10",
         "1949"
        ],
        [
         "11",
         "1957"
        ],
        [
         "12",
         "1954"
        ],
        [
         "13",
         "1979"
        ],
        [
         "14",
         "1982"
        ],
        [
         "15",
         "1992"
        ],
        [
         "16",
         "1938"
        ],
        [
         "17",
         "1990"
        ],
        [
         "18",
         "1988"
        ],
        [
         "19",
         "1947"
        ],
        [
         "20",
         "1995"
        ],
        [
         "21",
         "1982"
        ],
        [
         "22",
         "1981"
        ],
        [
         "23",
         "1946"
        ],
        [
         "24",
         "1971"
        ],
        [
         "25",
         "1976"
        ],
        [
         "26",
         "1961"
        ],
        [
         "27",
         "1986"
        ],
        [
         "28",
         "1940"
        ],
        [
         "29",
         "1982"
        ],
        [
         "30",
         "1973"
        ],
        [
         "31",
         "1967"
        ],
        [
         "32",
         "1955"
        ],
        [
         "33",
         "1976"
        ],
        [
         "34",
         "1936"
        ],
        [
         "35",
         "1996"
        ],
        [
         "36",
         "1979"
        ],
        [
         "37",
         "1996"
        ],
        [
         "38",
         "1958"
        ],
        [
         "39",
         "1995"
        ],
        [
         "40",
         "1959"
        ],
        [
         "41",
         "1955"
        ],
        [
         "42",
         "1979"
        ],
        [
         "43",
         "1954"
        ],
        [
         "44",
         "1979"
        ],
        [
         "45",
         "1986"
        ],
        [
         "46",
         "1940"
        ],
        [
         "47",
         "1964"
        ],
        [
         "48",
         "1965"
        ],
        [
         "49",
         "1995"
        ]
       ],
       "shape": {
        "columns": 1,
        "rows": 8998
       }
      },
      "text/html": [
       "<div>\n",
       "<style scoped>\n",
       "    .dataframe tbody tr th:only-of-type {\n",
       "        vertical-align: middle;\n",
       "    }\n",
       "\n",
       "    .dataframe tbody tr th {\n",
       "        vertical-align: top;\n",
       "    }\n",
       "\n",
       "    .dataframe thead th {\n",
       "        text-align: right;\n",
       "    }\n",
       "</style>\n",
       "<table border=\"1\" class=\"dataframe\">\n",
       "  <thead>\n",
       "    <tr style=\"text-align: right;\">\n",
       "      <th></th>\n",
       "      <th>age</th>\n",
       "    </tr>\n",
       "  </thead>\n",
       "  <tbody>\n",
       "    <tr>\n",
       "      <th>0</th>\n",
       "      <td>1946</td>\n",
       "    </tr>\n",
       "    <tr>\n",
       "      <th>1</th>\n",
       "      <td>1936</td>\n",
       "    </tr>\n",
       "    <tr>\n",
       "      <th>2</th>\n",
       "      <td>1990</td>\n",
       "    </tr>\n",
       "    <tr>\n",
       "      <th>3</th>\n",
       "      <td>1955</td>\n",
       "    </tr>\n",
       "    <tr>\n",
       "      <th>4</th>\n",
       "      <td>1955</td>\n",
       "    </tr>\n",
       "    <tr>\n",
       "      <th>...</th>\n",
       "      <td>...</td>\n",
       "    </tr>\n",
       "    <tr>\n",
       "      <th>8993</th>\n",
       "      <td>1960</td>\n",
       "    </tr>\n",
       "    <tr>\n",
       "      <th>8994</th>\n",
       "      <td>1975</td>\n",
       "    </tr>\n",
       "    <tr>\n",
       "      <th>8995</th>\n",
       "      <td>1986</td>\n",
       "    </tr>\n",
       "    <tr>\n",
       "      <th>8996</th>\n",
       "      <td>1938</td>\n",
       "    </tr>\n",
       "    <tr>\n",
       "      <th>8997</th>\n",
       "      <td>1994</td>\n",
       "    </tr>\n",
       "  </tbody>\n",
       "</table>\n",
       "<p>8998 rows × 1 columns</p>\n",
       "</div>"
      ],
      "text/plain": [
       "       age\n",
       "0     1946\n",
       "1     1936\n",
       "2     1990\n",
       "3     1955\n",
       "4     1955\n",
       "...    ...\n",
       "8993  1960\n",
       "8994  1975\n",
       "8995  1986\n",
       "8996  1938\n",
       "8997  1994\n",
       "\n",
       "[8998 rows x 1 columns]"
      ]
     },
     "execution_count": 19,
     "metadata": {},
     "output_type": "execute_result"
    }
   ],
   "source": [
    "## Notice the difference\n",
    "\n",
    "df[['age']]"
   ]
  },
  {
   "cell_type": "code",
   "execution_count": 20,
   "metadata": {},
   "outputs": [
    {
     "data": {
      "text/plain": [
       "array(['Graduation', 'PhD', 'Master', '1st Cycle', '2nd Cycle',\n",
       "       'OldSchool', ''], dtype=object)"
      ]
     },
     "execution_count": 20,
     "metadata": {},
     "output_type": "execute_result"
    }
   ],
   "source": [
    "# How to get the unique values of one column of data?\n",
    "\n",
    "df['education'].unique()\n"
   ]
  },
  {
   "cell_type": "markdown",
   "metadata": {
    "id": "VdcvPUwCGrvU"
   },
   "source": [
    "#### What about a subset of rows?"
   ]
  },
  {
   "cell_type": "code",
   "execution_count": 21,
   "metadata": {
    "id": "7CreEhBkGuhC"
   },
   "outputs": [
    {
     "data": {
      "application/vnd.microsoft.datawrangler.viewer.v0+json": {
       "columns": [
        {
         "name": "index",
         "rawType": "int64",
         "type": "integer"
        },
        {
         "name": "age",
         "rawType": "int64",
         "type": "integer"
        },
        {
         "name": "income",
         "rawType": "object",
         "type": "unknown"
        },
        {
         "name": "frq",
         "rawType": "int64",
         "type": "integer"
        },
        {
         "name": "rcn",
         "rawType": "int64",
         "type": "integer"
        },
        {
         "name": "mnt",
         "rawType": "int64",
         "type": "integer"
        },
        {
         "name": "clothes",
         "rawType": "int64",
         "type": "integer"
        },
        {
         "name": "kitchen",
         "rawType": "int64",
         "type": "integer"
        },
        {
         "name": "small_appliances",
         "rawType": "int64",
         "type": "integer"
        },
        {
         "name": "toys",
         "rawType": "int64",
         "type": "integer"
        },
        {
         "name": "house_keeping",
         "rawType": "int64",
         "type": "integer"
        },
        {
         "name": "dependents",
         "rawType": "object",
         "type": "unknown"
        },
        {
         "name": "per_net_purchase",
         "rawType": "int64",
         "type": "integer"
        },
        {
         "name": "gender",
         "rawType": "object",
         "type": "string"
        },
        {
         "name": "education",
         "rawType": "object",
         "type": "string"
        },
        {
         "name": "status",
         "rawType": "object",
         "type": "string"
        },
        {
         "name": "description",
         "rawType": "object",
         "type": "string"
        }
       ],
       "ref": "9a825b06-2a8b-4861-a39b-dd708a1424c1",
       "rows": [
        [
         "0",
         "1946",
         "90782",
         "33",
         "66",
         "1402",
         "37",
         "5",
         "44",
         "10",
         "3",
         "0",
         "19",
         "M",
         "Graduation",
         "Together",
         "Take my money!!"
        ],
        [
         "1",
         "1936",
         "113023",
         "32",
         "6",
         "1537",
         "55",
         "1",
         "38",
         "4",
         "2",
         "0",
         "9",
         "F",
         "PhD",
         "Divorced",
         "Take my money!!"
        ],
        [
         "2",
         "1990",
         "28344",
         "11",
         "69",
         "44",
         "32",
         "19",
         "24",
         "1",
         "24",
         "1",
         "59",
         "M",
         "Graduation",
         "Married",
         "Kind of OK"
        ],
        [
         "3",
         "1955",
         "93571",
         "26",
         "10",
         "888",
         "60",
         "10",
         "19",
         "6",
         "5",
         "1",
         "35",
         "F",
         "Master",
         "",
         "OK nice!"
        ],
        [
         "4",
         "1955",
         "91852",
         "31",
         "26",
         "1138",
         "59",
         "5",
         "28",
         "4",
         "4",
         "1",
         "34",
         "F",
         "Graduation",
         "Together",
         "Take my money!!"
        ]
       ],
       "shape": {
        "columns": 16,
        "rows": 5
       }
      },
      "text/html": [
       "<div>\n",
       "<style scoped>\n",
       "    .dataframe tbody tr th:only-of-type {\n",
       "        vertical-align: middle;\n",
       "    }\n",
       "\n",
       "    .dataframe tbody tr th {\n",
       "        vertical-align: top;\n",
       "    }\n",
       "\n",
       "    .dataframe thead th {\n",
       "        text-align: right;\n",
       "    }\n",
       "</style>\n",
       "<table border=\"1\" class=\"dataframe\">\n",
       "  <thead>\n",
       "    <tr style=\"text-align: right;\">\n",
       "      <th></th>\n",
       "      <th>age</th>\n",
       "      <th>income</th>\n",
       "      <th>frq</th>\n",
       "      <th>rcn</th>\n",
       "      <th>mnt</th>\n",
       "      <th>clothes</th>\n",
       "      <th>kitchen</th>\n",
       "      <th>small_appliances</th>\n",
       "      <th>toys</th>\n",
       "      <th>house_keeping</th>\n",
       "      <th>dependents</th>\n",
       "      <th>per_net_purchase</th>\n",
       "      <th>gender</th>\n",
       "      <th>education</th>\n",
       "      <th>status</th>\n",
       "      <th>description</th>\n",
       "    </tr>\n",
       "  </thead>\n",
       "  <tbody>\n",
       "    <tr>\n",
       "      <th>0</th>\n",
       "      <td>1946</td>\n",
       "      <td>90782</td>\n",
       "      <td>33</td>\n",
       "      <td>66</td>\n",
       "      <td>1402</td>\n",
       "      <td>37</td>\n",
       "      <td>5</td>\n",
       "      <td>44</td>\n",
       "      <td>10</td>\n",
       "      <td>3</td>\n",
       "      <td>0</td>\n",
       "      <td>19</td>\n",
       "      <td>M</td>\n",
       "      <td>Graduation</td>\n",
       "      <td>Together</td>\n",
       "      <td>Take my money!!</td>\n",
       "    </tr>\n",
       "    <tr>\n",
       "      <th>1</th>\n",
       "      <td>1936</td>\n",
       "      <td>113023</td>\n",
       "      <td>32</td>\n",
       "      <td>6</td>\n",
       "      <td>1537</td>\n",
       "      <td>55</td>\n",
       "      <td>1</td>\n",
       "      <td>38</td>\n",
       "      <td>4</td>\n",
       "      <td>2</td>\n",
       "      <td>0</td>\n",
       "      <td>9</td>\n",
       "      <td>F</td>\n",
       "      <td>PhD</td>\n",
       "      <td>Divorced</td>\n",
       "      <td>Take my money!!</td>\n",
       "    </tr>\n",
       "    <tr>\n",
       "      <th>2</th>\n",
       "      <td>1990</td>\n",
       "      <td>28344</td>\n",
       "      <td>11</td>\n",
       "      <td>69</td>\n",
       "      <td>44</td>\n",
       "      <td>32</td>\n",
       "      <td>19</td>\n",
       "      <td>24</td>\n",
       "      <td>1</td>\n",
       "      <td>24</td>\n",
       "      <td>1</td>\n",
       "      <td>59</td>\n",
       "      <td>M</td>\n",
       "      <td>Graduation</td>\n",
       "      <td>Married</td>\n",
       "      <td>Kind of OK</td>\n",
       "    </tr>\n",
       "    <tr>\n",
       "      <th>3</th>\n",
       "      <td>1955</td>\n",
       "      <td>93571</td>\n",
       "      <td>26</td>\n",
       "      <td>10</td>\n",
       "      <td>888</td>\n",
       "      <td>60</td>\n",
       "      <td>10</td>\n",
       "      <td>19</td>\n",
       "      <td>6</td>\n",
       "      <td>5</td>\n",
       "      <td>1</td>\n",
       "      <td>35</td>\n",
       "      <td>F</td>\n",
       "      <td>Master</td>\n",
       "      <td></td>\n",
       "      <td>OK nice!</td>\n",
       "    </tr>\n",
       "    <tr>\n",
       "      <th>4</th>\n",
       "      <td>1955</td>\n",
       "      <td>91852</td>\n",
       "      <td>31</td>\n",
       "      <td>26</td>\n",
       "      <td>1138</td>\n",
       "      <td>59</td>\n",
       "      <td>5</td>\n",
       "      <td>28</td>\n",
       "      <td>4</td>\n",
       "      <td>4</td>\n",
       "      <td>1</td>\n",
       "      <td>34</td>\n",
       "      <td>F</td>\n",
       "      <td>Graduation</td>\n",
       "      <td>Together</td>\n",
       "      <td>Take my money!!</td>\n",
       "    </tr>\n",
       "  </tbody>\n",
       "</table>\n",
       "</div>"
      ],
      "text/plain": [
       "    age  income  frq  rcn   mnt  clothes  kitchen  small_appliances  toys  \\\n",
       "0  1946   90782   33   66  1402       37        5                44    10   \n",
       "1  1936  113023   32    6  1537       55        1                38     4   \n",
       "2  1990   28344   11   69    44       32       19                24     1   \n",
       "3  1955   93571   26   10   888       60       10                19     6   \n",
       "4  1955   91852   31   26  1138       59        5                28     4   \n",
       "\n",
       "   house_keeping dependents  per_net_purchase gender   education    status  \\\n",
       "0              3          0                19      M  Graduation  Together   \n",
       "1              2          0                 9      F         PhD  Divorced   \n",
       "2             24          1                59      M  Graduation   Married   \n",
       "3              5          1                35      F      Master             \n",
       "4              4          1                34      F  Graduation  Together   \n",
       "\n",
       "       description  \n",
       "0  Take my money!!  \n",
       "1  Take my money!!  \n",
       "2       Kind of OK  \n",
       "3         OK nice!  \n",
       "4  Take my money!!  "
      ]
     },
     "execution_count": 21,
     "metadata": {},
     "output_type": "execute_result"
    }
   ],
   "source": [
    "df.loc[[0,1,2,3,4]]"
   ]
  },
  {
   "cell_type": "code",
   "execution_count": 22,
   "metadata": {
    "id": "uWItyeZQGudM"
   },
   "outputs": [
    {
     "data": {
      "application/vnd.microsoft.datawrangler.viewer.v0+json": {
       "columns": [
        {
         "name": "index",
         "rawType": "int64",
         "type": "integer"
        },
        {
         "name": "age",
         "rawType": "int64",
         "type": "integer"
        },
        {
         "name": "income",
         "rawType": "object",
         "type": "unknown"
        },
        {
         "name": "frq",
         "rawType": "int64",
         "type": "integer"
        },
        {
         "name": "rcn",
         "rawType": "int64",
         "type": "integer"
        },
        {
         "name": "mnt",
         "rawType": "int64",
         "type": "integer"
        },
        {
         "name": "clothes",
         "rawType": "int64",
         "type": "integer"
        },
        {
         "name": "kitchen",
         "rawType": "int64",
         "type": "integer"
        },
        {
         "name": "small_appliances",
         "rawType": "int64",
         "type": "integer"
        },
        {
         "name": "toys",
         "rawType": "int64",
         "type": "integer"
        },
        {
         "name": "house_keeping",
         "rawType": "int64",
         "type": "integer"
        },
        {
         "name": "dependents",
         "rawType": "object",
         "type": "unknown"
        },
        {
         "name": "per_net_purchase",
         "rawType": "int64",
         "type": "integer"
        },
        {
         "name": "gender",
         "rawType": "object",
         "type": "string"
        },
        {
         "name": "education",
         "rawType": "object",
         "type": "string"
        },
        {
         "name": "status",
         "rawType": "object",
         "type": "string"
        },
        {
         "name": "description",
         "rawType": "object",
         "type": "string"
        }
       ],
       "ref": "b5c11e16-485d-44ae-b2b5-c80e40455e4e",
       "rows": [
        [
         "10",
         "1949",
         "97492",
         "20",
         "93",
         "774",
         "37",
         "16",
         "33",
         "9",
         "5",
         "0",
         "15",
         "M",
         "Master",
         "Single",
         "OK nice!"
        ],
        [
         "11",
         "1957",
         "75436",
         "17",
         "32",
         "491",
         "60",
         "4",
         "33",
         "2",
         "1",
         "1",
         "29",
         "M",
         "Graduation",
         "Together",
         "OK nice!"
        ],
        [
         "12",
         "1954",
         "95586",
         "32",
         "54",
         "1407",
         "27",
         "3",
         "39",
         "20",
         "11",
         "0",
         "23",
         "F",
         "2nd Cycle",
         "Widow",
         "Take my money!!"
        ],
        [
         "13",
         "1979",
         "57997",
         "10",
         "28",
         "81",
         "77",
         "0",
         "21",
         "1",
         "0",
         "1",
         "52",
         "M",
         "Graduation",
         "Married",
         "Meh..."
        ],
        [
         "14",
         "1982",
         "50289",
         "10",
         "231",
         "20",
         "46",
         "0",
         "33",
         "16",
         "5",
         "1",
         "70",
         "M",
         "PhD",
         "Together",
         "Meh..."
        ]
       ],
       "shape": {
        "columns": 16,
        "rows": 5
       }
      },
      "text/html": [
       "<div>\n",
       "<style scoped>\n",
       "    .dataframe tbody tr th:only-of-type {\n",
       "        vertical-align: middle;\n",
       "    }\n",
       "\n",
       "    .dataframe tbody tr th {\n",
       "        vertical-align: top;\n",
       "    }\n",
       "\n",
       "    .dataframe thead th {\n",
       "        text-align: right;\n",
       "    }\n",
       "</style>\n",
       "<table border=\"1\" class=\"dataframe\">\n",
       "  <thead>\n",
       "    <tr style=\"text-align: right;\">\n",
       "      <th></th>\n",
       "      <th>age</th>\n",
       "      <th>income</th>\n",
       "      <th>frq</th>\n",
       "      <th>rcn</th>\n",
       "      <th>mnt</th>\n",
       "      <th>clothes</th>\n",
       "      <th>kitchen</th>\n",
       "      <th>small_appliances</th>\n",
       "      <th>toys</th>\n",
       "      <th>house_keeping</th>\n",
       "      <th>dependents</th>\n",
       "      <th>per_net_purchase</th>\n",
       "      <th>gender</th>\n",
       "      <th>education</th>\n",
       "      <th>status</th>\n",
       "      <th>description</th>\n",
       "    </tr>\n",
       "  </thead>\n",
       "  <tbody>\n",
       "    <tr>\n",
       "      <th>10</th>\n",
       "      <td>1949</td>\n",
       "      <td>97492</td>\n",
       "      <td>20</td>\n",
       "      <td>93</td>\n",
       "      <td>774</td>\n",
       "      <td>37</td>\n",
       "      <td>16</td>\n",
       "      <td>33</td>\n",
       "      <td>9</td>\n",
       "      <td>5</td>\n",
       "      <td>0</td>\n",
       "      <td>15</td>\n",
       "      <td>M</td>\n",
       "      <td>Master</td>\n",
       "      <td>Single</td>\n",
       "      <td>OK nice!</td>\n",
       "    </tr>\n",
       "    <tr>\n",
       "      <th>11</th>\n",
       "      <td>1957</td>\n",
       "      <td>75436</td>\n",
       "      <td>17</td>\n",
       "      <td>32</td>\n",
       "      <td>491</td>\n",
       "      <td>60</td>\n",
       "      <td>4</td>\n",
       "      <td>33</td>\n",
       "      <td>2</td>\n",
       "      <td>1</td>\n",
       "      <td>1</td>\n",
       "      <td>29</td>\n",
       "      <td>M</td>\n",
       "      <td>Graduation</td>\n",
       "      <td>Together</td>\n",
       "      <td>OK nice!</td>\n",
       "    </tr>\n",
       "    <tr>\n",
       "      <th>12</th>\n",
       "      <td>1954</td>\n",
       "      <td>95586</td>\n",
       "      <td>32</td>\n",
       "      <td>54</td>\n",
       "      <td>1407</td>\n",
       "      <td>27</td>\n",
       "      <td>3</td>\n",
       "      <td>39</td>\n",
       "      <td>20</td>\n",
       "      <td>11</td>\n",
       "      <td>0</td>\n",
       "      <td>23</td>\n",
       "      <td>F</td>\n",
       "      <td>2nd Cycle</td>\n",
       "      <td>Widow</td>\n",
       "      <td>Take my money!!</td>\n",
       "    </tr>\n",
       "    <tr>\n",
       "      <th>13</th>\n",
       "      <td>1979</td>\n",
       "      <td>57997</td>\n",
       "      <td>10</td>\n",
       "      <td>28</td>\n",
       "      <td>81</td>\n",
       "      <td>77</td>\n",
       "      <td>0</td>\n",
       "      <td>21</td>\n",
       "      <td>1</td>\n",
       "      <td>0</td>\n",
       "      <td>1</td>\n",
       "      <td>52</td>\n",
       "      <td>M</td>\n",
       "      <td>Graduation</td>\n",
       "      <td>Married</td>\n",
       "      <td>Meh...</td>\n",
       "    </tr>\n",
       "    <tr>\n",
       "      <th>14</th>\n",
       "      <td>1982</td>\n",
       "      <td>50289</td>\n",
       "      <td>10</td>\n",
       "      <td>231</td>\n",
       "      <td>20</td>\n",
       "      <td>46</td>\n",
       "      <td>0</td>\n",
       "      <td>33</td>\n",
       "      <td>16</td>\n",
       "      <td>5</td>\n",
       "      <td>1</td>\n",
       "      <td>70</td>\n",
       "      <td>M</td>\n",
       "      <td>PhD</td>\n",
       "      <td>Together</td>\n",
       "      <td>Meh...</td>\n",
       "    </tr>\n",
       "  </tbody>\n",
       "</table>\n",
       "</div>"
      ],
      "text/plain": [
       "     age income  frq  rcn   mnt  clothes  kitchen  small_appliances  toys  \\\n",
       "10  1949  97492   20   93   774       37       16                33     9   \n",
       "11  1957  75436   17   32   491       60        4                33     2   \n",
       "12  1954  95586   32   54  1407       27        3                39    20   \n",
       "13  1979  57997   10   28    81       77        0                21     1   \n",
       "14  1982  50289   10  231    20       46        0                33    16   \n",
       "\n",
       "    house_keeping dependents  per_net_purchase gender   education    status  \\\n",
       "10              5          0                15      M      Master    Single   \n",
       "11              1          1                29      M  Graduation  Together   \n",
       "12             11          0                23      F   2nd Cycle     Widow   \n",
       "13              0          1                52      M  Graduation   Married   \n",
       "14              5          1                70      M         PhD  Together   \n",
       "\n",
       "        description  \n",
       "10         OK nice!  \n",
       "11         OK nice!  \n",
       "12  Take my money!!  \n",
       "13           Meh...  \n",
       "14           Meh...  "
      ]
     },
     "execution_count": 22,
     "metadata": {},
     "output_type": "execute_result"
    }
   ],
   "source": [
    "df.loc[[10,11,12,13,14]]\n"
   ]
  },
  {
   "cell_type": "code",
   "execution_count": 23,
   "metadata": {
    "id": "R6FjM3gMGuWe"
   },
   "outputs": [
    {
     "data": {
      "application/vnd.microsoft.datawrangler.viewer.v0+json": {
       "columns": [
        {
         "name": "index",
         "rawType": "int64",
         "type": "integer"
        },
        {
         "name": "age",
         "rawType": "int64",
         "type": "integer"
        },
        {
         "name": "education",
         "rawType": "object",
         "type": "string"
        }
       ],
       "ref": "26ac8c3d-8f3b-49d5-b241-3adec0366cc4",
       "rows": [
        [
         "0",
         "1946",
         "Graduation"
        ],
        [
         "1",
         "1936",
         "PhD"
        ],
        [
         "2",
         "1990",
         "Graduation"
        ],
        [
         "3",
         "1955",
         "Master"
        ],
        [
         "4",
         "1955",
         "Graduation"
        ]
       ],
       "shape": {
        "columns": 2,
        "rows": 5
       }
      },
      "text/html": [
       "<div>\n",
       "<style scoped>\n",
       "    .dataframe tbody tr th:only-of-type {\n",
       "        vertical-align: middle;\n",
       "    }\n",
       "\n",
       "    .dataframe tbody tr th {\n",
       "        vertical-align: top;\n",
       "    }\n",
       "\n",
       "    .dataframe thead th {\n",
       "        text-align: right;\n",
       "    }\n",
       "</style>\n",
       "<table border=\"1\" class=\"dataframe\">\n",
       "  <thead>\n",
       "    <tr style=\"text-align: right;\">\n",
       "      <th></th>\n",
       "      <th>age</th>\n",
       "      <th>education</th>\n",
       "    </tr>\n",
       "  </thead>\n",
       "  <tbody>\n",
       "    <tr>\n",
       "      <th>0</th>\n",
       "      <td>1946</td>\n",
       "      <td>Graduation</td>\n",
       "    </tr>\n",
       "    <tr>\n",
       "      <th>1</th>\n",
       "      <td>1936</td>\n",
       "      <td>PhD</td>\n",
       "    </tr>\n",
       "    <tr>\n",
       "      <th>2</th>\n",
       "      <td>1990</td>\n",
       "      <td>Graduation</td>\n",
       "    </tr>\n",
       "    <tr>\n",
       "      <th>3</th>\n",
       "      <td>1955</td>\n",
       "      <td>Master</td>\n",
       "    </tr>\n",
       "    <tr>\n",
       "      <th>4</th>\n",
       "      <td>1955</td>\n",
       "      <td>Graduation</td>\n",
       "    </tr>\n",
       "  </tbody>\n",
       "</table>\n",
       "</div>"
      ],
      "text/plain": [
       "    age   education\n",
       "0  1946  Graduation\n",
       "1  1936         PhD\n",
       "2  1990  Graduation\n",
       "3  1955      Master\n",
       "4  1955  Graduation"
      ]
     },
     "execution_count": 23,
     "metadata": {},
     "output_type": "execute_result"
    }
   ],
   "source": [
    "## .loc also works for column subsets\n",
    "\n",
    "df.loc[[0,1,2,3,4], ['age', 'education']]"
   ]
  },
  {
   "cell_type": "code",
   "execution_count": 24,
   "metadata": {
    "id": "_UTZU3w_HzQq"
   },
   "outputs": [
    {
     "data": {
      "application/vnd.microsoft.datawrangler.viewer.v0+json": {
       "columns": [
        {
         "name": "index",
         "rawType": "int64",
         "type": "integer"
        },
        {
         "name": "age",
         "rawType": "int64",
         "type": "integer"
        },
        {
         "name": "income",
         "rawType": "object",
         "type": "unknown"
        },
        {
         "name": "frq",
         "rawType": "int64",
         "type": "integer"
        },
        {
         "name": "rcn",
         "rawType": "int64",
         "type": "integer"
        },
        {
         "name": "mnt",
         "rawType": "int64",
         "type": "integer"
        },
        {
         "name": "clothes",
         "rawType": "int64",
         "type": "integer"
        },
        {
         "name": "kitchen",
         "rawType": "int64",
         "type": "integer"
        },
        {
         "name": "small_appliances",
         "rawType": "int64",
         "type": "integer"
        },
        {
         "name": "toys",
         "rawType": "int64",
         "type": "integer"
        },
        {
         "name": "house_keeping",
         "rawType": "int64",
         "type": "integer"
        },
        {
         "name": "dependents",
         "rawType": "object",
         "type": "unknown"
        },
        {
         "name": "per_net_purchase",
         "rawType": "int64",
         "type": "integer"
        },
        {
         "name": "gender",
         "rawType": "object",
         "type": "string"
        },
        {
         "name": "education",
         "rawType": "object",
         "type": "string"
        },
        {
         "name": "status",
         "rawType": "object",
         "type": "string"
        },
        {
         "name": "description",
         "rawType": "object",
         "type": "string"
        }
       ],
       "ref": "a398a272-2498-4d6f-bc84-2e7fe5159fb1",
       "rows": [
        [
         "0",
         "1946",
         "90782",
         "33",
         "66",
         "1402",
         "37",
         "5",
         "44",
         "10",
         "3",
         "0",
         "19",
         "M",
         "Graduation",
         "Together",
         "Take my money!!"
        ],
        [
         "1",
         "1936",
         "113023",
         "32",
         "6",
         "1537",
         "55",
         "1",
         "38",
         "4",
         "2",
         "0",
         "9",
         "F",
         "PhD",
         "Divorced",
         "Take my money!!"
        ],
        [
         "2",
         "1990",
         "28344",
         "11",
         "69",
         "44",
         "32",
         "19",
         "24",
         "1",
         "24",
         "1",
         "59",
         "M",
         "Graduation",
         "Married",
         "Kind of OK"
        ],
        [
         "3",
         "1955",
         "93571",
         "26",
         "10",
         "888",
         "60",
         "10",
         "19",
         "6",
         "5",
         "1",
         "35",
         "F",
         "Master",
         "",
         "OK nice!"
        ],
        [
         "4",
         "1955",
         "91852",
         "31",
         "26",
         "1138",
         "59",
         "5",
         "28",
         "4",
         "4",
         "1",
         "34",
         "F",
         "Graduation",
         "Together",
         "Take my money!!"
        ],
        [
         "5",
         "1982",
         "22386",
         "14",
         "65",
         "56",
         "47",
         "2",
         "48",
         "2",
         "1",
         "1",
         "67",
         "M",
         "PhD",
         "Single",
         "OK nice!"
        ],
        [
         "6",
         "1969",
         "69485",
         "18",
         "73",
         "345",
         "71",
         "7",
         "13",
         "1",
         "8",
         "1",
         "46",
         "M",
         "Graduation",
         "Together",
         "OK nice!"
        ],
        [
         "7",
         "1960",
         "68602",
         "5",
         "44",
         "41",
         "84",
         "1",
         "12",
         "2",
         "0",
         "1",
         "37",
         "M",
         "Graduation",
         "Together",
         "Horrible"
        ],
        [
         "8",
         "1940",
         "109499",
         "30",
         "75",
         "1401",
         "38",
         "9",
         "35",
         "9",
         "9",
         "0",
         "17",
         "M",
         "Graduation",
         "Divorced",
         "OK nice!"
        ],
        [
         "9",
         "1994",
         "23846",
         "8",
         "153",
         "19",
         "18",
         "55",
         "17",
         "10",
         "1",
         "1",
         "39",
         "F",
         "1st Cycle",
         "Together",
         "Meh..."
        ],
        [
         "10",
         "1949",
         "97492",
         "20",
         "93",
         "774",
         "37",
         "16",
         "33",
         "9",
         "5",
         "0",
         "15",
         "M",
         "Master",
         "Single",
         "OK nice!"
        ],
        [
         "11",
         "1957",
         "75436",
         "17",
         "32",
         "491",
         "60",
         "4",
         "33",
         "2",
         "1",
         "1",
         "29",
         "M",
         "Graduation",
         "Together",
         "OK nice!"
        ],
        [
         "12",
         "1954",
         "95586",
         "32",
         "54",
         "1407",
         "27",
         "3",
         "39",
         "20",
         "11",
         "0",
         "23",
         "F",
         "2nd Cycle",
         "Widow",
         "Take my money!!"
        ],
        [
         "13",
         "1979",
         "57997",
         "10",
         "28",
         "81",
         "77",
         "0",
         "21",
         "1",
         "0",
         "1",
         "52",
         "M",
         "Graduation",
         "Married",
         "Meh..."
        ],
        [
         "14",
         "1982",
         "50289",
         "10",
         "231",
         "20",
         "46",
         "0",
         "33",
         "16",
         "5",
         "1",
         "70",
         "M",
         "PhD",
         "Together",
         "Meh..."
        ],
        [
         "15",
         "1992",
         "20043",
         "5",
         "37",
         "16",
         "6",
         "28",
         "35",
         "28",
         "3",
         "0",
         "51",
         "M",
         "Graduation",
         "Single",
         "Kind of OK"
        ],
        [
         "16",
         "1938",
         "112765",
         "44",
         "72",
         "2039",
         "19",
         "1",
         "35",
         "14",
         "31",
         "0",
         "23",
         "M",
         "2nd Cycle",
         "Together",
         "OK nice!"
        ],
        [
         "17",
         "1990",
         "26141",
         "8",
         "52",
         "36",
         "19",
         "17",
         "28",
         "23",
         "12",
         "0",
         "50",
         "M",
         "Graduation",
         "Together",
         "Meh..."
        ],
        [
         "18",
         "1988",
         "40944",
         "10",
         "67",
         "52",
         "30",
         "12",
         "46",
         "9",
         "3",
         "1",
         "60",
         "M",
         "2nd Cycle",
         "Together",
         "Meh..."
        ],
        [
         "19",
         "1947",
         "89755",
         "13",
         "44",
         "394",
         "12",
         "4",
         "14",
         "34",
         "36",
         "0",
         "15",
         "M",
         "1st Cycle",
         "Married",
         "Meh..."
        ],
        [
         "20",
         "1995",
         "43392",
         "12",
         "4",
         "118",
         "5",
         "29",
         "16",
         "12",
         "38",
         "0",
         "57",
         "M",
         "1st Cycle",
         "Widow",
         "Meh..."
        ],
        [
         "21",
         "1982",
         "50518",
         "9",
         "42",
         "52",
         "22",
         "11",
         "51",
         "9",
         "7",
         "1",
         "57",
         "F",
         "Graduation",
         "Together",
         "OK nice!"
        ],
        [
         "22",
         "1981",
         "41238",
         "18",
         "59",
         "304",
         "67",
         "4",
         "23",
         "3",
         "4",
         "1",
         "60",
         "F",
         "Master",
         "Married",
         "Kind of OK"
        ],
        [
         "23",
         "1946",
         "104758",
         "33",
         "14",
         "1595",
         "35",
         "5",
         "39",
         "10",
         "11",
         "0",
         "12",
         "M",
         "2nd Cycle",
         "Married",
         "Take my money!!"
        ],
        [
         "24",
         "1971",
         "59583",
         "10",
         "99",
         "65",
         "70",
         "1",
         "26",
         "0",
         "3",
         "1",
         "66",
         "F",
         "Master",
         "Together",
         "Kind of OK"
        ],
        [
         "25",
         "1976",
         "33634",
         "10",
         "17",
         "41",
         "63",
         "3",
         "18",
         "9",
         "7",
         "1",
         "51",
         "M",
         "Graduation",
         "Married",
         "Kind of OK"
        ],
        [
         "26",
         "1961",
         "90708",
         "25",
         "61",
         "767",
         "76",
         "3",
         "15",
         "4",
         "3",
         "0",
         "52",
         "M",
         "2nd Cycle",
         "Married",
         "Kind of OK"
        ],
        [
         "27",
         "1986",
         "30957",
         "9",
         "156",
         "19",
         "77",
         "2",
         "17",
         "0",
         "4",
         "1",
         "64",
         "F",
         "Master",
         "Married",
         "Meh..."
        ],
        [
         "28",
         "1940",
         "119982",
         "37",
         "52",
         "1852",
         "20",
         "3",
         "48",
         "15",
         "14",
         "0",
         "13",
         "F",
         "2nd Cycle",
         "Widow",
         "Take my money!!"
        ],
        [
         "29",
         "1982",
         "54327",
         "8",
         "21",
         "47",
         "20",
         "14",
         "39",
         "16",
         "11",
         "1",
         "62",
         "M",
         "2nd Cycle",
         "Single",
         "Kind of OK"
        ],
        [
         "30",
         "1973",
         "65852",
         "10",
         "55",
         "63",
         "64",
         "1",
         "31",
         "2",
         "2",
         "1",
         "57",
         "M",
         "Graduation",
         "Single",
         "Kind of OK"
        ],
        [
         "31",
         "1967",
         "69713",
         "37",
         "64",
         "1340",
         "81",
         "1",
         "8",
         "4",
         "5",
         "1",
         "61",
         "M",
         "Graduation",
         "Divorced",
         "Take my money!!"
        ],
        [
         "32",
         "1955",
         "87449",
         "16",
         "87",
         "445",
         "53",
         "2",
         "37",
         "4",
         "3",
         "1",
         "38",
         "F",
         "PhD",
         "Single",
         "Kind of OK"
        ],
        [
         "33",
         "1976",
         "47584",
         "15",
         "94",
         "180",
         "41",
         "2",
         "50",
         "5",
         "1",
         "1",
         "53",
         "M",
         "1st Cycle",
         "Together",
         "Kind of OK"
        ],
        [
         "34",
         "1936",
         "109767",
         "41",
         "30",
         "2040",
         "46",
         "7",
         "37",
         "6",
         "4",
         "0",
         "14",
         "F",
         "1st Cycle",
         "Together",
         "OK nice!"
        ],
        [
         "35",
         "1996",
         "36143",
         "14",
         "65",
         "150",
         "6",
         "28",
         "27",
         "17",
         "22",
         "1",
         "60",
         "M",
         "1st Cycle",
         "Widow",
         "Meh..."
        ],
        [
         "36",
         "1979",
         "49108",
         "8",
         "80",
         "30",
         "57",
         "9",
         "24",
         "0",
         "10",
         "1",
         "48",
         "F",
         "Graduation",
         "Married",
         "OK nice!"
        ],
        [
         "37",
         "1996",
         "12808",
         "9",
         "93",
         "25",
         "6",
         "26",
         "15",
         "19",
         "33",
         "1",
         "62",
         "M",
         "1st Cycle",
         "Single",
         "OK nice!"
        ],
        [
         "38",
         "1958",
         "85333",
         "27",
         "13",
         "1019",
         "55",
         "7",
         "27",
         "9",
         "2",
         "1",
         "25",
         "M",
         "Graduation",
         "Married",
         "Take my money!!"
        ],
        [
         "39",
         "1995",
         "33176",
         "8",
         "52",
         "40",
         "4",
         "12",
         "27",
         "57",
         "0",
         "1",
         "43",
         "M",
         "1st Cycle",
         "Married",
         "Kind of OK"
        ],
        [
         "40",
         "1959",
         "93132",
         "29",
         "81",
         "1277",
         "53",
         "13",
         "23",
         "9",
         "2",
         "0",
         "20",
         "F",
         "Graduation",
         "Together",
         "Take my money!!"
        ],
        [
         "41",
         "1955",
         "90841",
         "21",
         "56",
         "601",
         "62",
         "1",
         "32",
         "1",
         "3",
         "1",
         "41",
         "F",
         "PhD",
         "Married",
         "Kind of OK"
        ],
        [
         "42",
         "1979",
         "45434",
         "12",
         "14",
         "90",
         "52",
         "2",
         "36",
         "3",
         "7",
         "1",
         "59",
         "F",
         "2nd Cycle",
         "Married",
         "Meh..."
        ],
        [
         "43",
         "1954",
         "86313",
         "26",
         "31",
         "1018",
         "39",
         "7",
         "38",
         "4",
         "11",
         "0",
         "25",
         "M",
         "Graduation",
         "Married",
         "OK nice!"
        ],
        [
         "44",
         "1979",
         "36908",
         "6",
         "47",
         "25",
         "84",
         "1",
         "13",
         "1",
         "1",
         "1",
         "41",
         "F",
         "Graduation",
         "Together",
         "Kind of OK"
        ],
        [
         "45",
         "1986",
         "42773",
         "11",
         "2",
         "84",
         "71",
         "0",
         "27",
         "1",
         "1",
         "1",
         "52",
         "F",
         "Graduation",
         "Married",
         "Kind of OK"
        ],
        [
         "46",
         "1940",
         "113980",
         "38",
         "73",
         "1854",
         "34",
         "14",
         "33",
         "18",
         "1",
         "0",
         "17",
         "F",
         "1st Cycle",
         "Divorced",
         "Take my money!!"
        ],
        [
         "47",
         "1964",
         "80555",
         "15",
         "41",
         "298",
         "75",
         "2",
         "17",
         "2",
         "3",
         "1",
         "54",
         "M",
         "Graduation",
         "Married",
         "Kind of OK"
        ],
        [
         "48",
         "1965",
         "72287",
         "24",
         "53",
         "719",
         "40",
         "11",
         "20",
         "6",
         "22",
         "0",
         "44",
         "M",
         "2nd Cycle",
         "Single",
         "OK nice!"
        ],
        [
         "49",
         "1995",
         "25634",
         "13",
         "25",
         "46",
         "9",
         "30",
         "26",
         "2",
         "33",
         "1",
         "71",
         "F",
         "1st Cycle",
         "Married",
         "OK nice!"
        ]
       ],
       "shape": {
        "columns": 16,
        "rows": 8998
       }
      },
      "text/html": [
       "<div>\n",
       "<style scoped>\n",
       "    .dataframe tbody tr th:only-of-type {\n",
       "        vertical-align: middle;\n",
       "    }\n",
       "\n",
       "    .dataframe tbody tr th {\n",
       "        vertical-align: top;\n",
       "    }\n",
       "\n",
       "    .dataframe thead th {\n",
       "        text-align: right;\n",
       "    }\n",
       "</style>\n",
       "<table border=\"1\" class=\"dataframe\">\n",
       "  <thead>\n",
       "    <tr style=\"text-align: right;\">\n",
       "      <th></th>\n",
       "      <th>age</th>\n",
       "      <th>income</th>\n",
       "      <th>frq</th>\n",
       "      <th>rcn</th>\n",
       "      <th>mnt</th>\n",
       "      <th>clothes</th>\n",
       "      <th>kitchen</th>\n",
       "      <th>small_appliances</th>\n",
       "      <th>toys</th>\n",
       "      <th>house_keeping</th>\n",
       "      <th>dependents</th>\n",
       "      <th>per_net_purchase</th>\n",
       "      <th>gender</th>\n",
       "      <th>education</th>\n",
       "      <th>status</th>\n",
       "      <th>description</th>\n",
       "    </tr>\n",
       "  </thead>\n",
       "  <tbody>\n",
       "    <tr>\n",
       "      <th>0</th>\n",
       "      <td>1946</td>\n",
       "      <td>90782</td>\n",
       "      <td>33</td>\n",
       "      <td>66</td>\n",
       "      <td>1402</td>\n",
       "      <td>37</td>\n",
       "      <td>5</td>\n",
       "      <td>44</td>\n",
       "      <td>10</td>\n",
       "      <td>3</td>\n",
       "      <td>0</td>\n",
       "      <td>19</td>\n",
       "      <td>M</td>\n",
       "      <td>Graduation</td>\n",
       "      <td>Together</td>\n",
       "      <td>Take my money!!</td>\n",
       "    </tr>\n",
       "    <tr>\n",
       "      <th>1</th>\n",
       "      <td>1936</td>\n",
       "      <td>113023</td>\n",
       "      <td>32</td>\n",
       "      <td>6</td>\n",
       "      <td>1537</td>\n",
       "      <td>55</td>\n",
       "      <td>1</td>\n",
       "      <td>38</td>\n",
       "      <td>4</td>\n",
       "      <td>2</td>\n",
       "      <td>0</td>\n",
       "      <td>9</td>\n",
       "      <td>F</td>\n",
       "      <td>PhD</td>\n",
       "      <td>Divorced</td>\n",
       "      <td>Take my money!!</td>\n",
       "    </tr>\n",
       "    <tr>\n",
       "      <th>2</th>\n",
       "      <td>1990</td>\n",
       "      <td>28344</td>\n",
       "      <td>11</td>\n",
       "      <td>69</td>\n",
       "      <td>44</td>\n",
       "      <td>32</td>\n",
       "      <td>19</td>\n",
       "      <td>24</td>\n",
       "      <td>1</td>\n",
       "      <td>24</td>\n",
       "      <td>1</td>\n",
       "      <td>59</td>\n",
       "      <td>M</td>\n",
       "      <td>Graduation</td>\n",
       "      <td>Married</td>\n",
       "      <td>Kind of OK</td>\n",
       "    </tr>\n",
       "    <tr>\n",
       "      <th>3</th>\n",
       "      <td>1955</td>\n",
       "      <td>93571</td>\n",
       "      <td>26</td>\n",
       "      <td>10</td>\n",
       "      <td>888</td>\n",
       "      <td>60</td>\n",
       "      <td>10</td>\n",
       "      <td>19</td>\n",
       "      <td>6</td>\n",
       "      <td>5</td>\n",
       "      <td>1</td>\n",
       "      <td>35</td>\n",
       "      <td>F</td>\n",
       "      <td>Master</td>\n",
       "      <td></td>\n",
       "      <td>OK nice!</td>\n",
       "    </tr>\n",
       "    <tr>\n",
       "      <th>4</th>\n",
       "      <td>1955</td>\n",
       "      <td>91852</td>\n",
       "      <td>31</td>\n",
       "      <td>26</td>\n",
       "      <td>1138</td>\n",
       "      <td>59</td>\n",
       "      <td>5</td>\n",
       "      <td>28</td>\n",
       "      <td>4</td>\n",
       "      <td>4</td>\n",
       "      <td>1</td>\n",
       "      <td>34</td>\n",
       "      <td>F</td>\n",
       "      <td>Graduation</td>\n",
       "      <td>Together</td>\n",
       "      <td>Take my money!!</td>\n",
       "    </tr>\n",
       "    <tr>\n",
       "      <th>...</th>\n",
       "      <td>...</td>\n",
       "      <td>...</td>\n",
       "      <td>...</td>\n",
       "      <td>...</td>\n",
       "      <td>...</td>\n",
       "      <td>...</td>\n",
       "      <td>...</td>\n",
       "      <td>...</td>\n",
       "      <td>...</td>\n",
       "      <td>...</td>\n",
       "      <td>...</td>\n",
       "      <td>...</td>\n",
       "      <td>...</td>\n",
       "      <td>...</td>\n",
       "      <td>...</td>\n",
       "      <td>...</td>\n",
       "    </tr>\n",
       "    <tr>\n",
       "      <th>8993</th>\n",
       "      <td>1960</td>\n",
       "      <td>94367</td>\n",
       "      <td>28</td>\n",
       "      <td>1</td>\n",
       "      <td>896</td>\n",
       "      <td>68</td>\n",
       "      <td>5</td>\n",
       "      <td>21</td>\n",
       "      <td>3</td>\n",
       "      <td>4</td>\n",
       "      <td>1</td>\n",
       "      <td>55</td>\n",
       "      <td>F</td>\n",
       "      <td>1st Cycle</td>\n",
       "      <td>Single</td>\n",
       "      <td>Take my money!!</td>\n",
       "    </tr>\n",
       "    <tr>\n",
       "      <th>8994</th>\n",
       "      <td>1975</td>\n",
       "      <td>58121</td>\n",
       "      <td>12</td>\n",
       "      <td>6</td>\n",
       "      <td>61</td>\n",
       "      <td>53</td>\n",
       "      <td>6</td>\n",
       "      <td>28</td>\n",
       "      <td>7</td>\n",
       "      <td>6</td>\n",
       "      <td>1</td>\n",
       "      <td>71</td>\n",
       "      <td>M</td>\n",
       "      <td>2nd Cycle</td>\n",
       "      <td>Single</td>\n",
       "      <td>Meh...</td>\n",
       "    </tr>\n",
       "    <tr>\n",
       "      <th>8995</th>\n",
       "      <td>1986</td>\n",
       "      <td>54292</td>\n",
       "      <td>29</td>\n",
       "      <td>72</td>\n",
       "      <td>1011</td>\n",
       "      <td>41</td>\n",
       "      <td>11</td>\n",
       "      <td>36</td>\n",
       "      <td>1</td>\n",
       "      <td>11</td>\n",
       "      <td>0</td>\n",
       "      <td>31</td>\n",
       "      <td>M</td>\n",
       "      <td>Graduation</td>\n",
       "      <td>Together</td>\n",
       "      <td>Take my money!!</td>\n",
       "    </tr>\n",
       "    <tr>\n",
       "      <th>8996</th>\n",
       "      <td>1938</td>\n",
       "      <td>125962</td>\n",
       "      <td>38</td>\n",
       "      <td>75</td>\n",
       "      <td>1668</td>\n",
       "      <td>61</td>\n",
       "      <td>2</td>\n",
       "      <td>25</td>\n",
       "      <td>5</td>\n",
       "      <td>6</td>\n",
       "      <td>1</td>\n",
       "      <td>45</td>\n",
       "      <td>M</td>\n",
       "      <td>2nd Cycle</td>\n",
       "      <td>Married</td>\n",
       "      <td>Take my money!!</td>\n",
       "    </tr>\n",
       "    <tr>\n",
       "      <th>8997</th>\n",
       "      <td>1994</td>\n",
       "      <td>26385</td>\n",
       "      <td>9</td>\n",
       "      <td>24</td>\n",
       "      <td>46</td>\n",
       "      <td>5</td>\n",
       "      <td>13</td>\n",
       "      <td>21</td>\n",
       "      <td>46</td>\n",
       "      <td>15</td>\n",
       "      <td>1</td>\n",
       "      <td>52</td>\n",
       "      <td>M</td>\n",
       "      <td>1st Cycle</td>\n",
       "      <td>Single</td>\n",
       "      <td>Kind of OK</td>\n",
       "    </tr>\n",
       "  </tbody>\n",
       "</table>\n",
       "<p>8998 rows × 16 columns</p>\n",
       "</div>"
      ],
      "text/plain": [
       "       age  income  frq  rcn   mnt  clothes  kitchen  small_appliances  toys  \\\n",
       "0     1946   90782   33   66  1402       37        5                44    10   \n",
       "1     1936  113023   32    6  1537       55        1                38     4   \n",
       "2     1990   28344   11   69    44       32       19                24     1   \n",
       "3     1955   93571   26   10   888       60       10                19     6   \n",
       "4     1955   91852   31   26  1138       59        5                28     4   \n",
       "...    ...     ...  ...  ...   ...      ...      ...               ...   ...   \n",
       "8993  1960   94367   28    1   896       68        5                21     3   \n",
       "8994  1975   58121   12    6    61       53        6                28     7   \n",
       "8995  1986   54292   29   72  1011       41       11                36     1   \n",
       "8996  1938  125962   38   75  1668       61        2                25     5   \n",
       "8997  1994   26385    9   24    46        5       13                21    46   \n",
       "\n",
       "      house_keeping dependents  per_net_purchase gender   education    status  \\\n",
       "0                 3          0                19      M  Graduation  Together   \n",
       "1                 2          0                 9      F         PhD  Divorced   \n",
       "2                24          1                59      M  Graduation   Married   \n",
       "3                 5          1                35      F      Master             \n",
       "4                 4          1                34      F  Graduation  Together   \n",
       "...             ...        ...               ...    ...         ...       ...   \n",
       "8993              4          1                55      F   1st Cycle    Single   \n",
       "8994              6          1                71      M   2nd Cycle    Single   \n",
       "8995             11          0                31      M  Graduation  Together   \n",
       "8996              6          1                45      M   2nd Cycle   Married   \n",
       "8997             15          1                52      M   1st Cycle    Single   \n",
       "\n",
       "          description  \n",
       "0     Take my money!!  \n",
       "1     Take my money!!  \n",
       "2          Kind of OK  \n",
       "3            OK nice!  \n",
       "4     Take my money!!  \n",
       "...               ...  \n",
       "8993  Take my money!!  \n",
       "8994           Meh...  \n",
       "8995  Take my money!!  \n",
       "8996  Take my money!!  \n",
       "8997       Kind of OK  \n",
       "\n",
       "[8998 rows x 16 columns]"
      ]
     },
     "execution_count": 24,
     "metadata": {},
     "output_type": "execute_result"
    }
   ],
   "source": [
    "## Can you guess what this means?\n",
    "\n",
    "df.loc[:,:]\n"
   ]
  },
  {
   "cell_type": "markdown",
   "metadata": {
    "id": "rObWRZg4IRn5"
   },
   "source": [
    "#### What about a subset based on a condition?\n",
    "\n",
    "I want the customers with Age < 40"
   ]
  },
  {
   "cell_type": "code",
   "execution_count": 25,
   "metadata": {
    "id": "kBmWIh7LIV57"
   },
   "outputs": [
    {
     "data": {
      "application/vnd.microsoft.datawrangler.viewer.v0+json": {
       "columns": [
        {
         "name": "index",
         "rawType": "int64",
         "type": "integer"
        },
        {
         "name": "age",
         "rawType": "int64",
         "type": "integer"
        },
        {
         "name": "income",
         "rawType": "object",
         "type": "unknown"
        },
        {
         "name": "frq",
         "rawType": "int64",
         "type": "integer"
        },
        {
         "name": "rcn",
         "rawType": "int64",
         "type": "integer"
        },
        {
         "name": "mnt",
         "rawType": "int64",
         "type": "integer"
        },
        {
         "name": "clothes",
         "rawType": "int64",
         "type": "integer"
        },
        {
         "name": "kitchen",
         "rawType": "int64",
         "type": "integer"
        },
        {
         "name": "small_appliances",
         "rawType": "int64",
         "type": "integer"
        },
        {
         "name": "toys",
         "rawType": "int64",
         "type": "integer"
        },
        {
         "name": "house_keeping",
         "rawType": "int64",
         "type": "integer"
        },
        {
         "name": "dependents",
         "rawType": "object",
         "type": "unknown"
        },
        {
         "name": "per_net_purchase",
         "rawType": "int64",
         "type": "integer"
        },
        {
         "name": "gender",
         "rawType": "object",
         "type": "string"
        },
        {
         "name": "education",
         "rawType": "object",
         "type": "string"
        },
        {
         "name": "status",
         "rawType": "object",
         "type": "string"
        },
        {
         "name": "description",
         "rawType": "object",
         "type": "string"
        }
       ],
       "ref": "c7a57584-a473-4daa-8e79-31222a6ebcf6",
       "rows": [
        [
         "2",
         "1990",
         "28344",
         "11",
         "69",
         "44",
         "32",
         "19",
         "24",
         "1",
         "24",
         "1",
         "59",
         "M",
         "Graduation",
         "Married",
         "Kind of OK"
        ],
        [
         "9",
         "1994",
         "23846",
         "8",
         "153",
         "19",
         "18",
         "55",
         "17",
         "10",
         "1",
         "1",
         "39",
         "F",
         "1st Cycle",
         "Together",
         "Meh..."
        ],
        [
         "15",
         "1992",
         "20043",
         "5",
         "37",
         "16",
         "6",
         "28",
         "35",
         "28",
         "3",
         "0",
         "51",
         "M",
         "Graduation",
         "Single",
         "Kind of OK"
        ],
        [
         "17",
         "1990",
         "26141",
         "8",
         "52",
         "36",
         "19",
         "17",
         "28",
         "23",
         "12",
         "0",
         "50",
         "M",
         "Graduation",
         "Together",
         "Meh..."
        ],
        [
         "18",
         "1988",
         "40944",
         "10",
         "67",
         "52",
         "30",
         "12",
         "46",
         "9",
         "3",
         "1",
         "60",
         "M",
         "2nd Cycle",
         "Together",
         "Meh..."
        ],
        [
         "20",
         "1995",
         "43392",
         "12",
         "4",
         "118",
         "5",
         "29",
         "16",
         "12",
         "38",
         "0",
         "57",
         "M",
         "1st Cycle",
         "Widow",
         "Meh..."
        ],
        [
         "27",
         "1986",
         "30957",
         "9",
         "156",
         "19",
         "77",
         "2",
         "17",
         "0",
         "4",
         "1",
         "64",
         "F",
         "Master",
         "Married",
         "Meh..."
        ],
        [
         "35",
         "1996",
         "36143",
         "14",
         "65",
         "150",
         "6",
         "28",
         "27",
         "17",
         "22",
         "1",
         "60",
         "M",
         "1st Cycle",
         "Widow",
         "Meh..."
        ],
        [
         "37",
         "1996",
         "12808",
         "9",
         "93",
         "25",
         "6",
         "26",
         "15",
         "19",
         "33",
         "1",
         "62",
         "M",
         "1st Cycle",
         "Single",
         "OK nice!"
        ],
        [
         "39",
         "1995",
         "33176",
         "8",
         "52",
         "40",
         "4",
         "12",
         "27",
         "57",
         "0",
         "1",
         "43",
         "M",
         "1st Cycle",
         "Married",
         "Kind of OK"
        ],
        [
         "45",
         "1986",
         "42773",
         "11",
         "2",
         "84",
         "71",
         "0",
         "27",
         "1",
         "1",
         "1",
         "52",
         "F",
         "Graduation",
         "Married",
         "Kind of OK"
        ],
        [
         "49",
         "1995",
         "25634",
         "13",
         "25",
         "46",
         "9",
         "30",
         "26",
         "2",
         "33",
         "1",
         "71",
         "F",
         "1st Cycle",
         "Married",
         "OK nice!"
        ],
        [
         "50",
         "1986",
         "52879",
         "18",
         "36",
         "263",
         "53",
         "5",
         "30",
         "6",
         "5",
         "1",
         "73",
         "M",
         "Graduation",
         "Together",
         "Kind of OK"
        ],
        [
         "51",
         "1986",
         "58656",
         "11",
         "99",
         "122",
         "12",
         "7",
         "50",
         "19",
         "12",
         "1",
         "55",
         "M",
         "2nd Cycle",
         "Single",
         "Kind of OK"
        ],
        [
         "56",
         "1993",
         "35696",
         "15",
         "19",
         "153",
         "9",
         "44",
         "33",
         "12",
         "2",
         "1",
         "67",
         "F",
         "2nd Cycle",
         "Married",
         "OK nice!"
        ],
        [
         "62",
         "1987",
         "38151",
         "12",
         "47",
         "71",
         "45",
         "7",
         "46",
         "1",
         "1",
         "1",
         "60",
         "F",
         "Master",
         "Single",
         "Kind of OK"
        ],
        [
         "65",
         "1992",
         "38407",
         "11",
         "6",
         "49",
         "13",
         "26",
         "23",
         "16",
         "22",
         "1",
         "69",
         "M",
         "1st Cycle",
         "Single",
         "OK nice!"
        ],
        [
         "74",
         "1994",
         "27321",
         "8",
         "16",
         "20",
         "27",
         "20",
         "25",
         "15",
         "12",
         "0",
         "41",
         "M",
         "1st Cycle",
         "Single",
         "Meh..."
        ],
        [
         "77",
         "1992",
         "50847",
         "12",
         "69",
         "74",
         "12",
         "21",
         "37",
         "1",
         "28",
         "1",
         "66",
         "M",
         "Graduation",
         "Single",
         "Meh..."
        ],
        [
         "85",
         "1994",
         "15463",
         "12",
         "75",
         "45",
         "16",
         "10",
         "22",
         "48",
         "4",
         "1",
         "60",
         "M",
         "1st Cycle",
         "Single",
         "Kind of OK"
        ],
        [
         "87",
         "1986",
         "35844",
         "10",
         "12",
         "40",
         "61",
         "2",
         "34",
         "1",
         "2",
         "1",
         "65",
         "M",
         "Graduation",
         "Married",
         "Kind of OK"
        ],
        [
         "91",
         "1986",
         "40645",
         "10",
         "1",
         "48",
         "66",
         "1",
         "26",
         "1",
         "6",
         "1",
         "64",
         "M",
         "Master",
         "Single",
         "OK nice!"
        ],
        [
         "98",
         "1990",
         "21958",
         "10",
         "30",
         "26",
         "21",
         "3",
         "29",
         "17",
         "30",
         "1",
         "58",
         "F",
         "Graduation",
         "Single",
         "Meh..."
        ],
        [
         "99",
         "1993",
         "24589",
         "11",
         "98",
         "29",
         "18",
         "21",
         "30",
         "16",
         "15",
         "1",
         "72",
         "M",
         "1st Cycle",
         "Single",
         "Meh..."
        ],
        [
         "100",
         "1991",
         "10000",
         "10",
         "12",
         "34",
         "10",
         "32",
         "37",
         "2",
         "20",
         "0",
         "64",
         "M",
         "Graduation",
         "Single",
         "Kind of OK"
        ],
        [
         "101",
         "1994",
         "33111",
         "14",
         "19",
         "181",
         "62",
         "8",
         "17",
         "7",
         "7",
         "1",
         "37",
         "M",
         "1st Cycle",
         "Together",
         "OK nice!"
        ],
        [
         "107",
         "1989",
         "48600",
         "9",
         "74",
         "47",
         "45",
         "10",
         "37",
         "6",
         "3",
         "1",
         "61",
         "F",
         "Graduation",
         "",
         "Kind of OK"
        ],
        [
         "111",
         "1987",
         "45267",
         "9",
         "11",
         "42",
         "60",
         "1",
         "33",
         "3",
         "4",
         "1",
         "63",
         "M",
         "Graduation",
         "Together",
         "Kind of OK"
        ],
        [
         "123",
         "1987",
         "40112",
         "8",
         "300",
         "18",
         "32",
         "13",
         "34",
         "7",
         "14",
         "1",
         "57",
         "F",
         "2nd Cycle",
         "Married",
         "OK nice!"
        ],
        [
         "132",
         "1992",
         "52819",
         "12",
         "23",
         "148",
         "24",
         "8",
         "41",
         "20",
         "6",
         "0",
         "51",
         "M",
         "Graduation",
         "Single",
         "OK nice!"
        ],
        [
         "144",
         "1988",
         "29821",
         "13",
         "29",
         "54",
         "33",
         "14",
         "30",
         "13",
         "11",
         "1",
         "78",
         "M",
         "1st Cycle",
         "Single",
         "OK nice!"
        ],
        [
         "153",
         "1989",
         "43284",
         "11",
         "39",
         "93",
         "78",
         "1",
         "16",
         "1",
         "3",
         "1",
         "54",
         "M",
         "Graduation",
         "Single",
         "Kind of OK"
        ],
        [
         "158",
         "1996",
         "33397",
         "7",
         "99",
         "30",
         "10",
         "16",
         "11",
         "18",
         "45",
         "1",
         "41",
         "M",
         "1st Cycle",
         "Widow",
         "OK nice!"
        ],
        [
         "166",
         "1996",
         "31351",
         "10",
         "11",
         "34",
         "7",
         "11",
         "13",
         "32",
         "37",
         "1",
         "73",
         "M",
         "1st Cycle",
         "Single",
         "Kind of OK"
        ],
        [
         "175",
         "1995",
         "29745",
         "11",
         "40",
         "48",
         "8",
         "21",
         "36",
         "7",
         "28",
         "1",
         "55",
         "M",
         "1st Cycle",
         "Single",
         "Kind of OK"
        ],
        [
         "181",
         "1987",
         "51209",
         "10",
         "59",
         "93",
         "60",
         "2",
         "34",
         "2",
         "3",
         "1",
         "42",
         "F",
         "Graduation",
         "Married",
         "Kind of OK"
        ],
        [
         "185",
         "1989",
         "48015",
         "12",
         "18",
         "63",
         "30",
         "5",
         "48",
         "11",
         "6",
         "1",
         "71",
         "M",
         "2nd Cycle",
         "Single",
         "OK nice!"
        ],
        [
         "189",
         "1986",
         "36825",
         "11",
         "84",
         "36",
         "12",
         "12",
         "38",
         "7",
         "31",
         "1",
         "63",
         "F",
         "1st Cycle",
         "Together",
         "OK nice!"
        ],
        [
         "193",
         "1988",
         "28901",
         "10",
         "48",
         "31",
         "22",
         "21",
         "27",
         "15",
         "15",
         "1",
         "68",
         "F",
         "Graduation",
         "Together",
         "OK nice!"
        ],
        [
         "197",
         "1992",
         "36103",
         "13",
         "2",
         "118",
         "12",
         "31",
         "33",
         "14",
         "10",
         "1",
         "55",
         "M",
         "Graduation",
         "Married",
         "Kind of OK"
        ],
        [
         "198",
         "1990",
         "25100",
         "14",
         "96",
         "117",
         "22",
         "16",
         "39",
         "3",
         "20",
         "",
         "50",
         "F",
         "Graduation",
         "Single",
         "Meh..."
        ],
        [
         "199",
         "1988",
         "57319",
         "13",
         "10",
         "154",
         "24",
         "6",
         "50",
         "12",
         "8",
         "1",
         "59",
         "F",
         "Graduation",
         "Single",
         "Meh..."
        ],
        [
         "208",
         "1987",
         "43545",
         "10",
         "27",
         "119",
         "37",
         "10",
         "41",
         "3",
         "9",
         "1",
         "38",
         "M",
         "Graduation",
         "Together",
         "Meh..."
        ],
        [
         "221",
         "1994",
         "22670",
         "9",
         "37",
         "33",
         "9",
         "16",
         "38",
         "12",
         "25",
         "",
         "56",
         "M",
         "1st Cycle",
         "Single",
         "Meh..."
        ],
        [
         "226",
         "1992",
         "27201",
         "11",
         "84",
         "41",
         "15",
         "1",
         "31",
         "15",
         "38",
         "1",
         "66",
         "M",
         "Graduation",
         "Together",
         "Kind of OK"
        ],
        [
         "227",
         "1996",
         "21075",
         "11",
         "9",
         "29",
         "7",
         "41",
         "17",
         "5",
         "30",
         "1",
         "69",
         "F",
         "1st Cycle",
         "Single",
         "OK nice!"
        ],
        [
         "234",
         "1996",
         "19228",
         "6",
         "81",
         "10",
         "8",
         "9",
         "26",
         "22",
         "34",
         "0",
         "59",
         "M",
         "1st Cycle",
         "Single",
         "Meh..."
        ],
        [
         "240",
         "1992",
         "29911",
         "11",
         "25",
         "44",
         "11",
         "28",
         "25",
         "5",
         "31",
         "1",
         "70",
         "M",
         "Graduation",
         "Single",
         "Kind of OK"
        ],
        [
         "249",
         "1989",
         "49953",
         "20",
         "68",
         "347",
         "54",
         "5",
         "29",
         "4",
         "8",
         "1",
         "79",
         "M",
         "Graduation",
         "Single",
         "Meh..."
        ],
        [
         "250",
         "1996",
         "22963",
         "11",
         "90",
         "59",
         "2",
         "23",
         "34",
         "18",
         "22",
         "",
         "57",
         "F",
         "1st Cycle",
         "Single",
         "Kind of OK"
        ]
       ],
       "shape": {
        "columns": 16,
        "rows": 1578
       }
      },
      "text/html": [
       "<div>\n",
       "<style scoped>\n",
       "    .dataframe tbody tr th:only-of-type {\n",
       "        vertical-align: middle;\n",
       "    }\n",
       "\n",
       "    .dataframe tbody tr th {\n",
       "        vertical-align: top;\n",
       "    }\n",
       "\n",
       "    .dataframe thead th {\n",
       "        text-align: right;\n",
       "    }\n",
       "</style>\n",
       "<table border=\"1\" class=\"dataframe\">\n",
       "  <thead>\n",
       "    <tr style=\"text-align: right;\">\n",
       "      <th></th>\n",
       "      <th>age</th>\n",
       "      <th>income</th>\n",
       "      <th>frq</th>\n",
       "      <th>rcn</th>\n",
       "      <th>mnt</th>\n",
       "      <th>clothes</th>\n",
       "      <th>kitchen</th>\n",
       "      <th>small_appliances</th>\n",
       "      <th>toys</th>\n",
       "      <th>house_keeping</th>\n",
       "      <th>dependents</th>\n",
       "      <th>per_net_purchase</th>\n",
       "      <th>gender</th>\n",
       "      <th>education</th>\n",
       "      <th>status</th>\n",
       "      <th>description</th>\n",
       "    </tr>\n",
       "  </thead>\n",
       "  <tbody>\n",
       "    <tr>\n",
       "      <th>2</th>\n",
       "      <td>1990</td>\n",
       "      <td>28344</td>\n",
       "      <td>11</td>\n",
       "      <td>69</td>\n",
       "      <td>44</td>\n",
       "      <td>32</td>\n",
       "      <td>19</td>\n",
       "      <td>24</td>\n",
       "      <td>1</td>\n",
       "      <td>24</td>\n",
       "      <td>1</td>\n",
       "      <td>59</td>\n",
       "      <td>M</td>\n",
       "      <td>Graduation</td>\n",
       "      <td>Married</td>\n",
       "      <td>Kind of OK</td>\n",
       "    </tr>\n",
       "    <tr>\n",
       "      <th>9</th>\n",
       "      <td>1994</td>\n",
       "      <td>23846</td>\n",
       "      <td>8</td>\n",
       "      <td>153</td>\n",
       "      <td>19</td>\n",
       "      <td>18</td>\n",
       "      <td>55</td>\n",
       "      <td>17</td>\n",
       "      <td>10</td>\n",
       "      <td>1</td>\n",
       "      <td>1</td>\n",
       "      <td>39</td>\n",
       "      <td>F</td>\n",
       "      <td>1st Cycle</td>\n",
       "      <td>Together</td>\n",
       "      <td>Meh...</td>\n",
       "    </tr>\n",
       "    <tr>\n",
       "      <th>15</th>\n",
       "      <td>1992</td>\n",
       "      <td>20043</td>\n",
       "      <td>5</td>\n",
       "      <td>37</td>\n",
       "      <td>16</td>\n",
       "      <td>6</td>\n",
       "      <td>28</td>\n",
       "      <td>35</td>\n",
       "      <td>28</td>\n",
       "      <td>3</td>\n",
       "      <td>0</td>\n",
       "      <td>51</td>\n",
       "      <td>M</td>\n",
       "      <td>Graduation</td>\n",
       "      <td>Single</td>\n",
       "      <td>Kind of OK</td>\n",
       "    </tr>\n",
       "    <tr>\n",
       "      <th>17</th>\n",
       "      <td>1990</td>\n",
       "      <td>26141</td>\n",
       "      <td>8</td>\n",
       "      <td>52</td>\n",
       "      <td>36</td>\n",
       "      <td>19</td>\n",
       "      <td>17</td>\n",
       "      <td>28</td>\n",
       "      <td>23</td>\n",
       "      <td>12</td>\n",
       "      <td>0</td>\n",
       "      <td>50</td>\n",
       "      <td>M</td>\n",
       "      <td>Graduation</td>\n",
       "      <td>Together</td>\n",
       "      <td>Meh...</td>\n",
       "    </tr>\n",
       "    <tr>\n",
       "      <th>18</th>\n",
       "      <td>1988</td>\n",
       "      <td>40944</td>\n",
       "      <td>10</td>\n",
       "      <td>67</td>\n",
       "      <td>52</td>\n",
       "      <td>30</td>\n",
       "      <td>12</td>\n",
       "      <td>46</td>\n",
       "      <td>9</td>\n",
       "      <td>3</td>\n",
       "      <td>1</td>\n",
       "      <td>60</td>\n",
       "      <td>M</td>\n",
       "      <td>2nd Cycle</td>\n",
       "      <td>Together</td>\n",
       "      <td>Meh...</td>\n",
       "    </tr>\n",
       "    <tr>\n",
       "      <th>...</th>\n",
       "      <td>...</td>\n",
       "      <td>...</td>\n",
       "      <td>...</td>\n",
       "      <td>...</td>\n",
       "      <td>...</td>\n",
       "      <td>...</td>\n",
       "      <td>...</td>\n",
       "      <td>...</td>\n",
       "      <td>...</td>\n",
       "      <td>...</td>\n",
       "      <td>...</td>\n",
       "      <td>...</td>\n",
       "      <td>...</td>\n",
       "      <td>...</td>\n",
       "      <td>...</td>\n",
       "      <td>...</td>\n",
       "    </tr>\n",
       "    <tr>\n",
       "      <th>8973</th>\n",
       "      <td>1993</td>\n",
       "      <td>35322</td>\n",
       "      <td>13</td>\n",
       "      <td>4</td>\n",
       "      <td>71</td>\n",
       "      <td>9</td>\n",
       "      <td>16</td>\n",
       "      <td>11</td>\n",
       "      <td>62</td>\n",
       "      <td>2</td>\n",
       "      <td>0</td>\n",
       "      <td>80</td>\n",
       "      <td>M</td>\n",
       "      <td>2nd Cycle</td>\n",
       "      <td>Single</td>\n",
       "      <td>Meh...</td>\n",
       "    </tr>\n",
       "    <tr>\n",
       "      <th>8985</th>\n",
       "      <td>1992</td>\n",
       "      <td>32641</td>\n",
       "      <td>9</td>\n",
       "      <td>29</td>\n",
       "      <td>62</td>\n",
       "      <td>12</td>\n",
       "      <td>21</td>\n",
       "      <td>34</td>\n",
       "      <td>31</td>\n",
       "      <td>2</td>\n",
       "      <td>1</td>\n",
       "      <td>53</td>\n",
       "      <td>M</td>\n",
       "      <td>Graduation</td>\n",
       "      <td>Single</td>\n",
       "      <td>Meh...</td>\n",
       "    </tr>\n",
       "    <tr>\n",
       "      <th>8990</th>\n",
       "      <td>1995</td>\n",
       "      <td>28144</td>\n",
       "      <td>10</td>\n",
       "      <td>41</td>\n",
       "      <td>46</td>\n",
       "      <td>11</td>\n",
       "      <td>40</td>\n",
       "      <td>24</td>\n",
       "      <td>22</td>\n",
       "      <td>2</td>\n",
       "      <td>1</td>\n",
       "      <td>59</td>\n",
       "      <td>M</td>\n",
       "      <td>1st Cycle</td>\n",
       "      <td>Married</td>\n",
       "      <td>OK nice!</td>\n",
       "    </tr>\n",
       "    <tr>\n",
       "      <th>8995</th>\n",
       "      <td>1986</td>\n",
       "      <td>54292</td>\n",
       "      <td>29</td>\n",
       "      <td>72</td>\n",
       "      <td>1011</td>\n",
       "      <td>41</td>\n",
       "      <td>11</td>\n",
       "      <td>36</td>\n",
       "      <td>1</td>\n",
       "      <td>11</td>\n",
       "      <td>0</td>\n",
       "      <td>31</td>\n",
       "      <td>M</td>\n",
       "      <td>Graduation</td>\n",
       "      <td>Together</td>\n",
       "      <td>Take my money!!</td>\n",
       "    </tr>\n",
       "    <tr>\n",
       "      <th>8997</th>\n",
       "      <td>1994</td>\n",
       "      <td>26385</td>\n",
       "      <td>9</td>\n",
       "      <td>24</td>\n",
       "      <td>46</td>\n",
       "      <td>5</td>\n",
       "      <td>13</td>\n",
       "      <td>21</td>\n",
       "      <td>46</td>\n",
       "      <td>15</td>\n",
       "      <td>1</td>\n",
       "      <td>52</td>\n",
       "      <td>M</td>\n",
       "      <td>1st Cycle</td>\n",
       "      <td>Single</td>\n",
       "      <td>Kind of OK</td>\n",
       "    </tr>\n",
       "  </tbody>\n",
       "</table>\n",
       "<p>1578 rows × 16 columns</p>\n",
       "</div>"
      ],
      "text/plain": [
       "       age income  frq  rcn   mnt  clothes  kitchen  small_appliances  toys  \\\n",
       "2     1990  28344   11   69    44       32       19                24     1   \n",
       "9     1994  23846    8  153    19       18       55                17    10   \n",
       "15    1992  20043    5   37    16        6       28                35    28   \n",
       "17    1990  26141    8   52    36       19       17                28    23   \n",
       "18    1988  40944   10   67    52       30       12                46     9   \n",
       "...    ...    ...  ...  ...   ...      ...      ...               ...   ...   \n",
       "8973  1993  35322   13    4    71        9       16                11    62   \n",
       "8985  1992  32641    9   29    62       12       21                34    31   \n",
       "8990  1995  28144   10   41    46       11       40                24    22   \n",
       "8995  1986  54292   29   72  1011       41       11                36     1   \n",
       "8997  1994  26385    9   24    46        5       13                21    46   \n",
       "\n",
       "      house_keeping dependents  per_net_purchase gender   education    status  \\\n",
       "2                24          1                59      M  Graduation   Married   \n",
       "9                 1          1                39      F   1st Cycle  Together   \n",
       "15                3          0                51      M  Graduation    Single   \n",
       "17               12          0                50      M  Graduation  Together   \n",
       "18                3          1                60      M   2nd Cycle  Together   \n",
       "...             ...        ...               ...    ...         ...       ...   \n",
       "8973              2          0                80      M   2nd Cycle    Single   \n",
       "8985              2          1                53      M  Graduation    Single   \n",
       "8990              2          1                59      M   1st Cycle   Married   \n",
       "8995             11          0                31      M  Graduation  Together   \n",
       "8997             15          1                52      M   1st Cycle    Single   \n",
       "\n",
       "          description  \n",
       "2          Kind of OK  \n",
       "9              Meh...  \n",
       "15         Kind of OK  \n",
       "17             Meh...  \n",
       "18             Meh...  \n",
       "...               ...  \n",
       "8973           Meh...  \n",
       "8985           Meh...  \n",
       "8990         OK nice!  \n",
       "8995  Take my money!!  \n",
       "8997       Kind of OK  \n",
       "\n",
       "[1578 rows x 16 columns]"
      ]
     },
     "execution_count": 25,
     "metadata": {},
     "output_type": "execute_result"
    }
   ],
   "source": [
    "df.loc[df['age'] > (2025-40) ]"
   ]
  },
  {
   "cell_type": "code",
   "execution_count": 26,
   "metadata": {},
   "outputs": [
    {
     "data": {
      "text/plain": [
       "1985"
      ]
     },
     "execution_count": 26,
     "metadata": {},
     "output_type": "execute_result"
    }
   ],
   "source": [
    "age = 40\n",
    "birthyear = (2025-age)\n",
    "birthyear"
   ]
  },
  {
   "cell_type": "code",
   "execution_count": 27,
   "metadata": {
    "id": "ZIyL4ZSoI36V"
   },
   "outputs": [
    {
     "data": {
      "application/vnd.microsoft.datawrangler.viewer.v0+json": {
       "columns": [
        {
         "name": "index",
         "rawType": "int64",
         "type": "integer"
        },
        {
         "name": "age",
         "rawType": "int64",
         "type": "integer"
        }
       ],
       "ref": "5f64e383-6b94-4e3a-b2c4-6f8ef4184775",
       "rows": [
        [
         "0",
         "1946"
        ],
        [
         "1",
         "1936"
        ],
        [
         "2",
         "1990"
        ],
        [
         "3",
         "1955"
        ],
        [
         "4",
         "1955"
        ],
        [
         "5",
         "1982"
        ],
        [
         "6",
         "1969"
        ],
        [
         "7",
         "1960"
        ],
        [
         "8",
         "1940"
        ],
        [
         "9",
         "1994"
        ],
        [
         "10",
         "1949"
        ],
        [
         "11",
         "1957"
        ],
        [
         "12",
         "1954"
        ],
        [
         "13",
         "1979"
        ],
        [
         "14",
         "1982"
        ],
        [
         "15",
         "1992"
        ],
        [
         "16",
         "1938"
        ],
        [
         "17",
         "1990"
        ],
        [
         "18",
         "1988"
        ],
        [
         "19",
         "1947"
        ],
        [
         "20",
         "1995"
        ],
        [
         "21",
         "1982"
        ],
        [
         "22",
         "1981"
        ],
        [
         "23",
         "1946"
        ],
        [
         "24",
         "1971"
        ],
        [
         "25",
         "1976"
        ],
        [
         "26",
         "1961"
        ],
        [
         "27",
         "1986"
        ],
        [
         "28",
         "1940"
        ],
        [
         "29",
         "1982"
        ],
        [
         "30",
         "1973"
        ],
        [
         "31",
         "1967"
        ],
        [
         "32",
         "1955"
        ],
        [
         "33",
         "1976"
        ],
        [
         "34",
         "1936"
        ],
        [
         "35",
         "1996"
        ],
        [
         "36",
         "1979"
        ],
        [
         "37",
         "1996"
        ],
        [
         "38",
         "1958"
        ],
        [
         "39",
         "1995"
        ],
        [
         "40",
         "1959"
        ],
        [
         "41",
         "1955"
        ],
        [
         "42",
         "1979"
        ],
        [
         "43",
         "1954"
        ],
        [
         "44",
         "1979"
        ],
        [
         "45",
         "1986"
        ],
        [
         "46",
         "1940"
        ],
        [
         "47",
         "1964"
        ],
        [
         "48",
         "1965"
        ],
        [
         "49",
         "1995"
        ]
       ],
       "shape": {
        "columns": 1,
        "rows": 8998
       }
      },
      "text/plain": [
       "0       1946\n",
       "1       1936\n",
       "2       1990\n",
       "3       1955\n",
       "4       1955\n",
       "        ... \n",
       "8993    1960\n",
       "8994    1975\n",
       "8995    1986\n",
       "8996    1938\n",
       "8997    1994\n",
       "Name: age, Length: 8998, dtype: int64"
      ]
     },
     "execution_count": 27,
     "metadata": {},
     "output_type": "execute_result"
    }
   ],
   "source": [
    "## Let's break this down\n",
    "\n",
    "df['age']"
   ]
  },
  {
   "cell_type": "code",
   "execution_count": 28,
   "metadata": {
    "id": "6k0IEMR2IV2C"
   },
   "outputs": [
    {
     "data": {
      "application/vnd.microsoft.datawrangler.viewer.v0+json": {
       "columns": [
        {
         "name": "index",
         "rawType": "int64",
         "type": "integer"
        },
        {
         "name": "age",
         "rawType": "bool",
         "type": "boolean"
        }
       ],
       "ref": "3db6288a-60e8-4f00-a36e-c33bb7b6c4a2",
       "rows": [
        [
         "0",
         "False"
        ],
        [
         "1",
         "False"
        ],
        [
         "2",
         "True"
        ],
        [
         "3",
         "False"
        ],
        [
         "4",
         "False"
        ],
        [
         "5",
         "False"
        ],
        [
         "6",
         "False"
        ],
        [
         "7",
         "False"
        ],
        [
         "8",
         "False"
        ],
        [
         "9",
         "True"
        ],
        [
         "10",
         "False"
        ],
        [
         "11",
         "False"
        ],
        [
         "12",
         "False"
        ],
        [
         "13",
         "False"
        ],
        [
         "14",
         "False"
        ],
        [
         "15",
         "True"
        ],
        [
         "16",
         "False"
        ],
        [
         "17",
         "True"
        ],
        [
         "18",
         "True"
        ],
        [
         "19",
         "False"
        ],
        [
         "20",
         "True"
        ],
        [
         "21",
         "False"
        ],
        [
         "22",
         "False"
        ],
        [
         "23",
         "False"
        ],
        [
         "24",
         "False"
        ],
        [
         "25",
         "False"
        ],
        [
         "26",
         "False"
        ],
        [
         "27",
         "True"
        ],
        [
         "28",
         "False"
        ],
        [
         "29",
         "False"
        ],
        [
         "30",
         "False"
        ],
        [
         "31",
         "False"
        ],
        [
         "32",
         "False"
        ],
        [
         "33",
         "False"
        ],
        [
         "34",
         "False"
        ],
        [
         "35",
         "True"
        ],
        [
         "36",
         "False"
        ],
        [
         "37",
         "True"
        ],
        [
         "38",
         "False"
        ],
        [
         "39",
         "True"
        ],
        [
         "40",
         "False"
        ],
        [
         "41",
         "False"
        ],
        [
         "42",
         "False"
        ],
        [
         "43",
         "False"
        ],
        [
         "44",
         "False"
        ],
        [
         "45",
         "True"
        ],
        [
         "46",
         "False"
        ],
        [
         "47",
         "False"
        ],
        [
         "48",
         "False"
        ],
        [
         "49",
         "True"
        ]
       ],
       "shape": {
        "columns": 1,
        "rows": 8998
       }
      },
      "text/plain": [
       "0       False\n",
       "1       False\n",
       "2        True\n",
       "3       False\n",
       "4       False\n",
       "        ...  \n",
       "8993    False\n",
       "8994    False\n",
       "8995     True\n",
       "8996    False\n",
       "8997     True\n",
       "Name: age, Length: 8998, dtype: bool"
      ]
     },
     "execution_count": 28,
     "metadata": {},
     "output_type": "execute_result"
    }
   ],
   "source": [
    "## Let's break this down\n",
    "\n",
    "df['age'] > birthyear\n"
   ]
  },
  {
   "cell_type": "code",
   "execution_count": 29,
   "metadata": {
    "id": "E9U9qUGyIVy5"
   },
   "outputs": [
    {
     "data": {
      "application/vnd.microsoft.datawrangler.viewer.v0+json": {
       "columns": [
        {
         "name": "index",
         "rawType": "int64",
         "type": "integer"
        },
        {
         "name": "age",
         "rawType": "int64",
         "type": "integer"
        },
        {
         "name": "income",
         "rawType": "object",
         "type": "unknown"
        },
        {
         "name": "frq",
         "rawType": "int64",
         "type": "integer"
        },
        {
         "name": "rcn",
         "rawType": "int64",
         "type": "integer"
        },
        {
         "name": "mnt",
         "rawType": "int64",
         "type": "integer"
        },
        {
         "name": "clothes",
         "rawType": "int64",
         "type": "integer"
        },
        {
         "name": "kitchen",
         "rawType": "int64",
         "type": "integer"
        },
        {
         "name": "small_appliances",
         "rawType": "int64",
         "type": "integer"
        },
        {
         "name": "toys",
         "rawType": "int64",
         "type": "integer"
        },
        {
         "name": "house_keeping",
         "rawType": "int64",
         "type": "integer"
        },
        {
         "name": "dependents",
         "rawType": "object",
         "type": "unknown"
        },
        {
         "name": "per_net_purchase",
         "rawType": "int64",
         "type": "integer"
        },
        {
         "name": "gender",
         "rawType": "object",
         "type": "string"
        },
        {
         "name": "education",
         "rawType": "object",
         "type": "string"
        },
        {
         "name": "status",
         "rawType": "object",
         "type": "string"
        },
        {
         "name": "description",
         "rawType": "object",
         "type": "string"
        }
       ],
       "ref": "38f54110-d667-44e3-9e77-b4c7034bcb6e",
       "rows": [
        [
         "2",
         "1990",
         "28344",
         "11",
         "69",
         "44",
         "32",
         "19",
         "24",
         "1",
         "24",
         "1",
         "59",
         "M",
         "Graduation",
         "Married",
         "Kind of OK"
        ],
        [
         "9",
         "1994",
         "23846",
         "8",
         "153",
         "19",
         "18",
         "55",
         "17",
         "10",
         "1",
         "1",
         "39",
         "F",
         "1st Cycle",
         "Together",
         "Meh..."
        ],
        [
         "15",
         "1992",
         "20043",
         "5",
         "37",
         "16",
         "6",
         "28",
         "35",
         "28",
         "3",
         "0",
         "51",
         "M",
         "Graduation",
         "Single",
         "Kind of OK"
        ],
        [
         "17",
         "1990",
         "26141",
         "8",
         "52",
         "36",
         "19",
         "17",
         "28",
         "23",
         "12",
         "0",
         "50",
         "M",
         "Graduation",
         "Together",
         "Meh..."
        ],
        [
         "18",
         "1988",
         "40944",
         "10",
         "67",
         "52",
         "30",
         "12",
         "46",
         "9",
         "3",
         "1",
         "60",
         "M",
         "2nd Cycle",
         "Together",
         "Meh..."
        ],
        [
         "20",
         "1995",
         "43392",
         "12",
         "4",
         "118",
         "5",
         "29",
         "16",
         "12",
         "38",
         "0",
         "57",
         "M",
         "1st Cycle",
         "Widow",
         "Meh..."
        ],
        [
         "27",
         "1986",
         "30957",
         "9",
         "156",
         "19",
         "77",
         "2",
         "17",
         "0",
         "4",
         "1",
         "64",
         "F",
         "Master",
         "Married",
         "Meh..."
        ],
        [
         "35",
         "1996",
         "36143",
         "14",
         "65",
         "150",
         "6",
         "28",
         "27",
         "17",
         "22",
         "1",
         "60",
         "M",
         "1st Cycle",
         "Widow",
         "Meh..."
        ],
        [
         "37",
         "1996",
         "12808",
         "9",
         "93",
         "25",
         "6",
         "26",
         "15",
         "19",
         "33",
         "1",
         "62",
         "M",
         "1st Cycle",
         "Single",
         "OK nice!"
        ],
        [
         "39",
         "1995",
         "33176",
         "8",
         "52",
         "40",
         "4",
         "12",
         "27",
         "57",
         "0",
         "1",
         "43",
         "M",
         "1st Cycle",
         "Married",
         "Kind of OK"
        ],
        [
         "45",
         "1986",
         "42773",
         "11",
         "2",
         "84",
         "71",
         "0",
         "27",
         "1",
         "1",
         "1",
         "52",
         "F",
         "Graduation",
         "Married",
         "Kind of OK"
        ],
        [
         "49",
         "1995",
         "25634",
         "13",
         "25",
         "46",
         "9",
         "30",
         "26",
         "2",
         "33",
         "1",
         "71",
         "F",
         "1st Cycle",
         "Married",
         "OK nice!"
        ],
        [
         "50",
         "1986",
         "52879",
         "18",
         "36",
         "263",
         "53",
         "5",
         "30",
         "6",
         "5",
         "1",
         "73",
         "M",
         "Graduation",
         "Together",
         "Kind of OK"
        ],
        [
         "51",
         "1986",
         "58656",
         "11",
         "99",
         "122",
         "12",
         "7",
         "50",
         "19",
         "12",
         "1",
         "55",
         "M",
         "2nd Cycle",
         "Single",
         "Kind of OK"
        ],
        [
         "56",
         "1993",
         "35696",
         "15",
         "19",
         "153",
         "9",
         "44",
         "33",
         "12",
         "2",
         "1",
         "67",
         "F",
         "2nd Cycle",
         "Married",
         "OK nice!"
        ],
        [
         "62",
         "1987",
         "38151",
         "12",
         "47",
         "71",
         "45",
         "7",
         "46",
         "1",
         "1",
         "1",
         "60",
         "F",
         "Master",
         "Single",
         "Kind of OK"
        ],
        [
         "65",
         "1992",
         "38407",
         "11",
         "6",
         "49",
         "13",
         "26",
         "23",
         "16",
         "22",
         "1",
         "69",
         "M",
         "1st Cycle",
         "Single",
         "OK nice!"
        ],
        [
         "74",
         "1994",
         "27321",
         "8",
         "16",
         "20",
         "27",
         "20",
         "25",
         "15",
         "12",
         "0",
         "41",
         "M",
         "1st Cycle",
         "Single",
         "Meh..."
        ],
        [
         "77",
         "1992",
         "50847",
         "12",
         "69",
         "74",
         "12",
         "21",
         "37",
         "1",
         "28",
         "1",
         "66",
         "M",
         "Graduation",
         "Single",
         "Meh..."
        ],
        [
         "85",
         "1994",
         "15463",
         "12",
         "75",
         "45",
         "16",
         "10",
         "22",
         "48",
         "4",
         "1",
         "60",
         "M",
         "1st Cycle",
         "Single",
         "Kind of OK"
        ],
        [
         "87",
         "1986",
         "35844",
         "10",
         "12",
         "40",
         "61",
         "2",
         "34",
         "1",
         "2",
         "1",
         "65",
         "M",
         "Graduation",
         "Married",
         "Kind of OK"
        ],
        [
         "91",
         "1986",
         "40645",
         "10",
         "1",
         "48",
         "66",
         "1",
         "26",
         "1",
         "6",
         "1",
         "64",
         "M",
         "Master",
         "Single",
         "OK nice!"
        ],
        [
         "98",
         "1990",
         "21958",
         "10",
         "30",
         "26",
         "21",
         "3",
         "29",
         "17",
         "30",
         "1",
         "58",
         "F",
         "Graduation",
         "Single",
         "Meh..."
        ],
        [
         "99",
         "1993",
         "24589",
         "11",
         "98",
         "29",
         "18",
         "21",
         "30",
         "16",
         "15",
         "1",
         "72",
         "M",
         "1st Cycle",
         "Single",
         "Meh..."
        ],
        [
         "100",
         "1991",
         "10000",
         "10",
         "12",
         "34",
         "10",
         "32",
         "37",
         "2",
         "20",
         "0",
         "64",
         "M",
         "Graduation",
         "Single",
         "Kind of OK"
        ],
        [
         "101",
         "1994",
         "33111",
         "14",
         "19",
         "181",
         "62",
         "8",
         "17",
         "7",
         "7",
         "1",
         "37",
         "M",
         "1st Cycle",
         "Together",
         "OK nice!"
        ],
        [
         "107",
         "1989",
         "48600",
         "9",
         "74",
         "47",
         "45",
         "10",
         "37",
         "6",
         "3",
         "1",
         "61",
         "F",
         "Graduation",
         "",
         "Kind of OK"
        ],
        [
         "111",
         "1987",
         "45267",
         "9",
         "11",
         "42",
         "60",
         "1",
         "33",
         "3",
         "4",
         "1",
         "63",
         "M",
         "Graduation",
         "Together",
         "Kind of OK"
        ],
        [
         "123",
         "1987",
         "40112",
         "8",
         "300",
         "18",
         "32",
         "13",
         "34",
         "7",
         "14",
         "1",
         "57",
         "F",
         "2nd Cycle",
         "Married",
         "OK nice!"
        ],
        [
         "132",
         "1992",
         "52819",
         "12",
         "23",
         "148",
         "24",
         "8",
         "41",
         "20",
         "6",
         "0",
         "51",
         "M",
         "Graduation",
         "Single",
         "OK nice!"
        ],
        [
         "144",
         "1988",
         "29821",
         "13",
         "29",
         "54",
         "33",
         "14",
         "30",
         "13",
         "11",
         "1",
         "78",
         "M",
         "1st Cycle",
         "Single",
         "OK nice!"
        ],
        [
         "153",
         "1989",
         "43284",
         "11",
         "39",
         "93",
         "78",
         "1",
         "16",
         "1",
         "3",
         "1",
         "54",
         "M",
         "Graduation",
         "Single",
         "Kind of OK"
        ],
        [
         "158",
         "1996",
         "33397",
         "7",
         "99",
         "30",
         "10",
         "16",
         "11",
         "18",
         "45",
         "1",
         "41",
         "M",
         "1st Cycle",
         "Widow",
         "OK nice!"
        ],
        [
         "166",
         "1996",
         "31351",
         "10",
         "11",
         "34",
         "7",
         "11",
         "13",
         "32",
         "37",
         "1",
         "73",
         "M",
         "1st Cycle",
         "Single",
         "Kind of OK"
        ],
        [
         "175",
         "1995",
         "29745",
         "11",
         "40",
         "48",
         "8",
         "21",
         "36",
         "7",
         "28",
         "1",
         "55",
         "M",
         "1st Cycle",
         "Single",
         "Kind of OK"
        ],
        [
         "181",
         "1987",
         "51209",
         "10",
         "59",
         "93",
         "60",
         "2",
         "34",
         "2",
         "3",
         "1",
         "42",
         "F",
         "Graduation",
         "Married",
         "Kind of OK"
        ],
        [
         "185",
         "1989",
         "48015",
         "12",
         "18",
         "63",
         "30",
         "5",
         "48",
         "11",
         "6",
         "1",
         "71",
         "M",
         "2nd Cycle",
         "Single",
         "OK nice!"
        ],
        [
         "189",
         "1986",
         "36825",
         "11",
         "84",
         "36",
         "12",
         "12",
         "38",
         "7",
         "31",
         "1",
         "63",
         "F",
         "1st Cycle",
         "Together",
         "OK nice!"
        ],
        [
         "193",
         "1988",
         "28901",
         "10",
         "48",
         "31",
         "22",
         "21",
         "27",
         "15",
         "15",
         "1",
         "68",
         "F",
         "Graduation",
         "Together",
         "OK nice!"
        ],
        [
         "197",
         "1992",
         "36103",
         "13",
         "2",
         "118",
         "12",
         "31",
         "33",
         "14",
         "10",
         "1",
         "55",
         "M",
         "Graduation",
         "Married",
         "Kind of OK"
        ],
        [
         "198",
         "1990",
         "25100",
         "14",
         "96",
         "117",
         "22",
         "16",
         "39",
         "3",
         "20",
         "",
         "50",
         "F",
         "Graduation",
         "Single",
         "Meh..."
        ],
        [
         "199",
         "1988",
         "57319",
         "13",
         "10",
         "154",
         "24",
         "6",
         "50",
         "12",
         "8",
         "1",
         "59",
         "F",
         "Graduation",
         "Single",
         "Meh..."
        ],
        [
         "208",
         "1987",
         "43545",
         "10",
         "27",
         "119",
         "37",
         "10",
         "41",
         "3",
         "9",
         "1",
         "38",
         "M",
         "Graduation",
         "Together",
         "Meh..."
        ],
        [
         "221",
         "1994",
         "22670",
         "9",
         "37",
         "33",
         "9",
         "16",
         "38",
         "12",
         "25",
         "",
         "56",
         "M",
         "1st Cycle",
         "Single",
         "Meh..."
        ],
        [
         "226",
         "1992",
         "27201",
         "11",
         "84",
         "41",
         "15",
         "1",
         "31",
         "15",
         "38",
         "1",
         "66",
         "M",
         "Graduation",
         "Together",
         "Kind of OK"
        ],
        [
         "227",
         "1996",
         "21075",
         "11",
         "9",
         "29",
         "7",
         "41",
         "17",
         "5",
         "30",
         "1",
         "69",
         "F",
         "1st Cycle",
         "Single",
         "OK nice!"
        ],
        [
         "234",
         "1996",
         "19228",
         "6",
         "81",
         "10",
         "8",
         "9",
         "26",
         "22",
         "34",
         "0",
         "59",
         "M",
         "1st Cycle",
         "Single",
         "Meh..."
        ],
        [
         "240",
         "1992",
         "29911",
         "11",
         "25",
         "44",
         "11",
         "28",
         "25",
         "5",
         "31",
         "1",
         "70",
         "M",
         "Graduation",
         "Single",
         "Kind of OK"
        ],
        [
         "249",
         "1989",
         "49953",
         "20",
         "68",
         "347",
         "54",
         "5",
         "29",
         "4",
         "8",
         "1",
         "79",
         "M",
         "Graduation",
         "Single",
         "Meh..."
        ],
        [
         "250",
         "1996",
         "22963",
         "11",
         "90",
         "59",
         "2",
         "23",
         "34",
         "18",
         "22",
         "",
         "57",
         "F",
         "1st Cycle",
         "Single",
         "Kind of OK"
        ]
       ],
       "shape": {
        "columns": 16,
        "rows": 1578
       }
      },
      "text/html": [
       "<div>\n",
       "<style scoped>\n",
       "    .dataframe tbody tr th:only-of-type {\n",
       "        vertical-align: middle;\n",
       "    }\n",
       "\n",
       "    .dataframe tbody tr th {\n",
       "        vertical-align: top;\n",
       "    }\n",
       "\n",
       "    .dataframe thead th {\n",
       "        text-align: right;\n",
       "    }\n",
       "</style>\n",
       "<table border=\"1\" class=\"dataframe\">\n",
       "  <thead>\n",
       "    <tr style=\"text-align: right;\">\n",
       "      <th></th>\n",
       "      <th>age</th>\n",
       "      <th>income</th>\n",
       "      <th>frq</th>\n",
       "      <th>rcn</th>\n",
       "      <th>mnt</th>\n",
       "      <th>clothes</th>\n",
       "      <th>kitchen</th>\n",
       "      <th>small_appliances</th>\n",
       "      <th>toys</th>\n",
       "      <th>house_keeping</th>\n",
       "      <th>dependents</th>\n",
       "      <th>per_net_purchase</th>\n",
       "      <th>gender</th>\n",
       "      <th>education</th>\n",
       "      <th>status</th>\n",
       "      <th>description</th>\n",
       "    </tr>\n",
       "  </thead>\n",
       "  <tbody>\n",
       "    <tr>\n",
       "      <th>2</th>\n",
       "      <td>1990</td>\n",
       "      <td>28344</td>\n",
       "      <td>11</td>\n",
       "      <td>69</td>\n",
       "      <td>44</td>\n",
       "      <td>32</td>\n",
       "      <td>19</td>\n",
       "      <td>24</td>\n",
       "      <td>1</td>\n",
       "      <td>24</td>\n",
       "      <td>1</td>\n",
       "      <td>59</td>\n",
       "      <td>M</td>\n",
       "      <td>Graduation</td>\n",
       "      <td>Married</td>\n",
       "      <td>Kind of OK</td>\n",
       "    </tr>\n",
       "    <tr>\n",
       "      <th>9</th>\n",
       "      <td>1994</td>\n",
       "      <td>23846</td>\n",
       "      <td>8</td>\n",
       "      <td>153</td>\n",
       "      <td>19</td>\n",
       "      <td>18</td>\n",
       "      <td>55</td>\n",
       "      <td>17</td>\n",
       "      <td>10</td>\n",
       "      <td>1</td>\n",
       "      <td>1</td>\n",
       "      <td>39</td>\n",
       "      <td>F</td>\n",
       "      <td>1st Cycle</td>\n",
       "      <td>Together</td>\n",
       "      <td>Meh...</td>\n",
       "    </tr>\n",
       "    <tr>\n",
       "      <th>15</th>\n",
       "      <td>1992</td>\n",
       "      <td>20043</td>\n",
       "      <td>5</td>\n",
       "      <td>37</td>\n",
       "      <td>16</td>\n",
       "      <td>6</td>\n",
       "      <td>28</td>\n",
       "      <td>35</td>\n",
       "      <td>28</td>\n",
       "      <td>3</td>\n",
       "      <td>0</td>\n",
       "      <td>51</td>\n",
       "      <td>M</td>\n",
       "      <td>Graduation</td>\n",
       "      <td>Single</td>\n",
       "      <td>Kind of OK</td>\n",
       "    </tr>\n",
       "    <tr>\n",
       "      <th>17</th>\n",
       "      <td>1990</td>\n",
       "      <td>26141</td>\n",
       "      <td>8</td>\n",
       "      <td>52</td>\n",
       "      <td>36</td>\n",
       "      <td>19</td>\n",
       "      <td>17</td>\n",
       "      <td>28</td>\n",
       "      <td>23</td>\n",
       "      <td>12</td>\n",
       "      <td>0</td>\n",
       "      <td>50</td>\n",
       "      <td>M</td>\n",
       "      <td>Graduation</td>\n",
       "      <td>Together</td>\n",
       "      <td>Meh...</td>\n",
       "    </tr>\n",
       "    <tr>\n",
       "      <th>18</th>\n",
       "      <td>1988</td>\n",
       "      <td>40944</td>\n",
       "      <td>10</td>\n",
       "      <td>67</td>\n",
       "      <td>52</td>\n",
       "      <td>30</td>\n",
       "      <td>12</td>\n",
       "      <td>46</td>\n",
       "      <td>9</td>\n",
       "      <td>3</td>\n",
       "      <td>1</td>\n",
       "      <td>60</td>\n",
       "      <td>M</td>\n",
       "      <td>2nd Cycle</td>\n",
       "      <td>Together</td>\n",
       "      <td>Meh...</td>\n",
       "    </tr>\n",
       "    <tr>\n",
       "      <th>...</th>\n",
       "      <td>...</td>\n",
       "      <td>...</td>\n",
       "      <td>...</td>\n",
       "      <td>...</td>\n",
       "      <td>...</td>\n",
       "      <td>...</td>\n",
       "      <td>...</td>\n",
       "      <td>...</td>\n",
       "      <td>...</td>\n",
       "      <td>...</td>\n",
       "      <td>...</td>\n",
       "      <td>...</td>\n",
       "      <td>...</td>\n",
       "      <td>...</td>\n",
       "      <td>...</td>\n",
       "      <td>...</td>\n",
       "    </tr>\n",
       "    <tr>\n",
       "      <th>8973</th>\n",
       "      <td>1993</td>\n",
       "      <td>35322</td>\n",
       "      <td>13</td>\n",
       "      <td>4</td>\n",
       "      <td>71</td>\n",
       "      <td>9</td>\n",
       "      <td>16</td>\n",
       "      <td>11</td>\n",
       "      <td>62</td>\n",
       "      <td>2</td>\n",
       "      <td>0</td>\n",
       "      <td>80</td>\n",
       "      <td>M</td>\n",
       "      <td>2nd Cycle</td>\n",
       "      <td>Single</td>\n",
       "      <td>Meh...</td>\n",
       "    </tr>\n",
       "    <tr>\n",
       "      <th>8985</th>\n",
       "      <td>1992</td>\n",
       "      <td>32641</td>\n",
       "      <td>9</td>\n",
       "      <td>29</td>\n",
       "      <td>62</td>\n",
       "      <td>12</td>\n",
       "      <td>21</td>\n",
       "      <td>34</td>\n",
       "      <td>31</td>\n",
       "      <td>2</td>\n",
       "      <td>1</td>\n",
       "      <td>53</td>\n",
       "      <td>M</td>\n",
       "      <td>Graduation</td>\n",
       "      <td>Single</td>\n",
       "      <td>Meh...</td>\n",
       "    </tr>\n",
       "    <tr>\n",
       "      <th>8990</th>\n",
       "      <td>1995</td>\n",
       "      <td>28144</td>\n",
       "      <td>10</td>\n",
       "      <td>41</td>\n",
       "      <td>46</td>\n",
       "      <td>11</td>\n",
       "      <td>40</td>\n",
       "      <td>24</td>\n",
       "      <td>22</td>\n",
       "      <td>2</td>\n",
       "      <td>1</td>\n",
       "      <td>59</td>\n",
       "      <td>M</td>\n",
       "      <td>1st Cycle</td>\n",
       "      <td>Married</td>\n",
       "      <td>OK nice!</td>\n",
       "    </tr>\n",
       "    <tr>\n",
       "      <th>8995</th>\n",
       "      <td>1986</td>\n",
       "      <td>54292</td>\n",
       "      <td>29</td>\n",
       "      <td>72</td>\n",
       "      <td>1011</td>\n",
       "      <td>41</td>\n",
       "      <td>11</td>\n",
       "      <td>36</td>\n",
       "      <td>1</td>\n",
       "      <td>11</td>\n",
       "      <td>0</td>\n",
       "      <td>31</td>\n",
       "      <td>M</td>\n",
       "      <td>Graduation</td>\n",
       "      <td>Together</td>\n",
       "      <td>Take my money!!</td>\n",
       "    </tr>\n",
       "    <tr>\n",
       "      <th>8997</th>\n",
       "      <td>1994</td>\n",
       "      <td>26385</td>\n",
       "      <td>9</td>\n",
       "      <td>24</td>\n",
       "      <td>46</td>\n",
       "      <td>5</td>\n",
       "      <td>13</td>\n",
       "      <td>21</td>\n",
       "      <td>46</td>\n",
       "      <td>15</td>\n",
       "      <td>1</td>\n",
       "      <td>52</td>\n",
       "      <td>M</td>\n",
       "      <td>1st Cycle</td>\n",
       "      <td>Single</td>\n",
       "      <td>Kind of OK</td>\n",
       "    </tr>\n",
       "  </tbody>\n",
       "</table>\n",
       "<p>1578 rows × 16 columns</p>\n",
       "</div>"
      ],
      "text/plain": [
       "       age income  frq  rcn   mnt  clothes  kitchen  small_appliances  toys  \\\n",
       "2     1990  28344   11   69    44       32       19                24     1   \n",
       "9     1994  23846    8  153    19       18       55                17    10   \n",
       "15    1992  20043    5   37    16        6       28                35    28   \n",
       "17    1990  26141    8   52    36       19       17                28    23   \n",
       "18    1988  40944   10   67    52       30       12                46     9   \n",
       "...    ...    ...  ...  ...   ...      ...      ...               ...   ...   \n",
       "8973  1993  35322   13    4    71        9       16                11    62   \n",
       "8985  1992  32641    9   29    62       12       21                34    31   \n",
       "8990  1995  28144   10   41    46       11       40                24    22   \n",
       "8995  1986  54292   29   72  1011       41       11                36     1   \n",
       "8997  1994  26385    9   24    46        5       13                21    46   \n",
       "\n",
       "      house_keeping dependents  per_net_purchase gender   education    status  \\\n",
       "2                24          1                59      M  Graduation   Married   \n",
       "9                 1          1                39      F   1st Cycle  Together   \n",
       "15                3          0                51      M  Graduation    Single   \n",
       "17               12          0                50      M  Graduation  Together   \n",
       "18                3          1                60      M   2nd Cycle  Together   \n",
       "...             ...        ...               ...    ...         ...       ...   \n",
       "8973              2          0                80      M   2nd Cycle    Single   \n",
       "8985              2          1                53      M  Graduation    Single   \n",
       "8990              2          1                59      M   1st Cycle   Married   \n",
       "8995             11          0                31      M  Graduation  Together   \n",
       "8997             15          1                52      M   1st Cycle    Single   \n",
       "\n",
       "          description  \n",
       "2          Kind of OK  \n",
       "9              Meh...  \n",
       "15         Kind of OK  \n",
       "17             Meh...  \n",
       "18             Meh...  \n",
       "...               ...  \n",
       "8973           Meh...  \n",
       "8985           Meh...  \n",
       "8990         OK nice!  \n",
       "8995  Take my money!!  \n",
       "8997       Kind of OK  \n",
       "\n",
       "[1578 rows x 16 columns]"
      ]
     },
     "execution_count": 29,
     "metadata": {},
     "output_type": "execute_result"
    }
   ],
   "source": [
    "## Let's break this down\n",
    "\n",
    "df.loc[df['age'] > birthyear ]\n"
   ]
  },
  {
   "cell_type": "markdown",
   "metadata": {
    "id": "ItDDuS_1SNZr"
   },
   "source": [
    "### Aggregating data\n",
    "\n",
    "We can perform mathematical operations on our data"
   ]
  },
  {
   "cell_type": "code",
   "execution_count": 30,
   "metadata": {
    "id": "NJcqr3_USVPS"
   },
   "outputs": [
    {
     "data": {
      "text/plain": [
       "np.int64(17690605)"
      ]
     },
     "execution_count": 30,
     "metadata": {},
     "output_type": "execute_result"
    }
   ],
   "source": [
    "df['age'].sum()"
   ]
  },
  {
   "cell_type": "code",
   "execution_count": 31,
   "metadata": {
    "id": "NJcqr3_USVPS"
   },
   "outputs": [],
   "source": [
    "# Do you think this will run or will this return an error?\n",
    "# df['education'].sum()"
   ]
  },
  {
   "cell_type": "code",
   "execution_count": 32,
   "metadata": {
    "id": "5lZoaGeFSVVb"
   },
   "outputs": [
    {
     "data": {
      "application/vnd.microsoft.datawrangler.viewer.v0+json": {
       "columns": [
        {
         "name": "index",
         "rawType": "object",
         "type": "string"
        },
        {
         "name": "0",
         "rawType": "int64",
         "type": "integer"
        }
       ],
       "ref": "781c2dca-353b-4899-9e46-a2e98535167a",
       "rows": [
        [
         "age",
         "17690605"
        ],
        [
         "frq",
         "178593"
        ],
        [
         "rcn",
         "562103"
        ],
        [
         "mnt",
         "5598221"
        ],
        [
         "clothes",
         "453919"
        ],
        [
         "kitchen",
         "63343"
        ],
        [
         "small_appliances",
         "256660"
        ],
        [
         "toys",
         "63318"
        ],
        [
         "house_keeping",
         "62356"
        ],
        [
         "per_net_purchase",
         "381776"
        ]
       ],
       "shape": {
        "columns": 1,
        "rows": 10
       }
      },
      "text/plain": [
       "age                 17690605\n",
       "frq                   178593\n",
       "rcn                   562103\n",
       "mnt                  5598221\n",
       "clothes               453919\n",
       "kitchen                63343\n",
       "small_appliances      256660\n",
       "toys                   63318\n",
       "house_keeping          62356\n",
       "per_net_purchase      381776\n",
       "dtype: int64"
      ]
     },
     "execution_count": 32,
     "metadata": {},
     "output_type": "execute_result"
    }
   ],
   "source": [
    "## Does it make sense to do this?\n",
    "\n",
    "df.sum(numeric_only=True)"
   ]
  },
  {
   "cell_type": "code",
   "execution_count": 33,
   "metadata": {
    "id": "IVZ6c04sStHi"
   },
   "outputs": [],
   "source": [
    "## Think of other operations to try\n"
   ]
  },
  {
   "cell_type": "code",
   "execution_count": 34,
   "metadata": {
    "id": "IVZ6c04sStHi"
   },
   "outputs": [
    {
     "data": {
      "application/vnd.microsoft.datawrangler.viewer.v0+json": {
       "columns": [
        {
         "name": "index",
         "rawType": "int64",
         "type": "integer"
        },
        {
         "name": "0",
         "rawType": "int64",
         "type": "integer"
        }
       ],
       "ref": "e647f8a0-1658-4440-8296-7bce9b90b459",
       "rows": [
        [
         "0",
         "1435"
        ],
        [
         "1",
         "1569"
        ],
        [
         "2",
         "55"
        ],
        [
         "3",
         "914"
        ],
        [
         "4",
         "1169"
        ],
        [
         "5",
         "70"
        ],
        [
         "6",
         "363"
        ],
        [
         "7",
         "46"
        ],
        [
         "8",
         "1431"
        ],
        [
         "9",
         "27"
        ],
        [
         "10",
         "794"
        ],
        [
         "11",
         "508"
        ],
        [
         "12",
         "1439"
        ],
        [
         "13",
         "91"
        ],
        [
         "14",
         "30"
        ],
        [
         "15",
         "21"
        ],
        [
         "16",
         "2083"
        ],
        [
         "17",
         "44"
        ],
        [
         "18",
         "62"
        ],
        [
         "19",
         "407"
        ],
        [
         "20",
         "130"
        ],
        [
         "21",
         "61"
        ],
        [
         "22",
         "322"
        ],
        [
         "23",
         "1628"
        ],
        [
         "24",
         "75"
        ],
        [
         "25",
         "51"
        ],
        [
         "26",
         "792"
        ],
        [
         "27",
         "28"
        ],
        [
         "28",
         "1889"
        ],
        [
         "29",
         "55"
        ],
        [
         "30",
         "73"
        ],
        [
         "31",
         "1377"
        ],
        [
         "32",
         "461"
        ],
        [
         "33",
         "195"
        ],
        [
         "34",
         "2081"
        ],
        [
         "35",
         "164"
        ],
        [
         "36",
         "38"
        ],
        [
         "37",
         "34"
        ],
        [
         "38",
         "1046"
        ],
        [
         "39",
         "48"
        ],
        [
         "40",
         "1306"
        ],
        [
         "41",
         "622"
        ],
        [
         "42",
         "102"
        ],
        [
         "43",
         "1044"
        ],
        [
         "44",
         "31"
        ],
        [
         "45",
         "95"
        ],
        [
         "46",
         "1892"
        ],
        [
         "47",
         "313"
        ],
        [
         "48",
         "743"
        ],
        [
         "49",
         "59"
        ]
       ],
       "shape": {
        "columns": 1,
        "rows": 8998
       }
      },
      "text/plain": [
       "0       1435\n",
       "1       1569\n",
       "2         55\n",
       "3        914\n",
       "4       1169\n",
       "        ... \n",
       "8993     924\n",
       "8994      73\n",
       "8995    1040\n",
       "8996    1706\n",
       "8997      55\n",
       "Length: 8998, dtype: int64"
      ]
     },
     "execution_count": 34,
     "metadata": {},
     "output_type": "execute_result"
    }
   ],
   "source": [
    "## Think of other operations to try: \n",
    "## Add two columns together: frq and mnt\n",
    "\n",
    "df['frq'] + df['mnt']\n",
    "\n",
    "## Does this make sense?"
   ]
  },
  {
   "cell_type": "markdown",
   "metadata": {
    "id": "L6ctglJ2S2Je"
   },
   "source": [
    "You can also do this by row"
   ]
  },
  {
   "cell_type": "code",
   "execution_count": 35,
   "metadata": {
    "id": "yp_tSVY4SypO"
   },
   "outputs": [
    {
     "data": {
      "application/vnd.microsoft.datawrangler.viewer.v0+json": {
       "columns": [
        {
         "name": "index",
         "rawType": "object",
         "type": "string"
        },
        {
         "name": "0",
         "rawType": "int64",
         "type": "integer"
        }
       ],
       "ref": "6878381f-b53d-4dd6-a883-35ea800c272a",
       "rows": [
        [
         "age",
         "17690605"
        ],
        [
         "frq",
         "178593"
        ],
        [
         "rcn",
         "562103"
        ],
        [
         "mnt",
         "5598221"
        ],
        [
         "clothes",
         "453919"
        ],
        [
         "kitchen",
         "63343"
        ],
        [
         "small_appliances",
         "256660"
        ],
        [
         "toys",
         "63318"
        ],
        [
         "house_keeping",
         "62356"
        ],
        [
         "per_net_purchase",
         "381776"
        ]
       ],
       "shape": {
        "columns": 1,
        "rows": 10
       }
      },
      "text/plain": [
       "age                 17690605\n",
       "frq                   178593\n",
       "rcn                   562103\n",
       "mnt                  5598221\n",
       "clothes               453919\n",
       "kitchen                63343\n",
       "small_appliances      256660\n",
       "toys                   63318\n",
       "house_keeping          62356\n",
       "per_net_purchase      381776\n",
       "dtype: int64"
      ]
     },
     "execution_count": 35,
     "metadata": {},
     "output_type": "execute_result"
    }
   ],
   "source": [
    "## Sum by column\n",
    "\n",
    "df.sum(numeric_only=True)"
   ]
  },
  {
   "cell_type": "code",
   "execution_count": 36,
   "metadata": {
    "id": "Toq_lcNMS_Wu"
   },
   "outputs": [
    {
     "data": {
      "application/vnd.microsoft.datawrangler.viewer.v0+json": {
       "columns": [
        {
         "name": "index",
         "rawType": "int64",
         "type": "integer"
        },
        {
         "name": "0",
         "rawType": "int64",
         "type": "integer"
        }
       ],
       "ref": "07b40ee2-780c-429b-b7ce-b976cfc8ac04",
       "rows": [
        [
         "0",
         "3565"
        ],
        [
         "1",
         "3620"
        ],
        [
         "2",
         "2273"
        ],
        [
         "3",
         "3014"
        ],
        [
         "4",
         "3284"
        ],
        [
         "5",
         "2284"
        ],
        [
         "6",
         "2551"
        ],
        [
         "7",
         "2186"
        ],
        [
         "8",
         "3563"
        ],
        [
         "9",
         "2314"
        ],
        [
         "10",
         "2951"
        ],
        [
         "11",
         "2626"
        ],
        [
         "12",
         "3570"
        ],
        [
         "13",
         "2249"
        ],
        [
         "14",
         "2413"
        ],
        [
         "15",
         "2201"
        ],
        [
         "16",
         "4216"
        ],
        [
         "17",
         "2235"
        ],
        [
         "18",
         "2277"
        ],
        [
         "19",
         "2513"
        ],
        [
         "20",
         "2286"
        ],
        [
         "21",
         "2242"
        ],
        [
         "22",
         "2523"
        ],
        [
         "23",
         "3700"
        ],
        [
         "24",
         "2311"
        ],
        [
         "25",
         "2195"
        ],
        [
         "26",
         "2967"
        ],
        [
         "27",
         "2334"
        ],
        [
         "28",
         "3994"
        ],
        [
         "29",
         "2220"
        ],
        [
         "30",
         "2258"
        ],
        [
         "31",
         "3568"
        ],
        [
         "32",
         "2640"
        ],
        [
         "33",
         "2417"
        ],
        [
         "34",
         "4161"
        ],
        [
         "35",
         "2385"
        ],
        [
         "36",
         "2245"
        ],
        [
         "37",
         "2284"
        ],
        [
         "38",
         "3142"
        ],
        [
         "39",
         "2238"
        ],
        [
         "40",
         "3466"
        ],
        [
         "41",
         "2773"
        ],
        [
         "42",
         "2254"
        ],
        [
         "43",
         "3153"
        ],
        [
         "44",
         "2198"
        ],
        [
         "45",
         "2235"
        ],
        [
         "46",
         "4022"
        ],
        [
         "47",
         "2471"
        ],
        [
         "48",
         "2904"
        ],
        [
         "49",
         "2250"
        ]
       ],
       "shape": {
        "columns": 1,
        "rows": 8998
       }
      },
      "text/plain": [
       "0       3565\n",
       "1       3620\n",
       "2       2273\n",
       "3       3014\n",
       "4       3284\n",
       "        ... \n",
       "8993    3041\n",
       "8994    2225\n",
       "8995    3229\n",
       "8996    3863\n",
       "8997    2225\n",
       "Length: 8998, dtype: int64"
      ]
     },
     "execution_count": 36,
     "metadata": {},
     "output_type": "execute_result"
    }
   ],
   "source": [
    "## Sum by row\n",
    "## Notice the difference\n",
    "\n",
    "df.sum(numeric_only=True, axis=1)"
   ]
  },
  {
   "cell_type": "markdown",
   "metadata": {
    "id": "tigCvTEUTYWG"
   },
   "source": [
    "Discussion:\n",
    "\n",
    "Does it make sense to add all the numeric features in one row?"
   ]
  },
  {
   "cell_type": "markdown",
   "metadata": {},
   "source": [
    "## Take a closer look and point out possible problems\n"
   ]
  },
  {
   "cell_type": "code",
   "execution_count": 37,
   "metadata": {},
   "outputs": [
    {
     "data": {
      "application/vnd.microsoft.datawrangler.viewer.v0+json": {
       "columns": [
        {
         "name": "index",
         "rawType": "object",
         "type": "string"
        },
        {
         "name": "age",
         "rawType": "float64",
         "type": "float"
        },
        {
         "name": "frq",
         "rawType": "float64",
         "type": "float"
        },
        {
         "name": "rcn",
         "rawType": "float64",
         "type": "float"
        },
        {
         "name": "mnt",
         "rawType": "float64",
         "type": "float"
        },
        {
         "name": "clothes",
         "rawType": "float64",
         "type": "float"
        },
        {
         "name": "kitchen",
         "rawType": "float64",
         "type": "float"
        },
        {
         "name": "small_appliances",
         "rawType": "float64",
         "type": "float"
        },
        {
         "name": "toys",
         "rawType": "float64",
         "type": "float"
        },
        {
         "name": "house_keeping",
         "rawType": "float64",
         "type": "float"
        },
        {
         "name": "per_net_purchase",
         "rawType": "float64",
         "type": "float"
        }
       ],
       "ref": "e6e12369-4965-4c6b-bfc0-6f69b8cf7b05",
       "rows": [
        [
         "count",
         "8998.0",
         "8998.0",
         "8998.0",
         "8998.0",
         "8998.0",
         "8998.0",
         "8998.0",
         "8998.0",
         "8998.0",
         "8998.0"
        ],
        [
         "mean",
         "1966.059679928873",
         "19.84807735052234",
         "62.46977106023561",
         "622.1628139586575",
         "50.44665481218048",
         "7.039675483440765",
         "28.52411647032674",
         "7.036897088241831",
         "6.929984440986886",
         "42.42898421871527"
        ],
        [
         "std",
         "17.29655220631773",
         "10.903434608706068",
         "69.76180219134835",
         "646.7682045549258",
         "23.42224891836114",
         "7.848139310437572",
         "12.586436800072201",
         "7.924421742286118",
         "7.882655354667001",
         "18.495742448171647"
        ],
        [
         "min",
         "1936.0",
         "3.0",
         "0.0",
         "6.0",
         "1.0",
         "0.0",
         "1.0",
         "0.0",
         "0.0",
         "4.0"
        ],
        [
         "25%",
         "1951.0",
         "10.0",
         "26.0",
         "63.0",
         "33.0",
         "2.0",
         "19.0",
         "2.0",
         "2.0",
         "28.0"
        ],
        [
         "50%",
         "1966.0",
         "17.0",
         "53.0",
         "383.0",
         "51.0",
         "4.0",
         "28.0",
         "4.0",
         "4.0",
         "45.0"
        ],
        [
         "75%",
         "1981.0",
         "28.0",
         "79.0",
         "1076.0",
         "69.0",
         "10.0",
         "37.0",
         "10.0",
         "9.0",
         "57.0"
        ],
        [
         "max",
         "1996.0",
         "59.0",
         "549.0",
         "3052.0",
         "99.0",
         "75.0",
         "74.0",
         "62.0",
         "77.0",
         "88.0"
        ]
       ],
       "shape": {
        "columns": 10,
        "rows": 8
       }
      },
      "text/html": [
       "<div>\n",
       "<style scoped>\n",
       "    .dataframe tbody tr th:only-of-type {\n",
       "        vertical-align: middle;\n",
       "    }\n",
       "\n",
       "    .dataframe tbody tr th {\n",
       "        vertical-align: top;\n",
       "    }\n",
       "\n",
       "    .dataframe thead th {\n",
       "        text-align: right;\n",
       "    }\n",
       "</style>\n",
       "<table border=\"1\" class=\"dataframe\">\n",
       "  <thead>\n",
       "    <tr style=\"text-align: right;\">\n",
       "      <th></th>\n",
       "      <th>age</th>\n",
       "      <th>frq</th>\n",
       "      <th>rcn</th>\n",
       "      <th>mnt</th>\n",
       "      <th>clothes</th>\n",
       "      <th>kitchen</th>\n",
       "      <th>small_appliances</th>\n",
       "      <th>toys</th>\n",
       "      <th>house_keeping</th>\n",
       "      <th>per_net_purchase</th>\n",
       "    </tr>\n",
       "  </thead>\n",
       "  <tbody>\n",
       "    <tr>\n",
       "      <th>count</th>\n",
       "      <td>8998.000000</td>\n",
       "      <td>8998.000000</td>\n",
       "      <td>8998.000000</td>\n",
       "      <td>8998.000000</td>\n",
       "      <td>8998.000000</td>\n",
       "      <td>8998.000000</td>\n",
       "      <td>8998.000000</td>\n",
       "      <td>8998.000000</td>\n",
       "      <td>8998.000000</td>\n",
       "      <td>8998.000000</td>\n",
       "    </tr>\n",
       "    <tr>\n",
       "      <th>mean</th>\n",
       "      <td>1966.059680</td>\n",
       "      <td>19.848077</td>\n",
       "      <td>62.469771</td>\n",
       "      <td>622.162814</td>\n",
       "      <td>50.446655</td>\n",
       "      <td>7.039675</td>\n",
       "      <td>28.524116</td>\n",
       "      <td>7.036897</td>\n",
       "      <td>6.929984</td>\n",
       "      <td>42.428984</td>\n",
       "    </tr>\n",
       "    <tr>\n",
       "      <th>std</th>\n",
       "      <td>17.296552</td>\n",
       "      <td>10.903435</td>\n",
       "      <td>69.761802</td>\n",
       "      <td>646.768205</td>\n",
       "      <td>23.422249</td>\n",
       "      <td>7.848139</td>\n",
       "      <td>12.586437</td>\n",
       "      <td>7.924422</td>\n",
       "      <td>7.882655</td>\n",
       "      <td>18.495742</td>\n",
       "    </tr>\n",
       "    <tr>\n",
       "      <th>min</th>\n",
       "      <td>1936.000000</td>\n",
       "      <td>3.000000</td>\n",
       "      <td>0.000000</td>\n",
       "      <td>6.000000</td>\n",
       "      <td>1.000000</td>\n",
       "      <td>0.000000</td>\n",
       "      <td>1.000000</td>\n",
       "      <td>0.000000</td>\n",
       "      <td>0.000000</td>\n",
       "      <td>4.000000</td>\n",
       "    </tr>\n",
       "    <tr>\n",
       "      <th>25%</th>\n",
       "      <td>1951.000000</td>\n",
       "      <td>10.000000</td>\n",
       "      <td>26.000000</td>\n",
       "      <td>63.000000</td>\n",
       "      <td>33.000000</td>\n",
       "      <td>2.000000</td>\n",
       "      <td>19.000000</td>\n",
       "      <td>2.000000</td>\n",
       "      <td>2.000000</td>\n",
       "      <td>28.000000</td>\n",
       "    </tr>\n",
       "    <tr>\n",
       "      <th>50%</th>\n",
       "      <td>1966.000000</td>\n",
       "      <td>17.000000</td>\n",
       "      <td>53.000000</td>\n",
       "      <td>383.000000</td>\n",
       "      <td>51.000000</td>\n",
       "      <td>4.000000</td>\n",
       "      <td>28.000000</td>\n",
       "      <td>4.000000</td>\n",
       "      <td>4.000000</td>\n",
       "      <td>45.000000</td>\n",
       "    </tr>\n",
       "    <tr>\n",
       "      <th>75%</th>\n",
       "      <td>1981.000000</td>\n",
       "      <td>28.000000</td>\n",
       "      <td>79.000000</td>\n",
       "      <td>1076.000000</td>\n",
       "      <td>69.000000</td>\n",
       "      <td>10.000000</td>\n",
       "      <td>37.000000</td>\n",
       "      <td>10.000000</td>\n",
       "      <td>9.000000</td>\n",
       "      <td>57.000000</td>\n",
       "    </tr>\n",
       "    <tr>\n",
       "      <th>max</th>\n",
       "      <td>1996.000000</td>\n",
       "      <td>59.000000</td>\n",
       "      <td>549.000000</td>\n",
       "      <td>3052.000000</td>\n",
       "      <td>99.000000</td>\n",
       "      <td>75.000000</td>\n",
       "      <td>74.000000</td>\n",
       "      <td>62.000000</td>\n",
       "      <td>77.000000</td>\n",
       "      <td>88.000000</td>\n",
       "    </tr>\n",
       "  </tbody>\n",
       "</table>\n",
       "</div>"
      ],
      "text/plain": [
       "               age          frq          rcn          mnt      clothes  \\\n",
       "count  8998.000000  8998.000000  8998.000000  8998.000000  8998.000000   \n",
       "mean   1966.059680    19.848077    62.469771   622.162814    50.446655   \n",
       "std      17.296552    10.903435    69.761802   646.768205    23.422249   \n",
       "min    1936.000000     3.000000     0.000000     6.000000     1.000000   \n",
       "25%    1951.000000    10.000000    26.000000    63.000000    33.000000   \n",
       "50%    1966.000000    17.000000    53.000000   383.000000    51.000000   \n",
       "75%    1981.000000    28.000000    79.000000  1076.000000    69.000000   \n",
       "max    1996.000000    59.000000   549.000000  3052.000000    99.000000   \n",
       "\n",
       "           kitchen  small_appliances         toys  house_keeping  \\\n",
       "count  8998.000000       8998.000000  8998.000000    8998.000000   \n",
       "mean      7.039675         28.524116     7.036897       6.929984   \n",
       "std       7.848139         12.586437     7.924422       7.882655   \n",
       "min       0.000000          1.000000     0.000000       0.000000   \n",
       "25%       2.000000         19.000000     2.000000       2.000000   \n",
       "50%       4.000000         28.000000     4.000000       4.000000   \n",
       "75%      10.000000         37.000000    10.000000       9.000000   \n",
       "max      75.000000         74.000000    62.000000      77.000000   \n",
       "\n",
       "       per_net_purchase  \n",
       "count       8998.000000  \n",
       "mean          42.428984  \n",
       "std           18.495742  \n",
       "min            4.000000  \n",
       "25%           28.000000  \n",
       "50%           45.000000  \n",
       "75%           57.000000  \n",
       "max           88.000000  "
      ]
     },
     "execution_count": 37,
     "metadata": {},
     "output_type": "execute_result"
    }
   ],
   "source": [
    "df.describe()\n"
   ]
  },
  {
   "cell_type": "code",
   "execution_count": 38,
   "metadata": {},
   "outputs": [
    {
     "data": {
      "application/vnd.microsoft.datawrangler.viewer.v0+json": {
       "columns": [
        {
         "name": "index",
         "rawType": "object",
         "type": "string"
        },
        {
         "name": "income",
         "rawType": "object",
         "type": "unknown"
        },
        {
         "name": "dependents",
         "rawType": "int64",
         "type": "integer"
        },
        {
         "name": "gender",
         "rawType": "object",
         "type": "unknown"
        },
        {
         "name": "education",
         "rawType": "object",
         "type": "unknown"
        },
        {
         "name": "status",
         "rawType": "object",
         "type": "unknown"
        },
        {
         "name": "description",
         "rawType": "object",
         "type": "unknown"
        }
       ],
       "ref": "38488220-02d5-4354-a53b-5d722e1da575",
       "rows": [
        [
         "count",
         "8998",
         "8998",
         "8998",
         "8998",
         "8998",
         "8998"
        ],
        [
         "unique",
         "8525",
         "3",
         "2",
         "7",
         "7",
         "5"
        ],
        [
         "top",
         "",
         "1",
         "M",
         "Graduation",
         "Married",
         "OK nice!"
        ],
        [
         "freq",
         "46",
         "6164",
         "5784",
         "4429",
         "3273",
         "3434"
        ]
       ],
       "shape": {
        "columns": 6,
        "rows": 4
       }
      },
      "text/html": [
       "<div>\n",
       "<style scoped>\n",
       "    .dataframe tbody tr th:only-of-type {\n",
       "        vertical-align: middle;\n",
       "    }\n",
       "\n",
       "    .dataframe tbody tr th {\n",
       "        vertical-align: top;\n",
       "    }\n",
       "\n",
       "    .dataframe thead th {\n",
       "        text-align: right;\n",
       "    }\n",
       "</style>\n",
       "<table border=\"1\" class=\"dataframe\">\n",
       "  <thead>\n",
       "    <tr style=\"text-align: right;\">\n",
       "      <th></th>\n",
       "      <th>income</th>\n",
       "      <th>dependents</th>\n",
       "      <th>gender</th>\n",
       "      <th>education</th>\n",
       "      <th>status</th>\n",
       "      <th>description</th>\n",
       "    </tr>\n",
       "  </thead>\n",
       "  <tbody>\n",
       "    <tr>\n",
       "      <th>count</th>\n",
       "      <td>8998</td>\n",
       "      <td>8998</td>\n",
       "      <td>8998</td>\n",
       "      <td>8998</td>\n",
       "      <td>8998</td>\n",
       "      <td>8998</td>\n",
       "    </tr>\n",
       "    <tr>\n",
       "      <th>unique</th>\n",
       "      <td>8525</td>\n",
       "      <td>3</td>\n",
       "      <td>2</td>\n",
       "      <td>7</td>\n",
       "      <td>7</td>\n",
       "      <td>5</td>\n",
       "    </tr>\n",
       "    <tr>\n",
       "      <th>top</th>\n",
       "      <td></td>\n",
       "      <td>1</td>\n",
       "      <td>M</td>\n",
       "      <td>Graduation</td>\n",
       "      <td>Married</td>\n",
       "      <td>OK nice!</td>\n",
       "    </tr>\n",
       "    <tr>\n",
       "      <th>freq</th>\n",
       "      <td>46</td>\n",
       "      <td>6164</td>\n",
       "      <td>5784</td>\n",
       "      <td>4429</td>\n",
       "      <td>3273</td>\n",
       "      <td>3434</td>\n",
       "    </tr>\n",
       "  </tbody>\n",
       "</table>\n",
       "</div>"
      ],
      "text/plain": [
       "       income  dependents gender   education   status description\n",
       "count    8998        8998   8998        8998     8998        8998\n",
       "unique   8525           3      2           7        7           5\n",
       "top                     1      M  Graduation  Married    OK nice!\n",
       "freq       46        6164   5784        4429     3273        3434"
      ]
     },
     "execution_count": 38,
     "metadata": {},
     "output_type": "execute_result"
    }
   ],
   "source": [
    "df.describe(include='object')"
   ]
  },
  {
   "cell_type": "code",
   "execution_count": 39,
   "metadata": {},
   "outputs": [
    {
     "data": {
      "application/vnd.microsoft.datawrangler.viewer.v0+json": {
       "columns": [
        {
         "name": "index",
         "rawType": "int64",
         "type": "integer"
        },
        {
         "name": "age",
         "rawType": "int64",
         "type": "integer"
        },
        {
         "name": "income",
         "rawType": "object",
         "type": "unknown"
        },
        {
         "name": "frq",
         "rawType": "int64",
         "type": "integer"
        },
        {
         "name": "rcn",
         "rawType": "int64",
         "type": "integer"
        },
        {
         "name": "mnt",
         "rawType": "int64",
         "type": "integer"
        },
        {
         "name": "clothes",
         "rawType": "int64",
         "type": "integer"
        },
        {
         "name": "kitchen",
         "rawType": "int64",
         "type": "integer"
        },
        {
         "name": "small_appliances",
         "rawType": "int64",
         "type": "integer"
        },
        {
         "name": "toys",
         "rawType": "int64",
         "type": "integer"
        },
        {
         "name": "house_keeping",
         "rawType": "int64",
         "type": "integer"
        },
        {
         "name": "dependents",
         "rawType": "object",
         "type": "unknown"
        },
        {
         "name": "per_net_purchase",
         "rawType": "int64",
         "type": "integer"
        },
        {
         "name": "gender",
         "rawType": "object",
         "type": "string"
        },
        {
         "name": "education",
         "rawType": "object",
         "type": "string"
        },
        {
         "name": "status",
         "rawType": "object",
         "type": "string"
        },
        {
         "name": "description",
         "rawType": "object",
         "type": "string"
        }
       ],
       "ref": "8f02796d-00ec-4674-ae76-43c4395d1890",
       "rows": [
        [
         "0",
         "1946",
         "90782",
         "33",
         "66",
         "1402",
         "37",
         "5",
         "44",
         "10",
         "3",
         "0",
         "19",
         "M",
         "Graduation",
         "Together",
         "Take my money!!"
        ],
        [
         "1",
         "1936",
         "113023",
         "32",
         "6",
         "1537",
         "55",
         "1",
         "38",
         "4",
         "2",
         "0",
         "9",
         "F",
         "PhD",
         "Divorced",
         "Take my money!!"
        ],
        [
         "2",
         "1990",
         "28344",
         "11",
         "69",
         "44",
         "32",
         "19",
         "24",
         "1",
         "24",
         "1",
         "59",
         "M",
         "Graduation",
         "Married",
         "Kind of OK"
        ],
        [
         "3",
         "1955",
         "93571",
         "26",
         "10",
         "888",
         "60",
         "10",
         "19",
         "6",
         "5",
         "1",
         "35",
         "F",
         "Master",
         "",
         "OK nice!"
        ],
        [
         "4",
         "1955",
         "91852",
         "31",
         "26",
         "1138",
         "59",
         "5",
         "28",
         "4",
         "4",
         "1",
         "34",
         "F",
         "Graduation",
         "Together",
         "Take my money!!"
        ]
       ],
       "shape": {
        "columns": 16,
        "rows": 5
       }
      },
      "text/html": [
       "<div>\n",
       "<style scoped>\n",
       "    .dataframe tbody tr th:only-of-type {\n",
       "        vertical-align: middle;\n",
       "    }\n",
       "\n",
       "    .dataframe tbody tr th {\n",
       "        vertical-align: top;\n",
       "    }\n",
       "\n",
       "    .dataframe thead th {\n",
       "        text-align: right;\n",
       "    }\n",
       "</style>\n",
       "<table border=\"1\" class=\"dataframe\">\n",
       "  <thead>\n",
       "    <tr style=\"text-align: right;\">\n",
       "      <th></th>\n",
       "      <th>age</th>\n",
       "      <th>income</th>\n",
       "      <th>frq</th>\n",
       "      <th>rcn</th>\n",
       "      <th>mnt</th>\n",
       "      <th>clothes</th>\n",
       "      <th>kitchen</th>\n",
       "      <th>small_appliances</th>\n",
       "      <th>toys</th>\n",
       "      <th>house_keeping</th>\n",
       "      <th>dependents</th>\n",
       "      <th>per_net_purchase</th>\n",
       "      <th>gender</th>\n",
       "      <th>education</th>\n",
       "      <th>status</th>\n",
       "      <th>description</th>\n",
       "    </tr>\n",
       "  </thead>\n",
       "  <tbody>\n",
       "    <tr>\n",
       "      <th>0</th>\n",
       "      <td>1946</td>\n",
       "      <td>90782</td>\n",
       "      <td>33</td>\n",
       "      <td>66</td>\n",
       "      <td>1402</td>\n",
       "      <td>37</td>\n",
       "      <td>5</td>\n",
       "      <td>44</td>\n",
       "      <td>10</td>\n",
       "      <td>3</td>\n",
       "      <td>0</td>\n",
       "      <td>19</td>\n",
       "      <td>M</td>\n",
       "      <td>Graduation</td>\n",
       "      <td>Together</td>\n",
       "      <td>Take my money!!</td>\n",
       "    </tr>\n",
       "    <tr>\n",
       "      <th>1</th>\n",
       "      <td>1936</td>\n",
       "      <td>113023</td>\n",
       "      <td>32</td>\n",
       "      <td>6</td>\n",
       "      <td>1537</td>\n",
       "      <td>55</td>\n",
       "      <td>1</td>\n",
       "      <td>38</td>\n",
       "      <td>4</td>\n",
       "      <td>2</td>\n",
       "      <td>0</td>\n",
       "      <td>9</td>\n",
       "      <td>F</td>\n",
       "      <td>PhD</td>\n",
       "      <td>Divorced</td>\n",
       "      <td>Take my money!!</td>\n",
       "    </tr>\n",
       "    <tr>\n",
       "      <th>2</th>\n",
       "      <td>1990</td>\n",
       "      <td>28344</td>\n",
       "      <td>11</td>\n",
       "      <td>69</td>\n",
       "      <td>44</td>\n",
       "      <td>32</td>\n",
       "      <td>19</td>\n",
       "      <td>24</td>\n",
       "      <td>1</td>\n",
       "      <td>24</td>\n",
       "      <td>1</td>\n",
       "      <td>59</td>\n",
       "      <td>M</td>\n",
       "      <td>Graduation</td>\n",
       "      <td>Married</td>\n",
       "      <td>Kind of OK</td>\n",
       "    </tr>\n",
       "    <tr>\n",
       "      <th>3</th>\n",
       "      <td>1955</td>\n",
       "      <td>93571</td>\n",
       "      <td>26</td>\n",
       "      <td>10</td>\n",
       "      <td>888</td>\n",
       "      <td>60</td>\n",
       "      <td>10</td>\n",
       "      <td>19</td>\n",
       "      <td>6</td>\n",
       "      <td>5</td>\n",
       "      <td>1</td>\n",
       "      <td>35</td>\n",
       "      <td>F</td>\n",
       "      <td>Master</td>\n",
       "      <td></td>\n",
       "      <td>OK nice!</td>\n",
       "    </tr>\n",
       "    <tr>\n",
       "      <th>4</th>\n",
       "      <td>1955</td>\n",
       "      <td>91852</td>\n",
       "      <td>31</td>\n",
       "      <td>26</td>\n",
       "      <td>1138</td>\n",
       "      <td>59</td>\n",
       "      <td>5</td>\n",
       "      <td>28</td>\n",
       "      <td>4</td>\n",
       "      <td>4</td>\n",
       "      <td>1</td>\n",
       "      <td>34</td>\n",
       "      <td>F</td>\n",
       "      <td>Graduation</td>\n",
       "      <td>Together</td>\n",
       "      <td>Take my money!!</td>\n",
       "    </tr>\n",
       "  </tbody>\n",
       "</table>\n",
       "</div>"
      ],
      "text/plain": [
       "    age  income  frq  rcn   mnt  clothes  kitchen  small_appliances  toys  \\\n",
       "0  1946   90782   33   66  1402       37        5                44    10   \n",
       "1  1936  113023   32    6  1537       55        1                38     4   \n",
       "2  1990   28344   11   69    44       32       19                24     1   \n",
       "3  1955   93571   26   10   888       60       10                19     6   \n",
       "4  1955   91852   31   26  1138       59        5                28     4   \n",
       "\n",
       "   house_keeping dependents  per_net_purchase gender   education    status  \\\n",
       "0              3          0                19      M  Graduation  Together   \n",
       "1              2          0                 9      F         PhD  Divorced   \n",
       "2             24          1                59      M  Graduation   Married   \n",
       "3              5          1                35      F      Master             \n",
       "4              4          1                34      F  Graduation  Together   \n",
       "\n",
       "       description  \n",
       "0  Take my money!!  \n",
       "1  Take my money!!  \n",
       "2       Kind of OK  \n",
       "3         OK nice!  \n",
       "4  Take my money!!  "
      ]
     },
     "execution_count": 39,
     "metadata": {},
     "output_type": "execute_result"
    }
   ],
   "source": [
    "df.head()"
   ]
  },
  {
   "cell_type": "code",
   "execution_count": 40,
   "metadata": {},
   "outputs": [
    {
     "data": {
      "text/plain": [
       "array(['Graduation', 'PhD', 'Master', '1st Cycle', '2nd Cycle',\n",
       "       'OldSchool', ''], dtype=object)"
      ]
     },
     "execution_count": 40,
     "metadata": {},
     "output_type": "execute_result"
    }
   ],
   "source": [
    "df['education'].unique()\n"
   ]
  },
  {
   "cell_type": "markdown",
   "metadata": {},
   "source": [
    "### Missing Values\n",
    "\n",
    "(hint: a missing values in pandas is represented with a NaN value)"
   ]
  },
  {
   "cell_type": "markdown",
   "metadata": {
    "id": "zbXzS8_aVeFm"
   },
   "source": [
    "We can use the `.isna()` method to see if we have missing values."
   ]
  },
  {
   "cell_type": "code",
   "execution_count": 41,
   "metadata": {
    "id": "YUZbirUEVjKF"
   },
   "outputs": [
    {
     "data": {
      "application/vnd.microsoft.datawrangler.viewer.v0+json": {
       "columns": [
        {
         "name": "index",
         "rawType": "int64",
         "type": "integer"
        },
        {
         "name": "age",
         "rawType": "bool",
         "type": "boolean"
        },
        {
         "name": "income",
         "rawType": "bool",
         "type": "boolean"
        },
        {
         "name": "frq",
         "rawType": "bool",
         "type": "boolean"
        },
        {
         "name": "rcn",
         "rawType": "bool",
         "type": "boolean"
        },
        {
         "name": "mnt",
         "rawType": "bool",
         "type": "boolean"
        },
        {
         "name": "clothes",
         "rawType": "bool",
         "type": "boolean"
        },
        {
         "name": "kitchen",
         "rawType": "bool",
         "type": "boolean"
        },
        {
         "name": "small_appliances",
         "rawType": "bool",
         "type": "boolean"
        },
        {
         "name": "toys",
         "rawType": "bool",
         "type": "boolean"
        },
        {
         "name": "house_keeping",
         "rawType": "bool",
         "type": "boolean"
        },
        {
         "name": "dependents",
         "rawType": "bool",
         "type": "boolean"
        },
        {
         "name": "per_net_purchase",
         "rawType": "bool",
         "type": "boolean"
        },
        {
         "name": "gender",
         "rawType": "bool",
         "type": "boolean"
        },
        {
         "name": "education",
         "rawType": "bool",
         "type": "boolean"
        },
        {
         "name": "status",
         "rawType": "bool",
         "type": "boolean"
        },
        {
         "name": "description",
         "rawType": "bool",
         "type": "boolean"
        }
       ],
       "ref": "9c29d993-c0c8-4231-b27c-11ee8b6fe00e",
       "rows": [
        [
         "0",
         "False",
         "False",
         "False",
         "False",
         "False",
         "False",
         "False",
         "False",
         "False",
         "False",
         "False",
         "False",
         "False",
         "False",
         "False",
         "False"
        ],
        [
         "1",
         "False",
         "False",
         "False",
         "False",
         "False",
         "False",
         "False",
         "False",
         "False",
         "False",
         "False",
         "False",
         "False",
         "False",
         "False",
         "False"
        ],
        [
         "2",
         "False",
         "False",
         "False",
         "False",
         "False",
         "False",
         "False",
         "False",
         "False",
         "False",
         "False",
         "False",
         "False",
         "False",
         "False",
         "False"
        ],
        [
         "3",
         "False",
         "False",
         "False",
         "False",
         "False",
         "False",
         "False",
         "False",
         "False",
         "False",
         "False",
         "False",
         "False",
         "False",
         "False",
         "False"
        ],
        [
         "4",
         "False",
         "False",
         "False",
         "False",
         "False",
         "False",
         "False",
         "False",
         "False",
         "False",
         "False",
         "False",
         "False",
         "False",
         "False",
         "False"
        ],
        [
         "5",
         "False",
         "False",
         "False",
         "False",
         "False",
         "False",
         "False",
         "False",
         "False",
         "False",
         "False",
         "False",
         "False",
         "False",
         "False",
         "False"
        ],
        [
         "6",
         "False",
         "False",
         "False",
         "False",
         "False",
         "False",
         "False",
         "False",
         "False",
         "False",
         "False",
         "False",
         "False",
         "False",
         "False",
         "False"
        ],
        [
         "7",
         "False",
         "False",
         "False",
         "False",
         "False",
         "False",
         "False",
         "False",
         "False",
         "False",
         "False",
         "False",
         "False",
         "False",
         "False",
         "False"
        ],
        [
         "8",
         "False",
         "False",
         "False",
         "False",
         "False",
         "False",
         "False",
         "False",
         "False",
         "False",
         "False",
         "False",
         "False",
         "False",
         "False",
         "False"
        ],
        [
         "9",
         "False",
         "False",
         "False",
         "False",
         "False",
         "False",
         "False",
         "False",
         "False",
         "False",
         "False",
         "False",
         "False",
         "False",
         "False",
         "False"
        ],
        [
         "10",
         "False",
         "False",
         "False",
         "False",
         "False",
         "False",
         "False",
         "False",
         "False",
         "False",
         "False",
         "False",
         "False",
         "False",
         "False",
         "False"
        ],
        [
         "11",
         "False",
         "False",
         "False",
         "False",
         "False",
         "False",
         "False",
         "False",
         "False",
         "False",
         "False",
         "False",
         "False",
         "False",
         "False",
         "False"
        ],
        [
         "12",
         "False",
         "False",
         "False",
         "False",
         "False",
         "False",
         "False",
         "False",
         "False",
         "False",
         "False",
         "False",
         "False",
         "False",
         "False",
         "False"
        ],
        [
         "13",
         "False",
         "False",
         "False",
         "False",
         "False",
         "False",
         "False",
         "False",
         "False",
         "False",
         "False",
         "False",
         "False",
         "False",
         "False",
         "False"
        ],
        [
         "14",
         "False",
         "False",
         "False",
         "False",
         "False",
         "False",
         "False",
         "False",
         "False",
         "False",
         "False",
         "False",
         "False",
         "False",
         "False",
         "False"
        ],
        [
         "15",
         "False",
         "False",
         "False",
         "False",
         "False",
         "False",
         "False",
         "False",
         "False",
         "False",
         "False",
         "False",
         "False",
         "False",
         "False",
         "False"
        ],
        [
         "16",
         "False",
         "False",
         "False",
         "False",
         "False",
         "False",
         "False",
         "False",
         "False",
         "False",
         "False",
         "False",
         "False",
         "False",
         "False",
         "False"
        ],
        [
         "17",
         "False",
         "False",
         "False",
         "False",
         "False",
         "False",
         "False",
         "False",
         "False",
         "False",
         "False",
         "False",
         "False",
         "False",
         "False",
         "False"
        ],
        [
         "18",
         "False",
         "False",
         "False",
         "False",
         "False",
         "False",
         "False",
         "False",
         "False",
         "False",
         "False",
         "False",
         "False",
         "False",
         "False",
         "False"
        ],
        [
         "19",
         "False",
         "False",
         "False",
         "False",
         "False",
         "False",
         "False",
         "False",
         "False",
         "False",
         "False",
         "False",
         "False",
         "False",
         "False",
         "False"
        ],
        [
         "20",
         "False",
         "False",
         "False",
         "False",
         "False",
         "False",
         "False",
         "False",
         "False",
         "False",
         "False",
         "False",
         "False",
         "False",
         "False",
         "False"
        ],
        [
         "21",
         "False",
         "False",
         "False",
         "False",
         "False",
         "False",
         "False",
         "False",
         "False",
         "False",
         "False",
         "False",
         "False",
         "False",
         "False",
         "False"
        ],
        [
         "22",
         "False",
         "False",
         "False",
         "False",
         "False",
         "False",
         "False",
         "False",
         "False",
         "False",
         "False",
         "False",
         "False",
         "False",
         "False",
         "False"
        ],
        [
         "23",
         "False",
         "False",
         "False",
         "False",
         "False",
         "False",
         "False",
         "False",
         "False",
         "False",
         "False",
         "False",
         "False",
         "False",
         "False",
         "False"
        ],
        [
         "24",
         "False",
         "False",
         "False",
         "False",
         "False",
         "False",
         "False",
         "False",
         "False",
         "False",
         "False",
         "False",
         "False",
         "False",
         "False",
         "False"
        ],
        [
         "25",
         "False",
         "False",
         "False",
         "False",
         "False",
         "False",
         "False",
         "False",
         "False",
         "False",
         "False",
         "False",
         "False",
         "False",
         "False",
         "False"
        ],
        [
         "26",
         "False",
         "False",
         "False",
         "False",
         "False",
         "False",
         "False",
         "False",
         "False",
         "False",
         "False",
         "False",
         "False",
         "False",
         "False",
         "False"
        ],
        [
         "27",
         "False",
         "False",
         "False",
         "False",
         "False",
         "False",
         "False",
         "False",
         "False",
         "False",
         "False",
         "False",
         "False",
         "False",
         "False",
         "False"
        ],
        [
         "28",
         "False",
         "False",
         "False",
         "False",
         "False",
         "False",
         "False",
         "False",
         "False",
         "False",
         "False",
         "False",
         "False",
         "False",
         "False",
         "False"
        ],
        [
         "29",
         "False",
         "False",
         "False",
         "False",
         "False",
         "False",
         "False",
         "False",
         "False",
         "False",
         "False",
         "False",
         "False",
         "False",
         "False",
         "False"
        ],
        [
         "30",
         "False",
         "False",
         "False",
         "False",
         "False",
         "False",
         "False",
         "False",
         "False",
         "False",
         "False",
         "False",
         "False",
         "False",
         "False",
         "False"
        ],
        [
         "31",
         "False",
         "False",
         "False",
         "False",
         "False",
         "False",
         "False",
         "False",
         "False",
         "False",
         "False",
         "False",
         "False",
         "False",
         "False",
         "False"
        ],
        [
         "32",
         "False",
         "False",
         "False",
         "False",
         "False",
         "False",
         "False",
         "False",
         "False",
         "False",
         "False",
         "False",
         "False",
         "False",
         "False",
         "False"
        ],
        [
         "33",
         "False",
         "False",
         "False",
         "False",
         "False",
         "False",
         "False",
         "False",
         "False",
         "False",
         "False",
         "False",
         "False",
         "False",
         "False",
         "False"
        ],
        [
         "34",
         "False",
         "False",
         "False",
         "False",
         "False",
         "False",
         "False",
         "False",
         "False",
         "False",
         "False",
         "False",
         "False",
         "False",
         "False",
         "False"
        ],
        [
         "35",
         "False",
         "False",
         "False",
         "False",
         "False",
         "False",
         "False",
         "False",
         "False",
         "False",
         "False",
         "False",
         "False",
         "False",
         "False",
         "False"
        ],
        [
         "36",
         "False",
         "False",
         "False",
         "False",
         "False",
         "False",
         "False",
         "False",
         "False",
         "False",
         "False",
         "False",
         "False",
         "False",
         "False",
         "False"
        ],
        [
         "37",
         "False",
         "False",
         "False",
         "False",
         "False",
         "False",
         "False",
         "False",
         "False",
         "False",
         "False",
         "False",
         "False",
         "False",
         "False",
         "False"
        ],
        [
         "38",
         "False",
         "False",
         "False",
         "False",
         "False",
         "False",
         "False",
         "False",
         "False",
         "False",
         "False",
         "False",
         "False",
         "False",
         "False",
         "False"
        ],
        [
         "39",
         "False",
         "False",
         "False",
         "False",
         "False",
         "False",
         "False",
         "False",
         "False",
         "False",
         "False",
         "False",
         "False",
         "False",
         "False",
         "False"
        ],
        [
         "40",
         "False",
         "False",
         "False",
         "False",
         "False",
         "False",
         "False",
         "False",
         "False",
         "False",
         "False",
         "False",
         "False",
         "False",
         "False",
         "False"
        ],
        [
         "41",
         "False",
         "False",
         "False",
         "False",
         "False",
         "False",
         "False",
         "False",
         "False",
         "False",
         "False",
         "False",
         "False",
         "False",
         "False",
         "False"
        ],
        [
         "42",
         "False",
         "False",
         "False",
         "False",
         "False",
         "False",
         "False",
         "False",
         "False",
         "False",
         "False",
         "False",
         "False",
         "False",
         "False",
         "False"
        ],
        [
         "43",
         "False",
         "False",
         "False",
         "False",
         "False",
         "False",
         "False",
         "False",
         "False",
         "False",
         "False",
         "False",
         "False",
         "False",
         "False",
         "False"
        ],
        [
         "44",
         "False",
         "False",
         "False",
         "False",
         "False",
         "False",
         "False",
         "False",
         "False",
         "False",
         "False",
         "False",
         "False",
         "False",
         "False",
         "False"
        ],
        [
         "45",
         "False",
         "False",
         "False",
         "False",
         "False",
         "False",
         "False",
         "False",
         "False",
         "False",
         "False",
         "False",
         "False",
         "False",
         "False",
         "False"
        ],
        [
         "46",
         "False",
         "False",
         "False",
         "False",
         "False",
         "False",
         "False",
         "False",
         "False",
         "False",
         "False",
         "False",
         "False",
         "False",
         "False",
         "False"
        ],
        [
         "47",
         "False",
         "False",
         "False",
         "False",
         "False",
         "False",
         "False",
         "False",
         "False",
         "False",
         "False",
         "False",
         "False",
         "False",
         "False",
         "False"
        ],
        [
         "48",
         "False",
         "False",
         "False",
         "False",
         "False",
         "False",
         "False",
         "False",
         "False",
         "False",
         "False",
         "False",
         "False",
         "False",
         "False",
         "False"
        ],
        [
         "49",
         "False",
         "False",
         "False",
         "False",
         "False",
         "False",
         "False",
         "False",
         "False",
         "False",
         "False",
         "False",
         "False",
         "False",
         "False",
         "False"
        ]
       ],
       "shape": {
        "columns": 16,
        "rows": 8998
       }
      },
      "text/html": [
       "<div>\n",
       "<style scoped>\n",
       "    .dataframe tbody tr th:only-of-type {\n",
       "        vertical-align: middle;\n",
       "    }\n",
       "\n",
       "    .dataframe tbody tr th {\n",
       "        vertical-align: top;\n",
       "    }\n",
       "\n",
       "    .dataframe thead th {\n",
       "        text-align: right;\n",
       "    }\n",
       "</style>\n",
       "<table border=\"1\" class=\"dataframe\">\n",
       "  <thead>\n",
       "    <tr style=\"text-align: right;\">\n",
       "      <th></th>\n",
       "      <th>age</th>\n",
       "      <th>income</th>\n",
       "      <th>frq</th>\n",
       "      <th>rcn</th>\n",
       "      <th>mnt</th>\n",
       "      <th>clothes</th>\n",
       "      <th>kitchen</th>\n",
       "      <th>small_appliances</th>\n",
       "      <th>toys</th>\n",
       "      <th>house_keeping</th>\n",
       "      <th>dependents</th>\n",
       "      <th>per_net_purchase</th>\n",
       "      <th>gender</th>\n",
       "      <th>education</th>\n",
       "      <th>status</th>\n",
       "      <th>description</th>\n",
       "    </tr>\n",
       "  </thead>\n",
       "  <tbody>\n",
       "    <tr>\n",
       "      <th>0</th>\n",
       "      <td>False</td>\n",
       "      <td>False</td>\n",
       "      <td>False</td>\n",
       "      <td>False</td>\n",
       "      <td>False</td>\n",
       "      <td>False</td>\n",
       "      <td>False</td>\n",
       "      <td>False</td>\n",
       "      <td>False</td>\n",
       "      <td>False</td>\n",
       "      <td>False</td>\n",
       "      <td>False</td>\n",
       "      <td>False</td>\n",
       "      <td>False</td>\n",
       "      <td>False</td>\n",
       "      <td>False</td>\n",
       "    </tr>\n",
       "    <tr>\n",
       "      <th>1</th>\n",
       "      <td>False</td>\n",
       "      <td>False</td>\n",
       "      <td>False</td>\n",
       "      <td>False</td>\n",
       "      <td>False</td>\n",
       "      <td>False</td>\n",
       "      <td>False</td>\n",
       "      <td>False</td>\n",
       "      <td>False</td>\n",
       "      <td>False</td>\n",
       "      <td>False</td>\n",
       "      <td>False</td>\n",
       "      <td>False</td>\n",
       "      <td>False</td>\n",
       "      <td>False</td>\n",
       "      <td>False</td>\n",
       "    </tr>\n",
       "    <tr>\n",
       "      <th>2</th>\n",
       "      <td>False</td>\n",
       "      <td>False</td>\n",
       "      <td>False</td>\n",
       "      <td>False</td>\n",
       "      <td>False</td>\n",
       "      <td>False</td>\n",
       "      <td>False</td>\n",
       "      <td>False</td>\n",
       "      <td>False</td>\n",
       "      <td>False</td>\n",
       "      <td>False</td>\n",
       "      <td>False</td>\n",
       "      <td>False</td>\n",
       "      <td>False</td>\n",
       "      <td>False</td>\n",
       "      <td>False</td>\n",
       "    </tr>\n",
       "    <tr>\n",
       "      <th>3</th>\n",
       "      <td>False</td>\n",
       "      <td>False</td>\n",
       "      <td>False</td>\n",
       "      <td>False</td>\n",
       "      <td>False</td>\n",
       "      <td>False</td>\n",
       "      <td>False</td>\n",
       "      <td>False</td>\n",
       "      <td>False</td>\n",
       "      <td>False</td>\n",
       "      <td>False</td>\n",
       "      <td>False</td>\n",
       "      <td>False</td>\n",
       "      <td>False</td>\n",
       "      <td>False</td>\n",
       "      <td>False</td>\n",
       "    </tr>\n",
       "    <tr>\n",
       "      <th>4</th>\n",
       "      <td>False</td>\n",
       "      <td>False</td>\n",
       "      <td>False</td>\n",
       "      <td>False</td>\n",
       "      <td>False</td>\n",
       "      <td>False</td>\n",
       "      <td>False</td>\n",
       "      <td>False</td>\n",
       "      <td>False</td>\n",
       "      <td>False</td>\n",
       "      <td>False</td>\n",
       "      <td>False</td>\n",
       "      <td>False</td>\n",
       "      <td>False</td>\n",
       "      <td>False</td>\n",
       "      <td>False</td>\n",
       "    </tr>\n",
       "    <tr>\n",
       "      <th>...</th>\n",
       "      <td>...</td>\n",
       "      <td>...</td>\n",
       "      <td>...</td>\n",
       "      <td>...</td>\n",
       "      <td>...</td>\n",
       "      <td>...</td>\n",
       "      <td>...</td>\n",
       "      <td>...</td>\n",
       "      <td>...</td>\n",
       "      <td>...</td>\n",
       "      <td>...</td>\n",
       "      <td>...</td>\n",
       "      <td>...</td>\n",
       "      <td>...</td>\n",
       "      <td>...</td>\n",
       "      <td>...</td>\n",
       "    </tr>\n",
       "    <tr>\n",
       "      <th>8993</th>\n",
       "      <td>False</td>\n",
       "      <td>False</td>\n",
       "      <td>False</td>\n",
       "      <td>False</td>\n",
       "      <td>False</td>\n",
       "      <td>False</td>\n",
       "      <td>False</td>\n",
       "      <td>False</td>\n",
       "      <td>False</td>\n",
       "      <td>False</td>\n",
       "      <td>False</td>\n",
       "      <td>False</td>\n",
       "      <td>False</td>\n",
       "      <td>False</td>\n",
       "      <td>False</td>\n",
       "      <td>False</td>\n",
       "    </tr>\n",
       "    <tr>\n",
       "      <th>8994</th>\n",
       "      <td>False</td>\n",
       "      <td>False</td>\n",
       "      <td>False</td>\n",
       "      <td>False</td>\n",
       "      <td>False</td>\n",
       "      <td>False</td>\n",
       "      <td>False</td>\n",
       "      <td>False</td>\n",
       "      <td>False</td>\n",
       "      <td>False</td>\n",
       "      <td>False</td>\n",
       "      <td>False</td>\n",
       "      <td>False</td>\n",
       "      <td>False</td>\n",
       "      <td>False</td>\n",
       "      <td>False</td>\n",
       "    </tr>\n",
       "    <tr>\n",
       "      <th>8995</th>\n",
       "      <td>False</td>\n",
       "      <td>False</td>\n",
       "      <td>False</td>\n",
       "      <td>False</td>\n",
       "      <td>False</td>\n",
       "      <td>False</td>\n",
       "      <td>False</td>\n",
       "      <td>False</td>\n",
       "      <td>False</td>\n",
       "      <td>False</td>\n",
       "      <td>False</td>\n",
       "      <td>False</td>\n",
       "      <td>False</td>\n",
       "      <td>False</td>\n",
       "      <td>False</td>\n",
       "      <td>False</td>\n",
       "    </tr>\n",
       "    <tr>\n",
       "      <th>8996</th>\n",
       "      <td>False</td>\n",
       "      <td>False</td>\n",
       "      <td>False</td>\n",
       "      <td>False</td>\n",
       "      <td>False</td>\n",
       "      <td>False</td>\n",
       "      <td>False</td>\n",
       "      <td>False</td>\n",
       "      <td>False</td>\n",
       "      <td>False</td>\n",
       "      <td>False</td>\n",
       "      <td>False</td>\n",
       "      <td>False</td>\n",
       "      <td>False</td>\n",
       "      <td>False</td>\n",
       "      <td>False</td>\n",
       "    </tr>\n",
       "    <tr>\n",
       "      <th>8997</th>\n",
       "      <td>False</td>\n",
       "      <td>False</td>\n",
       "      <td>False</td>\n",
       "      <td>False</td>\n",
       "      <td>False</td>\n",
       "      <td>False</td>\n",
       "      <td>False</td>\n",
       "      <td>False</td>\n",
       "      <td>False</td>\n",
       "      <td>False</td>\n",
       "      <td>False</td>\n",
       "      <td>False</td>\n",
       "      <td>False</td>\n",
       "      <td>False</td>\n",
       "      <td>False</td>\n",
       "      <td>False</td>\n",
       "    </tr>\n",
       "  </tbody>\n",
       "</table>\n",
       "<p>8998 rows × 16 columns</p>\n",
       "</div>"
      ],
      "text/plain": [
       "        age  income    frq    rcn    mnt  clothes  kitchen  small_appliances  \\\n",
       "0     False   False  False  False  False    False    False             False   \n",
       "1     False   False  False  False  False    False    False             False   \n",
       "2     False   False  False  False  False    False    False             False   \n",
       "3     False   False  False  False  False    False    False             False   \n",
       "4     False   False  False  False  False    False    False             False   \n",
       "...     ...     ...    ...    ...    ...      ...      ...               ...   \n",
       "8993  False   False  False  False  False    False    False             False   \n",
       "8994  False   False  False  False  False    False    False             False   \n",
       "8995  False   False  False  False  False    False    False             False   \n",
       "8996  False   False  False  False  False    False    False             False   \n",
       "8997  False   False  False  False  False    False    False             False   \n",
       "\n",
       "       toys  house_keeping  dependents  per_net_purchase  gender  education  \\\n",
       "0     False          False       False             False   False      False   \n",
       "1     False          False       False             False   False      False   \n",
       "2     False          False       False             False   False      False   \n",
       "3     False          False       False             False   False      False   \n",
       "4     False          False       False             False   False      False   \n",
       "...     ...            ...         ...               ...     ...        ...   \n",
       "8993  False          False       False             False   False      False   \n",
       "8994  False          False       False             False   False      False   \n",
       "8995  False          False       False             False   False      False   \n",
       "8996  False          False       False             False   False      False   \n",
       "8997  False          False       False             False   False      False   \n",
       "\n",
       "      status  description  \n",
       "0      False        False  \n",
       "1      False        False  \n",
       "2      False        False  \n",
       "3      False        False  \n",
       "4      False        False  \n",
       "...      ...          ...  \n",
       "8993   False        False  \n",
       "8994   False        False  \n",
       "8995   False        False  \n",
       "8996   False        False  \n",
       "8997   False        False  \n",
       "\n",
       "[8998 rows x 16 columns]"
      ]
     },
     "execution_count": 41,
     "metadata": {},
     "output_type": "execute_result"
    }
   ],
   "source": [
    "## .isna() returns True if the value in that cell is missing, and False otherwise.\n",
    "\n",
    "df.isna()\n",
    "\n",
    "## Is this helpful?"
   ]
  },
  {
   "cell_type": "code",
   "execution_count": 42,
   "metadata": {
    "id": "0EOFMwBTVxrD"
   },
   "outputs": [
    {
     "data": {
      "application/vnd.microsoft.datawrangler.viewer.v0+json": {
       "columns": [
        {
         "name": "index",
         "rawType": "object",
         "type": "string"
        },
        {
         "name": "0",
         "rawType": "int64",
         "type": "integer"
        }
       ],
       "ref": "99430f8e-90bf-46d6-89ac-d8bc33f10a2a",
       "rows": [
        [
         "age",
         "0"
        ],
        [
         "income",
         "0"
        ],
        [
         "frq",
         "0"
        ],
        [
         "rcn",
         "0"
        ],
        [
         "mnt",
         "0"
        ],
        [
         "clothes",
         "0"
        ],
        [
         "kitchen",
         "0"
        ],
        [
         "small_appliances",
         "0"
        ],
        [
         "toys",
         "0"
        ],
        [
         "house_keeping",
         "0"
        ],
        [
         "dependents",
         "0"
        ],
        [
         "per_net_purchase",
         "0"
        ],
        [
         "gender",
         "0"
        ],
        [
         "education",
         "0"
        ],
        [
         "status",
         "0"
        ],
        [
         "description",
         "0"
        ]
       ],
       "shape": {
        "columns": 1,
        "rows": 16
       }
      },
      "text/plain": [
       "age                 0\n",
       "income              0\n",
       "frq                 0\n",
       "rcn                 0\n",
       "mnt                 0\n",
       "clothes             0\n",
       "kitchen             0\n",
       "small_appliances    0\n",
       "toys                0\n",
       "house_keeping       0\n",
       "dependents          0\n",
       "per_net_purchase    0\n",
       "gender              0\n",
       "education           0\n",
       "status              0\n",
       "description         0\n",
       "dtype: int64"
      ]
     },
     "execution_count": 42,
     "metadata": {},
     "output_type": "execute_result"
    }
   ],
   "source": [
    "## .isna() returns True if the value in that cell is missing, and False otherwise.\n",
    "\n",
    "df.isna().sum()\n",
    "\n",
    "## What does this mean?\n",
    "## Is this helpful?"
   ]
  },
  {
   "cell_type": "code",
   "execution_count": 43,
   "metadata": {},
   "outputs": [
    {
     "name": "stderr",
     "output_type": "stream",
     "text": [
      "/var/folders/jb/jm3xb4f53hs9mcvbg93nks7h0000gn/T/ipykernel_24212/3385904135.py:2: FutureWarning: Downcasting behavior in `replace` is deprecated and will be removed in a future version. To retain the old behavior, explicitly call `result.infer_objects(copy=False)`. To opt-in to the future behavior, set `pd.set_option('future.no_silent_downcasting', True)`\n",
      "  df.replace(\"\", np.nan, inplace=True)\n"
     ]
    },
    {
     "data": {
      "application/vnd.microsoft.datawrangler.viewer.v0+json": {
       "columns": [
        {
         "name": "index",
         "rawType": "object",
         "type": "string"
        },
        {
         "name": "0",
         "rawType": "int64",
         "type": "integer"
        }
       ],
       "ref": "03f1c56f-4092-4d4d-b88a-0daceecad13c",
       "rows": [
        [
         "age",
         "0"
        ],
        [
         "income",
         "46"
        ],
        [
         "frq",
         "0"
        ],
        [
         "rcn",
         "0"
        ],
        [
         "mnt",
         "0"
        ],
        [
         "clothes",
         "0"
        ],
        [
         "kitchen",
         "0"
        ],
        [
         "small_appliances",
         "0"
        ],
        [
         "toys",
         "0"
        ],
        [
         "house_keeping",
         "0"
        ],
        [
         "dependents",
         "282"
        ],
        [
         "per_net_purchase",
         "0"
        ],
        [
         "gender",
         "0"
        ],
        [
         "education",
         "47"
        ],
        [
         "status",
         "177"
        ],
        [
         "description",
         "0"
        ]
       ],
       "shape": {
        "columns": 1,
        "rows": 16
       }
      },
      "text/plain": [
       "age                   0\n",
       "income               46\n",
       "frq                   0\n",
       "rcn                   0\n",
       "mnt                   0\n",
       "clothes               0\n",
       "kitchen               0\n",
       "small_appliances      0\n",
       "toys                  0\n",
       "house_keeping         0\n",
       "dependents          282\n",
       "per_net_purchase      0\n",
       "gender                0\n",
       "education            47\n",
       "status              177\n",
       "description           0\n",
       "dtype: int64"
      ]
     },
     "execution_count": 43,
     "metadata": {},
     "output_type": "execute_result"
    }
   ],
   "source": [
    "# replace \"\" by nans\n",
    "df.replace(\"\", np.nan, inplace=True)\n",
    "\n",
    "# count of missing values\n",
    "df.isna().sum()"
   ]
  },
  {
   "cell_type": "markdown",
   "metadata": {},
   "source": [
    "### Data Types"
   ]
  },
  {
   "cell_type": "code",
   "execution_count": 44,
   "metadata": {},
   "outputs": [
    {
     "data": {
      "application/vnd.microsoft.datawrangler.viewer.v0+json": {
       "columns": [
        {
         "name": "index",
         "rawType": "object",
         "type": "string"
        },
        {
         "name": "0",
         "rawType": "object",
         "type": "unknown"
        }
       ],
       "ref": "497873ff-6cb6-45fa-80c5-29e8c0385720",
       "rows": [
        [
         "age",
         "int64"
        ],
        [
         "income",
         "float64"
        ],
        [
         "frq",
         "int64"
        ],
        [
         "rcn",
         "int64"
        ],
        [
         "mnt",
         "int64"
        ],
        [
         "clothes",
         "int64"
        ],
        [
         "kitchen",
         "int64"
        ],
        [
         "small_appliances",
         "int64"
        ],
        [
         "toys",
         "int64"
        ],
        [
         "house_keeping",
         "int64"
        ],
        [
         "dependents",
         "float64"
        ],
        [
         "per_net_purchase",
         "int64"
        ],
        [
         "gender",
         "object"
        ],
        [
         "education",
         "object"
        ],
        [
         "status",
         "object"
        ],
        [
         "description",
         "object"
        ]
       ],
       "shape": {
        "columns": 1,
        "rows": 16
       }
      },
      "text/plain": [
       "age                   int64\n",
       "income              float64\n",
       "frq                   int64\n",
       "rcn                   int64\n",
       "mnt                   int64\n",
       "clothes               int64\n",
       "kitchen               int64\n",
       "small_appliances      int64\n",
       "toys                  int64\n",
       "house_keeping         int64\n",
       "dependents          float64\n",
       "per_net_purchase      int64\n",
       "gender               object\n",
       "education            object\n",
       "status               object\n",
       "description          object\n",
       "dtype: object"
      ]
     },
     "execution_count": 44,
     "metadata": {},
     "output_type": "execute_result"
    }
   ],
   "source": [
    "# check dataset data types again\n",
    "df.dtypes"
   ]
  },
  {
   "cell_type": "code",
   "execution_count": 45,
   "metadata": {},
   "outputs": [],
   "source": [
    "# fix wrong dtypes\n",
    "df.dependents = df.dependents.astype(\"boolean\")  # converting to \"boolean\" over \"bool\" allows preservation of NaNs"
   ]
  },
  {
   "cell_type": "code",
   "execution_count": 46,
   "metadata": {},
   "outputs": [
    {
     "data": {
      "application/vnd.microsoft.datawrangler.viewer.v0+json": {
       "columns": [
        {
         "name": "index",
         "rawType": "object",
         "type": "string"
        },
        {
         "name": "count",
         "rawType": "object",
         "type": "unknown"
        },
        {
         "name": "unique",
         "rawType": "object",
         "type": "unknown"
        },
        {
         "name": "top",
         "rawType": "object",
         "type": "unknown"
        },
        {
         "name": "freq",
         "rawType": "object",
         "type": "unknown"
        },
        {
         "name": "mean",
         "rawType": "object",
         "type": "unknown"
        },
        {
         "name": "std",
         "rawType": "object",
         "type": "unknown"
        },
        {
         "name": "min",
         "rawType": "object",
         "type": "unknown"
        },
        {
         "name": "25%",
         "rawType": "object",
         "type": "unknown"
        },
        {
         "name": "50%",
         "rawType": "object",
         "type": "unknown"
        },
        {
         "name": "75%",
         "rawType": "object",
         "type": "unknown"
        },
        {
         "name": "max",
         "rawType": "object",
         "type": "unknown"
        }
       ],
       "ref": "eac561ff-d58f-4bb9-acc1-566d39cce955",
       "rows": [
        [
         "age",
         "8998.0",
         null,
         null,
         null,
         "1966.059679928873",
         "17.29655220631773",
         "1936.0",
         "1951.0",
         "1966.0",
         "1981.0",
         "1996.0"
        ],
        [
         "income",
         "8952.0",
         null,
         null,
         null,
         "69963.55082663092",
         "27591.556225748664",
         "10000.0",
         "47741.0",
         "70030.5",
         "92218.0",
         "140628.0"
        ],
        [
         "frq",
         "8998.0",
         null,
         null,
         null,
         "19.84807735052234",
         "10.903434608706068",
         "3.0",
         "10.0",
         "17.0",
         "28.0",
         "59.0"
        ],
        [
         "rcn",
         "8998.0",
         null,
         null,
         null,
         "62.46977106023561",
         "69.76180219134835",
         "0.0",
         "26.0",
         "53.0",
         "79.0",
         "549.0"
        ],
        [
         "mnt",
         "8998.0",
         null,
         null,
         null,
         "622.1628139586575",
         "646.7682045549258",
         "6.0",
         "63.0",
         "383.0",
         "1076.0",
         "3052.0"
        ],
        [
         "clothes",
         "8998.0",
         null,
         null,
         null,
         "50.44665481218048",
         "23.42224891836114",
         "1.0",
         "33.0",
         "51.0",
         "69.0",
         "99.0"
        ],
        [
         "kitchen",
         "8998.0",
         null,
         null,
         null,
         "7.039675483440765",
         "7.848139310437572",
         "0.0",
         "2.0",
         "4.0",
         "10.0",
         "75.0"
        ],
        [
         "small_appliances",
         "8998.0",
         null,
         null,
         null,
         "28.52411647032674",
         "12.586436800072201",
         "1.0",
         "19.0",
         "28.0",
         "37.0",
         "74.0"
        ],
        [
         "toys",
         "8998.0",
         null,
         null,
         null,
         "7.036897088241831",
         "7.924421742286118",
         "0.0",
         "2.0",
         "4.0",
         "10.0",
         "62.0"
        ],
        [
         "house_keeping",
         "8998.0",
         null,
         null,
         null,
         "6.929984440986886",
         "7.882655354667001",
         "0.0",
         "2.0",
         "4.0",
         "9.0",
         "77.0"
        ],
        [
         "dependents",
         "8716",
         "2",
         "True",
         "6164",
         null,
         null,
         null,
         null,
         null,
         null,
         null
        ],
        [
         "per_net_purchase",
         "8998.0",
         null,
         null,
         null,
         "42.42898421871527",
         "18.495742448171647",
         "4.0",
         "28.0",
         "45.0",
         "57.0",
         "88.0"
        ],
        [
         "gender",
         "8998",
         "2",
         "M",
         "5784",
         null,
         null,
         null,
         null,
         null,
         null,
         null
        ],
        [
         "education",
         "8951",
         "6",
         "Graduation",
         "4429",
         null,
         null,
         null,
         null,
         null,
         null,
         null
        ],
        [
         "status",
         "8821",
         "6",
         "Married",
         "3273",
         null,
         null,
         null,
         null,
         null,
         null,
         null
        ],
        [
         "description",
         "8998",
         "5",
         "OK nice!",
         "3434",
         null,
         null,
         null,
         null,
         null,
         null,
         null
        ]
       ],
       "shape": {
        "columns": 11,
        "rows": 16
       }
      },
      "text/html": [
       "<div>\n",
       "<style scoped>\n",
       "    .dataframe tbody tr th:only-of-type {\n",
       "        vertical-align: middle;\n",
       "    }\n",
       "\n",
       "    .dataframe tbody tr th {\n",
       "        vertical-align: top;\n",
       "    }\n",
       "\n",
       "    .dataframe thead th {\n",
       "        text-align: right;\n",
       "    }\n",
       "</style>\n",
       "<table border=\"1\" class=\"dataframe\">\n",
       "  <thead>\n",
       "    <tr style=\"text-align: right;\">\n",
       "      <th></th>\n",
       "      <th>count</th>\n",
       "      <th>unique</th>\n",
       "      <th>top</th>\n",
       "      <th>freq</th>\n",
       "      <th>mean</th>\n",
       "      <th>std</th>\n",
       "      <th>min</th>\n",
       "      <th>25%</th>\n",
       "      <th>50%</th>\n",
       "      <th>75%</th>\n",
       "      <th>max</th>\n",
       "    </tr>\n",
       "  </thead>\n",
       "  <tbody>\n",
       "    <tr>\n",
       "      <th>age</th>\n",
       "      <td>8998.0</td>\n",
       "      <td>NaN</td>\n",
       "      <td>NaN</td>\n",
       "      <td>NaN</td>\n",
       "      <td>1966.05968</td>\n",
       "      <td>17.296552</td>\n",
       "      <td>1936.0</td>\n",
       "      <td>1951.0</td>\n",
       "      <td>1966.0</td>\n",
       "      <td>1981.0</td>\n",
       "      <td>1996.0</td>\n",
       "    </tr>\n",
       "    <tr>\n",
       "      <th>income</th>\n",
       "      <td>8952.0</td>\n",
       "      <td>NaN</td>\n",
       "      <td>NaN</td>\n",
       "      <td>NaN</td>\n",
       "      <td>69963.550827</td>\n",
       "      <td>27591.556226</td>\n",
       "      <td>10000.0</td>\n",
       "      <td>47741.0</td>\n",
       "      <td>70030.5</td>\n",
       "      <td>92218.0</td>\n",
       "      <td>140628.0</td>\n",
       "    </tr>\n",
       "    <tr>\n",
       "      <th>frq</th>\n",
       "      <td>8998.0</td>\n",
       "      <td>NaN</td>\n",
       "      <td>NaN</td>\n",
       "      <td>NaN</td>\n",
       "      <td>19.848077</td>\n",
       "      <td>10.903435</td>\n",
       "      <td>3.0</td>\n",
       "      <td>10.0</td>\n",
       "      <td>17.0</td>\n",
       "      <td>28.0</td>\n",
       "      <td>59.0</td>\n",
       "    </tr>\n",
       "    <tr>\n",
       "      <th>rcn</th>\n",
       "      <td>8998.0</td>\n",
       "      <td>NaN</td>\n",
       "      <td>NaN</td>\n",
       "      <td>NaN</td>\n",
       "      <td>62.469771</td>\n",
       "      <td>69.761802</td>\n",
       "      <td>0.0</td>\n",
       "      <td>26.0</td>\n",
       "      <td>53.0</td>\n",
       "      <td>79.0</td>\n",
       "      <td>549.0</td>\n",
       "    </tr>\n",
       "    <tr>\n",
       "      <th>mnt</th>\n",
       "      <td>8998.0</td>\n",
       "      <td>NaN</td>\n",
       "      <td>NaN</td>\n",
       "      <td>NaN</td>\n",
       "      <td>622.162814</td>\n",
       "      <td>646.768205</td>\n",
       "      <td>6.0</td>\n",
       "      <td>63.0</td>\n",
       "      <td>383.0</td>\n",
       "      <td>1076.0</td>\n",
       "      <td>3052.0</td>\n",
       "    </tr>\n",
       "    <tr>\n",
       "      <th>clothes</th>\n",
       "      <td>8998.0</td>\n",
       "      <td>NaN</td>\n",
       "      <td>NaN</td>\n",
       "      <td>NaN</td>\n",
       "      <td>50.446655</td>\n",
       "      <td>23.422249</td>\n",
       "      <td>1.0</td>\n",
       "      <td>33.0</td>\n",
       "      <td>51.0</td>\n",
       "      <td>69.0</td>\n",
       "      <td>99.0</td>\n",
       "    </tr>\n",
       "    <tr>\n",
       "      <th>kitchen</th>\n",
       "      <td>8998.0</td>\n",
       "      <td>NaN</td>\n",
       "      <td>NaN</td>\n",
       "      <td>NaN</td>\n",
       "      <td>7.039675</td>\n",
       "      <td>7.848139</td>\n",
       "      <td>0.0</td>\n",
       "      <td>2.0</td>\n",
       "      <td>4.0</td>\n",
       "      <td>10.0</td>\n",
       "      <td>75.0</td>\n",
       "    </tr>\n",
       "    <tr>\n",
       "      <th>small_appliances</th>\n",
       "      <td>8998.0</td>\n",
       "      <td>NaN</td>\n",
       "      <td>NaN</td>\n",
       "      <td>NaN</td>\n",
       "      <td>28.524116</td>\n",
       "      <td>12.586437</td>\n",
       "      <td>1.0</td>\n",
       "      <td>19.0</td>\n",
       "      <td>28.0</td>\n",
       "      <td>37.0</td>\n",
       "      <td>74.0</td>\n",
       "    </tr>\n",
       "    <tr>\n",
       "      <th>toys</th>\n",
       "      <td>8998.0</td>\n",
       "      <td>NaN</td>\n",
       "      <td>NaN</td>\n",
       "      <td>NaN</td>\n",
       "      <td>7.036897</td>\n",
       "      <td>7.924422</td>\n",
       "      <td>0.0</td>\n",
       "      <td>2.0</td>\n",
       "      <td>4.0</td>\n",
       "      <td>10.0</td>\n",
       "      <td>62.0</td>\n",
       "    </tr>\n",
       "    <tr>\n",
       "      <th>house_keeping</th>\n",
       "      <td>8998.0</td>\n",
       "      <td>NaN</td>\n",
       "      <td>NaN</td>\n",
       "      <td>NaN</td>\n",
       "      <td>6.929984</td>\n",
       "      <td>7.882655</td>\n",
       "      <td>0.0</td>\n",
       "      <td>2.0</td>\n",
       "      <td>4.0</td>\n",
       "      <td>9.0</td>\n",
       "      <td>77.0</td>\n",
       "    </tr>\n",
       "    <tr>\n",
       "      <th>dependents</th>\n",
       "      <td>8716</td>\n",
       "      <td>2</td>\n",
       "      <td>True</td>\n",
       "      <td>6164</td>\n",
       "      <td>NaN</td>\n",
       "      <td>NaN</td>\n",
       "      <td>NaN</td>\n",
       "      <td>NaN</td>\n",
       "      <td>NaN</td>\n",
       "      <td>NaN</td>\n",
       "      <td>NaN</td>\n",
       "    </tr>\n",
       "    <tr>\n",
       "      <th>per_net_purchase</th>\n",
       "      <td>8998.0</td>\n",
       "      <td>NaN</td>\n",
       "      <td>NaN</td>\n",
       "      <td>NaN</td>\n",
       "      <td>42.428984</td>\n",
       "      <td>18.495742</td>\n",
       "      <td>4.0</td>\n",
       "      <td>28.0</td>\n",
       "      <td>45.0</td>\n",
       "      <td>57.0</td>\n",
       "      <td>88.0</td>\n",
       "    </tr>\n",
       "    <tr>\n",
       "      <th>gender</th>\n",
       "      <td>8998</td>\n",
       "      <td>2</td>\n",
       "      <td>M</td>\n",
       "      <td>5784</td>\n",
       "      <td>NaN</td>\n",
       "      <td>NaN</td>\n",
       "      <td>NaN</td>\n",
       "      <td>NaN</td>\n",
       "      <td>NaN</td>\n",
       "      <td>NaN</td>\n",
       "      <td>NaN</td>\n",
       "    </tr>\n",
       "    <tr>\n",
       "      <th>education</th>\n",
       "      <td>8951</td>\n",
       "      <td>6</td>\n",
       "      <td>Graduation</td>\n",
       "      <td>4429</td>\n",
       "      <td>NaN</td>\n",
       "      <td>NaN</td>\n",
       "      <td>NaN</td>\n",
       "      <td>NaN</td>\n",
       "      <td>NaN</td>\n",
       "      <td>NaN</td>\n",
       "      <td>NaN</td>\n",
       "    </tr>\n",
       "    <tr>\n",
       "      <th>status</th>\n",
       "      <td>8821</td>\n",
       "      <td>6</td>\n",
       "      <td>Married</td>\n",
       "      <td>3273</td>\n",
       "      <td>NaN</td>\n",
       "      <td>NaN</td>\n",
       "      <td>NaN</td>\n",
       "      <td>NaN</td>\n",
       "      <td>NaN</td>\n",
       "      <td>NaN</td>\n",
       "      <td>NaN</td>\n",
       "    </tr>\n",
       "    <tr>\n",
       "      <th>description</th>\n",
       "      <td>8998</td>\n",
       "      <td>5</td>\n",
       "      <td>OK nice!</td>\n",
       "      <td>3434</td>\n",
       "      <td>NaN</td>\n",
       "      <td>NaN</td>\n",
       "      <td>NaN</td>\n",
       "      <td>NaN</td>\n",
       "      <td>NaN</td>\n",
       "      <td>NaN</td>\n",
       "      <td>NaN</td>\n",
       "    </tr>\n",
       "  </tbody>\n",
       "</table>\n",
       "</div>"
      ],
      "text/plain": [
       "                   count unique         top  freq          mean           std  \\\n",
       "age               8998.0    NaN         NaN   NaN    1966.05968     17.296552   \n",
       "income            8952.0    NaN         NaN   NaN  69963.550827  27591.556226   \n",
       "frq               8998.0    NaN         NaN   NaN     19.848077     10.903435   \n",
       "rcn               8998.0    NaN         NaN   NaN     62.469771     69.761802   \n",
       "mnt               8998.0    NaN         NaN   NaN    622.162814    646.768205   \n",
       "clothes           8998.0    NaN         NaN   NaN     50.446655     23.422249   \n",
       "kitchen           8998.0    NaN         NaN   NaN      7.039675      7.848139   \n",
       "small_appliances  8998.0    NaN         NaN   NaN     28.524116     12.586437   \n",
       "toys              8998.0    NaN         NaN   NaN      7.036897      7.924422   \n",
       "house_keeping     8998.0    NaN         NaN   NaN      6.929984      7.882655   \n",
       "dependents          8716      2        True  6164           NaN           NaN   \n",
       "per_net_purchase  8998.0    NaN         NaN   NaN     42.428984     18.495742   \n",
       "gender              8998      2           M  5784           NaN           NaN   \n",
       "education           8951      6  Graduation  4429           NaN           NaN   \n",
       "status              8821      6     Married  3273           NaN           NaN   \n",
       "description         8998      5    OK nice!  3434           NaN           NaN   \n",
       "\n",
       "                      min      25%      50%      75%       max  \n",
       "age                1936.0   1951.0   1966.0   1981.0    1996.0  \n",
       "income            10000.0  47741.0  70030.5  92218.0  140628.0  \n",
       "frq                   3.0     10.0     17.0     28.0      59.0  \n",
       "rcn                   0.0     26.0     53.0     79.0     549.0  \n",
       "mnt                   6.0     63.0    383.0   1076.0    3052.0  \n",
       "clothes               1.0     33.0     51.0     69.0      99.0  \n",
       "kitchen               0.0      2.0      4.0     10.0      75.0  \n",
       "small_appliances      1.0     19.0     28.0     37.0      74.0  \n",
       "toys                  0.0      2.0      4.0     10.0      62.0  \n",
       "house_keeping         0.0      2.0      4.0      9.0      77.0  \n",
       "dependents            NaN      NaN      NaN      NaN       NaN  \n",
       "per_net_purchase      4.0     28.0     45.0     57.0      88.0  \n",
       "gender                NaN      NaN      NaN      NaN       NaN  \n",
       "education             NaN      NaN      NaN      NaN       NaN  \n",
       "status                NaN      NaN      NaN      NaN       NaN  \n",
       "description           NaN      NaN      NaN      NaN       NaN  "
      ]
     },
     "execution_count": 46,
     "metadata": {},
     "output_type": "execute_result"
    }
   ],
   "source": [
    "# check descriptive statistics again\n",
    "df.describe(include=\"all\").T"
   ]
  },
  {
   "cell_type": "markdown",
   "metadata": {},
   "source": [
    "### Duplicates"
   ]
  },
  {
   "cell_type": "code",
   "execution_count": 47,
   "metadata": {},
   "outputs": [
    {
     "data": {
      "text/plain": [
       "np.int64(0)"
      ]
     },
     "execution_count": 47,
     "metadata": {},
     "output_type": "execute_result"
    }
   ],
   "source": [
    "# duplicated observations\n",
    "df.duplicated().sum()"
   ]
  },
  {
   "cell_type": "markdown",
   "metadata": {},
   "source": [
    "*What would it look like if we had duplicates?*\n",
    "\n",
    "https://pandas.pydata.org/docs/reference/api/pandas.DataFrame.duplicated.html\n",
    "\n",
    "https://pandas.pydata.org/docs/reference/api/pandas.DataFrame.drop_duplicates.html\n"
   ]
  },
  {
   "cell_type": "code",
   "execution_count": 48,
   "metadata": {},
   "outputs": [
    {
     "data": {
      "application/vnd.microsoft.datawrangler.viewer.v0+json": {
       "columns": [
        {
         "name": "index",
         "rawType": "int64",
         "type": "integer"
        },
        {
         "name": "brand",
         "rawType": "object",
         "type": "string"
        },
        {
         "name": "style",
         "rawType": "object",
         "type": "string"
        },
        {
         "name": "rating",
         "rawType": "float64",
         "type": "float"
        }
       ],
       "ref": "a40de669-47c7-43bd-b78f-bd6c3a863bb6",
       "rows": [
        [
         "0",
         "Yum Yum",
         "cup",
         "4.0"
        ],
        [
         "1",
         "Yum Yum",
         "cup",
         "4.0"
        ],
        [
         "2",
         "Indomie",
         "cup",
         "3.5"
        ],
        [
         "3",
         "Indomie",
         "pack",
         "15.0"
        ],
        [
         "4",
         "Indomie",
         "pack",
         "5.0"
        ]
       ],
       "shape": {
        "columns": 3,
        "rows": 5
       }
      },
      "text/html": [
       "<div>\n",
       "<style scoped>\n",
       "    .dataframe tbody tr th:only-of-type {\n",
       "        vertical-align: middle;\n",
       "    }\n",
       "\n",
       "    .dataframe tbody tr th {\n",
       "        vertical-align: top;\n",
       "    }\n",
       "\n",
       "    .dataframe thead th {\n",
       "        text-align: right;\n",
       "    }\n",
       "</style>\n",
       "<table border=\"1\" class=\"dataframe\">\n",
       "  <thead>\n",
       "    <tr style=\"text-align: right;\">\n",
       "      <th></th>\n",
       "      <th>brand</th>\n",
       "      <th>style</th>\n",
       "      <th>rating</th>\n",
       "    </tr>\n",
       "  </thead>\n",
       "  <tbody>\n",
       "    <tr>\n",
       "      <th>0</th>\n",
       "      <td>Yum Yum</td>\n",
       "      <td>cup</td>\n",
       "      <td>4.0</td>\n",
       "    </tr>\n",
       "    <tr>\n",
       "      <th>1</th>\n",
       "      <td>Yum Yum</td>\n",
       "      <td>cup</td>\n",
       "      <td>4.0</td>\n",
       "    </tr>\n",
       "    <tr>\n",
       "      <th>2</th>\n",
       "      <td>Indomie</td>\n",
       "      <td>cup</td>\n",
       "      <td>3.5</td>\n",
       "    </tr>\n",
       "    <tr>\n",
       "      <th>3</th>\n",
       "      <td>Indomie</td>\n",
       "      <td>pack</td>\n",
       "      <td>15.0</td>\n",
       "    </tr>\n",
       "    <tr>\n",
       "      <th>4</th>\n",
       "      <td>Indomie</td>\n",
       "      <td>pack</td>\n",
       "      <td>5.0</td>\n",
       "    </tr>\n",
       "  </tbody>\n",
       "</table>\n",
       "</div>"
      ],
      "text/plain": [
       "     brand style  rating\n",
       "0  Yum Yum   cup     4.0\n",
       "1  Yum Yum   cup     4.0\n",
       "2  Indomie   cup     3.5\n",
       "3  Indomie  pack    15.0\n",
       "4  Indomie  pack     5.0"
      ]
     },
     "execution_count": 48,
     "metadata": {},
     "output_type": "execute_result"
    }
   ],
   "source": [
    "df_dupes = pd.DataFrame({\n",
    "     'brand': ['Yum Yum', 'Yum Yum', 'Indomie', 'Indomie', 'Indomie'],\n",
    "     'style': ['cup', 'cup', 'cup', 'pack', 'pack'],\n",
    "     'rating': [4, 4, 3.5, 15, 5]\n",
    "})\n",
    "\n",
    "df_dupes"
   ]
  },
  {
   "cell_type": "code",
   "execution_count": null,
   "metadata": {},
   "outputs": [],
   "source": []
  },
  {
   "cell_type": "code",
   "execution_count": 49,
   "metadata": {},
   "outputs": [
    {
     "data": {
      "text/plain": [
       "np.int64(1)"
      ]
     },
     "execution_count": 49,
     "metadata": {},
     "output_type": "execute_result"
    }
   ],
   "source": [
    "# duplicated observations\n",
    "df_dupes.duplicated().sum()"
   ]
  },
  {
   "cell_type": "code",
   "execution_count": 50,
   "metadata": {},
   "outputs": [
    {
     "data": {
      "application/vnd.microsoft.datawrangler.viewer.v0+json": {
       "columns": [
        {
         "name": "index",
         "rawType": "int64",
         "type": "integer"
        },
        {
         "name": "brand",
         "rawType": "object",
         "type": "string"
        },
        {
         "name": "style",
         "rawType": "object",
         "type": "string"
        },
        {
         "name": "rating",
         "rawType": "float64",
         "type": "float"
        }
       ],
       "ref": "e8c6ab12-7774-4100-ab20-791de47ad675",
       "rows": [
        [
         "0",
         "Yum Yum",
         "cup",
         "4.0"
        ],
        [
         "2",
         "Indomie",
         "cup",
         "3.5"
        ],
        [
         "3",
         "Indomie",
         "pack",
         "15.0"
        ],
        [
         "4",
         "Indomie",
         "pack",
         "5.0"
        ]
       ],
       "shape": {
        "columns": 3,
        "rows": 4
       }
      },
      "text/html": [
       "<div>\n",
       "<style scoped>\n",
       "    .dataframe tbody tr th:only-of-type {\n",
       "        vertical-align: middle;\n",
       "    }\n",
       "\n",
       "    .dataframe tbody tr th {\n",
       "        vertical-align: top;\n",
       "    }\n",
       "\n",
       "    .dataframe thead th {\n",
       "        text-align: right;\n",
       "    }\n",
       "</style>\n",
       "<table border=\"1\" class=\"dataframe\">\n",
       "  <thead>\n",
       "    <tr style=\"text-align: right;\">\n",
       "      <th></th>\n",
       "      <th>brand</th>\n",
       "      <th>style</th>\n",
       "      <th>rating</th>\n",
       "    </tr>\n",
       "  </thead>\n",
       "  <tbody>\n",
       "    <tr>\n",
       "      <th>0</th>\n",
       "      <td>Yum Yum</td>\n",
       "      <td>cup</td>\n",
       "      <td>4.0</td>\n",
       "    </tr>\n",
       "    <tr>\n",
       "      <th>2</th>\n",
       "      <td>Indomie</td>\n",
       "      <td>cup</td>\n",
       "      <td>3.5</td>\n",
       "    </tr>\n",
       "    <tr>\n",
       "      <th>3</th>\n",
       "      <td>Indomie</td>\n",
       "      <td>pack</td>\n",
       "      <td>15.0</td>\n",
       "    </tr>\n",
       "    <tr>\n",
       "      <th>4</th>\n",
       "      <td>Indomie</td>\n",
       "      <td>pack</td>\n",
       "      <td>5.0</td>\n",
       "    </tr>\n",
       "  </tbody>\n",
       "</table>\n",
       "</div>"
      ],
      "text/plain": [
       "     brand style  rating\n",
       "0  Yum Yum   cup     4.0\n",
       "2  Indomie   cup     3.5\n",
       "3  Indomie  pack    15.0\n",
       "4  Indomie  pack     5.0"
      ]
     },
     "execution_count": 50,
     "metadata": {},
     "output_type": "execute_result"
    }
   ],
   "source": [
    "df_dupes.drop_duplicates()"
   ]
  },
  {
   "cell_type": "code",
   "execution_count": 51,
   "metadata": {},
   "outputs": [
    {
     "data": {
      "application/vnd.microsoft.datawrangler.viewer.v0+json": {
       "columns": [
        {
         "name": "index",
         "rawType": "int64",
         "type": "integer"
        },
        {
         "name": "brand",
         "rawType": "object",
         "type": "string"
        },
        {
         "name": "style",
         "rawType": "object",
         "type": "string"
        },
        {
         "name": "rating",
         "rawType": "float64",
         "type": "float"
        }
       ],
       "ref": "f592a1ed-690f-4d5a-bba2-1684986819b5",
       "rows": [
        [
         "0",
         "Yum Yum",
         "cup",
         "4.0"
        ],
        [
         "1",
         "Yum Yum",
         "cup",
         "4.0"
        ],
        [
         "2",
         "Indomie",
         "cup",
         "3.5"
        ],
        [
         "3",
         "Indomie",
         "pack",
         "15.0"
        ],
        [
         "4",
         "Indomie",
         "pack",
         "5.0"
        ]
       ],
       "shape": {
        "columns": 3,
        "rows": 5
       }
      },
      "text/html": [
       "<div>\n",
       "<style scoped>\n",
       "    .dataframe tbody tr th:only-of-type {\n",
       "        vertical-align: middle;\n",
       "    }\n",
       "\n",
       "    .dataframe tbody tr th {\n",
       "        vertical-align: top;\n",
       "    }\n",
       "\n",
       "    .dataframe thead th {\n",
       "        text-align: right;\n",
       "    }\n",
       "</style>\n",
       "<table border=\"1\" class=\"dataframe\">\n",
       "  <thead>\n",
       "    <tr style=\"text-align: right;\">\n",
       "      <th></th>\n",
       "      <th>brand</th>\n",
       "      <th>style</th>\n",
       "      <th>rating</th>\n",
       "    </tr>\n",
       "  </thead>\n",
       "  <tbody>\n",
       "    <tr>\n",
       "      <th>0</th>\n",
       "      <td>Yum Yum</td>\n",
       "      <td>cup</td>\n",
       "      <td>4.0</td>\n",
       "    </tr>\n",
       "    <tr>\n",
       "      <th>1</th>\n",
       "      <td>Yum Yum</td>\n",
       "      <td>cup</td>\n",
       "      <td>4.0</td>\n",
       "    </tr>\n",
       "    <tr>\n",
       "      <th>2</th>\n",
       "      <td>Indomie</td>\n",
       "      <td>cup</td>\n",
       "      <td>3.5</td>\n",
       "    </tr>\n",
       "    <tr>\n",
       "      <th>3</th>\n",
       "      <td>Indomie</td>\n",
       "      <td>pack</td>\n",
       "      <td>15.0</td>\n",
       "    </tr>\n",
       "    <tr>\n",
       "      <th>4</th>\n",
       "      <td>Indomie</td>\n",
       "      <td>pack</td>\n",
       "      <td>5.0</td>\n",
       "    </tr>\n",
       "  </tbody>\n",
       "</table>\n",
       "</div>"
      ],
      "text/plain": [
       "     brand style  rating\n",
       "0  Yum Yum   cup     4.0\n",
       "1  Yum Yum   cup     4.0\n",
       "2  Indomie   cup     3.5\n",
       "3  Indomie  pack    15.0\n",
       "4  Indomie  pack     5.0"
      ]
     },
     "execution_count": 51,
     "metadata": {},
     "output_type": "execute_result"
    }
   ],
   "source": [
    "df_dupes\n",
    "\n",
    "# This still has row 1"
   ]
  },
  {
   "cell_type": "code",
   "execution_count": 52,
   "metadata": {},
   "outputs": [
    {
     "data": {
      "application/vnd.microsoft.datawrangler.viewer.v0+json": {
       "columns": [
        {
         "name": "index",
         "rawType": "int64",
         "type": "integer"
        },
        {
         "name": "brand",
         "rawType": "object",
         "type": "string"
        },
        {
         "name": "style",
         "rawType": "object",
         "type": "string"
        },
        {
         "name": "rating",
         "rawType": "float64",
         "type": "float"
        }
       ],
       "ref": "944fd3d0-7a28-4343-a191-4bdd471f83bc",
       "rows": [
        [
         "0",
         "Yum Yum",
         "cup",
         "4.0"
        ],
        [
         "2",
         "Indomie",
         "cup",
         "3.5"
        ],
        [
         "3",
         "Indomie",
         "pack",
         "15.0"
        ],
        [
         "4",
         "Indomie",
         "pack",
         "5.0"
        ]
       ],
       "shape": {
        "columns": 3,
        "rows": 4
       }
      },
      "text/html": [
       "<div>\n",
       "<style scoped>\n",
       "    .dataframe tbody tr th:only-of-type {\n",
       "        vertical-align: middle;\n",
       "    }\n",
       "\n",
       "    .dataframe tbody tr th {\n",
       "        vertical-align: top;\n",
       "    }\n",
       "\n",
       "    .dataframe thead th {\n",
       "        text-align: right;\n",
       "    }\n",
       "</style>\n",
       "<table border=\"1\" class=\"dataframe\">\n",
       "  <thead>\n",
       "    <tr style=\"text-align: right;\">\n",
       "      <th></th>\n",
       "      <th>brand</th>\n",
       "      <th>style</th>\n",
       "      <th>rating</th>\n",
       "    </tr>\n",
       "  </thead>\n",
       "  <tbody>\n",
       "    <tr>\n",
       "      <th>0</th>\n",
       "      <td>Yum Yum</td>\n",
       "      <td>cup</td>\n",
       "      <td>4.0</td>\n",
       "    </tr>\n",
       "    <tr>\n",
       "      <th>2</th>\n",
       "      <td>Indomie</td>\n",
       "      <td>cup</td>\n",
       "      <td>3.5</td>\n",
       "    </tr>\n",
       "    <tr>\n",
       "      <th>3</th>\n",
       "      <td>Indomie</td>\n",
       "      <td>pack</td>\n",
       "      <td>15.0</td>\n",
       "    </tr>\n",
       "    <tr>\n",
       "      <th>4</th>\n",
       "      <td>Indomie</td>\n",
       "      <td>pack</td>\n",
       "      <td>5.0</td>\n",
       "    </tr>\n",
       "  </tbody>\n",
       "</table>\n",
       "</div>"
      ],
      "text/plain": [
       "     brand style  rating\n",
       "0  Yum Yum   cup     4.0\n",
       "2  Indomie   cup     3.5\n",
       "3  Indomie  pack    15.0\n",
       "4  Indomie  pack     5.0"
      ]
     },
     "execution_count": 52,
     "metadata": {},
     "output_type": "execute_result"
    }
   ],
   "source": [
    "df_dupes2 = df_dupes.drop_duplicates()\n",
    "df_dupes2"
   ]
  },
  {
   "cell_type": "code",
   "execution_count": 53,
   "metadata": {},
   "outputs": [
    {
     "data": {
      "application/vnd.microsoft.datawrangler.viewer.v0+json": {
       "columns": [
        {
         "name": "index",
         "rawType": "int64",
         "type": "integer"
        },
        {
         "name": "brand",
         "rawType": "object",
         "type": "string"
        },
        {
         "name": "style",
         "rawType": "object",
         "type": "string"
        },
        {
         "name": "rating",
         "rawType": "float64",
         "type": "float"
        }
       ],
       "ref": "a0371e24-a646-4d69-b350-001a52f13429",
       "rows": [
        [
         "0",
         "Yum Yum",
         "cup",
         "4.0"
        ],
        [
         "2",
         "Indomie",
         "cup",
         "3.5"
        ],
        [
         "3",
         "Indomie",
         "pack",
         "15.0"
        ],
        [
         "4",
         "Indomie",
         "pack",
         "5.0"
        ]
       ],
       "shape": {
        "columns": 3,
        "rows": 4
       }
      },
      "text/html": [
       "<div>\n",
       "<style scoped>\n",
       "    .dataframe tbody tr th:only-of-type {\n",
       "        vertical-align: middle;\n",
       "    }\n",
       "\n",
       "    .dataframe tbody tr th {\n",
       "        vertical-align: top;\n",
       "    }\n",
       "\n",
       "    .dataframe thead th {\n",
       "        text-align: right;\n",
       "    }\n",
       "</style>\n",
       "<table border=\"1\" class=\"dataframe\">\n",
       "  <thead>\n",
       "    <tr style=\"text-align: right;\">\n",
       "      <th></th>\n",
       "      <th>brand</th>\n",
       "      <th>style</th>\n",
       "      <th>rating</th>\n",
       "    </tr>\n",
       "  </thead>\n",
       "  <tbody>\n",
       "    <tr>\n",
       "      <th>0</th>\n",
       "      <td>Yum Yum</td>\n",
       "      <td>cup</td>\n",
       "      <td>4.0</td>\n",
       "    </tr>\n",
       "    <tr>\n",
       "      <th>2</th>\n",
       "      <td>Indomie</td>\n",
       "      <td>cup</td>\n",
       "      <td>3.5</td>\n",
       "    </tr>\n",
       "    <tr>\n",
       "      <th>3</th>\n",
       "      <td>Indomie</td>\n",
       "      <td>pack</td>\n",
       "      <td>15.0</td>\n",
       "    </tr>\n",
       "    <tr>\n",
       "      <th>4</th>\n",
       "      <td>Indomie</td>\n",
       "      <td>pack</td>\n",
       "      <td>5.0</td>\n",
       "    </tr>\n",
       "  </tbody>\n",
       "</table>\n",
       "</div>"
      ],
      "text/plain": [
       "     brand style  rating\n",
       "0  Yum Yum   cup     4.0\n",
       "2  Indomie   cup     3.5\n",
       "3  Indomie  pack    15.0\n",
       "4  Indomie  pack     5.0"
      ]
     },
     "execution_count": 53,
     "metadata": {},
     "output_type": "execute_result"
    }
   ],
   "source": [
    "df_dupes.drop_duplicates(inplace=True)\n",
    "df_dupes"
   ]
  },
  {
   "cell_type": "markdown",
   "metadata": {},
   "source": [
    "## Take a closer look and point out possible problems:\n",
    "\n",
    "- Duplicates? no\n",
    "- Data types? fixed income, deps\n",
    "- Missing values? replaced empty string with nan\n",
    "- Strange values? education has OldSchool\n",
    "- Descriptive statistics? interesting\n",
    "\n"
   ]
  },
  {
   "cell_type": "code",
   "execution_count": 54,
   "metadata": {},
   "outputs": [
    {
     "data": {
      "application/vnd.microsoft.datawrangler.viewer.v0+json": {
       "columns": [
        {
         "name": "index",
         "rawType": "object",
         "type": "string"
        },
        {
         "name": "age",
         "rawType": "float64",
         "type": "float"
        },
        {
         "name": "income",
         "rawType": "float64",
         "type": "float"
        },
        {
         "name": "frq",
         "rawType": "float64",
         "type": "float"
        },
        {
         "name": "rcn",
         "rawType": "float64",
         "type": "float"
        },
        {
         "name": "mnt",
         "rawType": "float64",
         "type": "float"
        },
        {
         "name": "clothes",
         "rawType": "float64",
         "type": "float"
        },
        {
         "name": "kitchen",
         "rawType": "float64",
         "type": "float"
        },
        {
         "name": "small_appliances",
         "rawType": "float64",
         "type": "float"
        },
        {
         "name": "toys",
         "rawType": "float64",
         "type": "float"
        },
        {
         "name": "house_keeping",
         "rawType": "float64",
         "type": "float"
        },
        {
         "name": "per_net_purchase",
         "rawType": "float64",
         "type": "float"
        }
       ],
       "ref": "9ac219d6-7a6c-4a16-a6a8-63c16e0471b7",
       "rows": [
        [
         "count",
         "8998.0",
         "8952.0",
         "8998.0",
         "8998.0",
         "8998.0",
         "8998.0",
         "8998.0",
         "8998.0",
         "8998.0",
         "8998.0",
         "8998.0"
        ],
        [
         "mean",
         "1966.059679928873",
         "69963.55082663092",
         "19.84807735052234",
         "62.46977106023561",
         "622.1628139586575",
         "50.44665481218048",
         "7.039675483440765",
         "28.52411647032674",
         "7.036897088241831",
         "6.929984440986886",
         "42.42898421871527"
        ],
        [
         "std",
         "17.29655220631773",
         "27591.556225748664",
         "10.903434608706068",
         "69.76180219134835",
         "646.7682045549258",
         "23.42224891836114",
         "7.848139310437572",
         "12.586436800072201",
         "7.924421742286118",
         "7.882655354667001",
         "18.495742448171647"
        ],
        [
         "min",
         "1936.0",
         "10000.0",
         "3.0",
         "0.0",
         "6.0",
         "1.0",
         "0.0",
         "1.0",
         "0.0",
         "0.0",
         "4.0"
        ],
        [
         "25%",
         "1951.0",
         "47741.0",
         "10.0",
         "26.0",
         "63.0",
         "33.0",
         "2.0",
         "19.0",
         "2.0",
         "2.0",
         "28.0"
        ],
        [
         "50%",
         "1966.0",
         "70030.5",
         "17.0",
         "53.0",
         "383.0",
         "51.0",
         "4.0",
         "28.0",
         "4.0",
         "4.0",
         "45.0"
        ],
        [
         "75%",
         "1981.0",
         "92218.0",
         "28.0",
         "79.0",
         "1076.0",
         "69.0",
         "10.0",
         "37.0",
         "10.0",
         "9.0",
         "57.0"
        ],
        [
         "max",
         "1996.0",
         "140628.0",
         "59.0",
         "549.0",
         "3052.0",
         "99.0",
         "75.0",
         "74.0",
         "62.0",
         "77.0",
         "88.0"
        ]
       ],
       "shape": {
        "columns": 11,
        "rows": 8
       }
      },
      "text/html": [
       "<div>\n",
       "<style scoped>\n",
       "    .dataframe tbody tr th:only-of-type {\n",
       "        vertical-align: middle;\n",
       "    }\n",
       "\n",
       "    .dataframe tbody tr th {\n",
       "        vertical-align: top;\n",
       "    }\n",
       "\n",
       "    .dataframe thead th {\n",
       "        text-align: right;\n",
       "    }\n",
       "</style>\n",
       "<table border=\"1\" class=\"dataframe\">\n",
       "  <thead>\n",
       "    <tr style=\"text-align: right;\">\n",
       "      <th></th>\n",
       "      <th>age</th>\n",
       "      <th>income</th>\n",
       "      <th>frq</th>\n",
       "      <th>rcn</th>\n",
       "      <th>mnt</th>\n",
       "      <th>clothes</th>\n",
       "      <th>kitchen</th>\n",
       "      <th>small_appliances</th>\n",
       "      <th>toys</th>\n",
       "      <th>house_keeping</th>\n",
       "      <th>per_net_purchase</th>\n",
       "    </tr>\n",
       "  </thead>\n",
       "  <tbody>\n",
       "    <tr>\n",
       "      <th>count</th>\n",
       "      <td>8998.000000</td>\n",
       "      <td>8952.000000</td>\n",
       "      <td>8998.000000</td>\n",
       "      <td>8998.000000</td>\n",
       "      <td>8998.000000</td>\n",
       "      <td>8998.000000</td>\n",
       "      <td>8998.000000</td>\n",
       "      <td>8998.000000</td>\n",
       "      <td>8998.000000</td>\n",
       "      <td>8998.000000</td>\n",
       "      <td>8998.000000</td>\n",
       "    </tr>\n",
       "    <tr>\n",
       "      <th>mean</th>\n",
       "      <td>1966.059680</td>\n",
       "      <td>69963.550827</td>\n",
       "      <td>19.848077</td>\n",
       "      <td>62.469771</td>\n",
       "      <td>622.162814</td>\n",
       "      <td>50.446655</td>\n",
       "      <td>7.039675</td>\n",
       "      <td>28.524116</td>\n",
       "      <td>7.036897</td>\n",
       "      <td>6.929984</td>\n",
       "      <td>42.428984</td>\n",
       "    </tr>\n",
       "    <tr>\n",
       "      <th>std</th>\n",
       "      <td>17.296552</td>\n",
       "      <td>27591.556226</td>\n",
       "      <td>10.903435</td>\n",
       "      <td>69.761802</td>\n",
       "      <td>646.768205</td>\n",
       "      <td>23.422249</td>\n",
       "      <td>7.848139</td>\n",
       "      <td>12.586437</td>\n",
       "      <td>7.924422</td>\n",
       "      <td>7.882655</td>\n",
       "      <td>18.495742</td>\n",
       "    </tr>\n",
       "    <tr>\n",
       "      <th>min</th>\n",
       "      <td>1936.000000</td>\n",
       "      <td>10000.000000</td>\n",
       "      <td>3.000000</td>\n",
       "      <td>0.000000</td>\n",
       "      <td>6.000000</td>\n",
       "      <td>1.000000</td>\n",
       "      <td>0.000000</td>\n",
       "      <td>1.000000</td>\n",
       "      <td>0.000000</td>\n",
       "      <td>0.000000</td>\n",
       "      <td>4.000000</td>\n",
       "    </tr>\n",
       "    <tr>\n",
       "      <th>25%</th>\n",
       "      <td>1951.000000</td>\n",
       "      <td>47741.000000</td>\n",
       "      <td>10.000000</td>\n",
       "      <td>26.000000</td>\n",
       "      <td>63.000000</td>\n",
       "      <td>33.000000</td>\n",
       "      <td>2.000000</td>\n",
       "      <td>19.000000</td>\n",
       "      <td>2.000000</td>\n",
       "      <td>2.000000</td>\n",
       "      <td>28.000000</td>\n",
       "    </tr>\n",
       "    <tr>\n",
       "      <th>50%</th>\n",
       "      <td>1966.000000</td>\n",
       "      <td>70030.500000</td>\n",
       "      <td>17.000000</td>\n",
       "      <td>53.000000</td>\n",
       "      <td>383.000000</td>\n",
       "      <td>51.000000</td>\n",
       "      <td>4.000000</td>\n",
       "      <td>28.000000</td>\n",
       "      <td>4.000000</td>\n",
       "      <td>4.000000</td>\n",
       "      <td>45.000000</td>\n",
       "    </tr>\n",
       "    <tr>\n",
       "      <th>75%</th>\n",
       "      <td>1981.000000</td>\n",
       "      <td>92218.000000</td>\n",
       "      <td>28.000000</td>\n",
       "      <td>79.000000</td>\n",
       "      <td>1076.000000</td>\n",
       "      <td>69.000000</td>\n",
       "      <td>10.000000</td>\n",
       "      <td>37.000000</td>\n",
       "      <td>10.000000</td>\n",
       "      <td>9.000000</td>\n",
       "      <td>57.000000</td>\n",
       "    </tr>\n",
       "    <tr>\n",
       "      <th>max</th>\n",
       "      <td>1996.000000</td>\n",
       "      <td>140628.000000</td>\n",
       "      <td>59.000000</td>\n",
       "      <td>549.000000</td>\n",
       "      <td>3052.000000</td>\n",
       "      <td>99.000000</td>\n",
       "      <td>75.000000</td>\n",
       "      <td>74.000000</td>\n",
       "      <td>62.000000</td>\n",
       "      <td>77.000000</td>\n",
       "      <td>88.000000</td>\n",
       "    </tr>\n",
       "  </tbody>\n",
       "</table>\n",
       "</div>"
      ],
      "text/plain": [
       "               age         income          frq          rcn          mnt  \\\n",
       "count  8998.000000    8952.000000  8998.000000  8998.000000  8998.000000   \n",
       "mean   1966.059680   69963.550827    19.848077    62.469771   622.162814   \n",
       "std      17.296552   27591.556226    10.903435    69.761802   646.768205   \n",
       "min    1936.000000   10000.000000     3.000000     0.000000     6.000000   \n",
       "25%    1951.000000   47741.000000    10.000000    26.000000    63.000000   \n",
       "50%    1966.000000   70030.500000    17.000000    53.000000   383.000000   \n",
       "75%    1981.000000   92218.000000    28.000000    79.000000  1076.000000   \n",
       "max    1996.000000  140628.000000    59.000000   549.000000  3052.000000   \n",
       "\n",
       "           clothes      kitchen  small_appliances         toys  house_keeping  \\\n",
       "count  8998.000000  8998.000000       8998.000000  8998.000000    8998.000000   \n",
       "mean     50.446655     7.039675         28.524116     7.036897       6.929984   \n",
       "std      23.422249     7.848139         12.586437     7.924422       7.882655   \n",
       "min       1.000000     0.000000          1.000000     0.000000       0.000000   \n",
       "25%      33.000000     2.000000         19.000000     2.000000       2.000000   \n",
       "50%      51.000000     4.000000         28.000000     4.000000       4.000000   \n",
       "75%      69.000000    10.000000         37.000000    10.000000       9.000000   \n",
       "max      99.000000    75.000000         74.000000    62.000000      77.000000   \n",
       "\n",
       "       per_net_purchase  \n",
       "count       8998.000000  \n",
       "mean          42.428984  \n",
       "std           18.495742  \n",
       "min            4.000000  \n",
       "25%           28.000000  \n",
       "50%           45.000000  \n",
       "75%           57.000000  \n",
       "max           88.000000  "
      ]
     },
     "execution_count": 54,
     "metadata": {},
     "output_type": "execute_result"
    }
   ],
   "source": [
    "df.describe()"
   ]
  },
  {
   "cell_type": "markdown",
   "metadata": {},
   "source": [
    "# Visual Exploration\n",
    "\n",
    "Matplotlib tutorials: https://matplotlib.org/stable/tutorials/index.html\n",
    "\n",
    "Matplotlib gallery: https://matplotlib.org/stable/gallery/index.html\n",
    "\n",
    "Seaborn tutorials: https://seaborn.pydata.org/tutorial.html\n",
    "\n",
    "\n",
    "Seaborn gallery: https://seaborn.pydata.org/examples/index.html\n",
    "\n",
    "### Matplotlib vs Seaborn:\n",
    "\n",
    "**Matplotlib** - lower level. allows to fully customize the plot appearance\n",
    "\n",
    "**Seaborn** - higher level. Complex off-the-shelf plots with one line. Matplotlib on steroids\n"
   ]
  },
  {
   "cell_type": "code",
   "execution_count": 55,
   "metadata": {},
   "outputs": [],
   "source": [
    "#Define metric and non-metric features. Why?\n",
    "non_metric_features = [\"education\", \"status\", \"gender\", \"dependents\", \"description\"]\n",
    "metric_features = df.columns.drop(non_metric_features).to_list()"
   ]
  },
  {
   "cell_type": "markdown",
   "metadata": {},
   "source": [
    "## Pyplot-style vs Object-Oriented-style\n",
    "- Explicitly create figures and axes, and call methods on them (the \"object-oriented (OO) style\").\n",
    "- Rely on pyplot to automatically create and manage the figures and axes, and use pyplot functions for plotting.\n",
    "\n",
    "More details: https://matplotlib.org/matplotblog/posts/pyplot-vs-object-oriented-interface/"
   ]
  },
  {
   "cell_type": "markdown",
   "metadata": {},
   "source": [
    "## Numeric Variables' Univariate Distribution"
   ]
  },
  {
   "cell_type": "code",
   "execution_count": 56,
   "metadata": {},
   "outputs": [
    {
     "data": {
      "image/png": "[encoded data removed]",
      "text/plain": [
       "<Figure size 640x480 with 1 Axes>"
      ]
     },
     "metadata": {
      "image/png": {
       "height": 458,
       "width": 563
      }
     },
     "output_type": "display_data"
    }
   ],
   "source": [
    "# Single Metric Variable Histogram\n",
    "plt.hist(df[\"age\"], bins=10)  # mess around with the bins\n",
    "plt.title(\"age\", y=-0.2)\n",
    "\n",
    "plt.show()"
   ]
  },
  {
   "cell_type": "code",
   "execution_count": 57,
   "metadata": {},
   "outputs": [
    {
     "data": {
      "image/png": "[encoded data removed]",
      "text/plain": [
       "<Figure size 640x480 with 1 Axes>"
      ]
     },
     "metadata": {
      "image/png": {
       "height": 389,
       "width": 584
      }
     },
     "output_type": "display_data"
    }
   ],
   "source": [
    "# Single Metric Variable Box Plot\n",
    "sns.boxplot(y=df[\"age\"])\n",
    "\n",
    "plt.show()"
   ]
  },
  {
   "cell_type": "markdown",
   "metadata": {},
   "source": [
    "What information can we extract from the plots above?"
   ]
  },
  {
   "cell_type": "code",
   "execution_count": 58,
   "metadata": {},
   "outputs": [
    {
     "data": {
      "image/png": "[encoded data removed]",
      "text/plain": [
       "<Figure size 2000x1100 with 12 Axes>"
      ]
     },
     "metadata": {
      "image/png": {
       "height": 1022,
       "width": 1632
      }
     },
     "output_type": "display_data"
    }
   ],
   "source": [
    "# All Numeric Variables' Histograms in one figure\n",
    "sns.set()\n",
    "\n",
    "# Prepare figure. Create individual axes where each histogram will be placed\n",
    "fig, axes = plt.subplots(2, ceil(len(metric_features) / 2), figsize=(20, 11))\n",
    "\n",
    "# Plot data\n",
    "# Iterate across axes objects and associate each histogram (hint: use the ax.hist() instead of plt.hist()):\n",
    "for ax, feat in zip(axes.flatten(), metric_features): # Notice the zip() function and flatten() method\n",
    "    ax.hist(df[feat])\n",
    "    ax.set_title(feat, y=-0.13)\n",
    "    \n",
    "# Layout\n",
    "# Add a centered title to the figure:\n",
    "title = \"Numeric Variables' Histograms\"\n",
    "\n",
    "plt.suptitle(title)\n",
    "\n",
    "plt.show()"
   ]
  },
  {
   "cell_type": "code",
   "execution_count": 59,
   "metadata": {},
   "outputs": [
    {
     "data": {
      "image/png": "[encoded data removed]",
      "text/plain": [
       "<Figure size 2000x1100 with 12 Axes>"
      ]
     },
     "metadata": {
      "image/png": {
       "height": 1025,
       "width": 1584
      }
     },
     "output_type": "display_data"
    }
   ],
   "source": [
    "# All Numeric Variables' Box Plots in one figure\n",
    "sns.set()\n",
    "\n",
    "# Prepare figure. Create individual axes where each box plot will be placed\n",
    "fig, axes = plt.subplots(2, ceil(len(metric_features) / 2), figsize=(20, 11))\n",
    "\n",
    "# Plot data\n",
    "# Iterate across axes objects and associate each box plot (hint: use the ax argument):\n",
    "for ax, feat in zip(axes.flatten(), metric_features): # Notice the zip() function and flatten() method\n",
    "    sns.boxplot(x=df[feat], ax=ax)\n",
    "    \n",
    "# Layout\n",
    "# Add a centered title to the figure:\n",
    "title = \"Numeric Variables' Box Plots\"\n",
    "\n",
    "plt.suptitle(title)\n",
    "\n",
    "plt.show()"
   ]
  },
  {
   "cell_type": "markdown",
   "metadata": {},
   "source": [
    "### Insights:\n",
    "- univariate distributions\n",
    "- potential univariate outliers\n",
    "\n",
    "--------------------------------------"
   ]
  },
  {
   "cell_type": "markdown",
   "metadata": {},
   "source": [
    "### During our Exploratory Data Analysis (EDA), we must also account for:\n",
    "- Coherence check\n",
    "- Outliers\n",
    "- Feature Engineering"
   ]
  },
  {
   "cell_type": "markdown",
   "metadata": {},
   "source": [
    "### Depending on the context, various steps must be considered when performing Data Preprocessing. \n",
    "\n",
    "The most relevant steps are the following:\n",
    "- Coherence check (find inconsistent values, missing values, outliers and any other problem you may find in your dataset)\n",
    "- Data editing (fix inconsistent values)\n",
    "- Data cleansing (drop observations - Outlier removal and removal of inconsistent values and/or features)\n",
    "- Data wrangling (feature extraction/engineering and transformation)\n",
    "- Data reduction (reducing the dimensionality of a dataset, producing summary statistics, reducing the number of records in a dataset)"
   ]
  },
  {
   "cell_type": "code",
   "execution_count": null,
   "metadata": {},
   "outputs": [],
   "source": []
  }
 ],
 "metadata": {
  "kernelspec": {
   "display_name": "Fall2526",
   "language": "python",
   "name": "python3"
  },
  "language_info": {
   "codemirror_mode": {
    "name": "ipython",
    "version": 3
   },
   "file_extension": ".py",
   "mimetype": "text/x-python",
   "name": "python",
   "nbconvert_exporter": "python",
   "pygments_lexer": "ipython3",
   "version": "3.12.9"
  },
  "widgets": {
   "application/vnd.jupyter.widget-state+json": {
    "state": {},
    "version_major": 2,
    "version_minor": 0
   }
  }
 },
 "nbformat": 4,
 "nbformat_minor": 4
}
